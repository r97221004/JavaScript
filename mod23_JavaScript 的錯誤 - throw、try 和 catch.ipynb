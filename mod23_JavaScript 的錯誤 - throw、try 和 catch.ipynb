{
 "cells": [
  {
   "cell_type": "markdown",
   "id": "ab25961f",
   "metadata": {},
   "source": [
    "# JavaScript 錯誤 - throw、try 和 catch"
   ]
  },
  {
   "cell_type": "raw",
   "id": "c08e4e76",
   "metadata": {},
   "source": [
    "try 語句測試代碼塊的錯誤。\n",
    "catch 語句處理錯誤。\n",
    "throw 語句創建自定義錯誤。\n",
    "finally 語句在 try 和 catch 語句之後，無論是否有觸發異常，該語句都會執行。"
   ]
  },
  {
   "cell_type": "markdown",
   "id": "18943c09",
   "metadata": {},
   "source": [
    "# JavaScript 錯誤"
   ]
  },
  {
   "cell_type": "raw",
   "id": "953fcc60",
   "metadata": {},
   "source": [
    "當 JavaScript 引擎執行 JavaScript 代碼時，會發生各種錯誤，可能是語法錯誤，通常是程序員造成的編碼錯誤或錯別字，可能是拼寫錯誤或語言中缺少的功能（可能由於瀏覽器差異）。可能是由於來自服務器或用戶的錯誤輸出而導致的錯誤。當然，也可能是由於許多其他不可預知的因素。"
   ]
  },
  {
   "cell_type": "markdown",
   "id": "cc4d6faa",
   "metadata": {},
   "source": [
    "# JavaScript 拋出（throw）錯誤"
   ]
  },
  {
   "cell_type": "raw",
   "id": "4fdaa30c",
   "metadata": {},
   "source": [
    "當錯誤發生時，當事情出問題時，JavaScript 引擎通常會停止，並生成一個錯誤消息。\n",
    "描述這種情況的技術術語是： JavaScript 將拋出一個錯誤。"
   ]
  },
  {
   "cell_type": "markdown",
   "id": "74e73163",
   "metadata": {},
   "source": [
    "# JavaScript 的 try 和 catch"
   ]
  },
  {
   "cell_type": "raw",
   "id": "c6507fae",
   "metadata": {},
   "source": [
    "try 語句允許我們定義在執行時進行錯誤測試的代碼塊。\n",
    "catch 語句允許我們定義當 try 代碼塊發生錯誤時，所執行的代碼塊。\n",
    "JavaScript 語句 try 和 catch 是成對出現的。"
   ]
  },
  {
   "cell_type": "markdown",
   "id": "71d1010b",
   "metadata": {},
   "source": [
    "### 語法"
   ]
  },
  {
   "cell_type": "code",
   "execution_count": null,
   "id": "242045c6",
   "metadata": {},
   "outputs": [],
   "source": [
    "try {\n",
    "    ...    //異常的拋出\n",
    "} catch(e) {\n",
    "    ...    //異常的捕獲與處理\n",
    "} finally {\n",
    "    ...    //結束處理\n",
    "}"
   ]
  },
  {
   "cell_type": "raw",
   "id": "bc9758e1",
   "metadata": {},
   "source": [
    "在下面的例子中，我們故意在 try 塊的代碼中寫了一個錯字。catch 塊會捕捉到 try 塊中的錯誤，並執行代碼來處理它。"
   ]
  },
  {
   "cell_type": "code",
   "execution_count": null,
   "id": "baa92c2c",
   "metadata": {},
   "outputs": [],
   "source": [
    "<!DOCTYPE html>\n",
    "<html>\n",
    "\n",
    "<head>\n",
    "    <meta charset=\"utf-8\">\n",
    "    <title>菜鳥教程</title>\n",
    "    <script>\n",
    "        var txt = \"\";\n",
    "        function message() {\n",
    "            try {\n",
    "                adddlert(\"Welcome guest!\");\n",
    "            }\n",
    "            catch (err) {\n",
    "                txt = \"本頁有一個錯誤。\\n\\n\";\n",
    "                txt += \"錯誤描述：\" + err.message + \"\\n\\n\";\n",
    "                txt += \"點擊確定繼續。\\n\\n\";\n",
    "                alert(txt);\n",
    "            }\n",
    "        }\n",
    "    </script>\n",
    "</head>\n",
    "\n",
    "<body>\n",
    "\n",
    "    <input type=\"button\" value=\"查看消息\" onclick=\"message()\" />\n",
    "\n",
    "</body>\n",
    "\n",
    "</html>"
   ]
  },
  {
   "cell_type": "markdown",
   "id": "d8f6fc5a",
   "metadata": {},
   "source": [
    "# finally 語句"
   ]
  },
  {
   "cell_type": "raw",
   "id": "b78c6af8",
   "metadata": {},
   "source": [
    "finally 語句不論之前的 try 和 catch 中是否產生異常都會執行該代碼塊。"
   ]
  },
  {
   "cell_type": "code",
   "execution_count": null,
   "id": "5f56cd57",
   "metadata": {},
   "outputs": [],
   "source": [
    "<!DOCTYPE html>\n",
    "<html>\n",
    "\n",
    "<head>\n",
    "    <meta charset=\"utf-8\">\n",
    "    <title>菜鳥教程</title>\n",
    "</head>\n",
    "\n",
    "<body>\n",
    "    <p>不管輸入是否正確，輸入框都會再輸入後清空。</p>\n",
    "    <p>請輸入 5 ~ 10 之間的數字：</p>\n",
    "\n",
    "    <input id=\"demo\" type=\"text\">\n",
    "    <button type=\"button\" onclick=\"myFunction()\">點我</button>\n",
    "\n",
    "    <p id=\"p01\"></p>\n",
    "\n",
    "    <script>\n",
    "        function myFunction() {\n",
    "            var message, x;\n",
    "            message = document.getElementById(\"p01\");\n",
    "            message.innerHTML = \"\";\n",
    "            x = document.getElementById(\"demo\").value;\n",
    "            try {\n",
    "                if (x == \"\") throw \"值是空的\";\n",
    "                if (isNaN(x)) throw \"值不是一個數字\";\n",
    "                x = Number(x);\n",
    "                if (x > 10) throw \"太大\";\n",
    "                if (x < 5) throw \"太小\";\n",
    "            }\n",
    "            catch (err) {\n",
    "                message.innerHTML = \"錯誤: \" + err + \".\";\n",
    "            }\n",
    "            finally {\n",
    "                document.getElementById(\"demo\").value = \"\";\n",
    "            }\n",
    "        }\n",
    "    </script>\n",
    "\n",
    "</body>\n",
    "\n",
    "</html>"
   ]
  },
  {
   "cell_type": "markdown",
   "id": "a088d0d4",
   "metadata": {},
   "source": [
    "# Throw 語句"
   ]
  },
  {
   "cell_type": "raw",
   "id": "87b70a6f",
   "metadata": {},
   "source": [
    "throw 語句允許我們創建自定義錯誤。正確的技術術語是：創建或拋出異常（exception）。\n",
    "如果把 throw 與 try 和 catch 一起使用，那麽您能夠控制程序流，並生成自定義的錯誤消息。"
   ]
  },
  {
   "cell_type": "markdown",
   "id": "02c9a862",
   "metadata": {},
   "source": [
    "### 語法"
   ]
  },
  {
   "cell_type": "code",
   "execution_count": null,
   "id": "2aa91e2b",
   "metadata": {},
   "outputs": [],
   "source": [
    "throw exception"
   ]
  },
  {
   "cell_type": "raw",
   "id": "34c11670",
   "metadata": {},
   "source": [
    "異常可以是 JavaScript 字符串、數字、邏輯值或對象。"
   ]
  },
  {
   "cell_type": "raw",
   "id": "e35e6457",
   "metadata": {},
   "source": [
    "本例檢測輸入變量的值。如果值是錯誤的，會拋出一個異常（錯誤）。catch 會捕捉到這個錯誤，並顯示一段自定義的錯誤消息："
   ]
  },
  {
   "cell_type": "code",
   "execution_count": null,
   "id": "110ad2d1",
   "metadata": {},
   "outputs": [],
   "source": [
    "<!DOCTYPE html>\n",
    "<html>\n",
    "\n",
    "<head>\n",
    "    <meta charset=\"utf-8\">\n",
    "    <title>菜鳥教程</title>\n",
    "</head>\n",
    "\n",
    "<body>\n",
    "\n",
    "    <p>請輸出一個 5 到 10 之間的數字:</p>\n",
    "\n",
    "    <input id=\"demo\" type=\"text\">\n",
    "    <button type=\"button\" onclick=\"myFunction()\">測試輸入</button>\n",
    "    <p id=\"message\"></p>\n",
    "\n",
    "    <script>\n",
    "        function myFunction() {\n",
    "            var message, x;\n",
    "            message = document.getElementById(\"message\");\n",
    "            message.innerHTML = \"\";\n",
    "            x = document.getElementById(\"demo\").value;\n",
    "            try {\n",
    "                if (x == \"\") throw \"值為空\";\n",
    "                if (isNaN(x)) throw \"不是數字\";\n",
    "                x = Number(x);\n",
    "                if (x < 5) throw \"太小\";\n",
    "                if (x > 10) throw \"太大\";\n",
    "            }\n",
    "            catch (err) {\n",
    "                message.innerHTML = \"錯誤: \" + err;\n",
    "            }\n",
    "        }\n",
    "    </script>\n",
    "\n",
    "</body>\n",
    "\n",
    "</html>"
   ]
  },
  {
   "cell_type": "raw",
   "id": "0664ae18",
   "metadata": {},
   "source": [
    "請注意，如果 getElementById 函數出錯，上面的例子也會拋出一個錯誤。"
   ]
  }
 ],
 "metadata": {
  "kernelspec": {
   "display_name": "Python 3",
   "language": "python",
   "name": "python3"
  },
  "language_info": {
   "codemirror_mode": {
    "name": "ipython",
    "version": 3
   },
   "file_extension": ".py",
   "mimetype": "text/x-python",
   "name": "python",
   "nbconvert_exporter": "python",
   "pygments_lexer": "ipython3",
   "version": "3.8.10"
  }
 },
 "nbformat": 4,
 "nbformat_minor": 5
}
