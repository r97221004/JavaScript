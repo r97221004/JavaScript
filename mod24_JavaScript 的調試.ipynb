{
 "cells": [
  {
   "cell_type": "markdown",
   "id": "6d980790",
   "metadata": {},
   "source": [
    "# JavaScript 調試"
   ]
  },
  {
   "cell_type": "raw",
   "id": "32f0da0a",
   "metadata": {},
   "source": [
    "在編寫 JavaScript 時，如果沒有調試工具將是一件很痛苦的事情。"
   ]
  },
  {
   "cell_type": "raw",
   "id": "323b0d8f",
   "metadata": {},
   "source": [
    "沒有調試工具是很難去編寫 JavaScript 程序的。你的代碼可能包含語法錯誤，邏輯錯誤，如果沒有調試工具，這些錯誤比較難於發現。\n",
    "通常如果 JavaScript 出現錯誤，是不會有提示信息，這樣你就無法找到代碼錯誤的位置。"
   ]
  },
  {
   "cell_type": "raw",
   "id": "1465c719",
   "metadata": {},
   "source": [
    "通常，你在編寫一個新的 JavaScript 代碼過程中都會發生錯誤。"
   ]
  },
  {
   "cell_type": "markdown",
   "id": "031d80fc",
   "metadata": {},
   "source": [
    "# JavaScript 調試工具"
   ]
  },
  {
   "cell_type": "raw",
   "id": "7ecef392",
   "metadata": {},
   "source": [
    "在程序代碼中尋找錯誤叫做代碼調試。調試很難，但幸運的是，很多瀏覽器都內置了調試工具。內置的調試工具可以開始或關閉，嚴重的錯誤信息會發送給用戶。有了調試工具，我們就可以設置斷點 (代碼停止執行的位置), 且可以在代碼執行時檢測變量。"
   ]
  },
  {
   "cell_type": "raw",
   "id": "30ae90bd",
   "metadata": {},
   "source": [
    "瀏覽器啟用調試工具一般是按下 F12 鍵，並在調試菜單中選擇 \"Console\" 。"
   ]
  },
  {
   "cell_type": "markdown",
   "id": "d0756abd",
   "metadata": {},
   "source": [
    "# console.log() 方法"
   ]
  },
  {
   "cell_type": "raw",
   "id": "fbde2d8f",
   "metadata": {},
   "source": [
    "如果瀏覽器支持調試，你可以使用 console.log() 方法在調試窗口上打印 JavaScript 值："
   ]
  },
  {
   "cell_type": "code",
   "execution_count": null,
   "id": "58e3a28c",
   "metadata": {},
   "outputs": [],
   "source": [
    "<!DOCTYPE html>\n",
    "<html>\n",
    "\n",
    "<head>\n",
    "    <meta charset=\"utf-8\">\n",
    "    <title>菜鳥教程</title>\n",
    "</head>\n",
    "\n",
    "<body>\n",
    "\n",
    "    <h1>我的第一個 Web 頁面</h1>\n",
    "    <p>\n",
    "        瀏覽器中(Chrome, IE, Firefox) 使用 F12 來啟用調試模式， 在調試窗口中點擊 \"Console\" 菜單。\n",
    "    </p>\n",
    "    <script>\n",
    "        a = 5;\n",
    "        b = 6;\n",
    "        c = a + b;\n",
    "        console.log(c);\n",
    "    </script>\n",
    "\n",
    "</body>\n",
    "\n",
    "</html>"
   ]
  },
  {
   "cell_type": "markdown",
   "id": "7adfce2e",
   "metadata": {},
   "source": [
    "# 設置斷點"
   ]
  },
  {
   "cell_type": "code",
   "execution_count": null,
   "id": "75640dd8",
   "metadata": {},
   "outputs": [],
   "source": [
    "在調試窗口中，你可以設置 JavaScript 代碼的斷點。\n",
    "在每個斷點上，都會停止執行 JavaScript 代碼，以便於我們檢查 JavaScript 變量的值。\n",
    "在檢查完畢後，可以重新執行代碼（如播放按鈕）。"
   ]
  },
  {
   "cell_type": "markdown",
   "id": "2dc72849",
   "metadata": {},
   "source": [
    "# debugger 關鍵字"
   ]
  },
  {
   "cell_type": "raw",
   "id": "c8b7ee24",
   "metadata": {},
   "source": [
    "debugger 關鍵字用於停止執行 JavaScript，並調用調試函數。這個關鍵字與在調試工具中設置斷點的效果是一樣的。\n",
    "如果沒有調試可用，debugger 語句將無法工作。開啟 debugger ，代碼在第三行前停止執行。"
   ]
  },
  {
   "cell_type": "code",
   "execution_count": null,
   "id": "bb9b2d06",
   "metadata": {},
   "outputs": [],
   "source": [
    "<!DOCTYPE html>\n",
    "<html>\n",
    "\n",
    "<head>\n",
    "    <meta charset=\"utf-8\">\n",
    "    <title>菜鳥教程</title>\n",
    "</head>\n",
    "\n",
    "<head>\n",
    "</head>\n",
    "\n",
    "<body>\n",
    "    <p id=\"demo\"></p>\n",
    "    <p>開啟調試工具，在代碼執行到第三行前會停止執行。</p>\n",
    "    <script>\n",
    "        var x = 15 * 5;\n",
    "        debugger;\n",
    "        document.getElementById(\"demo\").innerHTML = x;\n",
    "    </script>\n",
    "\n",
    "</body>\n",
    "\n",
    "</html>"
   ]
  },
  {
   "cell_type": "markdown",
   "id": "31d34e9b",
   "metadata": {},
   "source": [
    "# 主要瀏覽器的調試工具"
   ]
  },
  {
   "cell_type": "raw",
   "id": "e17dc215",
   "metadata": {},
   "source": [
    "通常瀏覽器啟用調試工具一般是按下 F12 鍵，並在調試菜單中選擇 \"Console\" 。\n",
    "各瀏覽器的步驟如下:"
   ]
  },
  {
   "cell_type": "markdown",
   "id": "4208606a",
   "metadata": {},
   "source": [
    "### Chrome 瀏覽器"
   ]
  },
  {
   "cell_type": "raw",
   "id": "4f1cbfb4",
   "metadata": {},
   "source": [
    "1. 打開瀏覽器。\n",
    "2. 在菜單中選擇 \"更多工具\"。\n",
    "3. 在 \"更多工具\" 中選擇 \"開發者工具\"。\n",
    "4. 最後，選擇 Console。"
   ]
  },
  {
   "cell_type": "code",
   "execution_count": null,
   "id": "d5343203",
   "metadata": {},
   "outputs": [],
   "source": []
  },
  {
   "cell_type": "code",
   "execution_count": null,
   "id": "daa21824",
   "metadata": {},
   "outputs": [],
   "source": []
  }
 ],
 "metadata": {
  "kernelspec": {
   "display_name": "Python 3",
   "language": "python",
   "name": "python3"
  },
  "language_info": {
   "codemirror_mode": {
    "name": "ipython",
    "version": 3
   },
   "file_extension": ".py",
   "mimetype": "text/x-python",
   "name": "python",
   "nbconvert_exporter": "python",
   "pygments_lexer": "ipython3",
   "version": "3.8.10"
  }
 },
 "nbformat": 4,
 "nbformat_minor": 5
}
