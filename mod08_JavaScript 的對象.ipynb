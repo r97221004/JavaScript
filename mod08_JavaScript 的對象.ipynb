{
 "cells": [
  {
   "cell_type": "markdown",
   "id": "7e5afb3b",
   "metadata": {},
   "source": [
    "# JavaScript對象"
   ]
  },
  {
   "cell_type": "raw",
   "id": "b7690ba2",
   "metadata": {},
   "source": [
    "JavaScript 對像是擁有屬性和方法的數據。"
   ]
  },
  {
   "cell_type": "markdown",
   "id": "eb43dc97",
   "metadata": {},
   "source": [
    "# 真實生活中的對象，屬性和方法"
   ]
  },
  {
   "cell_type": "raw",
   "id": "9d453fdb",
   "metadata": {},
   "source": [
    "真實生活中，一輛汽車是一個對象。對像有它的屬性，如重量和顏色等，方法有啟動停止等:"
   ]
  },
  {
   "cell_type": "markdown",
   "id": "a42746fe",
   "metadata": {},
   "source": [
    "<img src='./images/objectExplained.gif'>"
   ]
  },
  {
   "cell_type": "raw",
   "id": "7e6354f5",
   "metadata": {},
   "source": [
    "屬性\t                       方法\n",
    "\n",
    "car.name = Fiat              car.start()\n",
    "car.model = 500              car.drive()\n",
    "car.weight = 850kg           car.brake()\n",
    "car.color = white\t         car.stop()"
   ]
  },
  {
   "cell_type": "raw",
   "id": "f2a73de8",
   "metadata": {},
   "source": [
    "所有汽車都有這些屬性，但是每款車的屬性都不盡相同。\n",
    "所有汽車都擁有這些方法，但是它們被執行的時間都不盡相同。"
   ]
  },
  {
   "cell_type": "markdown",
   "id": "280bf8e7",
   "metadata": {},
   "source": [
    "# JavaScript 對象"
   ]
  },
  {
   "cell_type": "raw",
   "id": "466c39c2",
   "metadata": {},
   "source": [
    "在 JavaScript 中，幾乎所有的事物都是對象。"
   ]
  },
  {
   "cell_type": "raw",
   "id": "e8afce30",
   "metadata": {},
   "source": [
    "在 JavaScript 中，對像是非常重要的，當你理解了對象，就可以了解 JavaScript 。"
   ]
  },
  {
   "cell_type": "raw",
   "id": "18c4c51a",
   "metadata": {},
   "source": [
    "你已經學習了 JavaScript 變量的賦值。以下代碼為變量 car 設置值為 \"Fiat\":"
   ]
  },
  {
   "cell_type": "code",
   "execution_count": null,
   "id": "211d42c3",
   "metadata": {},
   "outputs": [],
   "source": [
    "var car = \"Fiat\";"
   ]
  },
  {
   "cell_type": "raw",
   "id": "d87f8622",
   "metadata": {},
   "source": [
    "對像也是一個變量，但對象可以包含多個值（多個變量），每個值以 name:value 對呈現。"
   ]
  },
  {
   "cell_type": "code",
   "execution_count": null,
   "id": "f5ebea2b",
   "metadata": {},
   "outputs": [],
   "source": [
    "var car = {name: \"Fiat\" , model: 500 , color: \"white\" };"
   ]
  },
  {
   "cell_type": "raw",
   "id": "8f530b89",
   "metadata": {},
   "source": [
    "在以上實例中，3 個值 (\"Fiat\", 500, \"white\") 賦予變量 car。"
   ]
  },
  {
   "cell_type": "markdown",
   "id": "c4faa666",
   "metadata": {},
   "source": [
    "<span style='color:red'>注意: JavaScript 對像是變量的容器。</span>"
   ]
  },
  {
   "cell_type": "markdown",
   "id": "defcc6c3",
   "metadata": {},
   "source": [
    "# 對象定義"
   ]
  },
  {
   "cell_type": "raw",
   "id": "3bf52b42",
   "metadata": {},
   "source": [
    "你可以使用字符來定義和創建 JavaScript 對象:"
   ]
  },
  {
   "cell_type": "code",
   "execution_count": null,
   "id": "8b3f8512",
   "metadata": {},
   "outputs": [],
   "source": [
    "<!DOCTYPE html>\n",
    "<html>\n",
    "\n",
    "<head>\n",
    "    <meta charset=\"utf-8\">\n",
    "    <title>菜鳥教程</title>\n",
    "</head>\n",
    "\n",
    "<body>\n",
    "\n",
    "    <p>創建 JavaScript 對象。</p>\n",
    "    <p id=\"demo\"></p>\n",
    "    <script>\n",
    "        var person = { firstName: \"John\", lastName: \"Doe\", age: 50, eyeColor: \"blue\" };\n",
    "        document.getElementById(\"demo\").innerHTML =\n",
    "            person.firstName + \" 現在 \" + person.age + \" 歲.\";\n",
    "    </script>\n",
    "\n",
    "</body>\n",
    "\n",
    "</html>"
   ]
  },
  {
   "cell_type": "raw",
   "id": "ddeb79e8",
   "metadata": {},
   "source": [
    "定義JavaScript 對象可以跨越多行，空格跟換行不是必須的："
   ]
  },
  {
   "cell_type": "code",
   "execution_count": null,
   "id": "827aeb02",
   "metadata": {},
   "outputs": [],
   "source": [
    "<!DOCTYPE html>\n",
    "<html>\n",
    "\n",
    "<head>\n",
    "    <meta charset=\"utf-8\">\n",
    "    <title>菜鳥教程</title>\n",
    "</head>\n",
    "\n",
    "<body>\n",
    "\n",
    "    <p>創建 JavaScript 對象。</p>\n",
    "    <p id=\"demo\"></p>\n",
    "    <script>\n",
    "        var person = { \n",
    "            firstName: \"John\", \n",
    "            lastName: \"Doe\", \n",
    "            age: 50, \n",
    "            eyeColor: \"blue\" \n",
    "        };\n",
    "        document.getElementById(\"demo\").innerHTML =\n",
    "            person.firstName + \" 現在 \" + person.age + \" 歲.\";\n",
    "    </script>\n",
    "\n",
    "</body>\n",
    "\n",
    "</html>"
   ]
  },
  {
   "cell_type": "markdown",
   "id": "8be60b78",
   "metadata": {},
   "source": [
    "# 對象屬性"
   ]
  },
  {
   "cell_type": "raw",
   "id": "4345f854",
   "metadata": {},
   "source": [
    "可以說 \"JavaScript 對像是變量的容器\"。但是，我們通常認為 \"JavaScript 對像是鍵值對的容器\"。鍵值對通常寫法為 name : value (鍵與值以冒號分割)。鍵值對在 JavaScript 對象通常稱為 對象屬性。"
   ]
  },
  {
   "cell_type": "raw",
   "id": "9916ddd1",
   "metadata": {},
   "source": [
    "Note: JavaScript 對像是屬性變量的容器。"
   ]
  },
  {
   "cell_type": "raw",
   "id": "279e081f",
   "metadata": {},
   "source": [
    "對象鍵值對的寫法類似於：\n",
    "\n",
    "PHP 中的關聯數組\n",
    "Python 中的字典\n",
    "C 語言中的哈希表\n",
    "Java 中的哈希映射\n",
    "Ruby 和 Perl 中的哈希表"
   ]
  },
  {
   "cell_type": "markdown",
   "id": "410ea608",
   "metadata": {},
   "source": [
    "# 訪問對象屬性"
   ]
  },
  {
   "cell_type": "raw",
   "id": "c74b53bb",
   "metadata": {},
   "source": [
    "你可以通過兩種方式訪問對象屬性:"
   ]
  },
  {
   "cell_type": "code",
   "execution_count": null,
   "id": "9bfc4b3c",
   "metadata": {},
   "outputs": [],
   "source": [
    "<!DOCTYPE html>\n",
    "<html>\n",
    "\n",
    "<head>\n",
    "    <meta charset=\"utf-8\">\n",
    "    <title>菜鳥教程</title>\n",
    "</head>\n",
    "\n",
    "<body>\n",
    "\n",
    "    <p>\n",
    "        有兩種方式可以訪問對象屬性：\n",
    "    </p>\n",
    "    <p>\n",
    "        你可以使用 .property 或 [\"property\"].\n",
    "    </p>\n",
    "    <p id=\"demo\"></p>\n",
    "    <script>\n",
    "        var person = {\n",
    "            firstName: \"John\",\n",
    "            lastName: \"Doe\",\n",
    "            id: 5566\n",
    "        };\n",
    "        document.getElementById(\"demo\").innerHTML =\n",
    "            person.firstName + \" \" + person.lastName;\n",
    "    </script>\n",
    "\n",
    "</body>\n",
    "\n",
    "</html>"
   ]
  },
  {
   "cell_type": "code",
   "execution_count": null,
   "id": "3e5fa1aa",
   "metadata": {},
   "outputs": [],
   "source": [
    "<!DOCTYPE html>\n",
    "<html>\n",
    "\n",
    "<head>\n",
    "    <meta charset=\"utf-8\">\n",
    "    <title>菜鳥教程</title>\n",
    "</head>\n",
    "\n",
    "<body>\n",
    "\n",
    "    <p>\n",
    "        有兩種方式可以訪問對象屬性：\n",
    "    </p>\n",
    "    <p>\n",
    "        你可以使用 .property 或 [\"property\"].\n",
    "    </p>\n",
    "    <p id=\"demo\"></p>\n",
    "    <script>\n",
    "        var person = {\n",
    "            firstName: \"John\",\n",
    "            lastName: \"Doe\",\n",
    "            id: 5566\n",
    "        };\n",
    "        document.getElementById(\"demo\").innerHTML =\n",
    "            person[\"firstName\"] + \" \" + person[\"lastName\"];\n",
    "    </script>\n",
    "\n",
    "</body>\n",
    "\n",
    "</html>"
   ]
  },
  {
   "cell_type": "markdown",
   "id": "d42e828d",
   "metadata": {},
   "source": [
    "# 對象方法"
   ]
  },
  {
   "cell_type": "raw",
   "id": "0de637f1",
   "metadata": {},
   "source": [
    "對象的方法定義了一個函數，並作為對象的屬性存儲。對象方法通過添加 () 調用(作為一個函數)。\n",
    "該實例訪問了 person 對象的 fullName() 方法:"
   ]
  },
  {
   "cell_type": "code",
   "execution_count": null,
   "id": "4055942d",
   "metadata": {},
   "outputs": [],
   "source": [
    "<!DOCTYPE html>\n",
    "<html>\n",
    "\n",
    "<head>\n",
    "    <meta charset=\"utf-8\">\n",
    "    <title>菜鳥教程</title>\n",
    "</head>\n",
    "\n",
    "<body>\n",
    "\n",
    "    <p>創建和使用對象方法。</p>\n",
    "    <p>對象方法作為一個函數定義存儲在對象屬性中。</p>\n",
    "    <p id=\"demo\"></p>\n",
    "    <script>\n",
    "        var person = {\n",
    "            firstName: \"John\",\n",
    "            lastName: \"Doe\",\n",
    "            id: 5566,\n",
    "            fullName: function () {\n",
    "                return this.firstName + \" \" + this.lastName;\n",
    "            }\n",
    "        };\n",
    "        document.getElementById(\"demo\").innerHTML = person.fullName();\n",
    "    </script>\n",
    "\n",
    "</body>\n",
    "\n",
    "</html>"
   ]
  },
  {
   "cell_type": "raw",
   "id": "8e5c2674",
   "metadata": {},
   "source": [
    "如果你要訪問 person 對象的 fullName 屬性，它將作為一個定義函數的字符串返回："
   ]
  },
  {
   "cell_type": "code",
   "execution_count": null,
   "id": "4bf2073a",
   "metadata": {},
   "outputs": [],
   "source": [
    "<!DOCTYPE html>\n",
    "<html>\n",
    "\n",
    "<head>\n",
    "    <meta charset=\"utf-8\">\n",
    "    <title>菜鳥教程</title>\n",
    "</head>\n",
    "\n",
    "<body>\n",
    "\n",
    "    <p>創建和使用對象方法。</p>\n",
    "    <p>對象方法是一個函數定義,並作為一個屬性值存儲。</p>\n",
    "    <p id=\"demo1\"></p>\n",
    "    <p id=\"demo2\"></p>\n",
    "    <script>\n",
    "        var person = {\n",
    "            firstName: \"John\",\n",
    "            lastName: \"Doe\",\n",
    "            id: 5566,\n",
    "            fullName: function () {\n",
    "                return this.firstName + \" \" + this.lastName;\n",
    "            }\n",
    "        };\n",
    "        document.getElementById(\"demo1\").innerHTML = \"不加括號輸出函數表達式：\" + person.fullName;\n",
    "        document.getElementById(\"demo2\").innerHTML = \"加括號輸出函數執行結果：\" + person.fullName();\n",
    "    </script>\n",
    "\n",
    "</body>\n",
    "\n",
    "</html>"
   ]
  },
  {
   "cell_type": "raw",
   "id": "c1d7cd04",
   "metadata": {},
   "source": [
    "注意: JavaScript 對像是屬性和方法的容器。"
   ]
  },
  {
   "cell_type": "raw",
   "id": "ed8261c2",
   "metadata": {},
   "source": [
    "在隨後的教程中你將學習到更多關於函數，屬性和方法的知識。"
   ]
  },
  {
   "cell_type": "markdown",
   "id": "1bddd91e",
   "metadata": {},
   "source": [
    "# 訪問對象方法"
   ]
  },
  {
   "cell_type": "code",
   "execution_count": null,
   "id": "d23a018b",
   "metadata": {},
   "outputs": [],
   "source": [
    "你可以使用以下語法創建對象方法："
   ]
  },
  {
   "cell_type": "code",
   "execution_count": null,
   "id": "0c7088b4",
   "metadata": {},
   "outputs": [],
   "source": [
    "methodName : function() {\n",
    "    // 代碼\n",
    "}\n",
    " "
   ]
  },
  {
   "cell_type": "raw",
   "id": "53f8b5c7",
   "metadata": {},
   "source": [
    "你可以使用以下語法訪問對象方法："
   ]
  },
  {
   "cell_type": "code",
   "execution_count": null,
   "id": "60e406d7",
   "metadata": {},
   "outputs": [],
   "source": [
    "<!DOCTYPE html>\n",
    "<html>\n",
    "\n",
    "<head>\n",
    "    <meta charset=\"utf-8\">\n",
    "    <title>菜鳥教程</title>\n",
    "</head>\n",
    "\n",
    "<body>\n",
    "\n",
    "    <p>創建和使用對象方法。</p>\n",
    "    <p>對象方法作為一個函數定義存儲在對象屬性中。</p>\n",
    "    <p id=\"demo\"></p>\n",
    "    <script>\n",
    "        var person = {\n",
    "            firstName: \"John\",\n",
    "            lastName: \"Doe\",\n",
    "            id: 5566,\n",
    "            fullName: function () {\n",
    "                return this.firstName + \" \" + this.lastName;\n",
    "            }\n",
    "        };\n",
    "        document.getElementById(\"demo\").innerHTML = person.fullName();\n",
    "    </script>\n",
    "\n",
    "</body>\n",
    "\n",
    "</html>"
   ]
  },
  {
   "cell_type": "raw",
   "id": "0ae6b0a3",
   "metadata": {},
   "source": [
    "通常 fullName() 是作為 person 對象的一個方法， fullName 是作為一個屬性。\n",
    "如果使用 fullName 屬性，不添加 () , 它會返回函數的定義："
   ]
  },
  {
   "cell_type": "code",
   "execution_count": null,
   "id": "98b5bbae",
   "metadata": {},
   "outputs": [],
   "source": [
    "<!DOCTYPE html>\n",
    "<html>\n",
    "<head>\n",
    "<meta charset=\"utf-8\"> \n",
    "<title>菜鳥教程(runoob.com)</title> \n",
    "</head>\n",
    "<body>\n",
    "\n",
    "<p>創建和使用對象方法。</p>\n",
    "<p>對象方法是一個函數定義,並作為一個屬性值存儲。</p>\n",
    "<p id=\"demo1\"></p>\n",
    "<p id=\"demo2\"></p>\n",
    "<script>\n",
    "var person = {\n",
    "    firstName: \"John\",\n",
    "    lastName : \"Doe\",\n",
    "    id : 5566,\n",
    "    fullName : function() \n",
    "\t{\n",
    "       return this.firstName + \" \" + this.lastName;\n",
    "    }\n",
    "};\n",
    "document.getElementById(\"demo1\").innerHTML = \"不加括號輸出函數表達式：\"  + person.fullName;\n",
    "document.getElementById(\"demo2\").innerHTML = \"加括號輸出函數執行結果：\"  +  person.fullName();\n",
    "</script>\n",
    "\t\n",
    "</body>\n",
    "</html>"
   ]
  },
  {
   "cell_type": "code",
   "execution_count": null,
   "id": "76ff9930",
   "metadata": {},
   "outputs": [],
   "source": [
    "<!DOCTYPE html>\n",
    "<html>\n",
    "\n",
    "<head>\n",
    "    <meta charset=\"utf-8\">\n",
    "    <title>菜鳥教程</title>\n",
    "</head>\n",
    "\n",
    "<body>\n",
    "\n",
    "    <p>創建和使用對象方法。</p>\n",
    "    <p>對象方法是一個函數定義,並作為一個屬性值存儲。</p>\n",
    "    <p id=\"demo1\"></p>\n",
    "    <p id=\"demo2\"></p>\n",
    "    <script>\n",
    "        var person = {\n",
    "            firstName: \"John\",\n",
    "            lastName: \"Doe\",\n",
    "            id: 5566,\n",
    "            fullName: function () {\n",
    "                return this.firstName + \" \" + this.lastName;\n",
    "            }\n",
    "        };\n",
    "        document.getElementById(\"demo1\").innerHTML = \"不加括號輸出函數表達式：\" + person.fullName;\n",
    "        document.getElementById(\"demo2\").innerHTML = \"加括號輸出函數執行結果：\" + person.fullName();\n",
    "    </script>\n",
    "\n",
    "</body>\n",
    "\n",
    "</html>"
   ]
  },
  {
   "cell_type": "raw",
   "id": "6ebfa5bf",
   "metadata": {},
   "source": [
    "有多種方式可以創建，使用和修改JavaScript 對象。同樣也有多種方式用來創建，使用和修改屬性和方法。在隨後的教程中，你將學習到更多關於對象的知識。"
   ]
  }
 ],
 "metadata": {
  "kernelspec": {
   "display_name": "Python 3",
   "language": "python",
   "name": "python3"
  },
  "language_info": {
   "codemirror_mode": {
    "name": "ipython",
    "version": 3
   },
   "file_extension": ".py",
   "mimetype": "text/x-python",
   "name": "python",
   "nbconvert_exporter": "python",
   "pygments_lexer": "ipython3",
   "version": "3.8.10"
  }
 },
 "nbformat": 4,
 "nbformat_minor": 5
}
