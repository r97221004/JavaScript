{
 "cells": [
  {
   "cell_type": "markdown",
   "id": "fb83e020",
   "metadata": {},
   "source": [
    "# JavaScript 的 while 循環"
   ]
  },
  {
   "cell_type": "raw",
   "id": "5d4f501e",
   "metadata": {},
   "source": [
    "只要指定條件為 true，循環就可以一直執行代碼塊。while 循環會在指定條件為真時循環執行代碼塊。"
   ]
  },
  {
   "cell_type": "code",
   "execution_count": null,
   "id": "c27474fd",
   "metadata": {},
   "outputs": [],
   "source": [
    "语法\n",
    "while (条件)\n",
    "{\n",
    "    需要执行的代码\n",
    "}"
   ]
  },
  {
   "cell_type": "markdown",
   "id": "281b44b0",
   "metadata": {},
   "source": [
    "### 語法"
   ]
  },
  {
   "cell_type": "code",
   "execution_count": null,
   "id": "65760113",
   "metadata": {},
   "outputs": [],
   "source": [
    "while (條件)\n",
    "{\n",
    "    需要執行的代碼\n",
    "}"
   ]
  },
  {
   "cell_type": "code",
   "execution_count": null,
   "id": "561a09cb",
   "metadata": {},
   "outputs": [],
   "source": [
    "<!DOCTYPE html>\n",
    "<html>\n",
    "\n",
    "<head>\n",
    "    <meta charset=\"utf-8\">\n",
    "    <title>菜鳥教程</title>\n",
    "</head>\n",
    "\n",
    "<body>\n",
    "\n",
    "    <p>點擊下面的按鈕，只要 i 小於 5 就一直循環代碼塊。</p>\n",
    "    <button onclick=\"myFunction()\">點擊這裏</button>\n",
    "    <p id=\"demo\"></p>\n",
    "    <script>\n",
    "        function myFunction() {\n",
    "            var x = \"\", i = 0;\n",
    "            while (i < 5) {\n",
    "                x = x + \"該數字為 \" + i + \"<br>\";\n",
    "                i++;\n",
    "            }\n",
    "            document.getElementById(\"demo\").innerHTML = x;\n",
    "        }\n",
    "    </script>\n",
    "\n",
    "</body>\n",
    "\n",
    "</html>"
   ]
  },
  {
   "cell_type": "raw",
   "id": "60e7ba15",
   "metadata": {},
   "source": [
    "本例中的循環將繼續運行，只要變量 i 小於 5："
   ]
  },
  {
   "cell_type": "raw",
   "id": "ae6fc9f9",
   "metadata": {},
   "source": [
    "如果您忘記增加條件中所用變量的值，該循環永遠不會結束。這可能導致瀏覽器崩潰。"
   ]
  },
  {
   "cell_type": "markdown",
   "id": "ed1633f7",
   "metadata": {},
   "source": [
    "# do/while 循環"
   ]
  },
  {
   "cell_type": "raw",
   "id": "a0a081a4",
   "metadata": {},
   "source": [
    "do/while 循環是 while 循環的變體。該循環會在檢查條件是否為真之前執行一次代碼塊，然後如果條件為真的話，就會重覆這個循環。"
   ]
  },
  {
   "cell_type": "markdown",
   "id": "5656584a",
   "metadata": {},
   "source": [
    "### 語法"
   ]
  },
  {
   "cell_type": "code",
   "execution_count": null,
   "id": "b04d19c8",
   "metadata": {},
   "outputs": [],
   "source": [
    "do\n",
    "{\n",
    "    需要執行的代碼\n",
    "}\n",
    "while (條件);"
   ]
  },
  {
   "cell_type": "raw",
   "id": "063d2566",
   "metadata": {},
   "source": [
    "下面的例子使用 do/while 循環。該循環至少會執行一次，即使條件為 false 它也會執行一次，因為代碼塊會在條件被測試前執行："
   ]
  },
  {
   "cell_type": "code",
   "execution_count": null,
   "id": "b1fe30fd",
   "metadata": {},
   "outputs": [],
   "source": [
    "<!DOCTYPE html>\n",
    "<html>\n",
    "\n",
    "<head>\n",
    "    <meta charset=\"utf-8\">\n",
    "    <title>菜鳥教程</title>\n",
    "</head>\n",
    "\n",
    "<body>\n",
    "\n",
    "    <p>點擊下面的按鈕，只要 i 小於 5 就一直循環代碼塊。</p>\n",
    "    <button onclick=\"myFunction()\">點擊這裏</button>\n",
    "    <p id=\"demo\"></p>\n",
    "    <script>\n",
    "        function myFunction() {\n",
    "            var x = \"\", i = 0;\n",
    "            do {\n",
    "                x = x + \"該數字為 \" + i + \"<br>\";\n",
    "                i++;\n",
    "            }\n",
    "            while (i < 5)\n",
    "            document.getElementById(\"demo\").innerHTML = x;\n",
    "        }\n",
    "    </script>\n",
    "\n",
    "</body>\n",
    "\n",
    "</html>"
   ]
  },
  {
   "cell_type": "raw",
   "id": "5ea5c46c",
   "metadata": {},
   "source": [
    "別忘記增加條件中所用變量的值，否則循環永遠不會結束！"
   ]
  },
  {
   "cell_type": "markdown",
   "id": "2fcbf84f",
   "metadata": {},
   "source": [
    "# 比較 for 和 while"
   ]
  },
  {
   "cell_type": "raw",
   "id": "57faeb5c",
   "metadata": {},
   "source": [
    "如果您已經閱讀了前面那一章關於 for 循環的內容，您會發現 while 循環與 for 循環很像。\n",
    "本例中的循環使用 for 循環來顯示 cars 數組中的所有值："
   ]
  },
  {
   "cell_type": "code",
   "execution_count": null,
   "id": "4feaa44b",
   "metadata": {},
   "outputs": [],
   "source": [
    "<!DOCTYPE html>\n",
    "<html>\n",
    "\n",
    "<head>\n",
    "    <meta charset=\"utf-8\">\n",
    "    <title>菜鳥教程</title>\n",
    "</head>\n",
    "\n",
    "<body>\n",
    "\n",
    "    <script>\n",
    "        cars = [\"BMW\", \"Volvo\", \"Saab\", \"Ford\"];\n",
    "        var i = 0;\n",
    "        for (; cars[i];) {\n",
    "            document.write(cars[i] + \"<br>\");\n",
    "            i++;\n",
    "        }\n",
    "    </script>\n",
    "\n",
    "</body>\n",
    "\n",
    "</html>"
   ]
  },
  {
   "cell_type": "raw",
   "id": "12164a90",
   "metadata": {},
   "source": [
    "本例中的循環使用 while 循環來顯示 cars 數組中的所有值："
   ]
  },
  {
   "cell_type": "code",
   "execution_count": null,
   "id": "9a73f53d",
   "metadata": {},
   "outputs": [],
   "source": [
    "<!DOCTYPE html>\n",
    "<html>\n",
    "\n",
    "<head>\n",
    "    <meta charset=\"utf-8\">\n",
    "    <title>菜鳥教程(</title>\n",
    "</head>\n",
    "\n",
    "<body>\n",
    "\n",
    "    <script>\n",
    "        cars = [\"BMW\", \"Volvo\", \"Saab\", \"Ford\"];\n",
    "        var i = 0;\n",
    "        while (cars[i]) {\n",
    "            document.write(cars[i] + \"<br>\");\n",
    "            i++;\n",
    "        }\n",
    "    </script>\n",
    "\n",
    "</body>\n",
    "\n",
    "</html>"
   ]
  }
 ],
 "metadata": {
  "kernelspec": {
   "display_name": "Python 3",
   "language": "python",
   "name": "python3"
  },
  "language_info": {
   "codemirror_mode": {
    "name": "ipython",
    "version": 3
   },
   "file_extension": ".py",
   "mimetype": "text/x-python",
   "name": "python",
   "nbconvert_exporter": "python",
   "pygments_lexer": "ipython3",
   "version": "3.8.10"
  }
 },
 "nbformat": 4,
 "nbformat_minor": 5
}
