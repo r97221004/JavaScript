{
 "cells": [
  {
   "cell_type": "markdown",
   "id": "282d2aed",
   "metadata": {},
   "source": [
    "# JavaScript 聲明提升"
   ]
  },
  {
   "cell_type": "raw",
   "id": "eaee185a",
   "metadata": {},
   "source": [
    "JavaScript 中，函數及變量的聲明都將被提升到函數的最頂部。\n",
    "JavaScript 中，變量可以在使用後聲明，也就是變量可以先使用再聲明。\n",
    "以下兩個實例將獲得相同的結果："
   ]
  },
  {
   "cell_type": "code",
   "execution_count": null,
   "id": "d05499d8",
   "metadata": {},
   "outputs": [],
   "source": [
    "<!DOCTYPE html>\n",
    "<html>\n",
    "\n",
    "<head>\n",
    "    <meta charset=\"utf-8\">\n",
    "    <title>菜鳥教程</title>\n",
    "</head>\n",
    "\n",
    "<body>\n",
    "\n",
    "    <p id=\"demo\"></p>\n",
    "    <script>\n",
    "        x = 5; // 變量 x 設置為 5\n",
    "        elem = document.getElementById(\"demo\"); // 查找元素 \n",
    "        elem.innerHTML = x;                     // 在元素中顯示 x\n",
    "        var x; // 聲明 x\n",
    "    </script>\n",
    "\n",
    "</body>\n",
    "\n",
    "</html>"
   ]
  },
  {
   "cell_type": "code",
   "execution_count": null,
   "id": "fd53b64e",
   "metadata": {},
   "outputs": [],
   "source": [
    "<!DOCTYPE html>\n",
    "<html>\n",
    "\n",
    "<head>\n",
    "    <meta charset=\"utf-8\">\n",
    "    <title>菜鳥教程</title>\n",
    "</head>\n",
    "\n",
    "<body>\n",
    "\n",
    "    <p id=\"demo\"></p>\n",
    "    <script>\n",
    "        var x; // 聲明 x\n",
    "        x = 5; // 變量 x 設置為 5\n",
    "        elem = document.getElementById(\"demo\"); // 查找元素 \n",
    "        elem.innerHTML = x; \n",
    "    </script>\n",
    "\n",
    "</body>\n",
    "\n",
    "</html>"
   ]
  },
  {
   "cell_type": "raw",
   "id": "f3cc5db0",
   "metadata": {},
   "source": [
    "要理解以上實例就需要理解 \"hoisting(聲明提升)\"。\n",
    "聲明提升：函數聲明和變量聲明總是會被解釋器悄悄地被\"提升\"到方法體的最頂部。"
   ]
  },
  {
   "cell_type": "markdown",
   "id": "6dc879ad",
   "metadata": {},
   "source": [
    "# JavaScript 初始化不會提升"
   ]
  },
  {
   "cell_type": "raw",
   "id": "0addd28e",
   "metadata": {},
   "source": [
    "JavaScript 只有聲明的變量會提升，初始化的不會。\n",
    "以下兩個實例結果結果不相同："
   ]
  },
  {
   "cell_type": "code",
   "execution_count": null,
   "id": "841e0d1a",
   "metadata": {},
   "outputs": [],
   "source": [
    "<!DOCTYPE html>\n",
    "<html>\n",
    "\n",
    "<head>\n",
    "    <meta charset=\"utf-8\">\n",
    "    <title>菜鳥教程</title>\n",
    "</head>\n",
    "\n",
    "<body>\n",
    "\n",
    "    <p id=\"demo\"></p>\n",
    "    <script>\n",
    "        var x = 5; // 初始化 x\n",
    "        var y = 7; // 初始化 y\n",
    "        elem = document.getElementById(\"demo\"); // 查找元素 \n",
    "        elem.innerHTML = x + \" \" + y;           // 顯示 x 和 y\n",
    "    </script>\n",
    "\n",
    "</body>\n",
    "\n",
    "</html>"
   ]
  },
  {
   "cell_type": "code",
   "execution_count": null,
   "id": "9e2d177f",
   "metadata": {},
   "outputs": [],
   "source": [
    "<!DOCTYPE html>\n",
    "<html>\n",
    "\n",
    "<head>\n",
    "    <meta charset=\"utf-8\">\n",
    "    <title>菜鳥教程</title>\n",
    "</head>\n",
    "\n",
    "<body>\n",
    "\n",
    "    <p id=\"demo\"></p>\n",
    "    <script>\n",
    "        var x = 5; // 初始化 x\n",
    "        elem = document.getElementById(\"demo\"); // 查找元素 \n",
    "        elem.innerHTML = \"x 為：\" + x + \"，y 為：\" + y;           // 顯示 x 和 y\n",
    "        var y = 7; // 初始化 y\n",
    "    </script>\n",
    "\n",
    "</body>\n",
    "\n",
    "</html>"
   ]
  },
  {
   "cell_type": "raw",
   "id": "454cc813",
   "metadata": {},
   "source": [
    "實例 2 的 y 輸出了 undefined，這是因為變量聲明 (var y) 提升了，但是初始化(y = 7) 並不會提升，所以 y 變量是一個未定義的變量。"
   ]
  },
  {
   "cell_type": "raw",
   "id": "421254eb",
   "metadata": {},
   "source": [
    "實例 2 類似以下代碼:"
   ]
  },
  {
   "cell_type": "code",
   "execution_count": null,
   "id": "93fec6e2",
   "metadata": {},
   "outputs": [],
   "source": [
    "var x = 5; // 初始化 x\n",
    "var y;     // 聲明 y\n",
    "\n",
    "elem = document.getElementById(\"demo\"); // 查找元素\n",
    "elem.innerHTML = x + \" \" + y;           // 顯示 x 和 y\n",
    "\n",
    "y = 7;    // 設置 y 為 7"
   ]
  },
  {
   "cell_type": "markdown",
   "id": "836857f6",
   "metadata": {},
   "source": [
    "# 在頭部聲明你的變量"
   ]
  },
  {
   "cell_type": "raw",
   "id": "f80fdb30",
   "metadata": {},
   "source": [
    "對於大多數程序員來說並不知道 JavaScript 聲明提升。\n",
    "如果程序員不能很好的理解聲明提升，他們寫的程序就容易出現一些問題。\n",
    "為了避免這些問題，通常我們在每個作用域開始前聲明這些變量，這也是正常的 JavaScript 解析步驟，易於我們理解。"
   ]
  },
  {
   "cell_type": "raw",
   "id": "5eddce9a",
   "metadata": {},
   "source": [
    "JavaScript 嚴格模式(strict mode)不允許使用未聲明的變量，在下一個章節中我們將會學習到 \"嚴格模式(strict mode)\" 。"
   ]
  }
 ],
 "metadata": {
  "kernelspec": {
   "display_name": "Python 3",
   "language": "python",
   "name": "python3"
  },
  "language_info": {
   "codemirror_mode": {
    "name": "ipython",
    "version": 3
   },
   "file_extension": ".py",
   "mimetype": "text/x-python",
   "name": "python",
   "nbconvert_exporter": "python",
   "pygments_lexer": "ipython3",
   "version": "3.8.10"
  }
 },
 "nbformat": 4,
 "nbformat_minor": 5
}
