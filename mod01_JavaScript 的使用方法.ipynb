{
 "cells": [
  {
   "cell_type": "markdown",
   "id": "eed55e56",
   "metadata": {},
   "source": [
    "# JavaScript 用法"
   ]
  },
  {
   "cell_type": "raw",
   "id": "dad678a9",
   "metadata": {},
   "source": [
    "HTML 中的 Javascript 腳本代碼必須位於 <script> 與 </script> 標簽之間。Javascript 腳本代碼可被放置在 HTML 頁面的 <body> 和 <head> 部分中。"
   ]
  },
  {
   "cell_type": "markdown",
   "id": "071da38b",
   "metadata": {},
   "source": [
    "# script 標籤"
   ]
  },
  {
   "cell_type": "raw",
   "id": "6e863097",
   "metadata": {},
   "source": [
    "如需在 HTML 頁面中插入 JavaScript，請使用 <script> 標簽。<script> 和 </script> 會告訴 JavaScript 在何處開始和結束。\n",
    "<script> 和 </script> 之間的代碼行包含了 JavaScript:"
   ]
  },
  {
   "cell_type": "code",
   "execution_count": null,
   "id": "8f0a0bbe",
   "metadata": {},
   "outputs": [],
   "source": [
    "<script>\n",
    "alert(\"我的第一個 JavaScript\");\n",
    "</script>"
   ]
  },
  {
   "cell_type": "raw",
   "id": "2509738b",
   "metadata": {},
   "source": [
    "那些老舊的實例可能會在 <script> 標簽中使用 type=\"text/javascript\"。現在已經不必這樣做了。JavaScript 是所有現代瀏覽器以及 HTML5 中的默認腳本語言。"
   ]
  },
  {
   "cell_type": "markdown",
   "id": "ac162dcb",
   "metadata": {},
   "source": [
    "# body 中的 JavaScript"
   ]
  },
  {
   "cell_type": "raw",
   "id": "3e2a6da9",
   "metadata": {},
   "source": [
    "在本例中，JavaScript 會在頁面加載時向 HTML 的 <body> 寫文本："
   ]
  },
  {
   "cell_type": "code",
   "execution_count": null,
   "id": "22805a35",
   "metadata": {},
   "outputs": [],
   "source": [
    "<head>\n",
    "    <meta charset=\"utf-8\">\n",
    "    <title>菜鳥教程</title>\n",
    "</head>\n",
    "\n",
    "<body>\n",
    "\n",
    "    <p>\n",
    "        JavaScript 能夠直接寫入 HTML 輸出流中：\n",
    "    </p>\n",
    "    <script>\n",
    "        document.write(\"<h1>這是一個標題</h1>\");\n",
    "        document.write(\"<p>這是一個段落。</p>\");\n",
    "    </script>\n",
    "    <p>\n",
    "        您只能在 HTML 輸出流中使用 <strong>document.write</strong>。\n",
    "        如果您在文檔已加載後使用它（比如在函數中），會覆蓋整個文檔。\n",
    "    </p>\n",
    "\n",
    "</body>\n",
    "\n",
    "</html>"
   ]
  },
  {
   "cell_type": "markdown",
   "id": "370e5c8b",
   "metadata": {},
   "source": [
    "# JavaScript 函數和事件"
   ]
  },
  {
   "cell_type": "raw",
   "id": "65f42286",
   "metadata": {},
   "source": [
    "上面例子中的 JavaScript 語句，會在頁面加載時執行。通常，我們需要在某個事件發生時執行代碼，比如當用戶點擊按鈕時。如果我們把 JavaScript 代碼放入函數中，就可以在事件發生時調用該函數。您將在稍後的章節學到更多有關 JavaScript 函數和事件的知識。"
   ]
  },
  {
   "cell_type": "markdown",
   "id": "090f8e96",
   "metadata": {},
   "source": [
    "# <span style=\"color:red\">在 head 或者 body 的JavaScript</span>"
   ]
  },
  {
   "cell_type": "raw",
   "id": "9ae53e80",
   "metadata": {},
   "source": [
    "您可以在 HTML 文檔中放入不限數量的腳本。腳本可位於 HTML 的 <body> 或 <head> 部分中，或者同時存在於兩個部分中。通常的做法是把函數放入 <head> 部分中，或者放在頁面底部。這樣就可以把它們安置到同一處位置，不會幹擾頁面的內容。"
   ]
  },
  {
   "cell_type": "markdown",
   "id": "748981ae",
   "metadata": {},
   "source": [
    "### 在 head 中的 JavaScript 函數"
   ]
  },
  {
   "cell_type": "raw",
   "id": "6bad8f63",
   "metadata": {},
   "source": [
    "在本例中，我們把一個 JavaScript 函數放置到 HTML 頁面的 <head> 部分。該函數會在點擊按鈕時被調用:"
   ]
  },
  {
   "cell_type": "code",
   "execution_count": null,
   "id": "47edd355",
   "metadata": {},
   "outputs": [],
   "source": [
    "<!DOCTYPE html>\n",
    "<html>\n",
    "\n",
    "<head>\n",
    "    <meta charset=\"utf-8\">\n",
    "    <title>菜鳥教程</title>\n",
    "    <script>\n",
    "        function myFunction() {\n",
    "            document.getElementById(\"demo\").innerHTML = \"我的第一個 JavaScript 函數\";\n",
    "        }\n",
    "    </script>\n",
    "</head>\n",
    "\n",
    "<body>\n",
    "\n",
    "    <h1>我的 Web 頁面</h1>\n",
    "    <p id=\"demo\">一個段落。</p>\n",
    "    <button type=\"button\" onclick=\"myFunction()\">點擊這裏</button>\n",
    "\n",
    "</body>\n",
    "\n",
    "</html>"
   ]
  },
  {
   "cell_type": "markdown",
   "id": "56ee6021",
   "metadata": {},
   "source": [
    "### 在 body 中的 JavaScript 函數"
   ]
  },
  {
   "cell_type": "raw",
   "id": "a34b4be9",
   "metadata": {},
   "source": [
    "在本例中，我們把一個 JavaScript 函數放置到 HTML 頁面的 <body> 部分。該函數會在點擊按鈕時被調用："
   ]
  },
  {
   "cell_type": "code",
   "execution_count": null,
   "id": "14326d0e",
   "metadata": {},
   "outputs": [],
   "source": [
    "<!DOCTYPE html>\n",
    "<html>\n",
    "\n",
    "<head>\n",
    "    <meta charset=\"utf-8\">\n",
    "    <title>菜鳥教程(runoob.com)</title>\n",
    "</head>\n",
    "\n",
    "<body>\n",
    "\n",
    "    <h1>我的第一個 Web 頁面</h1>\n",
    "    <p id=\"demo\">一個段落。</p>\n",
    "    <button type=\"button\" onclick=\"myFunction()\">點擊這裏</button>\n",
    "    <script>\n",
    "        function myFunction() {\n",
    "            document.getElementById(\"demo\").innerHTML = \"我的第一個 JavaScript 函數\";\n",
    "        }\n",
    "    </script>\n",
    "\n",
    "</body>\n",
    "\n",
    "</html>"
   ]
  },
  {
   "cell_type": "markdown",
   "id": "1be41b35",
   "metadata": {},
   "source": [
    "# <span style='color:red'>外部的 JavaScript</span>"
   ]
  },
  {
   "cell_type": "raw",
   "id": "e9b22a57",
   "metadata": {},
   "source": [
    "也可以把腳本保存到外部文件中。外部文件通常包含被多個網頁使用的代碼。外部 JavaScript 文件的文件擴展名是 .js。如需使用外部文件，請在 <script> 標簽的 \"src\" 屬性中設置該 .js 文件："
   ]
  },
  {
   "cell_type": "code",
   "execution_count": null,
   "id": "9811e18a",
   "metadata": {},
   "outputs": [],
   "source": [
    "<!DOCTYPE html>\n",
    "<html>\n",
    "\n",
    "<head>\n",
    "    <meta charset=\"utf-8\">\n",
    "    <title>菜鳥教程</title>\n",
    "</head>\n",
    "\n",
    "<body>\n",
    "\n",
    "    <h1>我的 Web 頁面</h1>\n",
    "    <p id=\"demo\">一個段落。</p>\n",
    "    <button type=\"button\" onclick=\"myFunction()\">點擊這裏</button>\n",
    "    <p><b>註釋：</b>myFunction 保存在名為 \"myScript.js\" 的外部文件中。</p>\n",
    "    <script src=\"myScript.js\"></script>\n",
    "\n",
    "</body>\n",
    "\n",
    "</html>"
   ]
  },
  {
   "cell_type": "raw",
   "id": "5c52df60",
   "metadata": {},
   "source": [
    "你可以將腳本放置於 <head> 或者 <body>中，放在 <script> 標簽中的腳本與外部引用的腳本運行效果完全一致。 myScript.js 文件代碼如下："
   ]
  },
  {
   "cell_type": "code",
   "execution_count": null,
   "id": "de495d9d",
   "metadata": {},
   "outputs": [],
   "source": [
    "function myFunction()\n",
    "{\n",
    "    document.getElementById(\"demo\").innerHTML=\"我的第一个 JavaScript 函数\";\n",
    "}"
   ]
  },
  {
   "cell_type": "raw",
   "id": "ff10b5d7",
   "metadata": {},
   "source": [
    "注意外部腳本不能包含 <script> 標簽。"
   ]
  }
 ],
 "metadata": {
  "kernelspec": {
   "display_name": "Python 3",
   "language": "python",
   "name": "python3"
  },
  "language_info": {
   "codemirror_mode": {
    "name": "ipython",
    "version": 3
   },
   "file_extension": ".py",
   "mimetype": "text/x-python",
   "name": "python",
   "nbconvert_exporter": "python",
   "pygments_lexer": "ipython3",
   "version": "3.8.10"
  }
 },
 "nbformat": 4,
 "nbformat_minor": 5
}
