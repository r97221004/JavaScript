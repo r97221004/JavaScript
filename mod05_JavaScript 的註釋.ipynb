{
 "cells": [
  {
   "cell_type": "code",
   "execution_count": null,
   "id": "354caea2",
   "metadata": {},
   "outputs": [],
   "source": [
    "JavaScript 註釋可用於提高代碼的可讀性。"
   ]
  },
  {
   "cell_type": "markdown",
   "id": "b06cb12d",
   "metadata": {},
   "source": [
    "# JavaScript 註釋"
   ]
  },
  {
   "cell_type": "raw",
   "id": "0244bcf6",
   "metadata": {},
   "source": [
    "JavaScript 不會執行註釋。我們可以添加註釋來對 JavaScript 進行解釋，或者提高代碼的可讀性。單行註釋以 // 開頭。\n",
    "本例用單行註釋來解釋代碼："
   ]
  },
  {
   "cell_type": "code",
   "execution_count": null,
   "id": "13cafe40",
   "metadata": {},
   "outputs": [],
   "source": [
    "<!DOCTYPE html>\n",
    "<html>\n",
    "\n",
    "<head>\n",
    "    <meta charset=\"utf-8\">\n",
    "    <title>菜鳥教程</title>\n",
    "</head>\n",
    "\n",
    "<body>\n",
    "\n",
    "    <h1 id=\"myH1\"></h1>\n",
    "    <p id=\"myP\"></p>\n",
    "    <script>\n",
    "        // 輸出標題：\n",
    "        document.getElementById(\"myH1\").innerHTML = \"Welcome to my Homepage\";\n",
    "        // 輸出段落：\n",
    "        document.getElementById(\"myP\").innerHTML = \"This is my first paragraph.\";\n",
    "    </script>\n",
    "    <p><b>註釋：</b>註釋不會被執行。</p>\n",
    "\n",
    "</body>\n",
    "\n",
    "</html>"
   ]
  },
  {
   "cell_type": "markdown",
   "id": "0c23c0bf",
   "metadata": {},
   "source": [
    "# JavaScript 多行註釋"
   ]
  },
  {
   "cell_type": "markdown",
   "id": "7f8dddf3",
   "metadata": {},
   "source": [
    "多行註釋以 /* 開始，以 */ 結尾。下面的例子使用多行註釋來解釋代碼："
   ]
  },
  {
   "cell_type": "code",
   "execution_count": null,
   "id": "b7111689",
   "metadata": {},
   "outputs": [],
   "source": [
    "<!DOCTYPE html>\n",
    "<html>\n",
    "\n",
    "<head>\n",
    "    <title>菜鳥教程測試實例</title>\n",
    "    <meta charset=\"utf-8\">\n",
    "</head>\n",
    "\n",
    "<body>\n",
    "\n",
    "    <h1 id=\"myH1\"></h1>\n",
    "    <p id=\"myP\"></p>\n",
    "    <script>\n",
    "        /*\n",
    "        下面的這些代碼會輸出\n",
    "        一個標題和一個段落\n",
    "        並將代表主頁的開始\n",
    "        */\n",
    "        document.getElementById(\"myH1\").innerHTML = \"歡迎來到菜鳥教程\";\n",
    "        document.getElementById(\"myP\").innerHTML = \"這是一個段落。\";\n",
    "    </script>\n",
    "    <p><b>註釋：</b>註釋塊不會被執行。</p>\n",
    "\n",
    "</body>\n",
    "\n",
    "</html>"
   ]
  },
  {
   "cell_type": "markdown",
   "id": "6e54b33b",
   "metadata": {},
   "source": [
    "# 使用註釋來阻止執行"
   ]
  },
  {
   "cell_type": "code",
   "execution_count": null,
   "id": "5dba1944",
   "metadata": {},
   "outputs": [],
   "source": [
    "在下面的例子中，註釋用於阻止其中一條代碼行的執行（可用於調試）："
   ]
  },
  {
   "cell_type": "code",
   "execution_count": null,
   "id": "677f6110",
   "metadata": {},
   "outputs": [],
   "source": [
    "<!DOCTYPE html>\n",
    "<html>\n",
    "\n",
    "<head>\n",
    "    <meta charset=\"utf-8\">\n",
    "    <title>菜鳥教程</title>\n",
    "</head>\n",
    "\n",
    "<body>\n",
    "\n",
    "    <h1 id=\"myH1\"></h1>\n",
    "    <p id=\"myP\"></p>\n",
    "    <script>\n",
    "        //document.getElementById(\"myH1\").innerHTML=\"歡迎來到我的主頁\";\n",
    "        document.getElementById(\"myP\").innerHTML = \"這是我的第一個段落。\";\n",
    "    </script>\n",
    "    <p><strong>註意:</strong> 註釋塊不會被執行</p>\n",
    "\n",
    "</body>\n",
    "\n",
    "</html>"
   ]
  },
  {
   "cell_type": "raw",
   "id": "489ce735",
   "metadata": {},
   "source": [
    "在下面的例子中，註釋用於阻止代碼塊的執行（可用於調試）："
   ]
  },
  {
   "cell_type": "code",
   "execution_count": null,
   "id": "352f2dca",
   "metadata": {},
   "outputs": [],
   "source": [
    "<!DOCTYPE html>\n",
    "<html>\n",
    "\n",
    "<head>\n",
    "    <meta charset=\"utf-8\">\n",
    "    <title>菜鳥教程</title>\n",
    "</head>\n",
    "\n",
    "<body>\n",
    "\n",
    "    <h1 id=\"myH1\"></h1>\n",
    "    <p id=\"myP\"></p>\n",
    "    <script>\n",
    "        /*\n",
    "        document.getElementById(\"myH1\").innerHTML=\"歡迎來到我的主頁\";\n",
    "        document.getElementById(\"myP\").innerHTML=\"這是我的第一個段落。\";\n",
    "        */\n",
    "    </script>\n",
    "    <p><strong>註意:</strong>註釋塊不會被執行。</p>\n",
    "\n",
    "</body>\n",
    "\n",
    "</html>"
   ]
  },
  {
   "cell_type": "markdown",
   "id": "00647c8c",
   "metadata": {},
   "source": [
    "# 在行末使用註釋"
   ]
  },
  {
   "cell_type": "code",
   "execution_count": null,
   "id": "48d9c633",
   "metadata": {},
   "outputs": [],
   "source": [
    "在下面的例子中，我們把註釋放到代碼行的結尾處："
   ]
  },
  {
   "cell_type": "code",
   "execution_count": null,
   "id": "004347d1",
   "metadata": {},
   "outputs": [],
   "source": [
    "<!DOCTYPE html>\n",
    "<html>\n",
    "\n",
    "<head>\n",
    "    <meta charset=\"utf-8\">\n",
    "    <title>菜鳥教程</title>\n",
    "</head>\n",
    "\n",
    "<body>\n",
    "\n",
    "    <p id=\"myP\"></p>\n",
    "    <script>\n",
    "        var x = 5;   // 聲明 x 並把 5 賦值給它\n",
    "        var y = x + 2;   // 聲明 y 並把 x+2 賦值給它\n",
    "        document.getElementById(\"myP\").innerHTML = y // 把 y 的值寫到 myP\n",
    "    </script>\n",
    "    <p><b>註釋：</b>註釋不會被執行。</p>\n",
    "\n",
    "</body>\n",
    "\n",
    "</html>"
   ]
  }
 ],
 "metadata": {
  "kernelspec": {
   "display_name": "Python 3",
   "language": "python",
   "name": "python3"
  },
  "language_info": {
   "codemirror_mode": {
    "name": "ipython",
    "version": 3
   },
   "file_extension": ".py",
   "mimetype": "text/x-python",
   "name": "python",
   "nbconvert_exporter": "python",
   "pygments_lexer": "ipython3",
   "version": "3.8.10"
  }
 },
 "nbformat": 4,
 "nbformat_minor": 5
}
