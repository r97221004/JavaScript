{
 "cells": [
  {
   "cell_type": "raw",
   "id": "30df236c",
   "metadata": {},
   "source": [
    "JavaScript 是一個程序語言。語法規則定義了語言結構。"
   ]
  },
  {
   "cell_type": "markdown",
   "id": "e970742c",
   "metadata": {},
   "source": [
    "# JavaScript 語法"
   ]
  },
  {
   "cell_type": "raw",
   "id": "3a896b96",
   "metadata": {},
   "source": [
    "JavaScript 是一個腳本語言。它是一個輕量級，但功能強大的編程語言。"
   ]
  },
  {
   "cell_type": "markdown",
   "id": "d3e061ac",
   "metadata": {},
   "source": [
    "# JavaScript 字面量"
   ]
  },
  {
   "cell_type": "raw",
   "id": "3b73a2d8",
   "metadata": {},
   "source": [
    "在編程語言中，一般固定值稱為字面量，如 3.14。數字（Number）字面量 可以是整數或者是小數，或者是科學計數 (e)。"
   ]
  },
  {
   "cell_type": "code",
   "execution_count": null,
   "id": "88576905",
   "metadata": {},
   "outputs": [],
   "source": [
    "<!DOCTYPE html>\n",
    "<html>\n",
    "\n",
    "<head>\n",
    "    <meta charset=\"utf-8\">\n",
    "    <title>菜鳥教程</title>\n",
    "</head>\n",
    "\n",
    "<body>\n",
    "\n",
    "    <p id=\"demo\"></p>\n",
    "    <script>\n",
    "        document.getElementById(\"demo\").innerHTML = 123e5;\n",
    "    </script>\n",
    "\n",
    "</body>\n",
    "\n",
    "</html>"
   ]
  },
  {
   "cell_type": "raw",
   "id": "2d4eab41",
   "metadata": {},
   "source": [
    "字符串（String）字面量 可以使用單引號或雙引號:"
   ]
  },
  {
   "cell_type": "code",
   "execution_count": null,
   "id": "b4ae369b",
   "metadata": {},
   "outputs": [],
   "source": [
    "<!DOCTYPE html>\n",
    "<html>\n",
    "\n",
    "<head>\n",
    "    <meta charset=\"utf-8\">\n",
    "    <title>菜鳥教程</title>\n",
    "</head>\n",
    "\n",
    "<body>\n",
    "\n",
    "    <p id=\"demo\"></p>\n",
    "    <script>\n",
    "        document.getElementById(\"demo\").innerHTML = \"John Doe\";\n",
    "    </script>\n",
    "\n",
    "</body>\n",
    "\n",
    "</html>"
   ]
  },
  {
   "cell_type": "raw",
   "id": "66cb9908",
   "metadata": {},
   "source": [
    "表達式字面量 用於計算："
   ]
  },
  {
   "cell_type": "code",
   "execution_count": null,
   "id": "46200253",
   "metadata": {},
   "outputs": [],
   "source": [
    "<!DOCTYPE html>\n",
    "<html>\n",
    "\n",
    "<head>\n",
    "    <meta charset=\"utf-8\">\n",
    "    <title>菜鳥教程</title>\n",
    "</head>\n",
    "\n",
    "<body>\n",
    "\n",
    "    <p id=\"demo\"></p>\n",
    "    <script>\n",
    "        document.getElementById(\"demo\").innerHTML = 5*10;\n",
    "    </script>\n",
    "\n",
    "</body>\n",
    "\n",
    "</html>"
   ]
  },
  {
   "cell_type": "code",
   "execution_count": null,
   "id": "ea14018f",
   "metadata": {},
   "outputs": [],
   "source": [
    "數組（Array）字面量 定義一個數組："
   ]
  },
  {
   "cell_type": "raw",
   "id": "016f4228",
   "metadata": {},
   "source": [
    "var scores = [40, 100, 1, 5, 25, 10];"
   ]
  },
  {
   "cell_type": "raw",
   "id": "7b264546",
   "metadata": {},
   "source": [
    "對象（Object）字面量 定義一個對象："
   ]
  },
  {
   "cell_type": "code",
   "execution_count": null,
   "id": "050df72c",
   "metadata": {},
   "outputs": [],
   "source": [
    "{firstName: \"John\", lastName: \"Doe\", age: 50, eyeColor: \"blue\"};"
   ]
  },
  {
   "cell_type": "raw",
   "id": "9040ca15",
   "metadata": {},
   "source": [
    "函數（Function）字面量 定義一個函數："
   ]
  },
  {
   "cell_type": "code",
   "execution_count": null,
   "id": "69a06c95",
   "metadata": {},
   "outputs": [],
   "source": [
    "function myFunction(a, b) { \n",
    "    return a * b;\n",
    "}"
   ]
  },
  {
   "cell_type": "markdown",
   "id": "22839072",
   "metadata": {},
   "source": [
    "# JavaScript 變量"
   ]
  },
  {
   "cell_type": "raw",
   "id": "b1c3d0c5",
   "metadata": {},
   "source": [
    "在編程語言中，變量用於存儲數據值。JavaScript 使用關鍵字 var 來定義變量， 使用等號來為變量賦值："
   ]
  },
  {
   "cell_type": "code",
   "execution_count": null,
   "id": "1888b26f",
   "metadata": {},
   "outputs": [],
   "source": [
    "<!DOCTYPE html>\n",
    "<html>\n",
    "\n",
    "<head>\n",
    "    <meta charset=\"utf-8\">\n",
    "    <title>菜鳥教程</title>\n",
    "</head>\n",
    "\n",
    "<body>\n",
    "\n",
    "    <p id=\"demo\"></p>\n",
    "    <script>\n",
    "        var length;\n",
    "        length = 6;\n",
    "        document.getElementById(\"demo\").innerHTML = length;\n",
    "    </script>\n",
    "\n",
    "</body>\n",
    "\n",
    "</html>"
   ]
  },
  {
   "cell_type": "raw",
   "id": "4a65c5b9",
   "metadata": {},
   "source": [
    "變量可以通過變量名訪問。在指令式語言中，變量通常是可變的。字面量是一個恒定的值。"
   ]
  },
  {
   "cell_type": "raw",
   "id": "8edd5a1b",
   "metadata": {},
   "source": [
    "注意: 變量是一個名稱。字面量是一個值。"
   ]
  },
  {
   "cell_type": "markdown",
   "id": "3a56f8a1",
   "metadata": {},
   "source": [
    "# JavaScript 操作符"
   ]
  },
  {
   "cell_type": "code",
   "execution_count": null,
   "id": "e8cd043b",
   "metadata": {},
   "outputs": [],
   "source": [
    "JavaScript使用 算術運算符 來計算值:"
   ]
  },
  {
   "cell_type": "code",
   "execution_count": null,
   "id": "a6c447ce",
   "metadata": {},
   "outputs": [],
   "source": [
    "<!DOCTYPE html>\n",
    "<html>\n",
    "\n",
    "<head>\n",
    "    <meta charset=\"utf-8\">\n",
    "    <title>菜鳥教程</title>\n",
    "</head>\n",
    "\n",
    "<body>\n",
    "\n",
    "    <p id=\"demo\"></p>\n",
    "    <script>\n",
    "        document.getElementById(\"demo\").innerHTML = (5 + 6)*10;\n",
    "    </script>\n",
    "\n",
    "</body>\n",
    "\n",
    "</html>"
   ]
  },
  {
   "cell_type": "raw",
   "id": "f6a00315",
   "metadata": {},
   "source": [
    "JavaScript使用 賦值運算符 給變量賦值："
   ]
  },
  {
   "cell_type": "code",
   "execution_count": null,
   "id": "191e4a07",
   "metadata": {},
   "outputs": [],
   "source": [
    "<!DOCTYPE html>\n",
    "<html>\n",
    "\n",
    "<head>\n",
    "    <meta charset=\"utf-8\">\n",
    "    <title>菜鳥教程</title>\n",
    "</head>\n",
    "\n",
    "<body>\n",
    "\n",
    "    <p id=\"demo\"></p>\n",
    "    <script>\n",
    "        var x, y, z;\n",
    "        x = 5;\n",
    "        y = 6;\n",
    "        z = (x + y) * 10;\n",
    "        document.getElementById(\"demo\").innerHTML = z;\n",
    "    </script>\n",
    "\n",
    "</body>\n",
    "\n",
    "</html>"
   ]
  },
  {
   "cell_type": "raw",
   "id": "2bf205b5",
   "metadata": {},
   "source": [
    "JavaScript語言有多種類型的運算符："
   ]
  },
  {
   "cell_type": "raw",
   "id": "d8a5d02b",
   "metadata": {},
   "source": [
    "類型\t                  實例\t                      描述\n",
    "\n",
    "賦值，算術和位運算符\t    =  +  -  *  /\t             在 JS 運算符中描述\n",
    "條件，比較及邏輯運算符\t   ==  != <  > \t                在 JS 比較運算符中描述"
   ]
  },
  {
   "cell_type": "markdown",
   "id": "5ba361c6",
   "metadata": {},
   "source": [
    "# JavaScript 語句"
   ]
  },
  {
   "cell_type": "raw",
   "id": "3f35983a",
   "metadata": {},
   "source": [
    "在 HTML 中，JavaScript 語句用於向瀏覽器發出命令。語句是用分號分隔："
   ]
  },
  {
   "cell_type": "code",
   "execution_count": null,
   "id": "de06673f",
   "metadata": {},
   "outputs": [],
   "source": [
    "x = 5 + 6;\n",
    "y = x * 10;"
   ]
  },
  {
   "cell_type": "markdown",
   "id": "92177ac1",
   "metadata": {},
   "source": [
    "# JavaScript 關鍵字"
   ]
  },
  {
   "cell_type": "code",
   "execution_count": null,
   "id": "d7120c2d",
   "metadata": {},
   "outputs": [],
   "source": [
    "JavaScript 關鍵字用於標識要執行的操作。和其他任何編程語言一樣，JavaScript 保留了一些關鍵字為自己所用。\n",
    "var 關鍵字告訴瀏覽器創建一個新的變量："
   ]
  },
  {
   "cell_type": "code",
   "execution_count": null,
   "id": "528dbc6a",
   "metadata": {},
   "outputs": [],
   "source": [
    "var x = 5 + 6;\n",
    "var y = x * 10;"
   ]
  },
  {
   "cell_type": "raw",
   "id": "391aa3d7",
   "metadata": {},
   "source": [
    "JavaScript 同樣保留了一些關鍵字，這些關鍵字在當前的語言版本中並沒有使用，但在以後 JavaScript 擴展中會用到。\n",
    "以下是 JavaScript 中最重要的保留關鍵字（按字母順序）："
   ]
  },
  {
   "cell_type": "raw",
   "id": "45a84058",
   "metadata": {},
   "source": [
    "abstract\telse\t      instanceof\tsuper\n",
    "boolean\t    enum\t      int\t        switch\n",
    "break\t    export\t      interface\t    synchronized\n",
    "byte\t    extends\t      let\t        this\n",
    "case\t    false\t      long\t        throw\n",
    "catch\t    final\t      native\t    throws\n",
    "char\t    finally\t      new\t        transient\n",
    "class\t    float\t      null\t        true\n",
    "const\t    for\t          package\t    try\n",
    "continue\tfunction      private\t    typeof\n",
    "debugger\tgoto\t      protected\t    var\n",
    "default\t    if\t          public        void\n",
    "delete\t    implements    return\t    volatile\n",
    "do\timport\tshort\t      while\n",
    "double\tin\tstatic\t      with"
   ]
  },
  {
   "cell_type": "markdown",
   "id": "dd9b6882",
   "metadata": {},
   "source": [
    "# JavaScript 註釋"
   ]
  },
  {
   "cell_type": "raw",
   "id": "5c2dc34f",
   "metadata": {},
   "source": [
    "不是所有的 JavaScript 語句都是\"命令\"。雙斜槓 // 後的內容將會被瀏覽器忽略："
   ]
  },
  {
   "cell_type": "code",
   "execution_count": null,
   "id": "59da702c",
   "metadata": {},
   "outputs": [],
   "source": [
    "// 我不會執行\n",
    "/* 我也不會執行*/"
   ]
  },
  {
   "cell_type": "markdown",
   "id": "d1e7eb7e",
   "metadata": {},
   "source": [
    "# JavaScript 數據類型"
   ]
  },
  {
   "cell_type": "raw",
   "id": "99eb668d",
   "metadata": {},
   "source": [
    "JavaScript 有多種數據類型：數字，字符串，數組，對象等等："
   ]
  },
  {
   "cell_type": "code",
   "execution_count": null,
   "id": "ae69d218",
   "metadata": {},
   "outputs": [],
   "source": [
    "var length = 16;                                    // Number 通過數字字面量賦值\n",
    "var points = x * 10;                                // Number 通過表達式字面量賦值\n",
    "var lastName = \"Johnson\";                           // String 通過字符串字面量賦值\n",
    "var cars = [\"Saab\", \"Volvo\", \"BMW\"];                // Array  通過數組字面量賦值\n",
    "var person = {firstName: \"John\", lastName: \"Doe\"};  // Object 通過對象字面量賦值"
   ]
  },
  {
   "cell_type": "markdown",
   "id": "09775533",
   "metadata": {},
   "source": [
    "# 數據類型的概念"
   ]
  },
  {
   "cell_type": "raw",
   "id": "eb4169bc",
   "metadata": {},
   "source": [
    "編程語言中，數據類型是一個非常重要的內容。為了可以操作變量，了解數據類型的概念非常重要。\n",
    "如果沒有使用數據類型，以下實例將無法執行："
   ]
  },
  {
   "cell_type": "raw",
   "id": "67155b69",
   "metadata": {},
   "source": [
    "16 + \"Volvo\""
   ]
  },
  {
   "cell_type": "raw",
   "id": "04c5bc78",
   "metadata": {},
   "source": [
    "16 加上 \"Volvo\" 是如何計算呢? 以上會產生一個錯誤還是輸出以下結果呢？"
   ]
  },
  {
   "cell_type": "raw",
   "id": "a7e1f5ad",
   "metadata": {},
   "source": [
    "\"16Volvo\""
   ]
  },
  {
   "cell_type": "raw",
   "id": "1fc2c6a0",
   "metadata": {},
   "source": [
    "你可以在瀏覽器嘗試執行以上代碼查看效果。在接下來的章節中你將學到更多關於數據類型的知識。"
   ]
  },
  {
   "cell_type": "markdown",
   "id": "c009af44",
   "metadata": {},
   "source": [
    "# JavaScript 函數"
   ]
  },
  {
   "cell_type": "raw",
   "id": "f315fc05",
   "metadata": {},
   "source": [
    "JavaScript 語句可以寫在函數內，函數可以重覆引用： 引用一個函數 = 調用函數(執行函數內的語句)。"
   ]
  },
  {
   "cell_type": "code",
   "execution_count": null,
   "id": "5032e5c9",
   "metadata": {},
   "outputs": [],
   "source": [
    "function myFunction(a, b) {\n",
    "    return a * b;                                // 返回 a 乘以 b 的结果\n",
    "}"
   ]
  },
  {
   "cell_type": "markdown",
   "id": "13f95833",
   "metadata": {},
   "source": [
    "# JavaScript 字母大小寫"
   ]
  },
  {
   "cell_type": "raw",
   "id": "b7cbefa5",
   "metadata": {},
   "source": [
    "JavaScript 對大小寫是敏感的。當編寫 JavaScript 語句時，請留意是否關閉大小寫切換鍵。\n",
    "函數 getElementById 與 getElementbyID 是不同的。\n",
    "同樣，變量 myVariable 與 MyVariable 也是不同的。"
   ]
  },
  {
   "cell_type": "markdown",
   "id": "f2718efa",
   "metadata": {},
   "source": [
    "# JavaScript 字符集"
   ]
  },
  {
   "cell_type": "raw",
   "id": "2d9e2e27",
   "metadata": {},
   "source": [
    "JavaScript 使用 Unicode 字符集。Unicode 覆蓋了所有的字符，包含標點等字符。\n",
    "如需進一步了解，請學習我們的 完整 Unicode 參考手冊。"
   ]
  },
  {
   "cell_type": "raw",
   "id": "37c06f3a",
   "metadata": {},
   "source": [
    "注意: JavaScript 中，常見的是駝峰法的命名規則，如 lastName (而不是lastname)。"
   ]
  }
 ],
 "metadata": {
  "kernelspec": {
   "display_name": "Python 3",
   "language": "python",
   "name": "python3"
  },
  "language_info": {
   "codemirror_mode": {
    "name": "ipython",
    "version": 3
   },
   "file_extension": ".py",
   "mimetype": "text/x-python",
   "name": "python",
   "nbconvert_exporter": "python",
   "pygments_lexer": "ipython3",
   "version": "3.8.10"
  }
 },
 "nbformat": 4,
 "nbformat_minor": 5
}
