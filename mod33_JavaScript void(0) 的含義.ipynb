{
 "cells": [
  {
   "cell_type": "markdown",
   "id": "73468030",
   "metadata": {},
   "source": [
    "# javascript: void(0) 含義"
   ]
  },
  {
   "cell_type": "raw",
   "id": "7ed9d15b",
   "metadata": {},
   "source": [
    "我們經常會使用到 javascript:void(0) 這樣的代碼，那麽在 JavaScript 中 javascript:void(0) 代表的是什麽意思呢？"
   ]
  },
  {
   "cell_type": "raw",
   "id": "5ed1319b",
   "metadata": {},
   "source": [
    "javascript:void(0) 中最關鍵的是 void 關鍵字， void 是 JavaScript 中非常重要的關鍵字，該操作符指定要計算一個表達式但是不返回值。\n",
    "語法格式如下："
   ]
  },
  {
   "cell_type": "code",
   "execution_count": null,
   "id": "2eef025c",
   "metadata": {},
   "outputs": [],
   "source": [
    "void func()\n",
    "javascript:void func()"
   ]
  },
  {
   "cell_type": "raw",
   "id": "568261eb",
   "metadata": {},
   "source": [
    "或者"
   ]
  },
  {
   "cell_type": "code",
   "execution_count": null,
   "id": "8b314def",
   "metadata": {},
   "outputs": [],
   "source": [
    "void(func())\n",
    "javascript:void(func())"
   ]
  },
  {
   "cell_type": "raw",
   "id": "e0769fb1",
   "metadata": {},
   "source": [
    "下面的代碼創建了一個超級鏈接，當用戶點擊以後不會發生任何事。"
   ]
  },
  {
   "cell_type": "code",
   "execution_count": null,
   "id": "4cc0496d",
   "metadata": {},
   "outputs": [],
   "source": [
    "<!DOCTYPE html>\n",
    "<html>\n",
    "\n",
    "<head>\n",
    "    <meta charset=\"utf-8\">\n",
    "    <title>菜鳥教程</title>\n",
    "</head>\n",
    "\n",
    "<body>\n",
    "\n",
    "    <a href=\"javascript:void(0)\">單擊此處什麽也不會發生</a>\n",
    "\n",
    "</body>\n",
    "\n",
    "</html>"
   ]
  },
  {
   "cell_type": "raw",
   "id": "01746050",
   "metadata": {},
   "source": [
    "當用戶鏈接時，void(0) 計算為 0，但 Javascript 上沒有任何效果。\n",
    "以下實例中，在用戶點擊鏈接後顯示警告信息："
   ]
  },
  {
   "cell_type": "code",
   "execution_count": null,
   "id": "095d52e6",
   "metadata": {},
   "outputs": [],
   "source": [
    "<!DOCTYPE html>\n",
    "<html>\n",
    "\n",
    "<head>\n",
    "    <meta charset=\"utf-8\">\n",
    "    <title>菜鳥教程</title>\n",
    "</head>\n",
    "\n",
    "<body>\n",
    "\n",
    "    <p>點擊以下鏈接查看結果：</p>\n",
    "    <a href=\"javascript:void(alert('Warning!!!'))\">點我!</a>\n",
    "\n",
    "</body>\n",
    "\n",
    "</html>"
   ]
  },
  {
   "cell_type": "raw",
   "id": "12974709",
   "metadata": {},
   "source": [
    "以下實例中參數 a 將返回 undefined :"
   ]
  },
  {
   "cell_type": "code",
   "execution_count": null,
   "id": "3e1e23b7",
   "metadata": {},
   "outputs": [],
   "source": [
    "<!DOCTYPE html>\n",
    "<html>\n",
    "\n",
    "<head>\n",
    "    <meta charset=\"utf-8\">\n",
    "    <title>菜鳥教程</title>\n",
    "    <script type=\"text/javascript\">\n",
    "        function getValue() {\n",
    "            var a, b, c;\n",
    "            a = void (b = 5, c = 7);\n",
    "            document.write('a = ' + a + ' b = ' + b + ' c = ' + c);\n",
    "        }\n",
    "    </script>\n",
    "</head>\n",
    "\n",
    "<body>\n",
    "\n",
    "    <p>點擊以下按鈕查看結果：</p>\n",
    "    <form>\n",
    "        <input type=\"button\" value=\"點我\" onclick=\"getValue();\" />\n",
    "    </form>\n",
    "\n",
    "</body>\n",
    "\n",
    "</html>"
   ]
  },
  {
   "cell_type": "markdown",
   "id": "8e276661",
   "metadata": {},
   "source": [
    "# href=\"#\"與href=\"javascript:void(0)\"的區別"
   ]
  },
  {
   "cell_type": "raw",
   "id": "b027699a",
   "metadata": {},
   "source": [
    "# 包含了一個位置信息，默認的錨是 #top 也就是網頁的上端。\n",
    "而 javascript:void(0)， 僅僅表示一個死鏈接。\n",
    "在頁面很長的時候會使用 # 來定位頁面的具體位置，格式為：# + id。\n",
    "如果你要定義一個死鏈接請使用 javascript:void(0) 。"
   ]
  },
  {
   "cell_type": "code",
   "execution_count": null,
   "id": "4068e0a3",
   "metadata": {},
   "outputs": [],
   "source": [
    "<!DOCTYPE html>\n",
    "<html>\n",
    "\n",
    "<head>\n",
    "    <meta charset=\"utf-8\">\n",
    "    <title>菜鳥教程</title>\n",
    "    <script type=\"text/javascript\">\n",
    "    </script>\n",
    "</head>\n",
    "\n",
    "<body>\n",
    "    <p>點擊以下鏈接查看不同效果：</p>\n",
    "    <a href=\"javascript:void(0);\">點我沒有反應的!</a>\n",
    "    <br>\n",
    "    <a href=\"#pos\">點我定位到指定位置!</a>\n",
    "    <br><br><br><br><br><br><br><br><br><br><br><br><br><br><br><br><br><br><br><br><br><br><br><br><br><br><br><br><br><br><br><br><br><br><br><br><br><br><br><br>\n",
    "    <p id=\"pos\">尾部定位點</p>\n",
    "</body>\n",
    "\n",
    "</html>"
   ]
  },
  {
   "cell_type": "markdown",
   "id": "4b110182",
   "metadata": {},
   "source": [
    "# 筆記"
   ]
  },
  {
   "cell_type": "raw",
   "id": "d69c8c53",
   "metadata": {},
   "source": [
    "void()僅僅是代表不返回任何值，但是括號內的表達式還是要運行，如:"
   ]
  },
  {
   "cell_type": "code",
   "execution_count": null,
   "id": "05b1f86b",
   "metadata": {},
   "outputs": [],
   "source": [
    "void(alert(\"Warnning!\"))"
   ]
  },
  {
   "cell_type": "raw",
   "id": "5bde16b8",
   "metadata": {},
   "source": [
    "阻止鏈接跳轉，URL不會有任何變化"
   ]
  },
  {
   "cell_type": "code",
   "execution_count": null,
   "id": "3c508456",
   "metadata": {},
   "outputs": [],
   "source": [
    "<a href=\"javascript:void(0)\" rel=\"nofollow ugc\">點擊此處</a>"
   ]
  },
  {
   "cell_type": "raw",
   "id": "e61d189b",
   "metadata": {},
   "source": [
    "雖然阻止了鏈接跳轉，但 URL 尾部會多個 #，改變了當前 URL。（# 主要用於配合 location.hash）"
   ]
  },
  {
   "cell_type": "code",
   "execution_count": null,
   "id": "33a22844",
   "metadata": {},
   "outputs": [],
   "source": [
    "<a href=\"#\" rel=\"nofollow ugc\">點擊此處</a>"
   ]
  },
  {
   "cell_type": "raw",
   "id": "8a990be9",
   "metadata": {},
   "source": [
    "同理，# 可以的話，? 也能達到阻止頁面跳轉的效果，但也相同的改變了URL。（? 主要用於配合 location.search）"
   ]
  },
  {
   "cell_type": "code",
   "execution_count": null,
   "id": "af0bc100",
   "metadata": {},
   "outputs": [],
   "source": [
    "<a href=\"?\" rel=\"nofollow ugc\">點擊此處</a>"
   ]
  },
  {
   "cell_type": "raw",
   "id": "0420e1d1",
   "metadata": {},
   "source": [
    "// Chrome 中即使 javascript:0; 也沒變化，firefox 中會變成一個字符串 0"
   ]
  },
  {
   "cell_type": "code",
   "execution_count": null,
   "id": "d8e646b0",
   "metadata": {},
   "outputs": [],
   "source": [
    "<a href=\"javascript:0\" rel=\"nofollow ugc\">點擊此處</a>"
   ]
  },
  {
   "cell_type": "code",
   "execution_count": null,
   "id": "d538136c",
   "metadata": {},
   "outputs": [],
   "source": []
  }
 ],
 "metadata": {
  "kernelspec": {
   "display_name": "Python 3",
   "language": "python",
   "name": "python3"
  },
  "language_info": {
   "codemirror_mode": {
    "name": "ipython",
    "version": 3
   },
   "file_extension": ".py",
   "mimetype": "text/x-python",
   "name": "python",
   "nbconvert_exporter": "python",
   "pygments_lexer": "ipython3",
   "version": "3.8.10"
  }
 },
 "nbformat": 4,
 "nbformat_minor": 5
}
