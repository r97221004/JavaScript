{
 "cells": [
  {
   "cell_type": "markdown",
   "id": "ee807b5f",
   "metadata": {},
   "source": [
    "# JavaScript 字符串"
   ]
  },
  {
   "cell_type": "raw",
   "id": "596faccb",
   "metadata": {},
   "source": [
    "JavaScript 字符串用於存儲和處理文本。"
   ]
  },
  {
   "cell_type": "raw",
   "id": "8a3b52e6",
   "metadata": {},
   "source": [
    "字符串可以存儲一系列字符，如 \"John Doe\"。字符串可以是插入到引號中的任何字符。你可以使用單引號或雙引號："
   ]
  },
  {
   "cell_type": "code",
   "execution_count": null,
   "id": "876d35de",
   "metadata": {},
   "outputs": [],
   "source": [
    "var carname = \"Volvo XC60\";\n",
    "var carname = 'Volvo XC60';"
   ]
  },
  {
   "cell_type": "raw",
   "id": "19e4c938",
   "metadata": {},
   "source": [
    "你可以使用索引位置來訪問字符串中的每個字符："
   ]
  },
  {
   "cell_type": "code",
   "execution_count": null,
   "id": "8927a0d8",
   "metadata": {},
   "outputs": [],
   "source": [
    "var character = carname[7];"
   ]
  },
  {
   "cell_type": "raw",
   "id": "d772b321",
   "metadata": {},
   "source": [
    "字符串的索引從 0 開始，這意味著第一個字符索引值為 [0], 第二個為 [1], 以此類推。你可以在字符串中使用引號，字符串中的引號不要與字符串的引號相同:"
   ]
  },
  {
   "cell_type": "code",
   "execution_count": null,
   "id": "a697c4c2",
   "metadata": {},
   "outputs": [],
   "source": [
    "var answer = \"It's alright\";\n",
    "var answer = \"He is called 'Johnny'\";\n",
    "var answer = 'He is called \"Johnny\"';"
   ]
  },
  {
   "cell_type": "raw",
   "id": "2b4f9dd1",
   "metadata": {},
   "source": [
    "你也可以在字符串添加轉義字符來使用引號："
   ]
  },
  {
   "cell_type": "code",
   "execution_count": null,
   "id": "2e2f2782",
   "metadata": {},
   "outputs": [],
   "source": [
    "var x = 'It\\'s alright';\n",
    "var y = \"He is called \\\"Johnny\\\"\";"
   ]
  },
  {
   "cell_type": "markdown",
   "id": "f6d872ff",
   "metadata": {},
   "source": [
    "# 字符串長度"
   ]
  },
  {
   "cell_type": "raw",
   "id": "ec5d265a",
   "metadata": {},
   "source": [
    "可以使用內置屬性 length 來計算字符串的長度："
   ]
  },
  {
   "cell_type": "code",
   "execution_count": null,
   "id": "b8a035b8",
   "metadata": {},
   "outputs": [],
   "source": [
    "<!DOCTYPE html>\n",
    "<html>\n",
    "\n",
    "<head>\n",
    "    <meta charset=\"utf-8\">\n",
    "    <title>菜鳥教程</title>\n",
    "</head>\n",
    "\n",
    "<body>\n",
    "\n",
    "    <script>\n",
    "        var txt = \"Hello World!\";\n",
    "        document.write(\"<p>\" + txt.length + \"</p>\");\n",
    "        var txt = \"ABCDEFGHIJKLMNOPQRSTUVWXYZ\";\n",
    "        document.write(\"<p>\" + txt.length + \"</p>\");\n",
    "    </script>\n",
    "\n",
    "</body>\n",
    "\n",
    "</html>"
   ]
  },
  {
   "cell_type": "markdown",
   "id": "575b2253",
   "metadata": {},
   "source": [
    "# 特殊字符"
   ]
  },
  {
   "cell_type": "code",
   "execution_count": null,
   "id": "bf9be151",
   "metadata": {},
   "outputs": [],
   "source": [
    "在 JavaScript 中，字符串寫在單引號或雙引號中。因為這樣以下實例 JavaScript 無法解析："
   ]
  },
  {
   "cell_type": "code",
   "execution_count": null,
   "id": "7b1f9e98",
   "metadata": {},
   "outputs": [],
   "source": [
    " \"We are the so-called \"Vikings\" from the north.\""
   ]
  },
  {
   "cell_type": "raw",
   "id": "e79b53fa",
   "metadata": {},
   "source": [
    "字符串 \"We are the so-called \" 被截斷。如何解決以上的問題呢？可以使用反斜杠 (\\) 來轉義 \"Vikings\" 字符串中的雙引號，如下:"
   ]
  },
  {
   "cell_type": "code",
   "execution_count": null,
   "id": "232f3ad8",
   "metadata": {},
   "outputs": [],
   "source": [
    " \"We are the so-called \\\"Vikings\\\" from the north.\"\n",
    " "
   ]
  },
  {
   "cell_type": "raw",
   "id": "aef2c4b9",
   "metadata": {},
   "source": [
    "反斜杠是一個轉義字符。 轉義字符將特殊字符轉換為字符串字符： 轉義字符 (\\) 可以用於轉義撇號，換行，引號，等其他特殊字符。\n",
    "下表中列舉了在字符串中可以使用轉義字符轉義的特殊字符："
   ]
  },
  {
   "cell_type": "raw",
   "id": "109b68e1",
   "metadata": {},
   "source": [
    "代碼\t      輸出\n",
    "\n",
    "\\'\t        單引號\n",
    "\\\"\t        雙引號\n",
    "\\\\\t        反斜杠\n",
    "\\n\t        換行\n",
    "\\r\t        回車\n",
    "\\t\t        tab(制表符)\n",
    "\\b\t        退格符\n",
    "\\f\t        換頁符"
   ]
  },
  {
   "cell_type": "markdown",
   "id": "48bd51d4",
   "metadata": {},
   "source": [
    "# 字符串可以是對象"
   ]
  },
  {
   "cell_type": "raw",
   "id": "9ab15757",
   "metadata": {},
   "source": [
    "通常 JavaScript 字符串是原始值，可以使用字符創建： var firstName = \"John\"\n",
    "但我們也可以使用 new 關鍵字將字符串定義為一個對象： var firstName = new String(\"John\")"
   ]
  },
  {
   "cell_type": "code",
   "execution_count": null,
   "id": "f860d82d",
   "metadata": {},
   "outputs": [],
   "source": [
    "<!DOCTYPE html>\n",
    "<html>\n",
    "\n",
    "<head>\n",
    "    <meta charset=\"utf-8\">\n",
    "    <title>菜鳥教程</title>\n",
    "</head>\n",
    "\n",
    "<body>\n",
    "\n",
    "    <p id=\"demo\"></p>\n",
    "    <script>\n",
    "        var x = \"John\";              // x 是一個字符串\n",
    "        var y = new String(\"John\");  // y 是一個對象\n",
    "        document.getElementById(\"demo\").innerHTML = typeof x + \" \" + typeof y;\n",
    "    </script>\n",
    "\n",
    "</body>\n",
    "\n",
    "</html>"
   ]
  },
  {
   "cell_type": "raw",
   "id": "eb60c54c",
   "metadata": {},
   "source": [
    "不要創建 String 對象。它會拖慢執行速度，並可能產生其他副作用："
   ]
  },
  {
   "cell_type": "code",
   "execution_count": null,
   "id": "9b6d40b3",
   "metadata": {},
   "outputs": [],
   "source": [
    "<!DOCTYPE html>\n",
    "<html>\n",
    "\n",
    "<head>\n",
    "    <meta charset=\"utf-8\">\n",
    "    <title>菜鳥教程</title>\n",
    "</head>\n",
    "\n",
    "<body>\n",
    "\n",
    "    <p id=\"demo\"></p>\n",
    "    <script>\n",
    "        var x = \"John\";              // x 是字符串\n",
    "        var y = new String(\"John\");  // y 是一個對象\n",
    "        document.getElementById(\"demo\").innerHTML = x === y;\n",
    "    </script>\n",
    "    <p>=== 為絕對相等，即數據類型與值都必須相等。</p>\n",
    "\n",
    "</body>\n",
    "\n",
    "</html>"
   ]
  },
  {
   "cell_type": "raw",
   "id": "e2353a89",
   "metadata": {},
   "source": [
    "=== 為絕對相等，即數據類型與值都必須相等。"
   ]
  },
  {
   "cell_type": "markdown",
   "id": "e00caaa1",
   "metadata": {},
   "source": [
    "# 字符串屬性和方法"
   ]
  },
  {
   "cell_type": "raw",
   "id": "13d55a3d",
   "metadata": {},
   "source": [
    "原始值字符串，如 \"John\", 沒有屬性和方法(因為他們不是對象)。原始值可以使用 JavaScript 的屬性和方法，因為 JavaScript 在執行方法和屬性時可以把原始值當作對象。字符串方法我們將在下一章節中介紹。"
   ]
  },
  {
   "cell_type": "markdown",
   "id": "faf28c93",
   "metadata": {},
   "source": [
    "# 字符串屬性"
   ]
  },
  {
   "cell_type": "markdown",
   "id": "3b550e5e",
   "metadata": {},
   "source": [
    "<img src='./images/1.png'>"
   ]
  },
  {
   "cell_type": "markdown",
   "id": "d4707922",
   "metadata": {},
   "source": [
    "# 字符串方法"
   ]
  },
  {
   "cell_type": "markdown",
   "id": "7a97aba9",
   "metadata": {},
   "source": [
    "更多方法實例可以參見：[JavaScript String 對象。](https://www.runoob.com/jsref/jsref-obj-string.html)"
   ]
  },
  {
   "cell_type": "markdown",
   "id": "47b04f5d",
   "metadata": {},
   "source": [
    "<img src='./images/2.png'>"
   ]
  },
  {
   "cell_type": "markdown",
   "id": "f9f45b1f",
   "metadata": {},
   "source": [
    "# Template Literals"
   ]
  },
  {
   "cell_type": "raw",
   "id": "5eb42a4d",
   "metadata": {},
   "source": [
    "Template Literals use back-ticks (``) rather than the quotes (\"\") to define a string:"
   ]
  },
  {
   "cell_type": "code",
   "execution_count": null,
   "id": "eba13f24",
   "metadata": {},
   "outputs": [],
   "source": [
    "let text = `Hello World!`;"
   ]
  },
  {
   "cell_type": "raw",
   "id": "13b83822",
   "metadata": {},
   "source": [
    "With template literals, you can use both single and double quotes inside a string:"
   ]
  },
  {
   "cell_type": "code",
   "execution_count": null,
   "id": "ccd94a54",
   "metadata": {},
   "outputs": [],
   "source": [
    "let text = `He's often called \"Johnny\"`;"
   ]
  },
  {
   "cell_type": "markdown",
   "id": "f1526cd6",
   "metadata": {},
   "source": [
    "### Multiline Strings"
   ]
  },
  {
   "cell_type": "raw",
   "id": "74a16640",
   "metadata": {},
   "source": [
    "Template literals allows multiline strings:"
   ]
  },
  {
   "cell_type": "code",
   "execution_count": null,
   "id": "cd39090d",
   "metadata": {},
   "outputs": [],
   "source": [
    "<!DOCTYPE html>\n",
    "<html>\n",
    "\n",
    "<body>\n",
    "\n",
    "    <h2>JavaScript Template Literals</h2>\n",
    "\n",
    "    <p>Template literals allows multiline strings:</p>\n",
    "\n",
    "    <p id=\"demo\"></p>\n",
    "\n",
    "    <p>Template literals are not supported in Internet Explorer.</p>\n",
    "\n",
    "    <script>\n",
    "        let text =\n",
    "            `The quick\n",
    "             brown fox\n",
    "             jumps over\n",
    "             the lazy dog`;\n",
    "                \n",
    "        console.log(text);\n",
    "        document.getElementById(\"demo\").innerHTML = text;\n",
    "    </script>\n",
    "\n",
    "</body>\n",
    "\n",
    "</html>"
   ]
  },
  {
   "cell_type": "markdown",
   "id": "c53d6b61",
   "metadata": {},
   "source": [
    "### Interpolation"
   ]
  },
  {
   "cell_type": "raw",
   "id": "4e313d03",
   "metadata": {},
   "source": [
    "Template literals provide an easy way to interpolate variables and expressions into strings. The method is called string interpolation. The syntax is:"
   ]
  },
  {
   "cell_type": "code",
   "execution_count": null,
   "id": "2c6fb149",
   "metadata": {},
   "outputs": [],
   "source": [
    "${...}"
   ]
  },
  {
   "cell_type": "raw",
   "id": "82667cae",
   "metadata": {},
   "source": [
    "Template literals allow variables in strings:"
   ]
  },
  {
   "cell_type": "code",
   "execution_count": null,
   "id": "51ebbf40",
   "metadata": {},
   "outputs": [],
   "source": [
    "<!DOCTYPE html>\n",
    "<html>\n",
    "\n",
    "<body>\n",
    "\n",
    "    <h2>JavaScript Template Literals</h2>\n",
    "\n",
    "    <p>Template literals allows variables in strings:</p>\n",
    "\n",
    "    <p id=\"demo\"></p>\n",
    "\n",
    "    <p>Template literals are not supported in Internet Explorer.</p>\n",
    "\n",
    "    <script>\n",
    "        let firstName = \"John\";\n",
    "        let lastName = \"Doe\";\n",
    "\n",
    "        let text = `Welcome ${firstName}, ${lastName}!`;\n",
    "\n",
    "        document.getElementById(\"demo\").innerHTML = text;\n",
    "    </script>\n",
    "\n",
    "</body>\n",
    "\n",
    "</html>"
   ]
  },
  {
   "cell_type": "raw",
   "id": "be0fa020",
   "metadata": {},
   "source": [
    "Template literals allow expressions in strings:"
   ]
  },
  {
   "cell_type": "code",
   "execution_count": null,
   "id": "d0f2f2d5",
   "metadata": {},
   "outputs": [],
   "source": [
    "<!DOCTYPE html>\n",
    "<html>\n",
    "\n",
    "<body>\n",
    "\n",
    "    <h2>JavaScript Template Literals</h2>\n",
    "\n",
    "    <p>Template literals allows variables in strings:</p>\n",
    "\n",
    "    <p id=\"demo\"></p>\n",
    "\n",
    "    <p>Template literals are not supported in Internet Explorer.</p>\n",
    "\n",
    "    <script>\n",
    "        let price = 10;\n",
    "        let VAT = 0.25;\n",
    "        let total = `Total: ${(price * (1 + VAT)).toFixed(2)}`;\n",
    "\n",
    "        document.getElementById(\"demo\").innerHTML = total;\n",
    "    </script>\n",
    "\n",
    "</body>\n",
    "\n",
    "</html>"
   ]
  },
  {
   "cell_type": "raw",
   "id": "cb398bac",
   "metadata": {},
   "source": [
    "Automatic replacing of expressions with real values is called string interpolation."
   ]
  },
  {
   "cell_type": "markdown",
   "id": "2d59599e",
   "metadata": {},
   "source": [
    "### HTML Templates"
   ]
  },
  {
   "cell_type": "code",
   "execution_count": null,
   "id": "2cb64468",
   "metadata": {},
   "outputs": [],
   "source": [
    "<!DOCTYPE html>\n",
    "<html>\n",
    "\n",
    "<body>\n",
    "\n",
    "    <h2>JavaScript Template Literals</h2>\n",
    "\n",
    "    <p>Template literals allows variables in strings:</p>\n",
    "\n",
    "    <p id=\"demo\"></p>\n",
    "\n",
    "    <p>Template literals are not supported in Internet Explorer.</p>\n",
    "\n",
    "    <script>\n",
    "        let header = \"Templates Literals\";\n",
    "        let tags = [\"template literals\", \"javascript\", \"es6\"];\n",
    "\n",
    "        let html = `<h2>${header}</h2><ul>`;\n",
    "\n",
    "        for (const x of tags) {\n",
    "            html += `<li>${x}</li>`;\n",
    "        }\n",
    "\n",
    "        html += `</ul>`;\n",
    "        document.getElementById(\"demo\").innerHTML = html;\n",
    "    </script>\n",
    "\n",
    "</body>"
   ]
  },
  {
   "cell_type": "code",
   "execution_count": null,
   "id": "fa77458c",
   "metadata": {},
   "outputs": [],
   "source": []
  },
  {
   "cell_type": "code",
   "execution_count": null,
   "id": "6da4ae9d",
   "metadata": {},
   "outputs": [],
   "source": []
  }
 ],
 "metadata": {
  "kernelspec": {
   "display_name": "Python 3",
   "language": "python",
   "name": "python3"
  },
  "language_info": {
   "codemirror_mode": {
    "name": "ipython",
    "version": 3
   },
   "file_extension": ".py",
   "mimetype": "text/x-python",
   "name": "python",
   "nbconvert_exporter": "python",
   "pygments_lexer": "ipython3",
   "version": "3.8.10"
  }
 },
 "nbformat": 4,
 "nbformat_minor": 5
}
