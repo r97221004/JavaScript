{
 "cells": [
  {
   "cell_type": "markdown",
   "id": "95f8c28c",
   "metadata": {},
   "source": [
    "# JavaScript 輸出"
   ]
  },
  {
   "cell_type": "raw",
   "id": "6c01e0ef",
   "metadata": {},
   "source": [
    "JavaScript 沒有任何打印或者輸出的函數。"
   ]
  },
  {
   "cell_type": "markdown",
   "id": "6510ced2",
   "metadata": {},
   "source": [
    "# JavaScript 顯示數據"
   ]
  },
  {
   "cell_type": "raw",
   "id": "4d9e1942",
   "metadata": {},
   "source": [
    "JavaScript 可以通過不同的方式來輸出數據：\n",
    "    - 使用 window.alert() 彈出警告框。\n",
    "    - 使用 document.write() 方法將內容寫到 HTML 文檔中。\n",
    "    - 使用 innerHTML 寫入到 HTML 元素。\n",
    "    - 使用 console.log() 寫入到瀏覽器的控制台。"
   ]
  },
  {
   "cell_type": "markdown",
   "id": "cbfae070",
   "metadata": {},
   "source": [
    "# <span style=\"color:red\">使用 window.alert()</span>"
   ]
  },
  {
   "cell_type": "raw",
   "id": "779ea331",
   "metadata": {},
   "source": [
    "你可以彈出警告框來顯示數據："
   ]
  },
  {
   "cell_type": "code",
   "execution_count": null,
   "id": "24db7efa",
   "metadata": {},
   "outputs": [],
   "source": [
    "<!DOCTYPE html>\n",
    "<html>\n",
    "\n",
    "<head>\n",
    "    <meta charset=\"utf-8\">\n",
    "    <title>菜鳥教程</title>\n",
    "</head>\n",
    "\n",
    "<body>\n",
    "\n",
    "    <h1>我的第一個頁面</h1>\n",
    "    <p>我的第一個段落。</p>\n",
    "    <script>\n",
    "        window.alert(5 + 6);\n",
    "    </script>\n",
    "\n",
    "</body>\n",
    "\n",
    "</html>"
   ]
  },
  {
   "cell_type": "markdown",
   "id": "1ba208b4",
   "metadata": {},
   "source": [
    "# <span style=\"color:red\">操作 HTML 元素</span>"
   ]
  },
  {
   "cell_type": "raw",
   "id": "1c016c4f",
   "metadata": {},
   "source": [
    "如需從 JavaScript 訪問某個 HTML 元素，您可以使用 document.getElementById(id) 方法。請使用 \"id\" 屬性來標識 HTML 元素，並 innerHTML 來獲取或插入元素內容："
   ]
  },
  {
   "cell_type": "code",
   "execution_count": null,
   "id": "2f6a4b8c",
   "metadata": {},
   "outputs": [],
   "source": [
    "<!DOCTYPE html>\n",
    "<html>\n",
    "\n",
    "<body>\n",
    "\n",
    "    <h1>我的第一個 Web 頁面</h1>\n",
    "\n",
    "    <p id=\"demo\">我的第一個段落</p>\n",
    "\n",
    "    <script>\n",
    "        document.getElementById(\"demo\").innerHTML = \"段落已修改。\";\n",
    "    </script>\n",
    "\n",
    "</body>\n",
    "\n",
    "</html>"
   ]
  },
  {
   "cell_type": "raw",
   "id": "7c221a9a",
   "metadata": {},
   "source": [
    "以上 JavaScript 語句（在 <script> 標簽中）可以在 web 瀏覽器中執行：\n",
    "document.getElementById(\"demo\") 是使用 id 屬性來查找 HTML 元素的 JavaScript 代碼 。\n",
    "innerHTML = \"段落已修改。\" 是用於修改元素的 HTML 內容(innerHTML)的 JavaScript 代碼。"
   ]
  },
  {
   "cell_type": "raw",
   "id": "ae92ccde",
   "metadata": {},
   "source": [
    "在大多數情況下，在本教程中，我們將使用上面描述的方法來輸出：\n",
    "上面的例子直接把 id=\"demo\" 的 <p> 元素寫到 HTML 文檔輸出中："
   ]
  },
  {
   "cell_type": "markdown",
   "id": "0be3fde6",
   "metadata": {},
   "source": [
    "# <span style=\"color:red\">寫到 HTML 文檔</span>"
   ]
  },
  {
   "cell_type": "raw",
   "id": "8524ee39",
   "metadata": {},
   "source": [
    "出於測試目的，您可以將 JavaScript 直接寫在 HTML 文檔中："
   ]
  },
  {
   "cell_type": "code",
   "execution_count": null,
   "id": "8d7f239b",
   "metadata": {},
   "outputs": [],
   "source": [
    "<!DOCTYPE html>\n",
    "<html>\n",
    "\n",
    "<head>\n",
    "    <meta charset=\"utf-8\">\n",
    "    <title>菜鳥教程</title>\n",
    "</head>\n",
    "\n",
    "<body>\n",
    "\n",
    "    <h1>我的第一個 Web 頁面</h1>\n",
    "    <p>我的第一個段落。</p>\n",
    "    <script>\n",
    "        document.write(Date());\n",
    "    </script>\n",
    "\n",
    "</body>\n",
    "\n",
    "</html>"
   ]
  },
  {
   "cell_type": "raw",
   "id": "70649f71",
   "metadata": {},
   "source": [
    "請使用 document.write() 僅僅向文檔輸出寫內容。如果在文檔已完成加載後執行 document.write，整個 HTML 頁面將被覆蓋。"
   ]
  },
  {
   "cell_type": "code",
   "execution_count": null,
   "id": "ca040fa1",
   "metadata": {},
   "outputs": [],
   "source": [
    "<!DOCTYPE html>\n",
    "<html>\n",
    "\n",
    "<head>\n",
    "    <meta charset=\"utf-8\">\n",
    "    <title>菜鳥教程</title>\n",
    "</head>\n",
    "\n",
    "<body>\n",
    "\n",
    "    <h1>我的第一個 Web 頁面</h1>\n",
    "    <p>我的第一個段落。</p>\n",
    "    <button onclick=\"myFunction()\">點我</button>\n",
    "    <script>\n",
    "        function myFunction() {\n",
    "            document.write(Date());\n",
    "        }\n",
    "    </script>\n",
    "\n",
    "</body>\n",
    "\n",
    "</html>"
   ]
  },
  {
   "cell_type": "markdown",
   "id": "683cbe38",
   "metadata": {},
   "source": [
    "# <span style=\"color:red\">寫到控制台</span>"
   ]
  },
  {
   "cell_type": "raw",
   "id": "985dca85",
   "metadata": {},
   "source": [
    "如果您的瀏覽器支持調試，你可以使用 console.log() 方法在瀏覽器中顯示 JavaScript 值。瀏覽器中使用 F12 來啟用調試模式， 在調試窗口中點擊 \"Console\" 菜單。"
   ]
  },
  {
   "cell_type": "code",
   "execution_count": null,
   "id": "8ec6a60b",
   "metadata": {},
   "outputs": [],
   "source": [
    "<!DOCTYPE html>\n",
    "<html>\n",
    "\n",
    "<head>\n",
    "    <meta charset=\"utf-8\">\n",
    "    <title>菜鳥教程</title>\n",
    "</head>\n",
    "\n",
    "<body>\n",
    "\n",
    "    <h1>我的第一個 Web 頁面</h1>\n",
    "    <p>\n",
    "        瀏覽器中(Chrome, IE, Firefox) 使用 F12 來啟用調試模式， 在調試窗口中點擊 \"Console\" 菜單。\n",
    "    </p>\n",
    "    <script>\n",
    "        a = 5;\n",
    "        b = 6;\n",
    "        c = a + b;\n",
    "        console.log(c);\n",
    "    </script>\n",
    "\n",
    "</body>\n",
    "\n",
    "</html>"
   ]
  },
  {
   "cell_type": "markdown",
   "id": "b0683c5e",
   "metadata": {},
   "source": [
    "# 筆記"
   ]
  },
  {
   "cell_type": "markdown",
   "id": "744be0a6",
   "metadata": {},
   "source": [
    "### console.log() 的用處"
   ]
  },
  {
   "cell_type": "raw",
   "id": "a2bb6aa4",
   "metadata": {},
   "source": [
    "主要是方便你調式 javascript 用的, 你可以看到你在頁面中輸出的內容。相比 alert 他的優點是：\n",
    "\n",
    "他能看到結構化的東西，如果是 alert，彈出一個對象就是 [object object], 但是 console 能看到對象的內容。console 不會打斷你頁面的操作，如果用 alert 彈出來內容，那麽頁面就死了，但是 console 輸出內容後你頁面還可以正常操作。\n",
    "\n",
    "練習在 console.log(\"Matt 測試\")"
   ]
  },
  {
   "cell_type": "markdown",
   "id": "2fb64f30",
   "metadata": {},
   "source": [
    "### innerHTML 的好處"
   ]
  },
  {
   "cell_type": "raw",
   "id": "43d14bfc",
   "metadata": {},
   "source": [
    "document.write 是直接寫入到頁面的內容流，如果在寫之前沒有調用 document.open, 瀏覽器會自動調用 open。每次寫完關閉之後重新調用該函數，會導致頁面被重寫。 innerHTML 則是 DOM 頁面元素的一個屬性，代表該元素的 html 內容。你可以精確到某一個具體的元素來進行更改。如果想修改document 的內容，則需要修改 document.documentElement.innerElement。\n",
    "\n",
    "innerHTML 很多情況下都優於 document.write，其原因在於其允許更精確的控制要刷新頁面的那一個部分。"
   ]
  },
  {
   "cell_type": "markdown",
   "id": "92ab0831",
   "metadata": {},
   "source": [
    "### DOM 解釋"
   ]
  },
  {
   "cell_type": "raw",
   "id": "65d3be30",
   "metadata": {},
   "source": [
    "您會經常看到 document.getElementById(\"id\")。這個方法是 HTML DOM 中定義的。DOM (Document Object Model)（文檔對象模型）是用於訪問 HTML 元素的正式 W3C 標準。"
   ]
  }
 ],
 "metadata": {
  "kernelspec": {
   "display_name": "Python 3",
   "language": "python",
   "name": "python3"
  },
  "language_info": {
   "codemirror_mode": {
    "name": "ipython",
    "version": 3
   },
   "file_extension": ".py",
   "mimetype": "text/x-python",
   "name": "python",
   "nbconvert_exporter": "python",
   "pygments_lexer": "ipython3",
   "version": "3.8.10"
  }
 },
 "nbformat": 4,
 "nbformat_minor": 5
}
