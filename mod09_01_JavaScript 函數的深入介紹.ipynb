{
 "cells": [
  {
   "cell_type": "markdown",
   "id": "db7bcad1",
   "metadata": {},
   "source": [
    "# JavaScript 函數定義"
   ]
  },
  {
   "cell_type": "code",
   "execution_count": null,
   "id": "e332ff83",
   "metadata": {},
   "outputs": [],
   "source": [
    "JavaScript 使用關鍵字 function 定義函數。 函數可以通過聲明定義，也可以是一個表達式。"
   ]
  },
  {
   "cell_type": "markdown",
   "id": "f7b044b1",
   "metadata": {},
   "source": [
    "### 方法一: 函數聲明"
   ]
  },
  {
   "cell_type": "raw",
   "id": "9165e8c5",
   "metadata": {},
   "source": [
    "在之前的教程中，你已經了解了函數聲明的語法 :"
   ]
  },
  {
   "cell_type": "code",
   "execution_count": null,
   "id": "46dd02b2",
   "metadata": {},
   "outputs": [],
   "source": [
    "function functionName(parameters) {\n",
    "  執行的代碼\n",
    "}"
   ]
  },
  {
   "cell_type": "raw",
   "id": "4c3b37b1",
   "metadata": {},
   "source": [
    "函數聲明後不會立即執行，會在我們需要的時候調用到。"
   ]
  },
  {
   "cell_type": "raw",
   "id": "3b498698",
   "metadata": {},
   "source": [
    "範例:"
   ]
  },
  {
   "cell_type": "code",
   "execution_count": null,
   "id": "b9bcda0f",
   "metadata": {},
   "outputs": [],
   "source": [
    "function myFunction(a, b) {\n",
    "    return a * b;\n",
    "}"
   ]
  },
  {
   "cell_type": "raw",
   "id": "f7c65ef0",
   "metadata": {},
   "source": [
    "分號是用來分隔可執行 JavaScript 語句。由於函數聲明不是一個可執行語句，所以不以分號結束。"
   ]
  },
  {
   "cell_type": "markdown",
   "id": "bc6fc3c4",
   "metadata": {},
   "source": [
    "### 方法二: 函數表達式"
   ]
  },
  {
   "cell_type": "raw",
   "id": "07ff304f",
   "metadata": {},
   "source": [
    "JavaScript 函數可以通過一個表達式定義。函數表達式可以存儲在變量中："
   ]
  },
  {
   "cell_type": "code",
   "execution_count": null,
   "id": "080bcb89",
   "metadata": {},
   "outputs": [],
   "source": [
    "var x = function (a, b) {return a * b};"
   ]
  },
  {
   "cell_type": "raw",
   "id": "9698f27c",
   "metadata": {},
   "source": [
    "在函數表達式存儲在變量後，變量也可作為一個函數使用："
   ]
  },
  {
   "cell_type": "code",
   "execution_count": null,
   "id": "e44efd59",
   "metadata": {},
   "outputs": [],
   "source": [
    "var x = function (a, b) {return a * b};\n",
    "var z = x(4, 3);"
   ]
  },
  {
   "cell_type": "raw",
   "id": "8cb615a2",
   "metadata": {},
   "source": [
    "以上函數實際上是一個 匿名函數 (函數沒有名稱)。函數存儲在變量中，不需要函數名稱，通常通過變量名來調用。\n",
    "上述函數以分號結尾，因為它是一個執行語句。"
   ]
  },
  {
   "cell_type": "markdown",
   "id": "e74fbfdd",
   "metadata": {},
   "source": [
    "### 方法三: Function() 構造函數"
   ]
  },
  {
   "cell_type": "raw",
   "id": "4daecbe7",
   "metadata": {},
   "source": [
    "在以上實例中，我們了解到函數通過關鍵字 function 定義。函數同樣可以通過內置的 JavaScript 函數構造器（Function()）定義。"
   ]
  },
  {
   "cell_type": "code",
   "execution_count": null,
   "id": "32c09a31",
   "metadata": {},
   "outputs": [],
   "source": [
    "var myFunction = new Function(\"a\", \"b\", \"return a * b\");\n",
    "var x = myFunction(4, 3);"
   ]
  },
  {
   "cell_type": "raw",
   "id": "48b8d8b2",
   "metadata": {},
   "source": [
    "實際上，你不必使用構造函數。上面實例可以寫成："
   ]
  },
  {
   "cell_type": "code",
   "execution_count": null,
   "id": "3c1dc378",
   "metadata": {},
   "outputs": [],
   "source": [
    "var myFunction = function (a, b) {return a * b};\n",
    "var x = myFunction(4, 3);"
   ]
  },
  {
   "cell_type": "raw",
   "id": "ad08d4c4",
   "metadata": {},
   "source": [
    "在 JavaScript 中，很多時候，你需要避免使用 new 關鍵字。"
   ]
  },
  {
   "cell_type": "markdown",
   "id": "e64aac19",
   "metadata": {},
   "source": [
    "# 函數提升（Hoisting）"
   ]
  },
  {
   "cell_type": "raw",
   "id": "308887ac",
   "metadata": {},
   "source": [
    "在之前的教程中我們已經了解了 \"hoisting(提升)\"。提升（Hoisting）是 JavaScript 默認將當前作用域提升到前面去的行為。提升（Hoisting）應用在變量的聲明與函數的聲明。因此函數可以在聲明之前調用："
   ]
  },
  {
   "cell_type": "code",
   "execution_count": null,
   "id": "906f1cbe",
   "metadata": {},
   "outputs": [],
   "source": [
    "myFunction(5);\n",
    "\n",
    "function myFunction(y) {\n",
    "    return y * y;\n",
    "}"
   ]
  },
  {
   "cell_type": "raw",
   "id": "4f0f53a1",
   "metadata": {},
   "source": [
    "使用表達式定義函數時無法提升。"
   ]
  },
  {
   "cell_type": "markdown",
   "id": "911d9a27",
   "metadata": {},
   "source": [
    "# 自調用函數"
   ]
  },
  {
   "cell_type": "raw",
   "id": "fabf35c2",
   "metadata": {},
   "source": [
    "函數表達式可以 \"自調用\"。自調用表達式會自動調用。如果表達式後面緊跟 () ，則會自動調用。不能自調用聲明的函數。\n",
    "通過添加括號，來說明它是一個函數表達式："
   ]
  },
  {
   "cell_type": "code",
   "execution_count": null,
   "id": "741bc089",
   "metadata": {},
   "outputs": [],
   "source": [
    "(function () {\n",
    "    var x = \"Hello!!\";      // 我將調用自己\n",
    "})();"
   ]
  },
  {
   "cell_type": "raw",
   "id": "c4ea301c",
   "metadata": {},
   "source": [
    "以上函數實際上是一個 匿名自我調用的函數 (沒有函數名)。"
   ]
  },
  {
   "cell_type": "markdown",
   "id": "2e5c543a",
   "metadata": {},
   "source": [
    "# 函數可作為一個值使用"
   ]
  },
  {
   "cell_type": "raw",
   "id": "b93f74dc",
   "metadata": {},
   "source": [
    "JavaScript 函數作為一個值使用："
   ]
  },
  {
   "cell_type": "code",
   "execution_count": null,
   "id": "b25363bd",
   "metadata": {},
   "outputs": [],
   "source": [
    "function myFunction(a, b) {\n",
    "    return a * b;\n",
    "}\n",
    "\n",
    "var x = myFunction(4, 3);"
   ]
  },
  {
   "cell_type": "raw",
   "id": "f7452417",
   "metadata": {},
   "source": [
    "JavaScript 函數可作為表達式使用："
   ]
  },
  {
   "cell_type": "code",
   "execution_count": null,
   "id": "4f7fbc36",
   "metadata": {},
   "outputs": [],
   "source": [
    "function myFunction(a, b) {\n",
    "    return a * b;\n",
    "}\n",
    "\n",
    "var x = myFunction(4, 3) * 2;"
   ]
  },
  {
   "cell_type": "markdown",
   "id": "b814e9a5",
   "metadata": {},
   "source": [
    "# 函數是對象"
   ]
  },
  {
   "cell_type": "raw",
   "id": "71cde94d",
   "metadata": {},
   "source": [
    "在 JavaScript 中使用 typeof 操作符判斷函數類型將返回 \"function\" 。但是JavaScript 函數描述為一個對象更加準確。\n",
    "JavaScript 函數有 屬性 和 方法。arguments.length 屬性返回函數調用過程接收到的參數個數："
   ]
  },
  {
   "cell_type": "code",
   "execution_count": null,
   "id": "932baae0",
   "metadata": {},
   "outputs": [],
   "source": [
    "function myFunction(a, b) {\n",
    "    return arguments.length;\n",
    "}"
   ]
  },
  {
   "cell_type": "raw",
   "id": "eb97e050",
   "metadata": {},
   "source": [
    "toString() 方法將函數作為一個字符串返回:"
   ]
  },
  {
   "cell_type": "code",
   "execution_count": null,
   "id": "040bfc9d",
   "metadata": {},
   "outputs": [],
   "source": [
    "<!DOCTYPE html>\n",
    "<html>\n",
    "\n",
    "<head>\n",
    "    <meta charset=\"utf-8\">\n",
    "    <title>菜鳥教程</title>\n",
    "</head>\n",
    "\n",
    "<body>\n",
    "\n",
    "    <p> toString() 將函數作為一個字符串返回：</p>\n",
    "    <p id=\"demo\"></p>\n",
    "    <script>\n",
    "        function myFunction(a, b) {\n",
    "            return a * b;\n",
    "        }\n",
    "        document.getElementById(\"demo\").innerHTML = myFunction.toString();\n",
    "    </script>\n",
    "\n",
    "</body>\n",
    "\n",
    "</html>"
   ]
  },
  {
   "cell_type": "markdown",
   "id": "0ec73d5c",
   "metadata": {},
   "source": [
    "# 箭頭函數"
   ]
  },
  {
   "cell_type": "raw",
   "id": "f26f9ba8",
   "metadata": {},
   "source": [
    "ES6 新增了箭頭函數。箭頭函數表達式的語法比普通函數表達式更簡潔。"
   ]
  },
  {
   "cell_type": "raw",
   "id": "1d0ab242",
   "metadata": {},
   "source": [
    "(參數1, 參數2, …, 參數N) => { 函數聲明 }\n",
    "\n",
    "(參數1, 參數2, …, 參數N) => 表達式(單一)\n",
    "// 相當於：(參數1, 參數2, …, 參數N) =>{ return 表達式; }"
   ]
  },
  {
   "cell_type": "raw",
   "id": "c3fc5346",
   "metadata": {},
   "source": [
    "當只有一個參數時，圓括號是可選的：\n",
    "\n",
    "(單一參數) => {函數聲明}\n",
    "  單一參數 => {函數聲明}"
   ]
  },
  {
   "cell_type": "raw",
   "id": "446b02b8",
   "metadata": {},
   "source": [
    "沒有參數的函數應該寫成一對圓括號:\n",
    "\n",
    "() => {函數聲明}"
   ]
  },
  {
   "cell_type": "code",
   "execution_count": null,
   "id": "6a9175c0",
   "metadata": {},
   "outputs": [],
   "source": [
    "// ES5\n",
    "var x = function(x, y) {\n",
    "     return x * y;\n",
    "}\n",
    " \n",
    "// ES6\n",
    "const x = (x, y) => x * y;"
   ]
  },
  {
   "cell_type": "raw",
   "id": "f87c4415",
   "metadata": {},
   "source": [
    "有的箭頭函數都沒有自己的 this。 不適合定義一個對象的方法。當我們使用箭頭函數的時候，箭頭函數會默認幫我們綁定外層 this 的值，所以在箭頭函數中 this 的值和外層的 this 是一樣的。箭頭函數是不能提升的，所以需要在使用之前定義。使用 const 比使用 var 更安全，因為函數表達式始終是一個常量。如果函數部分只是一個語句，則可以省略 return 關鍵字和大括號 {}，這樣做是一個比較好的習慣:"
   ]
  },
  {
   "cell_type": "code",
   "execution_count": null,
   "id": "5061f815",
   "metadata": {},
   "outputs": [],
   "source": [
    "const x = (x, y) => { return x * y };"
   ]
  },
  {
   "cell_type": "markdown",
   "id": "67f0a394",
   "metadata": {},
   "source": [
    "# JavaScript 函數參數"
   ]
  },
  {
   "cell_type": "raw",
   "id": "cbec69cf",
   "metadata": {},
   "source": [
    "JavaScript 函數對參數的值沒有進行任何的檢查。"
   ]
  },
  {
   "cell_type": "markdown",
   "id": "b545f677",
   "metadata": {},
   "source": [
    "# 函數顯式參數(Parameters)與隱式參數(Arguments)"
   ]
  },
  {
   "cell_type": "raw",
   "id": "18296961",
   "metadata": {},
   "source": [
    "在先前的教程中，我們已經學習了函數的顯式參數:"
   ]
  },
  {
   "cell_type": "raw",
   "id": "be228c7f",
   "metadata": {},
   "source": [
    "functionName(parameter1, parameter2, parameter3) {\n",
    "    // 要執行的代碼……\n",
    "}"
   ]
  },
  {
   "cell_type": "raw",
   "id": "1a1ea1ab",
   "metadata": {},
   "source": [
    "函數顯式參數在函數定義時列出。函數隱式參數在函數調用時傳遞給函數真正的值。"
   ]
  },
  {
   "cell_type": "markdown",
   "id": "3e607e2e",
   "metadata": {},
   "source": [
    "# 參數規則"
   ]
  },
  {
   "cell_type": "raw",
   "id": "672be750",
   "metadata": {},
   "source": [
    "JavaScript 函數定義顯式參數時沒有指定數據類型。JavaScript 函數對隱式參數沒有進行類型檢測。JavaScript 函數對隱式參數的個數沒有進行檢測。"
   ]
  },
  {
   "cell_type": "markdown",
   "id": "92698a51",
   "metadata": {},
   "source": [
    "# 默認參數"
   ]
  },
  {
   "cell_type": "raw",
   "id": "188b6849",
   "metadata": {},
   "source": [
    "ES5 中如果函數在調用時未提供隱式參數，參數會默認設置為： undefined\n",
    "有時這是可以接受的，但是建議最好為參數設置一個默認值："
   ]
  },
  {
   "cell_type": "raw",
   "id": "23ca2161",
   "metadata": {},
   "source": [
    "實例(ES5)"
   ]
  },
  {
   "cell_type": "code",
   "execution_count": null,
   "id": "22fa3c04",
   "metadata": {},
   "outputs": [],
   "source": [
    "function myFunction(x, y) {\n",
    "    if (y === undefined) {\n",
    "          y = 0;\n",
    "    } \n",
    "}"
   ]
  },
  {
   "cell_type": "raw",
   "id": "017cba83",
   "metadata": {},
   "source": [
    "或者，更簡單的方式："
   ]
  },
  {
   "cell_type": "raw",
   "id": "7070db96",
   "metadata": {},
   "source": [
    "實例(ES5)"
   ]
  },
  {
   "cell_type": "code",
   "execution_count": null,
   "id": "5d18844d",
   "metadata": {},
   "outputs": [],
   "source": [
    "function myFunction(x, y) {\n",
    "    y = y || 0;\n",
    "}"
   ]
  },
  {
   "cell_type": "raw",
   "id": "40cae56e",
   "metadata": {},
   "source": [
    "如果 y 已經定義，y || 0 返回 y，因為 y 是 true，否則返回 0，因為 undefined 為 false。"
   ]
  },
  {
   "cell_type": "raw",
   "id": "d6ca9057",
   "metadata": {},
   "source": [
    "如果函數調用時設置了過多的參數，參數將無法被引用，因為無法找到對應的參數名。 只能使用 arguments 對象來調用。"
   ]
  },
  {
   "cell_type": "markdown",
   "id": "5b50ea46",
   "metadata": {},
   "source": [
    "### ES6 函數可以自帶參數"
   ]
  },
  {
   "cell_type": "raw",
   "id": "cb159f37",
   "metadata": {},
   "source": [
    "ES6 支持函數帶有默認參數，就判斷 undefined 和 || 的操作："
   ]
  },
  {
   "cell_type": "code",
   "execution_count": null,
   "id": "1f1a0086",
   "metadata": {},
   "outputs": [],
   "source": [
    "function myFunction(x, y = 10) {\n",
    "    // y is 10 if not passed or undefined\n",
    "    return x + y;\n",
    "}\n",
    " \n",
    "myFunction(0, 2) // 輸出 2\n",
    "myFunction(5); // 輸出 15, y 參數的默認值"
   ]
  },
  {
   "cell_type": "markdown",
   "id": "8fcffe28",
   "metadata": {},
   "source": [
    "### arguments 對象"
   ]
  },
  {
   "cell_type": "raw",
   "id": "17a57bc6",
   "metadata": {},
   "source": [
    "JavaScript 函數有個內置的對象 arguments 對象。argument 對象包含了函數調用的參數數組。\n",
    "通過這種方式你可以很方便的找到最大的一個參數的值："
   ]
  },
  {
   "cell_type": "code",
   "execution_count": null,
   "id": "9dd80bb1",
   "metadata": {},
   "outputs": [],
   "source": [
    "x = findMax(1, 123, 500, 115, 44, 88);\n",
    " \n",
    "function findMax() {\n",
    "    var i, max = arguments[0];\n",
    "    \n",
    "    if(arguments.length < 2) return max;\n",
    " \n",
    "    for (i = 0; i < arguments.length; i++) {\n",
    "        if (arguments[i] > max) {\n",
    "            max = arguments[i];\n",
    "        }\n",
    "    }\n",
    "    return max;\n",
    "}"
   ]
  },
  {
   "cell_type": "raw",
   "id": "fb0a374e",
   "metadata": {},
   "source": [
    "或者創建一個函數用來統計所有數值的和："
   ]
  },
  {
   "cell_type": "code",
   "execution_count": null,
   "id": "6f1bec57",
   "metadata": {},
   "outputs": [],
   "source": [
    "x = sumAll(1, 123, 500, 115, 44, 88);\n",
    " \n",
    "function sumAll() {\n",
    "    var i, sum = 0;\n",
    "    for (i = 0; i < arguments.length; i++) {\n",
    "        sum += arguments[i];\n",
    "    }\n",
    "    return sum;\n",
    "}"
   ]
  },
  {
   "cell_type": "markdown",
   "id": "c6140a5f",
   "metadata": {},
   "source": [
    "### 通過值傳遞參數"
   ]
  },
  {
   "cell_type": "raw",
   "id": "c5dee7a4",
   "metadata": {},
   "source": [
    "在函數中調用的參數是函數的隱式參數。JavaScript 隱式參數通過值來傳遞：函數僅僅只是獲取值。\n",
    "如果函數修改參數的值，不會修改顯式參數的初始值（在函數外定義）。隱式參數的改變在函數外是不可見的。"
   ]
  },
  {
   "cell_type": "markdown",
   "id": "d34a9a6b",
   "metadata": {},
   "source": [
    "### 通過對象傳遞參數"
   ]
  },
  {
   "cell_type": "raw",
   "id": "97996b46",
   "metadata": {},
   "source": [
    "在 JavaScript  中，可以引用對象的值。因此我們在函數內部修改對象的屬性就會修改其初始的值。\n",
    "修改對象屬性可作用於函數外部（全局變量）。修改對象屬性在函數外是可見的。"
   ]
  },
  {
   "cell_type": "markdown",
   "id": "c9737e55",
   "metadata": {},
   "source": [
    "# JavaScript 函數調用"
   ]
  },
  {
   "cell_type": "raw",
   "id": "000ce8f8",
   "metadata": {},
   "source": [
    "JavaScript 函數有 4 種調用方式。每種方式的不同在於 this 的初始化。"
   ]
  },
  {
   "cell_type": "markdown",
   "id": "e7ac83f4",
   "metadata": {},
   "source": [
    "# this 關鍵字"
   ]
  },
  {
   "cell_type": "raw",
   "id": "631be7b7",
   "metadata": {},
   "source": [
    "一般而言，在 Javascript 中，this 指向函數執行時的當前對象。\n",
    "注意 this 是保留關鍵字，你不能修改 this 的值。"
   ]
  },
  {
   "cell_type": "markdown",
   "id": "3e0107a5",
   "metadata": {},
   "source": [
    "# 調用 JavaScript 函數"
   ]
  },
  {
   "cell_type": "raw",
   "id": "8bbe66a9",
   "metadata": {},
   "source": [
    "在之前的章節中我們已經學會了如何創建函數。函數中的代碼在函數被調用後執行。"
   ]
  },
  {
   "cell_type": "markdown",
   "id": "4395f6bb",
   "metadata": {},
   "source": [
    "# 作為一個函數調用"
   ]
  },
  {
   "cell_type": "code",
   "execution_count": null,
   "id": "2d8c6efc",
   "metadata": {},
   "outputs": [],
   "source": [
    "function myFunction(a, b) {\n",
    "    return a * b;\n",
    "}\n",
    "myFunction(10, 2);           // myFunction(10, 2) 返回 20"
   ]
  },
  {
   "cell_type": "raw",
   "id": "5533c446",
   "metadata": {},
   "source": [
    "以上函數不屬於任何對象。但是在 JavaScript 中它始終是默認的全局對象。在 HTML 中默認的全局對象是 HTML 頁面本身，所以函數是屬於 HTML 頁面。在瀏覽器中的頁面對象是瀏覽器窗口(window 對象)。以上函數會自動變為 window 對象的函數。\n",
    "myFunction() 和 window.myFunction() 是一樣的："
   ]
  },
  {
   "cell_type": "code",
   "execution_count": null,
   "id": "8f0a9694",
   "metadata": {},
   "outputs": [],
   "source": [
    "function myFunction(a, b) {\n",
    "    return a * b;\n",
    "}\n",
    "window.myFunction(10, 2);    // window.myFunction(10, 2) 返回 20"
   ]
  },
  {
   "cell_type": "raw",
   "id": "37371c77",
   "metadata": {},
   "source": [
    "這是調用 JavaScript 函數常用的方法， 但不是良好的編程習慣\n",
    "全局變量，方法或函數容易造成命名沖突的 bug。"
   ]
  },
  {
   "cell_type": "markdown",
   "id": "532beef5",
   "metadata": {},
   "source": [
    "# 全局對象"
   ]
  },
  {
   "cell_type": "raw",
   "id": "3cc76423",
   "metadata": {},
   "source": [
    "當函數沒有被自身的對象調用時 this 的值就會變成全局對象。在 web 瀏覽器中全局對象是瀏覽器窗口（window 對象）。\n",
    "該實例返回 this 的值是 window 對象:"
   ]
  },
  {
   "cell_type": "code",
   "execution_count": null,
   "id": "8bf95abd",
   "metadata": {},
   "outputs": [],
   "source": [
    "<!DOCTYPE html>\n",
    "<html>\n",
    "\n",
    "<head>\n",
    "    <meta charset=\"utf-8\">\n",
    "    <title>菜鳥教程</title>\n",
    "</head>\n",
    "\n",
    "<body>\n",
    "\n",
    "    <p>在 HTML 中 <b>this</b> 的值, 在全局函數是一個 window 對象。</p>\n",
    "    <p id=\"demo\"></p>\n",
    "    <script>\n",
    "        function myFunction() {\n",
    "            return this;\n",
    "        }\n",
    "        document.getElementById(\"demo\").innerHTML = myFunction(); \n",
    "    </script>\n",
    "\n",
    "</body>\n",
    "\n",
    "</html>"
   ]
  },
  {
   "cell_type": "raw",
   "id": "1fb1d838",
   "metadata": {},
   "source": [
    "函數作為全局對象調用，會使 this 的值成為全局對象。使用 window 對象作為一個變量容易造成程序崩潰。"
   ]
  },
  {
   "cell_type": "markdown",
   "id": "43067988",
   "metadata": {},
   "source": [
    "# 函數作為方法調用"
   ]
  },
  {
   "cell_type": "raw",
   "id": "84b1bada",
   "metadata": {},
   "source": [
    "在 JavaScript 中你可以將函數定義為對象的方法。\n",
    "以下實例創建了一個對象 (myObject), 對象有兩個屬性 (firstName 和 lastName), 及一個方法 (fullName):"
   ]
  },
  {
   "cell_type": "code",
   "execution_count": null,
   "id": "183d1418",
   "metadata": {},
   "outputs": [],
   "source": [
    "var myObject = {\n",
    "    firstName: \"John\",\n",
    "    lastName: \"Doe\",\n",
    "    fullName: function () {\n",
    "        return this.firstName + \" \" + this.lastName;\n",
    "    }\n",
    "}\n",
    "myObject.fullName();         // 返回 \"John Doe\""
   ]
  },
  {
   "cell_type": "raw",
   "id": "d0eb94bb",
   "metadata": {},
   "source": [
    "fullName 方法是一個函數。函數屬於對象。 myObject 是函數的所有者。this 對象，擁有 JavaScript 代碼。實例中 this 的值為 myObject 對象。測試以下！修改 fullName 方法並返回 this 值:"
   ]
  },
  {
   "cell_type": "code",
   "execution_count": null,
   "id": "4b7f68bc",
   "metadata": {},
   "outputs": [],
   "source": [
    "var myObject = {\n",
    "    firstName:\"John\",\n",
    "    lastName: \"Doe\",\n",
    "    fullName: function () {\n",
    "        return this;\n",
    "    }\n",
    "}\n",
    "myObject.fullName();          // 返回 [object Object] (所有者對象)"
   ]
  },
  {
   "cell_type": "raw",
   "id": "139977b0",
   "metadata": {},
   "source": [
    "函數作為對象方法調用，會使得 this 的值成為對象本身。"
   ]
  },
  {
   "cell_type": "markdown",
   "id": "542c71e0",
   "metadata": {},
   "source": [
    "# 使用構造函數調用函數"
   ]
  },
  {
   "cell_type": "raw",
   "id": "54ac4855",
   "metadata": {},
   "source": [
    "如果函數調用前使用了 new 關鍵字, 則是調用了構造函數。\n",
    "這看起來就像創建了新的函數，但實際上 JavaScript 函數是重新創建的對象："
   ]
  },
  {
   "cell_type": "code",
   "execution_count": null,
   "id": "4769d206",
   "metadata": {},
   "outputs": [],
   "source": [
    "// 構造函數:\n",
    "function myFunction(arg1, arg2) {\n",
    "    this.firstName = arg1;\n",
    "    this.lastName  = arg2;\n",
    "}\n",
    " \n",
    "// This    creates a new object\n",
    "var x = new myFunction(\"John\",\"Doe\");\n",
    "x.firstName;                             // 返回 \"John\""
   ]
  },
  {
   "cell_type": "raw",
   "id": "8eafa9d8",
   "metadata": {},
   "source": [
    "構造函數的調用會創建一個新的對象。新對象會繼承構造函數的屬性和方法。\n",
    "注意構造函數中 this 關鍵字沒有任何的值。this 的值在函數調用實例化對象(new object)時創建。"
   ]
  },
  {
   "cell_type": "markdown",
   "id": "e1a4ea33",
   "metadata": {},
   "source": [
    "# 作為函數方法調用函數"
   ]
  },
  {
   "cell_type": "raw",
   "id": "392a4765",
   "metadata": {},
   "source": [
    "在 JavaScript 中， 函數是對象。JavaScript 函數有它的屬性和方法。\n",
    "call() 和 apply() 是預定義的函數方法。 兩個方法可用於調用函數，兩個方法的第一個參數必須是對象本身。"
   ]
  },
  {
   "cell_type": "code",
   "execution_count": null,
   "id": "268169a7",
   "metadata": {},
   "outputs": [],
   "source": [
    "function myFunction(a, b) {\n",
    "    return a * b;\n",
    "}\n",
    "myObject = myFunction.call(myObject, 10, 2);     // 返回 20"
   ]
  },
  {
   "cell_type": "code",
   "execution_count": null,
   "id": "8e37d733",
   "metadata": {},
   "outputs": [],
   "source": [
    "function myFunction(a, b) {\n",
    "    return a * b;\n",
    "}\n",
    "myArray = [10, 2];\n",
    "myObject = myFunction.apply(myObject, myArray);  // 返回 20"
   ]
  },
  {
   "cell_type": "raw",
   "id": "121b107a",
   "metadata": {},
   "source": [
    "兩個方法都使用了對象本身作為第一個參數。 兩者的區別在於第二個參數： apply 傳入的是一個參數數組，也就是將多個參數組合成為一個數組傳入，而 call 則作為 call 的參數傳入（從第二個參數開始）。在 JavaScript 嚴格模式(strict mode)下, 在調用函數時第一個參數會成為 this 的值， 即使該參數不是一個對象。在 JavaScript 非嚴格模式(non-strict mode)下, 如果第一個參數的值是 null 或 undefined, 它將使用全局對象替代。\n",
    "\n",
    "注意:\t通過 call() 或 apply() 方法你可以設置 this 的值, 且作為已存在對象的新方法調用。"
   ]
  },
  {
   "cell_type": "markdown",
   "id": "55f64fa6",
   "metadata": {},
   "source": [
    "# JavaScript 閉包"
   ]
  },
  {
   "cell_type": "raw",
   "id": "5c1ada23",
   "metadata": {},
   "source": [
    "JavaScript 變量可以是局部變量或全局變量。私有變量可以用到閉包。"
   ]
  },
  {
   "cell_type": "markdown",
   "id": "01f03bde",
   "metadata": {},
   "source": [
    "### 全局變量"
   ]
  },
  {
   "cell_type": "raw",
   "id": "9174e49a",
   "metadata": {},
   "source": [
    "函數可以訪問由函數內部定義的變量，如："
   ]
  },
  {
   "cell_type": "code",
   "execution_count": null,
   "id": "9b563760",
   "metadata": {},
   "outputs": [],
   "source": [
    "function myFunction() {\n",
    "    var a = 4;\n",
    "    return a * a;\n",
    "}"
   ]
  },
  {
   "cell_type": "raw",
   "id": "68db6fed",
   "metadata": {},
   "source": [
    "函數也可以訪問函數外部定義的變量，如："
   ]
  },
  {
   "cell_type": "code",
   "execution_count": null,
   "id": "1e5c9ead",
   "metadata": {},
   "outputs": [],
   "source": [
    "var a = 4;\n",
    "function myFunction() {\n",
    "    return a * a;\n",
    "}"
   ]
  },
  {
   "cell_type": "raw",
   "id": "01d38a2e",
   "metadata": {},
   "source": [
    "後面一個實例中， a 是一個全局變量。在 web 頁面中全局變量屬於 window 對象。全局變量可應用於頁面上的所有腳本。在第一個實例中， a 是一個局部變量。局部變量只能用於定義它函數內部。對於其他的函數或腳本代碼是不可用的。局和局部變量即便名稱相同，它們也是兩個不同的變量。修改其中一個，不會影響另一個的值。"
   ]
  },
  {
   "cell_type": "raw",
   "id": "e5fca865",
   "metadata": {},
   "source": [
    "變量聲明時如果不使用 var 關鍵字，那麽它就是一個全局變量，即便它在函數內定義。"
   ]
  },
  {
   "cell_type": "markdown",
   "id": "4dfab8bb",
   "metadata": {},
   "source": [
    "# 變量生命周期"
   ]
  },
  {
   "cell_type": "raw",
   "id": "eacddfc0",
   "metadata": {},
   "source": [
    "全局變量的作用域是全局性的，即在整個 JavaScript 程序中，全局變量處處都在。而在函數內部聲明的變量，只在函數內部起作用。這些變量是局部變量，作用域是局部性的；函數的參數也是局部性的，只在函數內部起作用。"
   ]
  },
  {
   "cell_type": "markdown",
   "id": "4909a75b",
   "metadata": {},
   "source": [
    "# 計數器困境"
   ]
  },
  {
   "cell_type": "raw",
   "id": "e2f072bd",
   "metadata": {},
   "source": [
    "設想下如果你想統計一些數值，且該計數器在所有函數中都是可用的。\n",
    "你可以使用全局變量，函數設置計數器遞增："
   ]
  },
  {
   "cell_type": "raw",
   "id": "738eb56b",
   "metadata": {},
   "source": [
    "設想下如果你想統計一些數值，且該計數器在所有函數中都是可用的。\n",
    "你可以使用全局變量，函數設置計數器遞增："
   ]
  },
  {
   "cell_type": "code",
   "execution_count": null,
   "id": "aad10487",
   "metadata": {},
   "outputs": [],
   "source": [
    "var counter = 0;\n",
    " \n",
    "function add() {\n",
    "   return counter += 1;\n",
    "}\n",
    " \n",
    "add();\n",
    "add();\n",
    "add();\n",
    " \n",
    "// 計數器現在為 3"
   ]
  },
  {
   "cell_type": "raw",
   "id": "b1690efa",
   "metadata": {},
   "source": [
    "計數器數值在執行 add() 函數時發生變化。但問題來了，頁面上的任何腳本都能改變計數器，即便沒有調用 add() 函數。如果我在函數內聲明計數器，如果沒有調用函數將無法修改計數器的值："
   ]
  },
  {
   "cell_type": "code",
   "execution_count": null,
   "id": "c393a945",
   "metadata": {},
   "outputs": [],
   "source": [
    "function add() {\n",
    "    var counter = 0;\n",
    "    return counter += 1;\n",
    "}\n",
    " \n",
    "add();\n",
    "add();\n",
    "add();\n",
    " \n",
    "// 本意是想輸出 3, 但事與願違，輸出的都是 1 !"
   ]
  },
  {
   "cell_type": "raw",
   "id": "ff9fc3f9",
   "metadata": {},
   "source": [
    "以上代碼將無法正確輸出，每次我調用 add() 函數，計數器都會設置為 1。JavaScript 內嵌函數可以解決該問題。"
   ]
  },
  {
   "cell_type": "markdown",
   "id": "a038be05",
   "metadata": {},
   "source": [
    "# JavaScript 內嵌函數"
   ]
  },
  {
   "cell_type": "raw",
   "id": "39726724",
   "metadata": {},
   "source": [
    "所有函數都能訪問全局變量。實際上在 JavaScript 中，所有函數都能訪問它們上一層的作用域。JavaScript 支持嵌套函數。嵌套函數可以訪問上一層的函數變量。該實例中，內嵌函數 plus() 可以訪問父函數的 counter 變量："
   ]
  },
  {
   "cell_type": "code",
   "execution_count": null,
   "id": "846985c6",
   "metadata": {},
   "outputs": [],
   "source": [
    "function add() {\n",
    "    var counter = 0;\n",
    "    function plus() {counter += 1;}\n",
    "    plus();    \n",
    "    return counter; \n",
    "}"
   ]
  },
  {
   "cell_type": "raw",
   "id": "ffa65689",
   "metadata": {},
   "source": [
    "如果我們能在外部訪問 plus() 函數，這樣就能解決計數器的困境。我們同樣需要確保 counter = 0 只執行一次。\n",
    "我們需要閉包。"
   ]
  },
  {
   "cell_type": "markdown",
   "id": "95a7a82a",
   "metadata": {},
   "source": [
    "# JavaScript 閉包"
   ]
  },
  {
   "cell_type": "raw",
   "id": "e1f2c242",
   "metadata": {},
   "source": [
    "還記得函數自我調用嗎？該函數會做什麽？"
   ]
  },
  {
   "cell_type": "code",
   "execution_count": null,
   "id": "cf35c332",
   "metadata": {},
   "outputs": [],
   "source": [
    "<!DOCTYPE html>\n",
    "<html>\n",
    "\n",
    "<head>\n",
    "    <meta charset=\"utf-8\">\n",
    "    <title>菜鳥教程</title>\n",
    "</head>\n",
    "\n",
    "<body>\n",
    "\n",
    "    <p>局部變量計數。</p>\n",
    "    <button type=\"button\" onclick=\"myFunction()\">計數!</button>\n",
    "    <p id=\"demo\">0</p>\n",
    "    <script>\n",
    "        var add = (function () {\n",
    "            var counter = 0;\n",
    "            return function () {\n",
    "                return counter += 1;\n",
    "            }\n",
    "        })();\n",
    "        function myFunction() {\n",
    "            document.getElementById(\"demo\").innerHTML = add();\n",
    "        }\n",
    "    </script>\n",
    "\n",
    "</body>\n",
    "\n",
    "</html>"
   ]
  },
  {
   "cell_type": "raw",
   "id": "30b10cb2",
   "metadata": {},
   "source": [
    "變量 add 指定了函數自我調用的返回字值。自我調用函數只執行一次。設置計數器為 0。並返回函數表達式。add 變量可以作為一個函數使用。非常棒的部分是它可以訪問函數上一層作用域的計數器。這個叫作 JavaScript 閉包。它使得函數擁有私有變量變成可能。計數器受匿名函數的作用域保護，只能通過 add 方法修改。"
   ]
  },
  {
   "cell_type": "raw",
   "id": "0add5d20",
   "metadata": {},
   "source": [
    "閉包是一種保護私有變量的機制，在函數執行時形成私有的作用域，保護裏面的私有變量不受外界幹擾。直觀的說就是形成一個不銷毀的棧環境。"
   ]
  },
  {
   "cell_type": "markdown",
   "id": "468c1688",
   "metadata": {},
   "source": [
    "### 一個 python 的範例"
   ]
  },
  {
   "cell_type": "code",
   "execution_count": 24,
   "id": "ab205c15",
   "metadata": {},
   "outputs": [],
   "source": [
    "def func():\n",
    "    count = [0]\n",
    "    def wrap():\n",
    "        count[0] += 1\n",
    "        return count[0]\n",
    "\n",
    "    return wrap "
   ]
  },
  {
   "cell_type": "code",
   "execution_count": 25,
   "id": "297f4f2a",
   "metadata": {},
   "outputs": [],
   "source": [
    "a = func()"
   ]
  },
  {
   "cell_type": "code",
   "execution_count": 26,
   "id": "03f590b4",
   "metadata": {},
   "outputs": [
    {
     "data": {
      "text/plain": [
       "1"
      ]
     },
     "execution_count": 26,
     "metadata": {},
     "output_type": "execute_result"
    }
   ],
   "source": [
    "a()"
   ]
  },
  {
   "cell_type": "code",
   "execution_count": 27,
   "id": "99845b1b",
   "metadata": {},
   "outputs": [
    {
     "data": {
      "text/plain": [
       "2"
      ]
     },
     "execution_count": 27,
     "metadata": {},
     "output_type": "execute_result"
    }
   ],
   "source": [
    "a()"
   ]
  }
 ],
 "metadata": {
  "kernelspec": {
   "display_name": "Python 3",
   "language": "python",
   "name": "python3"
  },
  "language_info": {
   "codemirror_mode": {
    "name": "ipython",
    "version": 3
   },
   "file_extension": ".py",
   "mimetype": "text/x-python",
   "name": "python",
   "nbconvert_exporter": "python",
   "pygments_lexer": "ipython3",
   "version": "3.8.10"
  }
 },
 "nbformat": 4,
 "nbformat_minor": 5
}
