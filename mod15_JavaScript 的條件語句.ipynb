{
 "cells": [
  {
   "cell_type": "markdown",
   "id": "bd8b8c0f",
   "metadata": {},
   "source": [
    "# JavaScript if...Else 語句"
   ]
  },
  {
   "cell_type": "markdown",
   "id": "770bddd6",
   "metadata": {},
   "source": [
    "條件語句用於基於不同的條件來執行不同的動作。"
   ]
  },
  {
   "cell_type": "markdown",
   "id": "4731a4f7",
   "metadata": {},
   "source": [
    "# 條件語句"
   ]
  },
  {
   "cell_type": "raw",
   "id": "49b88584",
   "metadata": {},
   "source": [
    "通常在寫代碼時，您總是需要為不同的決定來執行不同的動作。您可以在代碼中使用條件語句來完成該任務。在 JavaScript 中，我們可使用以下條件語句：\n",
    "\n",
    "- if 語句 - 只有當指定條件為 true 時，使用該語句來執行代碼\n",
    "- if...else 語句 - 當條件為 true 時執行代碼，當條件為 false 時執行其他代碼\n",
    "- if...else if....else 語句- 使用該語句來選擇多個代碼塊之一來執行\n",
    "- switch 語句 - 使用該語句來選擇多個代碼塊之一來執行"
   ]
  },
  {
   "cell_type": "markdown",
   "id": "4bc2a7ed",
   "metadata": {},
   "source": [
    "# if 語句"
   ]
  },
  {
   "cell_type": "raw",
   "id": "3a611647",
   "metadata": {},
   "source": [
    "只有當指定條件為 true 時，該語句才會執行代碼。"
   ]
  },
  {
   "cell_type": "markdown",
   "id": "ad2563c2",
   "metadata": {},
   "source": [
    "### 語法"
   ]
  },
  {
   "cell_type": "code",
   "execution_count": null,
   "id": "dcb135eb",
   "metadata": {},
   "outputs": [],
   "source": [
    "if (condition)\n",
    "{\n",
    "    當條件為 true 時執行的代碼\n",
    "}"
   ]
  },
  {
   "cell_type": "raw",
   "id": "a88a4d62",
   "metadata": {},
   "source": [
    "請使用小寫的 if。使用大寫字母（IF）會生成 JavaScript 錯誤！"
   ]
  },
  {
   "cell_type": "code",
   "execution_count": null,
   "id": "9892aff7",
   "metadata": {},
   "outputs": [],
   "source": [
    "<!DOCTYPE html>\n",
    "<html>\n",
    "\n",
    "<head>\n",
    "    <meta charset=\"utf-8\">\n",
    "    <title>菜鳥教程</title>\n",
    "</head>\n",
    "\n",
    "<body>\n",
    "\n",
    "    <p>如果時間早於 20:00，會獲得問候 \"Good day\"。</p>\n",
    "    <button onclick=\"myFunction()\">點擊這裏</button>\n",
    "    <p id=\"demo\"></p>\n",
    "    <script>\n",
    "        function myFunction() {\n",
    "            var x = \"\";\n",
    "            var time = new Date().getHours();\n",
    "            if (time < 20) {\n",
    "                x = \"Good day\";\n",
    "            }\n",
    "            document.getElementById(\"demo\").innerHTML = x;\n",
    "        }\n",
    "    </script>\n",
    "\n",
    "</body>\n",
    "\n",
    "</html>"
   ]
  },
  {
   "cell_type": "markdown",
   "id": "358b1a04",
   "metadata": {},
   "source": [
    "請注意在這個語法中，沒有 ..else..。您已經告訴瀏覽器只有在指定條件為 true 時才執行代碼。"
   ]
  },
  {
   "cell_type": "markdown",
   "id": "937851d3",
   "metadata": {},
   "source": [
    "# if...else 語句"
   ]
  },
  {
   "cell_type": "raw",
   "id": "7bea6925",
   "metadata": {},
   "source": [
    "請使用 if....else 語句在條件為 true 時執行代碼，在條件為 false 時執行其他代碼。"
   ]
  },
  {
   "cell_type": "markdown",
   "id": "615d6def",
   "metadata": {},
   "source": [
    "### 語法"
   ]
  },
  {
   "cell_type": "code",
   "execution_count": null,
   "id": "09c4175a",
   "metadata": {},
   "outputs": [],
   "source": [
    "if (condition)\n",
    "{\n",
    "    當條件為 true 時執行的代碼\n",
    "}\n",
    "\n",
    "else\n",
    "{\n",
    "    當條件不為 true 時執行的代碼\n",
    "}"
   ]
  },
  {
   "cell_type": "code",
   "execution_count": null,
   "id": "a5d6fb69",
   "metadata": {},
   "outputs": [],
   "source": [
    "<!DOCTYPE html>\n",
    "<html>\n",
    "\n",
    "<head>\n",
    "    <meta charset=\"utf-8\">\n",
    "    <title></title>\n",
    "</head>\n",
    "\n",
    "<body>\n",
    "\n",
    "    <p>點擊這個按鈕，獲得基於時間的問候。</p>\n",
    "    <button onclick=\"myFunction()\">點擊這裏</button>\n",
    "    <p id=\"demo\"></p>\n",
    "    <script>\n",
    "        function myFunction() {\n",
    "            var x = \"\";\n",
    "            var time = new Date().getHours();\n",
    "            if (time < 20) {\n",
    "                x = \"Good day\";\n",
    "            }\n",
    "            else {\n",
    "                x = \"Good evening\";\n",
    "            }\n",
    "            document.getElementById(\"demo\").innerHTML = x;\n",
    "        }\n",
    "    </script>\n",
    "\n",
    "</body>\n",
    "\n",
    "</html>"
   ]
  },
  {
   "cell_type": "markdown",
   "id": "a8192d06",
   "metadata": {},
   "source": [
    "# if...else if...else 語句"
   ]
  },
  {
   "cell_type": "markdown",
   "id": "20bf4eba",
   "metadata": {},
   "source": [
    "使用 if....else if...else 語句來選擇多個代碼塊之一來執行。"
   ]
  },
  {
   "cell_type": "markdown",
   "id": "b04ab9b9",
   "metadata": {},
   "source": [
    "### 語法"
   ]
  },
  {
   "cell_type": "code",
   "execution_count": null,
   "id": "aebc5988",
   "metadata": {},
   "outputs": [],
   "source": [
    "if (condition1)\n",
    "{\n",
    "    當條件 1 為 true 時執行的代碼\n",
    "}\n",
    "\n",
    "else if (condition2)\n",
    "{\n",
    "    當條件 2 為 true 時執行的代碼\n",
    "}\n",
    "\n",
    "else\n",
    "{\n",
    "  當條件 1 和 條件 2 都不為 true 時執行的代碼\n",
    "}"
   ]
  },
  {
   "cell_type": "code",
   "execution_count": null,
   "id": "6375c5b5",
   "metadata": {},
   "outputs": [],
   "source": [
    "<html>\n",
    "\n",
    "<head>\n",
    "    <meta charset=\"utf-8\">\n",
    "    <title>菜鳥教程</title>\n",
    "</head>\n",
    "\n",
    "<body>\n",
    "\n",
    "    <script>\n",
    "        var d = new Date();\n",
    "        var time = d.getHours();\n",
    "        if (time < 10) {\n",
    "            document.write(\"<b>早上好</b>\");\n",
    "        }\n",
    "        else if (time >= 10 && time < 20) {\n",
    "            document.write(\"<b>今天好</b>\");\n",
    "        }\n",
    "        else {\n",
    "            document.write(\"<b>晚上好!</b>\");\n",
    "        }\n",
    "    </script>\n",
    "    <p>\n",
    "        這個例子演示了 if..else if...else 語句。\n",
    "    </p>\n",
    "\n",
    "</body>\n",
    "\n",
    "</html>"
   ]
  },
  {
   "cell_type": "markdown",
   "id": "9ee688ed",
   "metadata": {},
   "source": [
    "### 範例"
   ]
  },
  {
   "cell_type": "raw",
   "id": "7eda2228",
   "metadata": {},
   "source": [
    "這個實例演示了一個鏈接，當您點擊鏈接時，會帶您到不同的地方去。每種機會都是 50% 的概率。"
   ]
  },
  {
   "cell_type": "code",
   "execution_count": null,
   "id": "55c5847e",
   "metadata": {},
   "outputs": [],
   "source": [
    "<!DOCTYPE html>\n",
    "<html>\n",
    "\n",
    "<head>\n",
    "    <meta charset=\"utf-8\">\n",
    "    <title>菜鳥教程</title>\n",
    "</head>\n",
    "\n",
    "<body>\n",
    "\n",
    "    <p id=\"demo\"></p>\n",
    "    <script>\n",
    "        var r = Math.random();\n",
    "        var x = document.getElementById(\"demo\")\n",
    "        if (r > 0.5) {\n",
    "            x.innerHTML = \"<a href='http://www.runoob.com'>訪問菜鳥教程</a>\";\n",
    "        }\n",
    "        else {\n",
    "            x.innerHTML = \"<a href='http://wwf.org'>Visit WWF</a>\";\n",
    "        }\n",
    "    </script>\n",
    "\n",
    "</body>\n",
    "\n",
    "</html>"
   ]
  },
  {
   "cell_type": "markdown",
   "id": "405dd382",
   "metadata": {},
   "source": [
    "### 範例"
   ]
  },
  {
   "cell_type": "raw",
   "id": "531d3aa9",
   "metadata": {},
   "source": [
    "這樣 century 在外部會沒有定義。"
   ]
  },
  {
   "cell_type": "code",
   "execution_count": null,
   "id": "c6a356ed",
   "metadata": {},
   "outputs": [],
   "source": [
    "    <script>\n",
    "        const birthYear = 2012;\n",
    "        \n",
    "        if (birthYear <= 2000) {\n",
    "            let century = 20;\n",
    "        } else {\n",
    "            let century = 21;\n",
    "        }\n",
    "\n",
    "        console.log(century);\n",
    "    </script>"
   ]
  },
  {
   "cell_type": "raw",
   "id": "22609e14",
   "metadata": {},
   "source": [
    "需改寫成:"
   ]
  },
  {
   "cell_type": "code",
   "execution_count": null,
   "id": "c3d3c4de",
   "metadata": {},
   "outputs": [],
   "source": [
    "<script>\n",
    "    const birthYear = 2012;\n",
    "    let century;\n",
    "    \n",
    "    if (birthYear <= 2000) {\n",
    "        century = 20;\n",
    "    } else {\n",
    "        century = 21;\n",
    "    }\n",
    "\n",
    "    console.log(century);\n",
    "</script>"
   ]
  }
 ],
 "metadata": {
  "kernelspec": {
   "display_name": "Python 3",
   "language": "python",
   "name": "python3"
  },
  "language_info": {
   "codemirror_mode": {
    "name": "ipython",
    "version": 3
   },
   "file_extension": ".py",
   "mimetype": "text/x-python",
   "name": "python",
   "nbconvert_exporter": "python",
   "pygments_lexer": "ipython3",
   "version": "3.8.10"
  }
 },
 "nbformat": 4,
 "nbformat_minor": 5
}
