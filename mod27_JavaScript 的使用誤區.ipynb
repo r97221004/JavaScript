{
 "cells": [
  {
   "cell_type": "markdown",
   "id": "7ee354b4",
   "metadata": {},
   "source": [
    "# JavaScript 使用誤區"
   ]
  },
  {
   "cell_type": "raw",
   "id": "c8f4dbe4",
   "metadata": {},
   "source": [
    "本章節我們將討論 JavaScript 的使用誤區。"
   ]
  },
  {
   "cell_type": "markdown",
   "id": "476602ce",
   "metadata": {},
   "source": [
    "# 賦值運算符應用錯誤"
   ]
  },
  {
   "cell_type": "raw",
   "id": "daeaa967",
   "metadata": {},
   "source": [
    "在 JavaScript 程序中如果你在 if 條件語句中使用賦值運算符的等號 (=) 將會產生一個錯誤結果, 正確的方法是使用比較運算符的兩個等號 (==)。"
   ]
  },
  {
   "cell_type": "raw",
   "id": "eb5fbf0c",
   "metadata": {},
   "source": [
    "if 條件語句返回 false (是我們預期的)因為 x 不等於 10:"
   ]
  },
  {
   "cell_type": "code",
   "execution_count": null,
   "id": "8cfaa73d",
   "metadata": {},
   "outputs": [],
   "source": [
    "<!DOCTYPE html>\n",
    "<html>\n",
    "\n",
    "<head>\n",
    "    <meta charset=\"utf-8\">\n",
    "    <title>菜鳥教程</title>\n",
    "</head>\n",
    "\n",
    "<body>\n",
    "\n",
    "    <p id=\"demo\"></p>\n",
    "    <script>\n",
    "        var x = 0;\n",
    "        document.getElementById(\"demo\").innerHTML = Boolean(x == 10);\n",
    "    </script>\n",
    "\n",
    "</body>\n",
    "\n",
    "</html>"
   ]
  },
  {
   "cell_type": "raw",
   "id": "20bcb77e",
   "metadata": {},
   "source": [
    "if 條件語句返回 true (不是我們預期的)因為條件語句執行為 x 賦值 10，10 為 true:"
   ]
  },
  {
   "cell_type": "code",
   "execution_count": null,
   "id": "a02099cb",
   "metadata": {},
   "outputs": [],
   "source": [
    "<!DOCTYPE html>\n",
    "<html>\n",
    "\n",
    "<head>\n",
    "    <meta charset=\"utf-8\">\n",
    "    <title>菜鳥教程</title>\n",
    "</head>\n",
    "\n",
    "<body>\n",
    "\n",
    "    <p id=\"demo\"></p>\n",
    "    <script>\n",
    "        var x = 0;\n",
    "        document.getElementById(\"demo\").innerHTML = Boolean(x = 10);\n",
    "    </script>\n",
    "\n",
    "</body>\n",
    "\n",
    "</html>"
   ]
  },
  {
   "cell_type": "raw",
   "id": "5efb4225",
   "metadata": {},
   "source": [
    "if 條件語句返回 false (不是我們預期的)因為條件語句執行為 x 賦值 0，0 為 false:"
   ]
  },
  {
   "cell_type": "code",
   "execution_count": null,
   "id": "e9ccbea7",
   "metadata": {},
   "outputs": [],
   "source": [
    "<!DOCTYPE html>\n",
    "<html>\n",
    "\n",
    "<head>\n",
    "    <meta charset=\"utf-8\">\n",
    "    <title>菜鳥教程</title>\n",
    "</head>\n",
    "\n",
    "<body>\n",
    "\n",
    "    <p id=\"demo\"></p>\n",
    "    <script>\n",
    "        var x = 0;\n",
    "        document.getElementById(\"demo\").innerHTML = Boolean(x = 0);\n",
    "    </script>\n",
    "\n",
    "</body>\n",
    "\n",
    "</html>"
   ]
  },
  {
   "cell_type": "raw",
   "id": "77f1bbde",
   "metadata": {},
   "source": [
    "賦值語句返回變量的值。"
   ]
  },
  {
   "cell_type": "markdown",
   "id": "40226369",
   "metadata": {},
   "source": [
    "# 比較運算符常見錯誤"
   ]
  },
  {
   "cell_type": "raw",
   "id": "2cf10180",
   "metadata": {},
   "source": [
    "在常規的比較中，數據類型是被忽略的，以下 if 條件語句返回 true："
   ]
  },
  {
   "cell_type": "code",
   "execution_count": null,
   "id": "b3f1cc26",
   "metadata": {},
   "outputs": [],
   "source": [
    "var x = 10;\n",
    "var y = \"10\";\n",
    "if (x == y)"
   ]
  },
  {
   "cell_type": "raw",
   "id": "acfc6b44",
   "metadata": {},
   "source": [
    "在嚴格的比較運算中，=== 為恒等計算符，同時檢查表達式的值與類型，以下 if 條件語句返回 false："
   ]
  },
  {
   "cell_type": "code",
   "execution_count": null,
   "id": "825dbc50",
   "metadata": {},
   "outputs": [],
   "source": [
    "var x = 10;\n",
    "var y = \"10\";\n",
    "if (x === y)"
   ]
  },
  {
   "cell_type": "raw",
   "id": "507b6ca6",
   "metadata": {},
   "source": [
    "這種錯誤經常會在 switch 語句中出現，switch 語句會使用恒等計算符(===)進行比較:\n",
    "以下實例會執行 alert 彈窗："
   ]
  },
  {
   "cell_type": "code",
   "execution_count": null,
   "id": "01170a20",
   "metadata": {},
   "outputs": [],
   "source": [
    "var x = 10;\n",
    "switch(x) {\n",
    "    case 10: alert(\"Hello\");\n",
    "}"
   ]
  },
  {
   "cell_type": "raw",
   "id": "1d3fa450",
   "metadata": {},
   "source": [
    "以下實例由於類型不一致不會執行 alert 彈窗："
   ]
  },
  {
   "cell_type": "code",
   "execution_count": null,
   "id": "ace58655",
   "metadata": {},
   "outputs": [],
   "source": [
    "var x = 10;\n",
    "switch(x) {\n",
    "    case \"10\": alert(\"Hello\");\n",
    "}"
   ]
  },
  {
   "cell_type": "markdown",
   "id": "e7a0c88f",
   "metadata": {},
   "source": [
    "# 加法與連接註意事項"
   ]
  },
  {
   "cell_type": "raw",
   "id": "94946747",
   "metadata": {},
   "source": [
    "加法是兩個數字相加。連接是兩個字符串連接。\n",
    "JavaScript 的加法和連接都使用 + 運算符。\n",
    "接下來我們可以通過實例查看兩個數字相加及數字與字符串連接的區別："
   ]
  },
  {
   "cell_type": "code",
   "execution_count": null,
   "id": "19867b92",
   "metadata": {},
   "outputs": [],
   "source": [
    "var x = 10 + 5;          // x 的结果为 15\n",
    "var x = 10 + \"5\";        // x 的结果为 \"105\""
   ]
  },
  {
   "cell_type": "raw",
   "id": "f31fd6a5",
   "metadata": {},
   "source": [
    "使用變量相加結果也不一致:"
   ]
  },
  {
   "cell_type": "code",
   "execution_count": null,
   "id": "8e3c27d0",
   "metadata": {},
   "outputs": [],
   "source": [
    "var x = 10;\n",
    "var y = 5;\n",
    "var z = x + y;           // z 的結果為 15\n",
    "\n",
    "var x = 10;\n",
    "var y = \"5\";\n",
    "var z = x + y;           // z 的結果為 \"105\""
   ]
  },
  {
   "cell_type": "markdown",
   "id": "6e57f404",
   "metadata": {},
   "source": [
    "# 浮點型數據使用注意事項"
   ]
  },
  {
   "cell_type": "raw",
   "id": "ef80dbdf",
   "metadata": {},
   "source": [
    "JavaScript 中的所有數據都是以 64 位浮點型數據(float) 來存儲。\n",
    "所有的編程語言，包括 JavaScript，對浮點型數據的精確度都很難確定："
   ]
  },
  {
   "cell_type": "code",
   "execution_count": null,
   "id": "58b9bab0",
   "metadata": {},
   "outputs": [],
   "source": [
    "var x = 0.1;\n",
    "var y = 0.2;\n",
    "var z = x + y            // z 的結果為 0.30000000000000004\n",
    "if (z == 0.3)            // 返回 false"
   ]
  },
  {
   "cell_type": "raw",
   "id": "7342233c",
   "metadata": {},
   "source": [
    "為解決以上問題，可以用整數的乘除法來解決："
   ]
  },
  {
   "cell_type": "code",
   "execution_count": null,
   "id": "fb7ae0b3",
   "metadata": {},
   "outputs": [],
   "source": [
    "var z = (x * 10 + y * 10) / 10;       // z 的結果為 0.3"
   ]
  },
  {
   "cell_type": "raw",
   "id": "f57e5de5",
   "metadata": {},
   "source": [
    "更多内容可以参考：JavaScript 中精度问题以及解决方案"
   ]
  },
  {
   "cell_type": "markdown",
   "id": "72ae2652",
   "metadata": {},
   "source": [
    "# JavaScript 字符串分行"
   ]
  },
  {
   "cell_type": "raw",
   "id": "b04e054c",
   "metadata": {},
   "source": [
    "JavaScript 允許我們在字符串中使用斷行語句:"
   ]
  },
  {
   "cell_type": "code",
   "execution_count": null,
   "id": "2da0471b",
   "metadata": {},
   "outputs": [],
   "source": [
    "var x =\n",
    "\"Hello World!\";"
   ]
  },
  {
   "cell_type": "raw",
   "id": "6f1017d6",
   "metadata": {},
   "source": [
    "但是，在字符串中直接使用回車換行是會報錯的："
   ]
  },
  {
   "cell_type": "code",
   "execution_count": null,
   "id": "8984ab50",
   "metadata": {},
   "outputs": [],
   "source": [
    "var x = \"Hello\n",
    "World!\";"
   ]
  },
  {
   "cell_type": "raw",
   "id": "07659e15",
   "metadata": {},
   "source": [
    "字符串斷行需要使用反斜杠(\\)，如下所示:"
   ]
  },
  {
   "cell_type": "code",
   "execution_count": null,
   "id": "d44de59f",
   "metadata": {},
   "outputs": [],
   "source": [
    "var x = \"Hello \\\n",
    "World!\";"
   ]
  },
  {
   "cell_type": "markdown",
   "id": "618b5eca",
   "metadata": {},
   "source": [
    "# 錯誤的使用分號"
   ]
  },
  {
   "cell_type": "raw",
   "id": "47f3d13a",
   "metadata": {},
   "source": [
    "以下實例中，if 語句失去方法體，原 if 語句的方法體作為獨立的代碼塊被執行，導致錯誤的輸出結果。\n",
    "由於分號使用錯誤，if 語句中的代碼塊就一定會執行："
   ]
  },
  {
   "cell_type": "code",
   "execution_count": null,
   "id": "24b78e6d",
   "metadata": {},
   "outputs": [],
   "source": [
    "if (x == 19);\n",
    "{\n",
    "    // code block \n",
    "}"
   ]
  },
  {
   "cell_type": "markdown",
   "id": "d80693c4",
   "metadata": {},
   "source": [
    "# return 語句使用注意事項"
   ]
  },
  {
   "cell_type": "raw",
   "id": "6b355b51",
   "metadata": {},
   "source": [
    "JavaScript 默認是在一行的末尾自動結束。\n",
    "\n",
    "以下兩個實例返回結果是一樣的(一個有分號一個沒有):"
   ]
  },
  {
   "cell_type": "code",
   "execution_count": null,
   "id": "87041a4b",
   "metadata": {},
   "outputs": [],
   "source": [
    "function myFunction(a) {\n",
    "    var power = 10 \n",
    "    return a * power\n",
    "}"
   ]
  },
  {
   "cell_type": "code",
   "execution_count": null,
   "id": "2ebea8b7",
   "metadata": {},
   "outputs": [],
   "source": [
    "function myFunction(a) {\n",
    "    var power = 10;\n",
    "    return a * power;\n",
    "}"
   ]
  },
  {
   "cell_type": "raw",
   "id": "49d48dac",
   "metadata": {},
   "source": [
    "JavaScript 也可以使用多行來表示一個語句，也就是說一個語句是可以分行的。\n",
    "以下實例返回相同的結果:"
   ]
  },
  {
   "cell_type": "code",
   "execution_count": null,
   "id": "e374fcea",
   "metadata": {},
   "outputs": [],
   "source": [
    "function myFunction(a) {\n",
    "    var\n",
    "    power = 10; \n",
    "    return a * power;\n",
    "}"
   ]
  },
  {
   "cell_type": "raw",
   "id": "79d5d97b",
   "metadata": {},
   "source": [
    "但是，以下實例結果會返回 undefined："
   ]
  },
  {
   "cell_type": "code",
   "execution_count": null,
   "id": "59e861f4",
   "metadata": {},
   "outputs": [],
   "source": [
    "function myFunction(a) {\n",
    "    var\n",
    "    power = 10; \n",
    "    return\n",
    "    a * power;\n",
    "}"
   ]
  },
  {
   "cell_type": "raw",
   "id": "68ebccb3",
   "metadata": {},
   "source": [
    "為什麽會有這樣的結果呢？因為在 JavaScript 中上面的代碼與下面的代碼一致："
   ]
  },
  {
   "cell_type": "code",
   "execution_count": null,
   "id": "140d8e93",
   "metadata": {},
   "outputs": [],
   "source": [
    "function myFunction(a) {\n",
    "    var\n",
    "    power = 10;  \n",
    "    return;       // 分號結束，返回 undefined\n",
    "    a * power;\n",
    "}"
   ]
  },
  {
   "cell_type": "raw",
   "id": "923fb369",
   "metadata": {},
   "source": [
    "如果是一個不完整的語句，如下所示:"
   ]
  },
  {
   "cell_type": "code",
   "execution_count": null,
   "id": "0646155b",
   "metadata": {},
   "outputs": [],
   "source": [
    "var"
   ]
  },
  {
   "cell_type": "raw",
   "id": "4c961649",
   "metadata": {},
   "source": [
    "JavaScript 將嘗試讀取第二行的語句："
   ]
  },
  {
   "cell_type": "code",
   "execution_count": null,
   "id": "e9429835",
   "metadata": {},
   "outputs": [],
   "source": [
    "power = 10;"
   ]
  },
  {
   "cell_type": "raw",
   "id": "e59c4731",
   "metadata": {},
   "source": [
    "但是由於這樣的語句是完整的:"
   ]
  },
  {
   "cell_type": "code",
   "execution_count": null,
   "id": "6822267a",
   "metadata": {},
   "outputs": [],
   "source": [
    "return"
   ]
  },
  {
   "cell_type": "code",
   "execution_count": null,
   "id": "42258d1c",
   "metadata": {},
   "outputs": [],
   "source": [
    "JavaScript 將自動關閉語句:"
   ]
  },
  {
   "cell_type": "code",
   "execution_count": null,
   "id": "49a05ea4",
   "metadata": {},
   "outputs": [],
   "source": [
    "return;"
   ]
  },
  {
   "cell_type": "raw",
   "id": "32a4be91",
   "metadata": {},
   "source": [
    "在 JavaScript 中，分號是可選的 。\n",
    "由於 return 是一個完整的語句，所以 JavaScript 將關閉 return 語句。所以要注意不用對 return 語句進行斷行。"
   ]
  },
  {
   "cell_type": "markdown",
   "id": "6b780c17",
   "metadata": {},
   "source": [
    "# 數組中使用名字來索引"
   ]
  },
  {
   "cell_type": "raw",
   "id": "55312ee2",
   "metadata": {},
   "source": [
    "許多程序語言都允許使用名字來作為數組的索引。\n",
    "使用名字來作為索引的數組稱為關聯數組(或哈希)。\n",
    "JavaScript 不支持使用名字來索引數組，只允許使用數字索引。"
   ]
  },
  {
   "cell_type": "code",
   "execution_count": null,
   "id": "06e15728",
   "metadata": {},
   "outputs": [],
   "source": [
    "var person = [];\n",
    "person[0] = \"John\";\n",
    "person[1] = \"Doe\";\n",
    "person[2] = 46;\n",
    "var x = person.length;         // person.length 返回 3\n",
    "var y = person[0];             // person[0] 返回 \"John\""
   ]
  },
  {
   "cell_type": "raw",
   "id": "abbf7095",
   "metadata": {},
   "source": [
    "在 JavaScript 中，對象使用名字作為索引。如果你使用名字作為索引，當訪問數組時，JavaScript 會把數組重新定義為標準對象。\n",
    "執行這樣操作後，數組的方法及屬性將不能再使用，否則會產生錯誤:"
   ]
  },
  {
   "cell_type": "code",
   "execution_count": null,
   "id": "378d75fc",
   "metadata": {},
   "outputs": [],
   "source": [
    "var person = [];\n",
    "person[\"firstName\"] = \"John\";\n",
    "person[\"lastName\"] = \"Doe\";\n",
    "person[\"age\"] = 46;\n",
    "var x = person.length;         // person.length 返回 0\n",
    "var y = person[0];             // person[0] 返回 undefined"
   ]
  },
  {
   "cell_type": "markdown",
   "id": "a2236e69",
   "metadata": {},
   "source": [
    "# 定義數組元素，最後不能添加逗號"
   ]
  },
  {
   "cell_type": "raw",
   "id": "72af7b2f",
   "metadata": {},
   "source": [
    "數組最後一個值的後面添加逗號雖然語法沒有問題，但是在不同的瀏覽器可能得到不同的結果。"
   ]
  },
  {
   "cell_type": "code",
   "execution_count": null,
   "id": "7c943825",
   "metadata": {},
   "outputs": [],
   "source": [
    "var colors = [5, 6, 7,]; // 這樣數組的長度可能為 3，也可能為 4。"
   ]
  },
  {
   "cell_type": "raw",
   "id": "21bbd7fe",
   "metadata": {},
   "source": [
    "正確的定義方式："
   ]
  },
  {
   "cell_type": "code",
   "execution_count": null,
   "id": "83884e6b",
   "metadata": {},
   "outputs": [],
   "source": [
    "points = [40, 100, 1, 5, 25, 10];"
   ]
  },
  {
   "cell_type": "markdown",
   "id": "ccca483e",
   "metadata": {},
   "source": [
    "# 定義對象，最後不能添加逗號"
   ]
  },
  {
   "cell_type": "raw",
   "id": "25c9fbe6",
   "metadata": {},
   "source": [
    "錯誤的定義方式："
   ]
  },
  {
   "cell_type": "code",
   "execution_count": null,
   "id": "d30bce5c",
   "metadata": {},
   "outputs": [],
   "source": [
    "websites = {site: \"菜鳥教程\", url: \"www.runoob.com\", like: 460,}"
   ]
  },
  {
   "cell_type": "raw",
   "id": "d98b42e9",
   "metadata": {},
   "source": [
    "正確的定義方式："
   ]
  },
  {
   "cell_type": "code",
   "execution_count": null,
   "id": "72d62721",
   "metadata": {},
   "outputs": [],
   "source": [
    "websites = {site: \"菜鳥教程\", url: \"www.runoob.com\", like: 460}"
   ]
  },
  {
   "cell_type": "markdown",
   "id": "cdd55d43",
   "metadata": {},
   "source": [
    "# Undefined 不是 Null"
   ]
  },
  {
   "cell_type": "raw",
   "id": "98bf8413",
   "metadata": {},
   "source": [
    "在 JavaScript 中, null 用於對象, undefined 用於變量，屬性和方法。對象只有被定義才有可能為 null，否則為 undefined。\n",
    "如果我們想測試對象是否存在，在對象還沒定義時將會拋出一個錯誤。錯誤的使用方式："
   ]
  },
  {
   "cell_type": "code",
   "execution_count": null,
   "id": "51342873",
   "metadata": {},
   "outputs": [],
   "source": [
    "if (myObj !== null && typeof myObj !== \"undefined\") "
   ]
  },
  {
   "cell_type": "raw",
   "id": "67017163",
   "metadata": {},
   "source": [
    "正確的方式是我們需要先使用 typeof 來檢測對象是否已定義："
   ]
  },
  {
   "cell_type": "code",
   "execution_count": null,
   "id": "382f7964",
   "metadata": {},
   "outputs": [],
   "source": [
    "if (typeof myObj !== \"undefined\" && myObj !== null)"
   ]
  },
  {
   "cell_type": "markdown",
   "id": "8cfc4c0e",
   "metadata": {},
   "source": [
    "# 程序塊作用域"
   ]
  },
  {
   "cell_type": "raw",
   "id": "ca494f17",
   "metadata": {},
   "source": [
    "在每個代碼塊中 JavaScript 不會創建一個新的作用域，一般各個代碼塊的作用域都是全局的。\n",
    "以下代碼的的變量 i 返回 10，而不是 undefined："
   ]
  },
  {
   "cell_type": "code",
   "execution_count": null,
   "id": "85161685",
   "metadata": {},
   "outputs": [],
   "source": [
    "for (var i = 0; i < 10; i++) {\n",
    "    // some code\n",
    "}\n",
    "return i;"
   ]
  },
  {
   "cell_type": "code",
   "execution_count": null,
   "id": "1354db2e",
   "metadata": {},
   "outputs": [],
   "source": []
  }
 ],
 "metadata": {
  "kernelspec": {
   "display_name": "Python 3",
   "language": "python",
   "name": "python3"
  },
  "language_info": {
   "codemirror_mode": {
    "name": "ipython",
    "version": 3
   },
   "file_extension": ".py",
   "mimetype": "text/x-python",
   "name": "python",
   "nbconvert_exporter": "python",
   "pygments_lexer": "ipython3",
   "version": "3.8.10"
  }
 },
 "nbformat": 4,
 "nbformat_minor": 5
}
