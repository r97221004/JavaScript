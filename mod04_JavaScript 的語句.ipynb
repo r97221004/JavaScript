{
 "cells": [
  {
   "cell_type": "code",
   "execution_count": null,
   "id": "71e3dbcd",
   "metadata": {},
   "outputs": [],
   "source": [
    "JavaScript 語句向瀏覽器發出的命令。語句的作用是告訴瀏覽器該做什麽。"
   ]
  },
  {
   "cell_type": "markdown",
   "id": "429b3eed",
   "metadata": {},
   "source": [
    "# JavaScript 語句"
   ]
  },
  {
   "cell_type": "raw",
   "id": "a2fbb05c",
   "metadata": {},
   "source": [
    "JavaScript 語句是發給瀏覽器的命令。這些命令的作用是告訴瀏覽器要做的事情。\n",
    "下面的 JavaScript 語句向 id=\"demo\" 的 HTML 元素輸出文本 \"你好 Dolly\" ："
   ]
  },
  {
   "cell_type": "code",
   "execution_count": null,
   "id": "23fdf488",
   "metadata": {},
   "outputs": [],
   "source": [
    "<!DOCTYPE html>\n",
    "<html>\n",
    "\n",
    "<head>\n",
    "    <meta charset=\"utf-8\">\n",
    "    <title>菜鳥教程</title>\n",
    "</head>\n",
    "\n",
    "<body>\n",
    "\n",
    "    <h1>我的網頁</h1>\n",
    "    <p id=\"demo\">我的第一個段落。</p>\n",
    "    <script>\n",
    "        document.getElementById(\"demo\").innerHTML = \"你好 Dolly\";\n",
    "    </script>\n",
    "\n",
    "</body>\n",
    "\n",
    "</html>"
   ]
  },
  {
   "cell_type": "markdown",
   "id": "734467ba",
   "metadata": {},
   "source": [
    "# 分號 ;"
   ]
  },
  {
   "cell_type": "raw",
   "id": "ac9ab1d4",
   "metadata": {},
   "source": [
    "分號用於分隔 JavaScript 語句。通常我們在每條可執行的語句結尾添加分號。使用分號的另一用處是在一行中編寫多條語句。"
   ]
  },
  {
   "cell_type": "code",
   "execution_count": null,
   "id": "7818e4be",
   "metadata": {},
   "outputs": [],
   "source": [
    "<head>\n",
    "    <meta charset=\"utf-8\">\n",
    "    <title>菜鳥教程</title>\n",
    "</head>\n",
    "\n",
    "<body>\n",
    "\n",
    "    <h1>我的網頁</h1>\n",
    "    <p id=\"demo1\"></p>\n",
    "    <p id=\"demo2\"></p>\n",
    "    <script>\n",
    "        a = 1;\n",
    "        b = 2;\n",
    "        c = a + b;\n",
    "        document.getElementById(\"demo1\").innerHTML = c;\n",
    "        x = 1; y = 2; z = x + y;\n",
    "        document.getElementById(\"demo2\").innerHTML = z;\n",
    "    </script>\n",
    "\n",
    "</body>\n",
    "\n",
    "</html>"
   ]
  },
  {
   "cell_type": "raw",
   "id": "c0df990b",
   "metadata": {},
   "source": [
    "注意: 您也可能看到不帶有分號的案例。在 JavaScript 中，用分號來結束語句是可選的。"
   ]
  },
  {
   "cell_type": "markdown",
   "id": "746b959d",
   "metadata": {},
   "source": [
    "# JavaScript 代碼"
   ]
  },
  {
   "cell_type": "raw",
   "id": "e15874a0",
   "metadata": {},
   "source": [
    "JavaScript 代碼是 JavaScript 語句的序列。瀏覽器按照編寫順序依次執行每條語句。\n",
    "本例向網頁輸出一個標題和兩個段落："
   ]
  },
  {
   "cell_type": "code",
   "execution_count": null,
   "id": "c1b86c5e",
   "metadata": {},
   "outputs": [],
   "source": [
    "<head>\n",
    "    <meta charset=\"utf-8\">\n",
    "    <title>菜鳥教程</title>\n",
    "</head>\n",
    "\n",
    "<body>\n",
    "\n",
    "    <h1>我的 Web 網頁</h1>\n",
    "    <p id=\"demo\">一個段落</p>\n",
    "    <div id=\"myDIV\">一個 DIV。</div>\n",
    "    <script>\n",
    "        document.getElementById(\"demo\").innerHTML = \"你好 Alice\";\n",
    "        document.getElementById(\"myDIV\").innerHTML = \"最近過得如何啊!\";\n",
    "    </script>\n",
    "\n",
    "</body>\n",
    "\n",
    "</html>"
   ]
  },
  {
   "cell_type": "markdown",
   "id": "46beb5ce",
   "metadata": {},
   "source": [
    "# JavaScript 代碼塊"
   ]
  },
  {
   "cell_type": "raw",
   "id": "f453fc80",
   "metadata": {},
   "source": [
    "JavaScript 可以分批地組合起來。代碼塊以左花括號開始，以右花括號結束。代碼塊的作用是一並地執行語句序列。\n",
    "本例向網頁輸出一個標題和兩個段落:"
   ]
  },
  {
   "cell_type": "code",
   "execution_count": null,
   "id": "5ccee6a6",
   "metadata": {},
   "outputs": [],
   "source": [
    "<!DOCTYPE html>\n",
    "<html>\n",
    "\n",
    "<head>\n",
    "    <meta charset=\"utf-8\">\n",
    "    <title>菜鳥教程</title>\n",
    "</head>\n",
    "\n",
    "<body>\n",
    "\n",
    "    <h1>我的 Web 頁面</h1>\n",
    "    <p id=\"myPar\">我是一個段落。</p>\n",
    "    <div id=\"myDiv\">我是一個div。</div>\n",
    "    <p>\n",
    "        <button type=\"button\" onclick=\"myFunction()\">點擊這裏</button>\n",
    "    </p>\n",
    "    <script>\n",
    "        function myFunction() {\n",
    "            document.getElementById(\"myPar\").innerHTML = \"你好世界！\";\n",
    "            document.getElementById(\"myDiv\").innerHTML = \"你最近怎麽樣?\";\n",
    "        }\n",
    "    </script>\n",
    "    <p>當您點擊上面的按鈕時，兩個元素會改變。</p>\n",
    "\n",
    "</body>\n",
    "\n",
    "</html>"
   ]
  },
  {
   "cell_type": "markdown",
   "id": "3ba1677a",
   "metadata": {},
   "source": [
    "# JavaScript 語句標識符"
   ]
  },
  {
   "cell_type": "raw",
   "id": "f9ee3281",
   "metadata": {},
   "source": [
    "JavaScript 語句通常以一個 語句標識符 為開始，並執行該語句。語句標識符是保留關鍵字不能作為變量名使用。\n",
    "下表列出了 JavaScript 語句標識符 (關鍵字) ："
   ]
  },
  {
   "cell_type": "raw",
   "id": "1475d9c9",
   "metadata": {},
   "source": [
    "語句\t          描述\n",
    "\n",
    "break\t        用於跳出循環。\n",
    "catch\t        語句塊，在 try 語句塊執行出錯時執行 catch 語句塊。\n",
    "continue\t    跳過循環中的一個叠代。\n",
    "do ... while\t執行一個語句塊，在條件語句為 true 時繼續執行該語句塊。\n",
    "for\t            在條件語句為 true 時，可以將代碼塊執行指定的次數。\n",
    "for ... in\t    用於遍歷數組或者對象的屬性（對數組或者對象的屬性進行循環操作）。\n",
    "function\t    定義一個函數\n",
    "if ... else  \t用於基於不同的條件來執行不同的動作。\n",
    "return\t        退出函數\n",
    "switch\t        用於基於不同的條件來執行不同的動作。\n",
    "throw\t        拋出（生成）錯誤 。\n",
    "try\t            實現錯誤處理，與 catch 一同使用。\n",
    "var\t            聲明一個變量。\n",
    "while\t        當條件語句為 true 時，執行語句塊。"
   ]
  },
  {
   "cell_type": "markdown",
   "id": "1fdfe40a",
   "metadata": {},
   "source": [
    "# 空格"
   ]
  },
  {
   "cell_type": "code",
   "execution_count": null,
   "id": "c0d2141a",
   "metadata": {},
   "outputs": [],
   "source": [
    "JavaScript 會忽略多餘的空格。您可以向腳本添加空格，來提高其可讀性。下面的兩行代碼是等效的："
   ]
  },
  {
   "cell_type": "code",
   "execution_count": null,
   "id": "c4a0f204",
   "metadata": {},
   "outputs": [],
   "source": [
    "var person=\"runoob\";\n",
    "var person = \"runoob\";"
   ]
  },
  {
   "cell_type": "markdown",
   "id": "f4a13102",
   "metadata": {},
   "source": [
    "# 對代碼行進行折行"
   ]
  },
  {
   "cell_type": "code",
   "execution_count": null,
   "id": "87cb5a1a",
   "metadata": {},
   "outputs": [],
   "source": [
    "您可以在文本字符串中使用反斜杠對代碼行進行換行。下面的例子會正確地顯示："
   ]
  },
  {
   "cell_type": "code",
   "execution_count": null,
   "id": "bd02f5f4",
   "metadata": {},
   "outputs": [],
   "source": [
    "<!DOCTYPE html>\n",
    "<html>\n",
    "\n",
    "<head>\n",
    "    <meta charset=\"utf-8\">\n",
    "    <title>菜鳥教程</title>\n",
    "</head>\n",
    "\n",
    "<body>\n",
    "    <script>\n",
    "        document.write(\"你好 \\\n",
    "        世界\")\n",
    "    </script>\n",
    "</body>\n",
    "\n",
    "</html>"
   ]
  },
  {
   "cell_type": "raw",
   "id": "e0ee5ce1",
   "metadata": {},
   "source": [
    "不過，您不能像這樣折行："
   ]
  },
  {
   "cell_type": "code",
   "execution_count": null,
   "id": "2bf25566",
   "metadata": {},
   "outputs": [],
   "source": [
    "document.write\\\n",
    "(\"你好世界!\");"
   ]
  },
  {
   "cell_type": "raw",
   "id": "1a655a28",
   "metadata": {},
   "source": [
    "知識點：JavaScript 是腳本語言，瀏覽器會在讀取代碼時，逐行地執行腳本代碼。而對於傳統編程來說，會在執行前對所有代碼進行編譯。"
   ]
  }
 ],
 "metadata": {
  "kernelspec": {
   "display_name": "Python 3",
   "language": "python",
   "name": "python3"
  },
  "language_info": {
   "codemirror_mode": {
    "name": "ipython",
    "version": 3
   },
   "file_extension": ".py",
   "mimetype": "text/x-python",
   "name": "python",
   "nbconvert_exporter": "python",
   "pygments_lexer": "ipython3",
   "version": "3.8.10"
  }
 },
 "nbformat": 4,
 "nbformat_minor": 5
}
