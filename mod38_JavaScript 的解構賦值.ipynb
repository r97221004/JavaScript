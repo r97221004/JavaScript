{
 "cells": [
  {
   "cell_type": "markdown",
   "id": "832fc2a6",
   "metadata": {},
   "source": [
    "# 概述"
   ]
  },
  {
   "cell_type": "raw",
   "id": "f33db905",
   "metadata": {},
   "source": [
    "解構賦值是對賦值運算符的擴展。他是一種針對數組或者對象進行模式匹配，然後對其中的變量進行賦值。\n",
    "在代碼書寫上簡潔且易讀，語義更加清晰明了；也方便了覆雜對象中數據字段獲取。"
   ]
  },
  {
   "cell_type": "markdown",
   "id": "9a30c4e5",
   "metadata": {},
   "source": [
    "# 解構模型"
   ]
  },
  {
   "cell_type": "raw",
   "id": "778dcf50",
   "metadata": {},
   "source": [
    "在解構中，有下面兩部分參與：\n",
    "    - 解構的源，解構賦值表達式的右邊部分。\n",
    "    - 解構的目標，解構賦值表達式的左邊部分。"
   ]
  },
  {
   "cell_type": "markdown",
   "id": "195e5f95",
   "metadata": {},
   "source": [
    "# 數組(Array)模型的解構"
   ]
  },
  {
   "cell_type": "markdown",
   "id": "978963c5",
   "metadata": {},
   "source": [
    "### 基本"
   ]
  },
  {
   "cell_type": "code",
   "execution_count": null,
   "id": "30ea241e",
   "metadata": {},
   "outputs": [],
   "source": [
    "let [a, b, c] = [1, 2, 3];\n",
    "// a = 1\n",
    "// b = 2\n",
    "// c = 3"
   ]
  },
  {
   "cell_type": "markdown",
   "id": "290f4f8a",
   "metadata": {},
   "source": [
    "### 可嵌套"
   ]
  },
  {
   "cell_type": "code",
   "execution_count": null,
   "id": "87491610",
   "metadata": {},
   "outputs": [],
   "source": [
    "let [a, [[b], c]] = [1, [[2], 3]];\n",
    "// a = 1\n",
    "// b = 2\n",
    "// c = 3"
   ]
  },
  {
   "cell_type": "markdown",
   "id": "d9f73c30",
   "metadata": {},
   "source": [
    "### 可忽略"
   ]
  },
  {
   "cell_type": "code",
   "execution_count": null,
   "id": "047d9f6e",
   "metadata": {},
   "outputs": [],
   "source": [
    "let [a, , b] = [1, 2, 3];\n",
    "// a = 1\n",
    "// b = 3"
   ]
  },
  {
   "cell_type": "markdown",
   "id": "909c53d3",
   "metadata": {},
   "source": [
    "### 不完全解構"
   ]
  },
  {
   "cell_type": "code",
   "execution_count": null,
   "id": "29a24691",
   "metadata": {},
   "outputs": [],
   "source": [
    "let [a = 1, b] = []; // a = 1, b = undefined"
   ]
  },
  {
   "cell_type": "markdown",
   "id": "8cc7d7bf",
   "metadata": {},
   "source": [
    "### 剩餘運算符"
   ]
  },
  {
   "cell_type": "code",
   "execution_count": null,
   "id": "59a52b03",
   "metadata": {},
   "outputs": [],
   "source": [
    "let [a, ...b] = [1, 2, 3];\n",
    "//a = 1\n",
    "//b = [2, 3]"
   ]
  },
  {
   "cell_type": "markdown",
   "id": "f2fb9de1",
   "metadata": {},
   "source": [
    "### 字符串等"
   ]
  },
  {
   "cell_type": "raw",
   "id": "1eca604f",
   "metadata": {},
   "source": [
    "在數組的解構中，解構的目標若為可遍歷對象，皆可進行解構賦值。可遍歷對象即實現 Iterator 接口的數據。"
   ]
  },
  {
   "cell_type": "code",
   "execution_count": null,
   "id": "023a4482",
   "metadata": {},
   "outputs": [],
   "source": [
    "let [a, b, c, d, e] = 'hello';\n",
    "// a = 'h'\n",
    "// b = 'e'\n",
    "// c = 'l'\n",
    "// d = 'l'\n",
    "// e = 'o'"
   ]
  },
  {
   "cell_type": "markdown",
   "id": "d1f4d245",
   "metadata": {},
   "source": [
    "### 解構默認值"
   ]
  },
  {
   "cell_type": "code",
   "execution_count": null,
   "id": "25977d96",
   "metadata": {},
   "outputs": [],
   "source": [
    "let [a = 2] = [undefined]; // a = 2"
   ]
  },
  {
   "cell_type": "raw",
   "id": "b5ef4b10",
   "metadata": {},
   "source": [
    "當解構模式有匹配結果，且匹配結果是 undefined 時，會觸發默認值作為返回結果。"
   ]
  },
  {
   "cell_type": "code",
   "execution_count": null,
   "id": "6abf9fe7",
   "metadata": {},
   "outputs": [],
   "source": [
    "let [a = 3, b = a] = [];     // a = 3, b = 3\n",
    "let [a = 3, b = a] = [1];    // a = 1, b = 1\n",
    "let [a = 3, b = a] = [1, 2]; // a = 1, b = 2"
   ]
  },
  {
   "cell_type": "raw",
   "id": "60b0d8ef",
   "metadata": {},
   "source": [
    "a 與 b 匹配結果為 undefined ，觸發默認值: a = 3; b = a = 3\n",
    "a 正常解構賦值，匹配結果: a = 1，b 匹配結果 undefined，觸發默認值: b = a = 1\n",
    "a 與 b 正常解構賦值，匹配結果: a = 1，b = 2"
   ]
  },
  {
   "cell_type": "markdown",
   "id": "402e0bc5",
   "metadata": {},
   "source": [
    "# 對象模型的解構（Object）"
   ]
  },
  {
   "cell_type": "markdown",
   "id": "3d18a177",
   "metadata": {},
   "source": [
    "### 基本"
   ]
  },
  {
   "cell_type": "code",
   "execution_count": null,
   "id": "cc68068e",
   "metadata": {},
   "outputs": [],
   "source": [
    "let { foo, bar } = { foo: 'aaa', bar: 'bbb' };\n",
    "// foo = 'aaa'\n",
    "// bar = 'bbb'\n",
    " \n",
    "let { baz : foo } = { baz : 'ddd' };\n",
    "// foo = 'ddd'"
   ]
  },
  {
   "cell_type": "markdown",
   "id": "312d89ae",
   "metadata": {},
   "source": [
    "### 可嵌套可忽略"
   ]
  },
  {
   "cell_type": "code",
   "execution_count": null,
   "id": "11e983f6",
   "metadata": {},
   "outputs": [],
   "source": [
    "let obj = {p: ['hello', {y: 'world'}] };\n",
    "let {p: [x, { y }] } = obj;\n",
    "// x = 'hello'\n",
    "// y = 'world'\n",
    "\n",
    "let obj = {p: ['hello', {y: 'world'}] };\n",
    "let {p: [x, {  }] } = obj;\n",
    "// x = 'hello'"
   ]
  },
  {
   "cell_type": "markdown",
   "id": "42fd2774",
   "metadata": {},
   "source": [
    "### 不完全解構"
   ]
  },
  {
   "cell_type": "code",
   "execution_count": null,
   "id": "d6f44b39",
   "metadata": {},
   "outputs": [],
   "source": [
    "let obj = {p: [{y: 'world'}] };\n",
    "let {p: [{ y }, x ] } = obj;\n",
    "// x = undefined\n",
    "// y = 'world'"
   ]
  },
  {
   "cell_type": "markdown",
   "id": "b9e62bd2",
   "metadata": {},
   "source": [
    "### 剩餘運算符"
   ]
  },
  {
   "cell_type": "code",
   "execution_count": null,
   "id": "4bf67d9c",
   "metadata": {},
   "outputs": [],
   "source": [
    "let {a, b, ...rest} = {a: 10, b: 20, c: 30, d: 40};\n",
    "// a = 10\n",
    "// b = 20\n",
    "// rest = {c: 30, d: 40}"
   ]
  },
  {
   "cell_type": "markdown",
   "id": "f6c88865",
   "metadata": {},
   "source": [
    "### 解構默認值"
   ]
  },
  {
   "cell_type": "code",
   "execution_count": null,
   "id": "48d30990",
   "metadata": {},
   "outputs": [],
   "source": [
    "let {a = 10, b = 5} = {a: 3};\n",
    "// a = 3; b = 5;\n",
    "let {a: aa = 10, b: bb = 5} = {a: 3};\n",
    "// aa = 3; bb = 5;"
   ]
  }
 ],
 "metadata": {
  "kernelspec": {
   "display_name": "Python 3",
   "language": "python",
   "name": "python3"
  },
  "language_info": {
   "codemirror_mode": {
    "name": "ipython",
    "version": 3
   },
   "file_extension": ".py",
   "mimetype": "text/x-python",
   "name": "python",
   "nbconvert_exporter": "python",
   "pygments_lexer": "ipython3",
   "version": "3.8.10"
  }
 },
 "nbformat": 4,
 "nbformat_minor": 5
}
