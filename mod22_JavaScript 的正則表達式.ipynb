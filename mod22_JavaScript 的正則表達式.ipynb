{
 "cells": [
  {
   "cell_type": "markdown",
   "id": "99b69af0",
   "metadata": {},
   "source": [
    "# JavaScript 正則表達式"
   ]
  },
  {
   "cell_type": "raw",
   "id": "6a2af8a4",
   "metadata": {},
   "source": [
    "正則表達式（英語：Regular Expression，在代碼中常簡寫為 regex、regexp 或 RE）使用單個字符串來描述、匹配一系列符合某個句法規則的字符串搜索模式。搜索模式可用於文本搜索和文本替換。"
   ]
  },
  {
   "cell_type": "markdown",
   "id": "595324ce",
   "metadata": {},
   "source": [
    "# 什麽是正則表達式"
   ]
  },
  {
   "cell_type": "raw",
   "id": "9acd8def",
   "metadata": {},
   "source": [
    "正則表達式是由一個字符序列形成的搜索模式。當你在文本中搜索數據時，你可以用搜索模式來描述你要查詢的內容。正則表達式可以是一個簡單的字符，或一個更覆雜的模式。正則表達式可用於所有文本搜索和文本替換的操作。"
   ]
  },
  {
   "cell_type": "markdown",
   "id": "a1e5fe61",
   "metadata": {},
   "source": [
    "### 語法"
   ]
  },
  {
   "cell_type": "raw",
   "id": "7b1472f7",
   "metadata": {},
   "source": [
    "/正則表達式主體/修飾符(可選)\n",
    "其中修飾符是可選的。"
   ]
  },
  {
   "cell_type": "markdown",
   "id": "5e237127",
   "metadata": {},
   "source": [
    "### 範例"
   ]
  },
  {
   "cell_type": "code",
   "execution_count": null,
   "id": "d7eb8af8",
   "metadata": {},
   "outputs": [],
   "source": [
    "var patt = /runoob/i"
   ]
  },
  {
   "cell_type": "raw",
   "id": "68022dfc",
   "metadata": {},
   "source": [
    "實例解析：\n",
    "    /runoob/i  是一個正則表達式。\n",
    "    runoob  是一個正則表達式主體 (用於檢索)。\n",
    "    i  是一個修飾符 (搜索不區分大小寫)。"
   ]
  },
  {
   "cell_type": "markdown",
   "id": "ab5c47e9",
   "metadata": {},
   "source": [
    "# 使用字符串方法"
   ]
  },
  {
   "cell_type": "raw",
   "id": "a8a6296e",
   "metadata": {},
   "source": [
    "在 JavaScript 中，正則表達式通常用於兩個字符串方法 : search() 和 replace()。\n",
    "    - search() 方法用於檢索字符串中指定的子字符串，或檢索與正則表達式相匹配的子字符串，並返回子串的起始位置。\n",
    "    - replace() 方法用於在字符串中用一些字符串替換另一些字符串，或替換一個與正則表達式匹配的子串。"
   ]
  },
  {
   "cell_type": "markdown",
   "id": "be81a5d2",
   "metadata": {},
   "source": [
    "# search() 方法使用正則表達式"
   ]
  },
  {
   "cell_type": "raw",
   "id": "0602c13f",
   "metadata": {},
   "source": [
    "使用正則表達式搜索 \"Runoob\" 字符串，且不區分大小寫："
   ]
  },
  {
   "cell_type": "raw",
   "id": "73d1828f",
   "metadata": {},
   "source": [
    "輸出結果為： 6"
   ]
  },
  {
   "cell_type": "code",
   "execution_count": null,
   "id": "04abcb89",
   "metadata": {},
   "outputs": [],
   "source": [
    "<!DOCTYPE html>\n",
    "<html>\n",
    "\n",
    "<head>\n",
    "    <meta charset=\"utf-8\">\n",
    "    <title>菜鳥教程</title>\n",
    "</head>\n",
    "\n",
    "<body>\n",
    "\n",
    "    <p>搜索字符串 \"runoob\", 並顯示匹配的起始位置：</p>\n",
    "    <button onclick=\"myFunction()\">點我</button>\n",
    "    <p id=\"demo\"></p>\n",
    "    <script>\n",
    "        function myFunction() {\n",
    "            var str = \"Visit Runoob!\";\n",
    "            var n = str.search(/Runoob/i);\n",
    "            document.getElementById(\"demo\").innerHTML = n;\n",
    "        }\n",
    "    </script>\n",
    "\n",
    "</body>\n",
    "\n",
    "</html>"
   ]
  },
  {
   "cell_type": "markdown",
   "id": "7d2a7df6",
   "metadata": {},
   "source": [
    "# search() 方法使用字符串"
   ]
  },
  {
   "cell_type": "code",
   "execution_count": null,
   "id": "1ea6cfd1",
   "metadata": {},
   "outputs": [],
   "source": [
    "search 方法可使用字符串作為參數。字符串參數會轉換為正則表達式："
   ]
  },
  {
   "cell_type": "code",
   "execution_count": null,
   "id": "ccb2c80d",
   "metadata": {},
   "outputs": [],
   "source": [
    "var str = \"Visit Runoob!\"; \n",
    "var n = str.search(\"Runoob\");"
   ]
  },
  {
   "cell_type": "markdown",
   "id": "bbe2e582",
   "metadata": {},
   "source": [
    "# replace() 方法使用正則表達式"
   ]
  },
  {
   "cell_type": "raw",
   "id": "25fcb41e",
   "metadata": {},
   "source": [
    "使用正則表達式且不區分大小寫將字符串中的 Microsoft 替換為 Runoob :"
   ]
  },
  {
   "cell_type": "raw",
   "id": "e2f62f99",
   "metadata": {},
   "source": [
    "結果輸出為: Visit Runoob!"
   ]
  },
  {
   "cell_type": "code",
   "execution_count": null,
   "id": "dd8c1914",
   "metadata": {},
   "outputs": [],
   "source": [
    "<!DOCTYPE html>\n",
    "<html>\n",
    "\n",
    "<head>\n",
    "    <meta charset=\"utf-8\">\n",
    "    <title>菜鳥教程</title>\n",
    "</head>\n",
    "\n",
    "<body>\n",
    "\n",
    "    <p>替換 \"microsoft\" 為 \"Runoob\" :</p>\n",
    "    <button onclick=\"myFunction()\">點我</button>\n",
    "    <p id=\"demo\">Visit Microsoft!</p>\n",
    "    <script>\n",
    "        function myFunction() {\n",
    "            var str = document.getElementById(\"demo\").innerHTML;\n",
    "            var txt = str.replace(/microsoft/i, \"Runoob\");\n",
    "            document.getElementById(\"demo\").innerHTML = txt;\n",
    "        }\n",
    "    </script>\n",
    "\n",
    "</body>\n",
    "\n",
    "</html>"
   ]
  },
  {
   "cell_type": "markdown",
   "id": "72ed6d26",
   "metadata": {},
   "source": [
    "# replace() 方法使用字符串"
   ]
  },
  {
   "cell_type": "raw",
   "id": "a81ee7f5",
   "metadata": {},
   "source": [
    "replace() 方法將接收字符串作為參數："
   ]
  },
  {
   "cell_type": "code",
   "execution_count": null,
   "id": "af3c65ce",
   "metadata": {},
   "outputs": [],
   "source": [
    "var str = document.getElementById(\"demo\").innerHTML; \n",
    "var txt = str.replace(\"Microsoft\",\"Runoob\");"
   ]
  },
  {
   "cell_type": "raw",
   "id": "97a95c2f",
   "metadata": {},
   "source": [
    "正則表達式參數可用在以上方法中 (替代字符串參數)。正則表達式使得搜索功能更加強大(如實例中不區分大小寫)。"
   ]
  },
  {
   "cell_type": "markdown",
   "id": "175c97b4",
   "metadata": {},
   "source": [
    "# 正則表達式修飾符"
   ]
  },
  {
   "cell_type": "raw",
   "id": "ff1365c9",
   "metadata": {},
   "source": [
    "修飾符 可以在全局搜索中不區分大小寫:"
   ]
  },
  {
   "cell_type": "markdown",
   "id": "4ca8b6e0",
   "metadata": {},
   "source": [
    "<img src='./images/11.png'>"
   ]
  },
  {
   "cell_type": "markdown",
   "id": "ca2026cb",
   "metadata": {},
   "source": [
    "# 正則表達式模式"
   ]
  },
  {
   "cell_type": "code",
   "execution_count": null,
   "id": "98cc4818",
   "metadata": {},
   "outputs": [],
   "source": [
    "方括號用於查找某個範圍內的字符："
   ]
  },
  {
   "cell_type": "markdown",
   "id": "ad2d4a46",
   "metadata": {},
   "source": [
    "<img src='./images/12.png'>"
   ]
  },
  {
   "cell_type": "raw",
   "id": "f0dc13e2",
   "metadata": {},
   "source": [
    "元字符是擁有特殊含義的字符："
   ]
  },
  {
   "cell_type": "markdown",
   "id": "4eac417d",
   "metadata": {},
   "source": [
    "<img src='./images/13.png'>"
   ]
  },
  {
   "cell_type": "raw",
   "id": "cda60d2f",
   "metadata": {},
   "source": [
    "量詞:"
   ]
  },
  {
   "cell_type": "markdown",
   "id": "fcf24b5f",
   "metadata": {},
   "source": [
    "<img src='./images/14.png'>"
   ]
  },
  {
   "cell_type": "markdown",
   "id": "a4a854bf",
   "metadata": {},
   "source": [
    "# 使用 RegExp 對象"
   ]
  },
  {
   "cell_type": "raw",
   "id": "95272be5",
   "metadata": {},
   "source": [
    "在 JavaScript 中，RegExp 對象是一個預定義了屬性和方法的正則表達式對象。"
   ]
  },
  {
   "cell_type": "markdown",
   "id": "d6cf2215",
   "metadata": {},
   "source": [
    "# 使用 test()"
   ]
  },
  {
   "cell_type": "raw",
   "id": "3caa1921",
   "metadata": {},
   "source": [
    "test() 方法是一個正則表達式方法。\n",
    "test() 方法用於檢測一個字符串是否匹配某個模式，如果字符串中含有匹配的文本，則返回 true，否則返回 false。\n",
    "以下實例用於搜索字符串中的字符 \"e\"："
   ]
  },
  {
   "cell_type": "code",
   "execution_count": null,
   "id": "b45b9a70",
   "metadata": {},
   "outputs": [],
   "source": [
    "<!DOCTYPE html>\n",
    "<html>\n",
    "\n",
    "<head>\n",
    "    <meta charset=\"utf-8\">\n",
    "    <title>菜鳥教程</title>\n",
    "</head>\n",
    "\n",
    "<body>\n",
    "\n",
    "    <script>\n",
    "        var patt1 = new RegExp(\"e\");\n",
    "        document.write(patt1.test(\"The best things in life are free\"));\n",
    "    </script>\n",
    "\n",
    "</body>\n",
    "\n",
    "</html>"
   ]
  },
  {
   "cell_type": "raw",
   "id": "c74537ad",
   "metadata": {},
   "source": [
    "字符串中含有 \"e\"，所以該實例輸出為： true"
   ]
  },
  {
   "cell_type": "raw",
   "id": "a51e166b",
   "metadata": {},
   "source": [
    "你可以不用設置正則表達式的變量，以上兩行代碼可以合並為一行：\n",
    "/e/.test(\"The best things in life are free!\")"
   ]
  },
  {
   "cell_type": "markdown",
   "id": "7f3cec72",
   "metadata": {},
   "source": [
    "# 使用 exec()"
   ]
  },
  {
   "cell_type": "raw",
   "id": "1e0e6752",
   "metadata": {},
   "source": [
    "exec() 方法是一個正則表達式方法。\n",
    "exec() 方法用於檢索字符串中的正則表達式的匹配。\n",
    "該函數返回一個數組，其中存放匹配的結果。如果未找到匹配，則返回值為 null。\n",
    "以下實例用於搜索字符串中的字母 \"e\":"
   ]
  },
  {
   "cell_type": "code",
   "execution_count": null,
   "id": "dc2c23e2",
   "metadata": {},
   "outputs": [],
   "source": [
    "<!DOCTYPE html>\n",
    "<html>\n",
    "\n",
    "<head>\n",
    "    <meta charset=\"utf-8\">\n",
    "    <title>菜鳥教程</title>\n",
    "</head>\n",
    "\n",
    "<body>\n",
    "\n",
    "    <script>\n",
    "        var patt1 = new RegExp(\"e\");\n",
    "        document.write(patt1.exec(\"The best things in life are free\"));\n",
    "    </script>\n",
    "\n",
    "</body>\n",
    "\n",
    "</html>"
   ]
  },
  {
   "cell_type": "raw",
   "id": "e26cbcf3",
   "metadata": {},
   "source": [
    "字符串中含有 \"e\"，所以該實例輸出為: e"
   ]
  },
  {
   "cell_type": "markdown",
   "id": "aded3fdb",
   "metadata": {},
   "source": [
    "### 範例: JS 判斷輸入字符串是否為數字、字母、下劃線組成"
   ]
  },
  {
   "cell_type": "code",
   "execution_count": null,
   "id": "b6d5f7cc",
   "metadata": {},
   "outputs": [],
   "source": [
    "function isValid(str) { return /^\\w+$/.test(str); }\n",
    "str = \"1234abd__\"\n",
    "document.write(isValid(str));\n",
    "document.write(\"<br>\");\n",
    "\n",
    "str2 = \"$32343#\"\n",
    "document.write(isValid(str2));\n",
    "document.write(\"<br>\");"
   ]
  },
  {
   "cell_type": "raw",
   "id": "cba6b214",
   "metadata": {},
   "source": [
    "使用正則表達式的方式來判斷。\n",
    "\n",
    "true\n",
    "false"
   ]
  },
  {
   "cell_type": "markdown",
   "id": "1f02e6d4",
   "metadata": {},
   "source": [
    "### 範例: JS 判斷輸入字符串是否全部為字母"
   ]
  },
  {
   "cell_type": "code",
   "execution_count": null,
   "id": "819a91aa",
   "metadata": {},
   "outputs": [],
   "source": [
    "val = \"123456\"\n",
    "var isletter = /^[a-zA-Z]+$/.test(val);\n",
    "document.write(isletter);\n",
    "document.write(\"<br>\");\n",
    "\n",
    "val2 = \"asaaa\"\n",
    "var isletter2 = /^[a-zA-Z]+$/.test(val2);\n",
    "document.write(isletter2);"
   ]
  },
  {
   "cell_type": "raw",
   "id": "9e4c2a86",
   "metadata": {},
   "source": [
    "使用正則表達式的方式來判斷。\n",
    "\n",
    "false\n",
    "true"
   ]
  },
  {
   "cell_type": "markdown",
   "id": "b878c268",
   "metadata": {},
   "source": [
    "### 範例: JS 判斷輸入字符串是否全部為數字"
   ]
  },
  {
   "cell_type": "code",
   "execution_count": null,
   "id": "14a3d5eb",
   "metadata": {},
   "outputs": [],
   "source": [
    "val = \"123456\"\n",
    "var isnum = /^\\d+$/.test(val);\n",
    "document.write(isnum);\n",
    "document.write(\"<br>\");\n",
    "\n",
    "val2 = \"as123\"\n",
    "var isnum2 = /^\\d+$/.test(val2);\n",
    "document.write(isnum2);"
   ]
  },
  {
   "cell_type": "raw",
   "id": "e2f8440e",
   "metadata": {},
   "source": [
    "使用正則表達式的方式來判斷。\n",
    "\n",
    "true\n",
    "false"
   ]
  },
  {
   "cell_type": "markdown",
   "id": "5bb46cdd",
   "metadata": {},
   "source": [
    "# 完整的 RegExp 參考手冊"
   ]
  },
  {
   "cell_type": "raw",
   "id": "6356210f",
   "metadata": {},
   "source": [
    "完整的 RegExp 對象參考手冊，請參考我們的 JavaScript RegExp 參考手冊。該參考手冊包含了所有 RegExp 對象的方法和屬性。"
   ]
  }
 ],
 "metadata": {
  "kernelspec": {
   "display_name": "Python 3",
   "language": "python",
   "name": "python3"
  },
  "language_info": {
   "codemirror_mode": {
    "name": "ipython",
    "version": 3
   },
   "file_extension": ".py",
   "mimetype": "text/x-python",
   "name": "python",
   "nbconvert_exporter": "python",
   "pygments_lexer": "ipython3",
   "version": "3.8.10"
  }
 },
 "nbformat": 4,
 "nbformat_minor": 5
}
