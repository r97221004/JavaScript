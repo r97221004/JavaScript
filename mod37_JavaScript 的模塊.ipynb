{
 "cells": [
  {
   "cell_type": "markdown",
   "id": "96558880",
   "metadata": {},
   "source": [
    "# Modules"
   ]
  },
  {
   "cell_type": "raw",
   "id": "6d4cf1ed",
   "metadata": {},
   "source": [
    "JavaScript modules allow you to break up your code into separate files. This makes it easier to maintain the code-base.\n",
    "JavaScript modules rely on the import and export statements."
   ]
  },
  {
   "cell_type": "markdown",
   "id": "73875f8e",
   "metadata": {},
   "source": [
    "# Export"
   ]
  },
  {
   "cell_type": "raw",
   "id": "6b988d3a",
   "metadata": {},
   "source": [
    "You can export a function or variable from any file. Let us create a file named person.js, and fill it with the things we want to export. There are two types of exports: Named and Default."
   ]
  },
  {
   "cell_type": "markdown",
   "id": "cec963e4",
   "metadata": {},
   "source": [
    "### Named Exports"
   ]
  },
  {
   "cell_type": "raw",
   "id": "7ab95d35",
   "metadata": {},
   "source": [
    "You can create named exports two ways. In-line individually, or all at once at the bottom."
   ]
  },
  {
   "cell_type": "markdown",
   "id": "251328be",
   "metadata": {},
   "source": [
    "##### method1: In-line individually"
   ]
  },
  {
   "cell_type": "raw",
   "id": "f514f90b",
   "metadata": {},
   "source": [
    "person.js 檔"
   ]
  },
  {
   "cell_type": "code",
   "execution_count": null,
   "id": "41eda385",
   "metadata": {},
   "outputs": [],
   "source": [
    "export const name = \"Jesse\";\n",
    "export const age = 40;"
   ]
  },
  {
   "cell_type": "markdown",
   "id": "a8294c17",
   "metadata": {},
   "source": [
    "##### method2: All at once at the bottom:"
   ]
  },
  {
   "cell_type": "raw",
   "id": "6ba135a8",
   "metadata": {},
   "source": [
    "person.js 檔"
   ]
  },
  {
   "cell_type": "code",
   "execution_count": null,
   "id": "d35f33db",
   "metadata": {},
   "outputs": [],
   "source": [
    "const name = \"Jesse\";\n",
    "const age = 40;\n",
    "\n",
    "export {name, age};"
   ]
  },
  {
   "cell_type": "markdown",
   "id": "1e29e0b9",
   "metadata": {},
   "source": [
    "### Default Exports"
   ]
  },
  {
   "cell_type": "raw",
   "id": "5f837062",
   "metadata": {},
   "source": [
    "Let us create another file, named message.js, and use it for demonstrating default export. You can only have one default export in a file."
   ]
  },
  {
   "cell_type": "raw",
   "id": "8aac42bf",
   "metadata": {},
   "source": [
    "message.js 檔"
   ]
  },
  {
   "cell_type": "code",
   "execution_count": null,
   "id": "8f0a64c5",
   "metadata": {},
   "outputs": [],
   "source": [
    "const message = () => {\n",
    "    const name = \"Jesse\";\n",
    "    const age = 40;\n",
    "    return name + ' is ' + age + 'years old.';\n",
    "};\n",
    "\n",
    "export default message;"
   ]
  },
  {
   "cell_type": "markdown",
   "id": "2260dd2c",
   "metadata": {},
   "source": [
    "# import "
   ]
  },
  {
   "cell_type": "raw",
   "id": "81bad0a1",
   "metadata": {},
   "source": [
    "You can import modules into a file in two ways, based on if they are named exports or default exports. Named exports are constructed using curly braces. Default exports are not."
   ]
  },
  {
   "cell_type": "markdown",
   "id": "6d6f9a47",
   "metadata": {},
   "source": [
    "### Import from named exports"
   ]
  },
  {
   "cell_type": "markdown",
   "id": "dad8d753",
   "metadata": {},
   "source": [
    "錯誤訊息解決方案: https://blog.csdn.net/KateCateCake/article/details/79045211"
   ]
  },
  {
   "cell_type": "code",
   "execution_count": null,
   "id": "5cf05fe1",
   "metadata": {},
   "outputs": [],
   "source": [
    "<!DOCTYPE html>\n",
    "<html>\n",
    "<body>\n",
    "<h1>JavaScript Modules</h1>\n",
    "\n",
    "<p id=\"demo\"></p>\n",
    "\n",
    "<script type=\"module\">\n",
    "import { name, age } from \"./person.js\";\n",
    "\n",
    "let text = \"My name is \" + name + \", I am \" + age + \".\";\n",
    "\n",
    "document.getElementById(\"demo\").innerHTML = text;\n",
    "</script>\n",
    "\n",
    "</body>\n",
    "</html>"
   ]
  },
  {
   "cell_type": "markdown",
   "id": "d91a0f75",
   "metadata": {},
   "source": [
    "### Import from default exports"
   ]
  },
  {
   "cell_type": "code",
   "execution_count": null,
   "id": "08a03b4a",
   "metadata": {},
   "outputs": [],
   "source": [
    "<!DOCTYPE html>\n",
    "<html>\n",
    "<body>\n",
    "<h1>JavaScript Modules</h1>\n",
    "\n",
    "<p id=\"demo\"></p>\n",
    "\n",
    "<script type=\"module\">\n",
    "import message from \"./message.js\";\n",
    "\n",
    "document.getElementById(\"demo\").innerHTML = message();\n",
    "\n",
    "</script>\n",
    "\n",
    "</body>\n",
    "</html>"
   ]
  },
  {
   "cell_type": "markdown",
   "id": "a10ffd64",
   "metadata": {},
   "source": [
    "# Note"
   ]
  },
  {
   "cell_type": "raw",
   "id": "75fed552",
   "metadata": {},
   "source": [
    "Modules only work with the HTTP(s) protocol.\n",
    "A web-page opened via the file:// protocol cannot use import / export."
   ]
  },
  {
   "cell_type": "markdown",
   "id": "b73c7b93",
   "metadata": {},
   "source": [
    "# 範例"
   ]
  },
  {
   "cell_type": "raw",
   "id": "2f96fe44",
   "metadata": {},
   "source": [
    "export [test.js]"
   ]
  },
  {
   "cell_type": "code",
   "execution_count": null,
   "id": "32510c2b",
   "metadata": {},
   "outputs": [],
   "source": [
    "let myName = \"Tom\";\n",
    "export { myName as exportName }"
   ]
  },
  {
   "cell_type": "raw",
   "id": "c9b4ec84",
   "metadata": {},
   "source": [
    "import [xxx.js]"
   ]
  },
  {
   "cell_type": "code",
   "execution_count": null,
   "id": "3e805907",
   "metadata": {},
   "outputs": [],
   "source": [
    "import { exportName } from \"./test.js\";\n",
    "console.log(exportName);// Tom"
   ]
  },
  {
   "cell_type": "markdown",
   "id": "5afc0bb7",
   "metadata": {},
   "source": [
    "---"
   ]
  },
  {
   "cell_type": "raw",
   "id": "f951382b",
   "metadata": {},
   "source": [
    "使用 as 重新定義導出的接口名稱，隱藏模塊內部的變量。"
   ]
  },
  {
   "cell_type": "raw",
   "id": "fb7fa3e1",
   "metadata": {},
   "source": [
    "export [test1.js]"
   ]
  },
  {
   "cell_type": "code",
   "execution_count": null,
   "id": "563d5182",
   "metadata": {},
   "outputs": [],
   "source": [
    "let myName = \"Tom\";\n",
    "export { myName }"
   ]
  },
  {
   "cell_type": "code",
   "execution_count": null,
   "id": "9e3b9712",
   "metadata": {},
   "outputs": [],
   "source": [
    "export [test2.js]\n",
    "let myName = \"Jerry\";\n",
    "export { myName }"
   ]
  },
  {
   "cell_type": "raw",
   "id": "5523c0d4",
   "metadata": {},
   "source": [
    "import [xxx.js]"
   ]
  },
  {
   "cell_type": "code",
   "execution_count": null,
   "id": "5ccca8e2",
   "metadata": {},
   "outputs": [],
   "source": [
    "import { myName as name1 } from \"./test1.js\";\n",
    "import { myName as name2 } from \"./test2.js\";\n",
    "console.log(name1);// Tom\n",
    "console.log(name2);// Jerry"
   ]
  },
  {
   "cell_type": "markdown",
   "id": "80305b93",
   "metadata": {},
   "source": [
    "### import 命令的特點"
   ]
  },
  {
   "cell_type": "markdown",
   "id": "47b262ce",
   "metadata": {},
   "source": [
    "##### 只讀屬性"
   ]
  },
  {
   "cell_type": "raw",
   "id": "8b0d6068",
   "metadata": {},
   "source": [
    "不允許在加載模塊的腳本裏面，改寫接口的引用指向，即可以改寫 import 變量類型為對象的屬性值，不能改寫 import 變量類型為基本類型的值。"
   ]
  },
  {
   "cell_type": "code",
   "execution_count": null,
   "id": "e6846086",
   "metadata": {},
   "outputs": [],
   "source": [
    "import {a} from \"./xxx.js\"\n",
    "a = {}; // error\n",
    " \n",
    "import {a} from \"./xxx.js\"\n",
    "a.foo = \"hello\"; // a = { foo : 'hello' }"
   ]
  },
  {
   "cell_type": "markdown",
   "id": "952f184e",
   "metadata": {},
   "source": [
    "##### 單例模式"
   ]
  },
  {
   "cell_type": "raw",
   "id": "0e347c27",
   "metadata": {},
   "source": [
    "多次重覆執行同一句 import 語句，那麽只會執行一次，而不會執行多次。import 同一模塊，聲明不同接口引用，會聲明對應變量，但只執行一次 import 。"
   ]
  },
  {
   "cell_type": "code",
   "execution_count": null,
   "id": "7575178f",
   "metadata": {},
   "outputs": [],
   "source": [
    "import { a } \"./xxx.js\";\n",
    "import { a } \"./xxx.js\";\n",
    "// 相當於 import { a } \"./xxx.js\";"
   ]
  },
  {
   "cell_type": "code",
   "execution_count": null,
   "id": "a178a27b",
   "metadata": {},
   "outputs": [],
   "source": [
    "import { a } from \"./xxx.js\";\n",
    "import { b } from \"./xxx.js\";\n",
    "// 相當於 import { a, b } from \"./xxx.js\";"
   ]
  },
  {
   "cell_type": "markdown",
   "id": "5d636592",
   "metadata": {},
   "source": [
    "##### 靜態執行特性：import 是靜態執行，所以不能使用表達式和變量。"
   ]
  },
  {
   "cell_type": "code",
   "execution_count": null,
   "id": "630afd20",
   "metadata": {},
   "outputs": [],
   "source": [
    "import { \"f\" + \"oo\" } from \"methods\";\n",
    "// error"
   ]
  },
  {
   "cell_type": "code",
   "execution_count": null,
   "id": "ecb55b3e",
   "metadata": {},
   "outputs": [],
   "source": [
    "let module = \"methods\";\n",
    "import { foo } from module;\n",
    "// error"
   ]
  },
  {
   "cell_type": "code",
   "execution_count": null,
   "id": "84137924",
   "metadata": {},
   "outputs": [],
   "source": [
    "if (true) {\n",
    "  import { foo } from \"method1\";\n",
    "} else {\n",
    "  import { foo } from \"method2\";\n",
    "}\n",
    "// error"
   ]
  },
  {
   "cell_type": "markdown",
   "id": "cbb384f4",
   "metadata": {},
   "source": [
    "### export default 命令"
   ]
  },
  {
   "cell_type": "raw",
   "id": "51b35d8b",
   "metadata": {},
   "source": [
    "在一個文件或模塊中，export、import 可以有多個，export default 僅有一個。\n",
    "export default 中的 default 是對應的導出接口變量。\n",
    "通過 export 方式導出，在導入時要加{ }，export default 則不需要。\n",
    "export default 向外暴露的成員，可以使用任意變量來接收。"
   ]
  },
  {
   "cell_type": "code",
   "execution_count": null,
   "id": "fa280c18",
   "metadata": {},
   "outputs": [],
   "source": [
    "var a = \"My name is Tom!\";\n",
    "export default a; // 僅有一個\n",
    "export default var c = \"error\"; \n",
    "// error，default 已經是對應的導出變量，不能跟著變量聲明語句\n",
    " "
   ]
  },
  {
   "cell_type": "code",
   "execution_count": null,
   "id": "01fa7665",
   "metadata": {},
   "outputs": [],
   "source": [
    "import b from \"./xxx.js\"; // 不需要加{}， 使用任意變量接收"
   ]
  }
 ],
 "metadata": {
  "kernelspec": {
   "display_name": "Python 3",
   "language": "python",
   "name": "python3"
  },
  "language_info": {
   "codemirror_mode": {
    "name": "ipython",
    "version": 3
   },
   "file_extension": ".py",
   "mimetype": "text/x-python",
   "name": "python",
   "nbconvert_exporter": "python",
   "pygments_lexer": "ipython3",
   "version": "3.8.10"
  }
 },
 "nbformat": 4,
 "nbformat_minor": 5
}
