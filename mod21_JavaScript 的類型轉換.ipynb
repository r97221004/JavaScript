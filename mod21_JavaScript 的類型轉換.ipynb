{
 "cells": [
  {
   "cell_type": "markdown",
   "id": "f23e5755",
   "metadata": {},
   "source": [
    "# JavaScript 類型轉換(Type conversion)"
   ]
  },
  {
   "cell_type": "raw",
   "id": "030956e3",
   "metadata": {},
   "source": [
    "Number() 轉換為數字， String() 轉換為字符串， Boolean() 轉換為布爾值。"
   ]
  },
  {
   "cell_type": "markdown",
   "id": "06deac91",
   "metadata": {},
   "source": [
    "# JavaScript 數據類型"
   ]
  },
  {
   "cell_type": "raw",
   "id": "4cc47e11",
   "metadata": {},
   "source": [
    "在 JavaScript 中有 6 種不同的數據類型：\n",
    "\n",
    "    string\n",
    "    number\n",
    "    boolean\n",
    "    object\n",
    "    function\n",
    "    symbol\n",
    "\n",
    "3 種對象類型：\n",
    "\n",
    "    Object\n",
    "    Date\n",
    "    Array\n",
    "    \n",
    "2 個不包含任何值的數據類型：\n",
    "\n",
    "    null\n",
    "    undefined"
   ]
  },
  {
   "cell_type": "markdown",
   "id": "e247cc2c",
   "metadata": {},
   "source": [
    "# typeof 操作符"
   ]
  },
  {
   "cell_type": "raw",
   "id": "d955eae3",
   "metadata": {},
   "source": [
    "你可以使用 typeof 操作符來查看 JavaScript 變量的數據類型。"
   ]
  },
  {
   "cell_type": "code",
   "execution_count": null,
   "id": "ca5f0505",
   "metadata": {},
   "outputs": [],
   "source": [
    "<!DOCTYPE html>\n",
    "<html>\n",
    "\n",
    "<head>\n",
    "    <meta charset=\"utf-8\">\n",
    "    <title>菜鳥教程</title>\n",
    "</head>\n",
    "\n",
    "<body>\n",
    "\n",
    "    <p> typeof 操作符返回變量、對象、函數、表達式的類型。</p>\n",
    "    <p id=\"demo\"></p>\n",
    "    <script>\n",
    "        document.getElementById(\"demo\").innerHTML =\n",
    "            typeof \"john\" + \"<br>\" +\n",
    "            typeof 3.14 + \"<br>\" +\n",
    "            typeof NaN + \"<br>\" +\n",
    "            typeof false + \"<br>\" +\n",
    "            typeof [1, 2, 3, 4] + \"<br>\" +\n",
    "            typeof { name: 'john', age: 34 } + \"<br>\" +\n",
    "            typeof new Date() + \"<br>\" +\n",
    "            typeof function () { } + \"<br>\" +\n",
    "            typeof myCar + \"<br>\" +\n",
    "            typeof null;\n",
    "    </script>\n",
    "\n",
    "</body>\n",
    "\n",
    "</html>"
   ]
  },
  {
   "cell_type": "raw",
   "id": "8f3d0dd3",
   "metadata": {},
   "source": [
    "請注意：\n",
    "\n",
    "1. NaN 的數據類型是 number\n",
    "2. 數組(Array)的數據類型是 object\n",
    "3. 日期(Date)的數據類型為 object\n",
    "4. null 的數據類型是 object\n",
    "5. 未定義變量的數據類型為 undefined\n",
    "6. 如果對象是 JavaScript Array 或 JavaScript Date ，我們就無法通過 typeof 來判斷他們的類型，因為都是返回 object。"
   ]
  },
  {
   "cell_type": "markdown",
   "id": "35a68174",
   "metadata": {},
   "source": [
    "# constructor 屬性"
   ]
  },
  {
   "cell_type": "raw",
   "id": "1ad6900e",
   "metadata": {},
   "source": [
    "constructor 屬性返回所有 JavaScript 變量的構造函數。"
   ]
  },
  {
   "cell_type": "code",
   "execution_count": null,
   "id": "99a456d4",
   "metadata": {},
   "outputs": [],
   "source": [
    "<!DOCTYPE html>\n",
    "<html>\n",
    "\n",
    "<head>\n",
    "    <meta charset=\"utf-8\">\n",
    "    <title>菜鳥教程</title>\n",
    "</head>\n",
    "\n",
    "<body>\n",
    "\n",
    "    <p> constructor 屬性返回變量或對象的構造函數。</p>\n",
    "    <p id=\"demo\"></p>\n",
    "    <script>\n",
    "        document.getElementById(\"demo\").innerHTML =\n",
    "            \"john\".constructor + \"<br>\" +\n",
    "            (3.14).constructor + \"<br>\" +\n",
    "            false.constructor + \"<br>\" +\n",
    "            [1, 2, 3, 4].constructor + \"<br>\" +\n",
    "            { name: 'john', age: 34 }.constructor + \"<br>\" +\n",
    "            new Date().constructor + \"<br>\" +\n",
    "            function () { }.constructor;\n",
    "    </script>\n",
    "\n",
    "</body>\n",
    "\n",
    "</html>"
   ]
  },
  {
   "cell_type": "raw",
   "id": "490c20e6",
   "metadata": {},
   "source": [
    "\"John\".constructor                 // 返回函數 String()  { [native code] }\n",
    "(3.14).constructor                 // 返回函數 Number()  { [native code] }\n",
    "false.constructor                  // 返回函數 Boolean() { [native code] }\n",
    "[1,2,3,4].constructor              // 返回函數 Array()   { [native code] }\n",
    "{name:'John', age:34}.constructor  // 返回函數 Object()  { [native code] }\n",
    "new Date().constructor             // 返回函數 Date()    { [native code] }\n",
    "function () {}.constructor         // 返回函數 Function(){ [native code] }"
   ]
  },
  {
   "cell_type": "raw",
   "id": "aa08a0cb",
   "metadata": {},
   "source": [
    "你可以使用 constructor 屬性來查看對象是否為數組 (包含字符串 \"Array\"):"
   ]
  },
  {
   "cell_type": "code",
   "execution_count": null,
   "id": "3a75f15b",
   "metadata": {},
   "outputs": [],
   "source": [
    "<!DOCTYPE html>\n",
    "<html>\n",
    "\n",
    "<head>\n",
    "    <meta charset=\"utf-8\">\n",
    "    <title>菜鳥教程</title>\n",
    "</head>\n",
    "\n",
    "<body>\n",
    "\n",
    "    <p>判斷是否為數組。</p>\n",
    "    <p id=\"demo\"></p>\n",
    "    <script>\n",
    "        var fruits = [\"Banana\", \"Orange\", \"Apple\", \"Mango\"];\n",
    "        document.getElementById(\"demo\").innerHTML = isArray(fruits);\n",
    "        function isArray(myArray) {\n",
    "            return myArray.constructor.toString().indexOf(\"Array\") > -1;\n",
    "        }\n",
    "    </script>\n",
    "\n",
    "</body>\n",
    "\n",
    "</html>"
   ]
  },
  {
   "cell_type": "raw",
   "id": "4c2870f5",
   "metadata": {},
   "source": [
    "你可以使用 constructor 屬性來查看對象是否為日期 (包含字符串 \"Date\"):"
   ]
  },
  {
   "cell_type": "code",
   "execution_count": null,
   "id": "b6417ad0",
   "metadata": {},
   "outputs": [],
   "source": [
    "<!DOCTYPE html>\n",
    "<html>\n",
    "\n",
    "<head>\n",
    "    <meta charset=\"utf-8\">\n",
    "    <title>菜鳥教程</title>\n",
    "</head>\n",
    "\n",
    "<body>\n",
    "\n",
    "    <p>判斷是否為日期。</p>\n",
    "    <p id=\"demo\"></p>\n",
    "    <script>\n",
    "        var myDate = new Date();\n",
    "        document.getElementById(\"demo\").innerHTML = isDate(myDate);\n",
    "        function isDate(myDate) {\n",
    "            return myDate.constructor.toString().indexOf(\"Date\") > -1;\n",
    "        }\n",
    "    </script>\n",
    "\n",
    "</body>\n",
    "\n",
    "</html>"
   ]
  },
  {
   "cell_type": "markdown",
   "id": "be3a7efc",
   "metadata": {},
   "source": [
    "# JavaScript 類型轉換"
   ]
  },
  {
   "cell_type": "raw",
   "id": "583df244",
   "metadata": {},
   "source": [
    "JavaScript 變量可以轉換為新變量或其他數據類型：\n",
    "\n",
    "    通過使用 JavaScript 函數\n",
    "    通過 JavaScript 自身自動轉換"
   ]
  },
  {
   "cell_type": "markdown",
   "id": "da085a5a",
   "metadata": {},
   "source": [
    "# 將數字轉換為字符串"
   ]
  },
  {
   "cell_type": "raw",
   "id": "b6e7db43",
   "metadata": {},
   "source": [
    "全局方法 String() 可以將數字轉換為字符串。該方法可用於任何類型的數字，字母，變量，表達式："
   ]
  },
  {
   "cell_type": "code",
   "execution_count": null,
   "id": "1191bf4b",
   "metadata": {},
   "outputs": [],
   "source": [
    "String(x)         // 將變量 x 轉換為字符串並返回\n",
    "String(123)       // 將數字 123 轉換為字符串並返回\n",
    "String(100 + 23)  // 將數字表達式轉換為字符串並返回"
   ]
  },
  {
   "cell_type": "raw",
   "id": "71f8f656",
   "metadata": {},
   "source": [
    "Number 方法 toString() 也是有同樣的效果。"
   ]
  },
  {
   "cell_type": "code",
   "execution_count": null,
   "id": "a0359a45",
   "metadata": {},
   "outputs": [],
   "source": [
    "x.toString()\n",
    "(123).toString()\n",
    "(100 + 23).toString()"
   ]
  },
  {
   "cell_type": "raw",
   "id": "b49bdfff",
   "metadata": {},
   "source": [
    "在 Number 方法 章節中，你可以找到更多數字轉換為字符串的方法："
   ]
  },
  {
   "cell_type": "markdown",
   "id": "d0d4a1e4",
   "metadata": {},
   "source": [
    "<img src='./images/7.png'>"
   ]
  },
  {
   "cell_type": "markdown",
   "id": "a1a6ba9f",
   "metadata": {},
   "source": [
    "# 將布爾值轉換為字符串"
   ]
  },
  {
   "cell_type": "code",
   "execution_count": null,
   "id": "a8ac7f4c",
   "metadata": {},
   "outputs": [],
   "source": [
    "全局方法 String() 可以將布爾值轉換為字符串。\n",
    "\n",
    "String(false)        // 返回 \"false\"\n",
    "String(true)         // 返回 \"true\""
   ]
  },
  {
   "cell_type": "code",
   "execution_count": null,
   "id": "7ff4b07c",
   "metadata": {},
   "outputs": [],
   "source": [
    "Boolean 方法 toString() 也有相同的效果。\n",
    "\n",
    "false.toString()     // 返回 \"false\"\n",
    "true.toString()      // 返回 \"true\""
   ]
  },
  {
   "cell_type": "markdown",
   "id": "25b0b234",
   "metadata": {},
   "source": [
    "# 將日期轉換為字符串"
   ]
  },
  {
   "cell_type": "raw",
   "id": "eda2f925",
   "metadata": {},
   "source": [
    "Date() 返回字符串。"
   ]
  },
  {
   "cell_type": "code",
   "execution_count": null,
   "id": "37b83ce0",
   "metadata": {},
   "outputs": [],
   "source": [
    "Date()      // 返回 Thu Jul 17 2014 15:38:19 GMT+0200 (W. Europe Daylight Time)"
   ]
  },
  {
   "cell_type": "raw",
   "id": "ca6529db",
   "metadata": {},
   "source": [
    "全局方法 String() 可以將日期對象轉換為字符串。"
   ]
  },
  {
   "cell_type": "code",
   "execution_count": null,
   "id": "6efa9093",
   "metadata": {},
   "outputs": [],
   "source": [
    "String(new Date())      // 返回 Thu Jul 17 2014 15:38:19 GMT+0200 (W. Europe Daylight Time)"
   ]
  },
  {
   "cell_type": "raw",
   "id": "4001c82b",
   "metadata": {},
   "source": [
    "Date 方法 toString() 也有相同的效果。"
   ]
  },
  {
   "cell_type": "code",
   "execution_count": null,
   "id": "3d4a65e8",
   "metadata": {},
   "outputs": [],
   "source": [
    "obj = new Date()\n",
    "obj.toString()   // 返回 Thu Jul 17 2014 15:38:19 GMT+0200 (W. Europe Daylight Time)"
   ]
  },
  {
   "cell_type": "raw",
   "id": "9770c237",
   "metadata": {},
   "source": [
    "在 Date 方法 章節中，你可以查看更多關於日期轉換為字符串的函數："
   ]
  },
  {
   "cell_type": "markdown",
   "id": "9d371390",
   "metadata": {},
   "source": [
    "<img src='./images/8.png'>"
   ]
  },
  {
   "cell_type": "markdown",
   "id": "f1096cc3",
   "metadata": {},
   "source": [
    "# 將字符串轉換為數字"
   ]
  },
  {
   "cell_type": "raw",
   "id": "aafd4bfc",
   "metadata": {},
   "source": [
    "全局方法 Number() 可以將字符串轉換為數字。字符串包含數字(如 \"3.14\") 轉換為數字 (如 3.14)。空字符串轉換為 0。\n",
    "其他的字符串會轉換為 NaN (不是個數字)。"
   ]
  },
  {
   "cell_type": "raw",
   "id": "1850cc3b",
   "metadata": {},
   "source": [
    "Number(\"3.14\")    // 返回 3.14\n",
    "Number(\" \")       // 返回 0\n",
    "Number(\"\")        // 返回 0\n",
    "Number(\"99 88\")   // 返回 NaN"
   ]
  },
  {
   "cell_type": "raw",
   "id": "7b4288e3",
   "metadata": {},
   "source": [
    "在 Number 方法 章節中，你可以查看到更多關於字符串轉為數字的方法："
   ]
  },
  {
   "cell_type": "markdown",
   "id": "cbe179c8",
   "metadata": {},
   "source": [
    "<img src='./images/9.png'>"
   ]
  },
  {
   "cell_type": "markdown",
   "id": "3c124e3d",
   "metadata": {},
   "source": [
    "# 一元運算符 +"
   ]
  },
  {
   "cell_type": "raw",
   "id": "c150cc34",
   "metadata": {},
   "source": [
    "Operator + 可用於將變量轉換為數字："
   ]
  },
  {
   "cell_type": "code",
   "execution_count": null,
   "id": "02c65307",
   "metadata": {},
   "outputs": [],
   "source": [
    "<!DOCTYPE html>\n",
    "<html>\n",
    "\n",
    "<head>\n",
    "    <meta charset=\"utf-8\">\n",
    "    <title>菜鳥教程</title>\n",
    "</head>\n",
    "\n",
    "<body>\n",
    "\n",
    "    <p> typeof 操作符返回變量或表達式的類型。</p>\n",
    "    <button onclick=\"myFunction()\">點我</button>\n",
    "    <p id=\"demo\"></p>\n",
    "    <script>\n",
    "        function myFunction() {\n",
    "            var y = \"5\";\n",
    "            var x = + y;\n",
    "            document.getElementById(\"demo\").innerHTML =\n",
    "                typeof y + \"<br>\" + typeof x;\n",
    "        }\n",
    "    </script>\n",
    "\n",
    "</body>\n",
    "\n",
    "</html>"
   ]
  },
  {
   "cell_type": "raw",
   "id": "b96eb283",
   "metadata": {},
   "source": [
    "如果變量不能轉換，它仍然會是一個數字，但值為 NaN (不是一個數字):"
   ]
  },
  {
   "cell_type": "code",
   "execution_count": null,
   "id": "61ecd4a8",
   "metadata": {},
   "outputs": [],
   "source": [
    "var y = \"John\";   // y 是一個字符串\n",
    "var x = + y;      // x 是一個數字 (NaN)"
   ]
  },
  {
   "cell_type": "markdown",
   "id": "dddce277",
   "metadata": {},
   "source": [
    "# 將布爾值轉換為數字"
   ]
  },
  {
   "cell_type": "raw",
   "id": "edae4330",
   "metadata": {},
   "source": [
    "全局方法 Number() 可將布爾值轉換為數字。"
   ]
  },
  {
   "cell_type": "code",
   "execution_count": null,
   "id": "91d7f1ea",
   "metadata": {},
   "outputs": [],
   "source": [
    "Number(false)     // 返回 0\n",
    "Number(true)      // 返回 1"
   ]
  },
  {
   "cell_type": "markdown",
   "id": "355b8e1b",
   "metadata": {},
   "source": [
    "# 將日期轉換為數字"
   ]
  },
  {
   "cell_type": "raw",
   "id": "95181ab9",
   "metadata": {},
   "source": [
    "全局方法 Number() 可將日期轉換為數字。"
   ]
  },
  {
   "cell_type": "code",
   "execution_count": null,
   "id": "773b8887",
   "metadata": {},
   "outputs": [],
   "source": [
    "d = new Date();\n",
    "Number(d)          // 返回 1404568027739"
   ]
  },
  {
   "cell_type": "raw",
   "id": "e851de3b",
   "metadata": {},
   "source": [
    "日期方法 getTime() 也有相同的效果。"
   ]
  },
  {
   "cell_type": "code",
   "execution_count": null,
   "id": "c28857c8",
   "metadata": {},
   "outputs": [],
   "source": [
    "d = new Date();\n",
    "d.getTime()        // 返回 1404568027739"
   ]
  },
  {
   "cell_type": "markdown",
   "id": "78e5265a",
   "metadata": {},
   "source": [
    "# 自動轉換類型"
   ]
  },
  {
   "cell_type": "raw",
   "id": "eed02442",
   "metadata": {},
   "source": [
    "當 JavaScript 嘗試操作一個 \"錯誤\" 的數據類型時，會自動轉換為 \"正確\" 的數據類型。\n",
    "以下輸出結果不是你所期望的："
   ]
  },
  {
   "cell_type": "code",
   "execution_count": null,
   "id": "2b1a3727",
   "metadata": {},
   "outputs": [],
   "source": [
    "5 + null    // 返回 5         null 轉換為 0\n",
    "\"5\" + null  // 返回 \"5null\"   null 轉換為 \"null\"\n",
    "\"5\" + 1     // 返回 \"51\"      1 轉換為 \"1\" \n",
    "\"5\" - 1     // 返回 4         \"5\" 轉換為 5"
   ]
  },
  {
   "cell_type": "markdown",
   "id": "c813a80a",
   "metadata": {},
   "source": [
    "# 自動轉換為字符串"
   ]
  },
  {
   "cell_type": "raw",
   "id": "b06c5a22",
   "metadata": {},
   "source": [
    "當你嘗試輸出一個對象或一個變量時 JavaScript 會自動調用變量的 toString() 方法："
   ]
  },
  {
   "cell_type": "code",
   "execution_count": null,
   "id": "665a0840",
   "metadata": {},
   "outputs": [],
   "source": [
    "document.getElementById(\"demo\").innerHTML = myVar;\n",
    "\n",
    "myVar = {name: \"Fjohn\"}  // toString 轉換為 \"[object Object]\"\n",
    "myVar = [1, 2, 3, 4]       // toString 轉換為 \"1,2,3,4\"\n",
    "myVar = new Date()      // toString 轉換為 \"Fri Jul 18 2014 09:08:55 GMT+0200\""
   ]
  },
  {
   "cell_type": "raw",
   "id": "60a34de8",
   "metadata": {},
   "source": [
    "數字和布爾值也經常相互轉換："
   ]
  },
  {
   "cell_type": "code",
   "execution_count": null,
   "id": "f7d59600",
   "metadata": {},
   "outputs": [],
   "source": [
    "myVar = 123             // toString 轉換為 \"123\"\n",
    "myVar = true            // toString 轉換為 \"true\"\n",
    "myVar = false           // toString 轉換為 \"false\""
   ]
  },
  {
   "cell_type": "raw",
   "id": "24ad6c5d",
   "metadata": {},
   "source": [
    "下表展示了使用不同的數值轉換為數字(Number), 字符串(String), 布爾值(Boolean):"
   ]
  },
  {
   "cell_type": "markdown",
   "id": "26480149",
   "metadata": {},
   "source": [
    "<img src='./images/10.png'>"
   ]
  },
  {
   "cell_type": "code",
   "execution_count": null,
   "id": "00f37bf5",
   "metadata": {},
   "outputs": [],
   "source": []
  },
  {
   "cell_type": "code",
   "execution_count": null,
   "id": "7ed35ac0",
   "metadata": {},
   "outputs": [],
   "source": []
  }
 ],
 "metadata": {
  "kernelspec": {
   "display_name": "Python 3",
   "language": "python",
   "name": "python3"
  },
  "language_info": {
   "codemirror_mode": {
    "name": "ipython",
    "version": 3
   },
   "file_extension": ".py",
   "mimetype": "text/x-python",
   "name": "python",
   "nbconvert_exporter": "python",
   "pygments_lexer": "ipython3",
   "version": "3.8.10"
  }
 },
 "nbformat": 4,
 "nbformat_minor": 5
}
