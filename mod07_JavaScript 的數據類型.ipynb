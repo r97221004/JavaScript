{
 "cells": [
  {
   "cell_type": "markdown",
   "id": "35fbff34",
   "metadata": {},
   "source": [
    "# JavaScript 數據類型"
   ]
  },
  {
   "cell_type": "raw",
   "id": "88042d6c",
   "metadata": {},
   "source": [
    "值類型(基本類型)：字符串（String）、數字(Number)、布爾(Boolean)、空（Null）、未定義（Undefined）、Symbol。\n",
    "引用數據類型（對象類型）：對象(Object)、數組(Array)、函數(Function)，還有兩個特殊的對象：正則（RegExp）和日期（Date）。"
   ]
  },
  {
   "cell_type": "markdown",
   "id": "d07bb8cc",
   "metadata": {},
   "source": [
    "<img src='./images/Javascript-DataType.png'>"
   ]
  },
  {
   "cell_type": "raw",
   "id": "1cfe7273",
   "metadata": {},
   "source": [
    "注意：Symbol 是 ES6 引入了一種新的原始數據類型，表示獨一無二的值。"
   ]
  },
  {
   "cell_type": "markdown",
   "id": "d1dd2218",
   "metadata": {},
   "source": [
    "# JavaScript 擁有動態類型"
   ]
  },
  {
   "cell_type": "code",
   "execution_count": null,
   "id": "e5ac924b",
   "metadata": {},
   "outputs": [],
   "source": [
    "JavaScript 擁有動態類型。這意味著相同的變量可用作不同的類型："
   ]
  },
  {
   "cell_type": "code",
   "execution_count": null,
   "id": "02be87c1",
   "metadata": {},
   "outputs": [],
   "source": [
    "var x;               // x 為 undefined\n",
    "var x = 5;           // 現在 x 為數字\n",
    "var x = \"John\";      // 現在 x 為字符串"
   ]
  },
  {
   "cell_type": "raw",
   "id": "b743d06d",
   "metadata": {},
   "source": [
    "變量的數據類型可以使用 typeof 操作符來查看："
   ]
  },
  {
   "cell_type": "code",
   "execution_count": null,
   "id": "40f00a2b",
   "metadata": {},
   "outputs": [],
   "source": [
    "<!DOCTYPE html>\n",
    "<html>\n",
    "\n",
    "<head>\n",
    "    <meta charset=\"utf-8\">\n",
    "    <title>菜鳥教程</title>\n",
    "</head>\n",
    "\n",
    "<body>\n",
    "\n",
    "    <p> typeof 操作符返回變量或表達式的類型。</p>\n",
    "    <p id=\"demo\"></p>\n",
    "    <script>\n",
    "        document.getElementById(\"demo\").innerHTML =\n",
    "            typeof \"john\" + \"<br>\" +\n",
    "            typeof 3.14 + \"<br>\" +\n",
    "            typeof false + \"<br>\" +\n",
    "            typeof [1, 2, 3, 4] + \"<br>\" +\n",
    "            typeof { name: 'john', age: 34 };\n",
    "    </script>\n",
    "\n",
    "</body>\n",
    "\n",
    "</html>"
   ]
  },
  {
   "cell_type": "markdown",
   "id": "7a9d5c94",
   "metadata": {},
   "source": [
    "# JavaScript 字符串"
   ]
  },
  {
   "cell_type": "code",
   "execution_count": null,
   "id": "73d7b267",
   "metadata": {},
   "outputs": [],
   "source": [
    "字符串是存儲字符（比如 \"Bill Gates\"）的變量。\n",
    "\n",
    "字符串可以是引號中的任意文本。您可以使用單引號或雙引號："
   ]
  },
  {
   "cell_type": "code",
   "execution_count": null,
   "id": "775b88af",
   "metadata": {},
   "outputs": [],
   "source": [
    "var carname=\"Volvo XC60\";\n",
    "var carname='Volvo XC60';"
   ]
  },
  {
   "cell_type": "raw",
   "id": "91d1892d",
   "metadata": {},
   "source": [
    "您可以在字符串中使用引號，只要不匹配包圍字符串的引號即可："
   ]
  },
  {
   "cell_type": "code",
   "execution_count": null,
   "id": "b505236b",
   "metadata": {},
   "outputs": [],
   "source": [
    "<!DOCTYPE html>\n",
    "<html>\n",
    "\n",
    "<head>\n",
    "    <meta charset=\"utf-8\">\n",
    "    <title>菜鳥教程</title>\n",
    "</head>\n",
    "\n",
    "<body>\n",
    "\n",
    "    <script>\n",
    "        var carname1 = \"Volvo XC60\";\n",
    "        var carname2 = 'Volvo XC60';\n",
    "        var answer1 = 'It\\'s alright';\n",
    "        var answer2 = \"He is called \\\"Johnny\\\"\";\n",
    "        var answer3 = 'He is called \"Johnny\"';\n",
    "        document.write(carname1 + \"<br>\")\n",
    "        document.write(carname2 + \"<br>\")\n",
    "        document.write(answer1 + \"<br>\")\n",
    "        document.write(answer2 + \"<br>\")\n",
    "        document.write(answer3 + \"<br>\")\n",
    "    </script>\n",
    "\n",
    "</body>\n",
    "\n",
    "</html>"
   ]
  },
  {
   "cell_type": "raw",
   "id": "19f7a27b",
   "metadata": {},
   "source": [
    "您將在本教程的高級部分學到更多關於字符串的知識。"
   ]
  },
  {
   "cell_type": "markdown",
   "id": "c40af061",
   "metadata": {},
   "source": [
    "# JavaScript 數字"
   ]
  },
  {
   "cell_type": "code",
   "execution_count": null,
   "id": "5b0c5fdb",
   "metadata": {},
   "outputs": [],
   "source": [
    "JavaScript 只有一種數字類型。數字可以帶小數點，也可以不帶："
   ]
  },
  {
   "cell_type": "code",
   "execution_count": null,
   "id": "7e2514e9",
   "metadata": {},
   "outputs": [],
   "source": [
    "var x1=34.00;      //使用小數點來寫\n",
    "var x2=34;         //不使用小數點來寫"
   ]
  },
  {
   "cell_type": "raw",
   "id": "f8066ca8",
   "metadata": {},
   "source": [
    "極大或極小的數字可以通過科學（指數）計數法來書寫："
   ]
  },
  {
   "cell_type": "code",
   "execution_count": null,
   "id": "03dd67bd",
   "metadata": {},
   "outputs": [],
   "source": [
    "<!DOCTYPE html>\n",
    "<html>\n",
    "\n",
    "<head>\n",
    "    <meta charset=\"utf-8\">\n",
    "    <title>菜鳥教程</title>\n",
    "</head>\n",
    "\n",
    "<body>\n",
    "\n",
    "    <script>\n",
    "        var x1 = 34.00;\n",
    "        var x2 = 34;\n",
    "        var y = 123e5;\n",
    "        var z = 123e-5;\n",
    "        document.write(x1 + \"<br>\")\n",
    "        document.write(x2 + \"<br>\")\n",
    "        document.write(y + \"<br>\")\n",
    "        document.write(z + \"<br>\")\n",
    "    </script>\n",
    "\n",
    "</body>\n",
    "\n",
    "</html>"
   ]
  },
  {
   "cell_type": "markdown",
   "id": "b0094dbc",
   "metadata": {},
   "source": [
    "# JavaScript 布爾"
   ]
  },
  {
   "cell_type": "code",
   "execution_count": null,
   "id": "e2c81a54",
   "metadata": {},
   "outputs": [],
   "source": [
    "布爾（邏輯）只能有兩個值：true 或 false。"
   ]
  },
  {
   "cell_type": "code",
   "execution_count": null,
   "id": "9a1d253d",
   "metadata": {},
   "outputs": [],
   "source": [
    "var x = true;\n",
    "var y = false;"
   ]
  },
  {
   "cell_type": "raw",
   "id": "16879c93",
   "metadata": {},
   "source": [
    "布爾常用在條件測試中。您將在本教程稍後的章節中學到更多關於條件測試的知識。"
   ]
  },
  {
   "cell_type": "markdown",
   "id": "680e5ce2",
   "metadata": {},
   "source": [
    "# JavaScript 數組"
   ]
  },
  {
   "cell_type": "raw",
   "id": "01b737cd",
   "metadata": {},
   "source": [
    "下面的代碼創建名為 cars 的數組：\n",
    "\n",
    "var cars = new Array();\n",
    "cars[0] = \"Saab\";\n",
    "cars[1] = \"Volvo\";\n",
    "cars[2] = \"BMW\";\n",
    "\n",
    "或者(condensed array):\n",
    "\n",
    "var cars = new Array(\"Saab\",\"Volvo\",\"BMW\");\n",
    "\n",
    "或者(literal array):\n",
    "\n",
    "var cars=[\"Saab\",\"Volvo\",\"BMW\"];"
   ]
  },
  {
   "cell_type": "code",
   "execution_count": null,
   "id": "9fe4b44d",
   "metadata": {},
   "outputs": [],
   "source": [
    "<!DOCTYPE html>\n",
    "<html>\n",
    "\n",
    "<body>\n",
    "\n",
    "    <script>\n",
    "        var i;\n",
    "        var cars = new Array();\n",
    "        cars[0] = \"Saab\";\n",
    "        cars[1] = \"Volvo\";\n",
    "        cars[2] = \"BMW\";\n",
    "\n",
    "        for (i = 0; i < cars.length; i++) {\n",
    "            document.write(cars[i] + \"<br>\");\n",
    "        }\n",
    "    </script>\n",
    "\n",
    "</body>\n",
    "\n",
    "</html>"
   ]
  },
  {
   "cell_type": "raw",
   "id": "32f6cfab",
   "metadata": {},
   "source": [
    "數組下標是基於零的，所以第一個項目是[0]，第二個是[1]，以此類推。您將在本教程稍後的章節中學到更多關於數組的知識。"
   ]
  },
  {
   "cell_type": "markdown",
   "id": "aaea74c0",
   "metadata": {},
   "source": [
    "# JavaScript 對象"
   ]
  },
  {
   "cell_type": "code",
   "execution_count": null,
   "id": "e418aa63",
   "metadata": {},
   "outputs": [],
   "source": [
    "對象由花括號分隔。在括號內部，對象的屬性以名稱和值對的形式(name : value) 來定義。屬性由逗號分隔：\n",
    "\n",
    "var person = {firstname: \"John\", lastname: \"Doe\", id: 5566};\n",
    "上面例子中的對象(person) 有三個屬性：firstname、lastname 以及 id。\n",
    "\n",
    "空格和折行無關緊要。聲明可橫跨多行：\n",
    "\n",
    "var person = {\n",
    "    \n",
    "firstname : \"John\",\n",
    "lastname : \"Doe\",\n",
    "id : 5566\n",
    "\n",
    "};\n",
    "\n",
    "對象屬性有兩種尋址方式："
   ]
  },
  {
   "cell_type": "code",
   "execution_count": null,
   "id": "28df8224",
   "metadata": {},
   "outputs": [],
   "source": [
    "name = person.lastname;\n",
    "name = person[\"lastname\"];"
   ]
  },
  {
   "cell_type": "code",
   "execution_count": null,
   "id": "7430c5cb",
   "metadata": {},
   "outputs": [],
   "source": [
    "<!DOCTYPE html>\n",
    "<html>\n",
    "\n",
    "<head>\n",
    "    <meta charset=\"utf-8\">\n",
    "    <title>菜鳥教程</title>\n",
    "</head>\n",
    "\n",
    "<body>\n",
    "\n",
    "    <script>\n",
    "        var person =\n",
    "        {\n",
    "            firstname: \"John\",\n",
    "            lastname: \"Doe\",\n",
    "            id: 5566\n",
    "        };\n",
    "        document.write(person.lastname + \"<br>\");\n",
    "        document.write(person[\"lastname\"] + \"<br>\");\n",
    "    </script>\n",
    "\n",
    "</body>\n",
    "\n",
    "</html>"
   ]
  },
  {
   "cell_type": "raw",
   "id": "f48cfbf4",
   "metadata": {},
   "source": [
    "您將在本教程稍後的章節中學到更多關於對象的知識。"
   ]
  },
  {
   "cell_type": "markdown",
   "id": "6ca5b88f",
   "metadata": {},
   "source": [
    "# Undefined 和 Null"
   ]
  },
  {
   "cell_type": "code",
   "execution_count": null,
   "id": "715a2a17",
   "metadata": {},
   "outputs": [],
   "source": [
    "Undefined 這個值表示變量不含有值。可以通過將變量的值設置為 null 來清空變量。"
   ]
  },
  {
   "cell_type": "code",
   "execution_count": null,
   "id": "7e3f1ebb",
   "metadata": {},
   "outputs": [],
   "source": [
    "cars = null;\n",
    "person = null;"
   ]
  },
  {
   "cell_type": "code",
   "execution_count": null,
   "id": "018c5536",
   "metadata": {},
   "outputs": [],
   "source": [
    "<!DOCTYPE html>\n",
    "<html>\n",
    "\n",
    "<head>\n",
    "    <meta charset=\"utf-8\">\n",
    "    <title>菜鳥教程</title>\n",
    "</head>\n",
    "\n",
    "<body>\n",
    "\n",
    "    <script>\n",
    "        var person;\n",
    "        var car = \"Volvo\";\n",
    "        document.write(\"person: \" + person + \"<br>\");\n",
    "        document.write(\"car: \" + car + \"<br>\");\n",
    "        var car = null\n",
    "        document.write(\"car: \" + car + \"<br>\");\n",
    "    </script>\n",
    "\n",
    "</body>\n",
    "\n",
    "</html>"
   ]
  },
  {
   "cell_type": "markdown",
   "id": "836bcdaf",
   "metadata": {},
   "source": [
    "# 聲明變量類型"
   ]
  },
  {
   "cell_type": "raw",
   "id": "2fade4ec",
   "metadata": {},
   "source": [
    "當您聲明新變量時，可以使用關鍵詞 \"new\" 來聲明其類型："
   ]
  },
  {
   "cell_type": "code",
   "execution_count": null,
   "id": "b2475df1",
   "metadata": {},
   "outputs": [],
   "source": [
    "var carname = new String;\n",
    "var x = new Number;\n",
    "var y = new Boolean;\n",
    "var cars = new Array;\n",
    "var person = new Object;"
   ]
  }
 ],
 "metadata": {
  "kernelspec": {
   "display_name": "Python 3",
   "language": "python",
   "name": "python3"
  },
  "language_info": {
   "codemirror_mode": {
    "name": "ipython",
    "version": 3
   },
   "file_extension": ".py",
   "mimetype": "text/x-python",
   "name": "python",
   "nbconvert_exporter": "python",
   "pygments_lexer": "ipython3",
   "version": "3.8.10"
  }
 },
 "nbformat": 4,
 "nbformat_minor": 5
}
