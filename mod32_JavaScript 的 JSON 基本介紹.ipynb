{
 "cells": [
  {
   "cell_type": "markdown",
   "id": "0fb680bd",
   "metadata": {},
   "source": [
    "# JavaScript JSON"
   ]
  },
  {
   "cell_type": "raw",
   "id": "346e818a",
   "metadata": {},
   "source": [
    "JSON 是用於存儲和傳輸數據的格式。\n",
    "JSON 通常用於服務端向網頁傳遞數據 。"
   ]
  },
  {
   "cell_type": "markdown",
   "id": "5c749004",
   "metadata": {},
   "source": [
    "# 什麽是 JSON?"
   ]
  },
  {
   "cell_type": "code",
   "execution_count": null,
   "id": "0abeff07",
   "metadata": {},
   "outputs": [],
   "source": [
    "JSON 英文全稱 JavaScript Object Notation\n",
    "JSON 是一種輕量級的數據交換格式。\n",
    "JSON 是獨立的語言 *\n",
    "JSON 易於理解。"
   ]
  },
  {
   "cell_type": "raw",
   "id": "ac1dbed1",
   "metadata": {},
   "source": [
    "* JSON 使用 JavaScript 語法，但是 JSON 格式僅僅是一個文本。\n",
    "文本可以被任何編程語言讀取及作為數據格式傳遞。"
   ]
  },
  {
   "cell_type": "markdown",
   "id": "8e090b3a",
   "metadata": {},
   "source": [
    "# JSON 實例"
   ]
  },
  {
   "cell_type": "raw",
   "id": "b1561ed7",
   "metadata": {},
   "source": [
    "以下 JSON 語法定義了 sites 對象: 3 條網站信息（對象）的數組:"
   ]
  },
  {
   "cell_type": "code",
   "execution_count": null,
   "id": "555e25b4",
   "metadata": {},
   "outputs": [],
   "source": [
    "{\"sites\":[\n",
    "    {\"name\":\"Runoob\", \"url\":\"www.runoob.com\"}, \n",
    "    {\"name\":\"Google\", \"url\":\"www.google.com\"},\n",
    "    {\"name\":\"Taobao\", \"url\":\"www.taobao.com\"}\n",
    "]}"
   ]
  },
  {
   "cell_type": "markdown",
   "id": "b64a3680",
   "metadata": {},
   "source": [
    "# JSON 格式化後為 JavaScript 對象"
   ]
  },
  {
   "cell_type": "raw",
   "id": "3e362d8c",
   "metadata": {},
   "source": [
    "JSON 格式在語法上與創建 JavaScript 對象代碼是相同的。\n",
    "由於它們很相似，所以 JavaScript 程序可以很容易的將 JSON 數據轉換為 JavaScript 對象。"
   ]
  },
  {
   "cell_type": "markdown",
   "id": "32e31a85",
   "metadata": {},
   "source": [
    "# JSON 語法規則"
   ]
  },
  {
   "cell_type": "code",
   "execution_count": null,
   "id": "57d8e91e",
   "metadata": {},
   "outputs": [],
   "source": [
    "數據為 鍵/值 對。\n",
    "數據由逗號分隔。\n",
    "大括號保存對象\n",
    "方括號保存數組"
   ]
  },
  {
   "cell_type": "markdown",
   "id": "fc4cde4e",
   "metadata": {},
   "source": [
    "# JSON 數據 - 一個名稱對應一個值"
   ]
  },
  {
   "cell_type": "raw",
   "id": "58e6e5d5",
   "metadata": {},
   "source": [
    "JSON 數據格式為 鍵/值 對，就像 JavaScript 對象屬性。\n",
    "\n",
    "鍵/值對包括字段名稱（在雙引號中），後面一個冒號，然後是值："
   ]
  },
  {
   "cell_type": "code",
   "execution_count": null,
   "id": "a0c4060c",
   "metadata": {},
   "outputs": [],
   "source": [
    "\"name\":\"Runoob\""
   ]
  },
  {
   "cell_type": "markdown",
   "id": "2f08b65c",
   "metadata": {},
   "source": [
    "# JSON 對象"
   ]
  },
  {
   "cell_type": "raw",
   "id": "2a6fba3c",
   "metadata": {},
   "source": [
    "JSON 對象保存在大括號內。就像在 JavaScript 中， 對象可以保存多個 鍵/值 對：\n",
    "{\"name\": \"Runoob\", \"url\": \"www.runoob.com\"}"
   ]
  },
  {
   "cell_type": "markdown",
   "id": "355ce2a3",
   "metadata": {},
   "source": [
    "# JSON 數組"
   ]
  },
  {
   "cell_type": "raw",
   "id": "e5613e13",
   "metadata": {},
   "source": [
    "JSON 數組保存在中括號內。就像在 JavaScript 中，數組可以包含對象："
   ]
  },
  {
   "cell_type": "code",
   "execution_count": null,
   "id": "33feaa3a",
   "metadata": {},
   "outputs": [],
   "source": [
    "\"sites\":[\n",
    "    {\"name\":\"Runoob\", \"url\":\"www.runoob.com\"}, \n",
    "    {\"name\":\"Google\", \"url\":\"www.google.com\"},\n",
    "    {\"name\":\"Taobao\", \"url\":\"www.taobao.com\"}\n",
    "]\n",
    "    "
   ]
  },
  {
   "cell_type": "raw",
   "id": "58ba3f73",
   "metadata": {},
   "source": [
    "在以上實例中，對象 \"sites\" 是一個數組，包含了三個對象。每個對象為站點的信息（網站名和網站地址）。"
   ]
  },
  {
   "cell_type": "markdown",
   "id": "35a99ecc",
   "metadata": {},
   "source": [
    "# JSON 字符串轉換為 JavaScript 對象"
   ]
  },
  {
   "cell_type": "raw",
   "id": "adadc576",
   "metadata": {},
   "source": [
    "通常我們從服務器中讀取 JSON 數據，並在網頁中顯示數據。\n",
    "簡單起見，我們網頁中直接設置 JSON 字符串 (你還可以閱讀我們的 JSON 教程):\n",
    "首先，創建 JavaScript 字符串，字符串為 JSON 格式的數據："
   ]
  },
  {
   "cell_type": "code",
   "execution_count": null,
   "id": "a0618676",
   "metadata": {},
   "outputs": [],
   "source": [
    "var text = '{ \"sites\" : [' +\n",
    "'{ \"name\":\"Runoob\" , \"url\":\"www.runoob.com\" },' +\n",
    "'{ \"name\":\"Google\" , \"url\":\"www.google.com\" },' +\n",
    "'{ \"name\":\"Taobao\" , \"url\":\"www.taobao.com\" } ]}';"
   ]
  },
  {
   "cell_type": "raw",
   "id": "9cbde8b3",
   "metadata": {},
   "source": [
    "然後，使用 JavaScript 內置函數 JSON.parse() 將字符串轉換為 JavaScript 對象:"
   ]
  },
  {
   "cell_type": "code",
   "execution_count": null,
   "id": "026eb222",
   "metadata": {},
   "outputs": [],
   "source": [
    "var obj = JSON.parse(text);"
   ]
  },
  {
   "cell_type": "raw",
   "id": "bb2da468",
   "metadata": {},
   "source": [
    "最後，在你的頁面中使用新的 JavaScript 對象："
   ]
  },
  {
   "cell_type": "code",
   "execution_count": null,
   "id": "8e05908b",
   "metadata": {},
   "outputs": [],
   "source": [
    "<!DOCTYPE html>\n",
    "<html>\n",
    "\n",
    "<head>\n",
    "    <meta charset=\"utf-8\">\n",
    "    <title>菜鳥教程</title>\n",
    "</head>\n",
    "\n",
    "<body>\n",
    "\n",
    "    <h2>為 JSON 字符串創建對象</h2>\n",
    "    <p id=\"demo\"></p>\n",
    "    <script>\n",
    "        var text = '{ \"sites\" : [' +\n",
    "            '{ \"name\":\"Runoob\" , \"url\":\"www.runoob.com\" },' +\n",
    "            '{ \"name\":\"Google\" , \"url\":\"www.google.com\" },' +\n",
    "            '{ \"name\":\"Taobao\" , \"url\":\"www.taobao.com\" } ]}';\n",
    "\n",
    "        obj = JSON.parse(text);\n",
    "        document.getElementById(\"demo\").innerHTML = obj.sites[1].name + \" \" + obj.sites[1].url;\n",
    "    </script>\n",
    "\n",
    "</body>\n",
    "\n",
    "</html>"
   ]
  },
  {
   "cell_type": "markdown",
   "id": "96f80c28",
   "metadata": {},
   "source": [
    "# 相關函數"
   ]
  },
  {
   "cell_type": "markdown",
   "id": "eb0d7f81",
   "metadata": {},
   "source": [
    "<img src='./images/15.png'>"
   ]
  },
  {
   "cell_type": "raw",
   "id": "d9686454",
   "metadata": {},
   "source": [
    "更多 JSON 信息，你可以閱讀我們的 JSON 教程。"
   ]
  },
  {
   "cell_type": "raw",
   "id": "ba8fa79f",
   "metadata": {},
   "source": [
    "# JSON 與 JS 對象的關系"
   ]
  },
  {
   "cell_type": "raw",
   "id": "2bc71486",
   "metadata": {},
   "source": [
    "很多人搞不清楚 JSON 和 JS 對象的關系，甚至連誰是誰都不清楚。其實可以這麽理解：\n",
    "JSON 是 JS 對象的字符串表示法。它使用文本表示一個 JS 對象的信息，（JSON）本質是一個字符串。\n",
    "如："
   ]
  },
  {
   "cell_type": "code",
   "execution_count": null,
   "id": "d8652e25",
   "metadata": {},
   "outputs": [],
   "source": [
    "var obj = {a: 'Hello', b: 'World'}; //這是一個 js 對象，注意 js 對象的鍵名也是可以使用引號包裹的，這裏的鍵名就不用引號包含\n",
    "var json = '{\"a\": \"Hello\", \"b\": \"World\"}'; //這是一個 JSON 字符串，本質是一個字符串"
   ]
  },
  {
   "cell_type": "raw",
   "id": "d33850ed",
   "metadata": {},
   "source": [
    "JSON（格式字符串） 和 JS 對象（也可以叫 JSON 對象 或 JSON 格式的對象）互轉（JSON.parse 和 JSON.stringify）。\n",
    "\n",
    "要實現從 JSON 字符串轉換為 JS 對象，使用 JSON.parse() 方法："
   ]
  },
  {
   "cell_type": "code",
   "execution_count": null,
   "id": "25a37592",
   "metadata": {},
   "outputs": [],
   "source": [
    "var obj = JSON.parse('{\"a\": \"Hello\", \"b\": \"World\"}'); // 結果是 {a: 'Hello', b: 'World'}  一個對象"
   ]
  },
  {
   "cell_type": "raw",
   "id": "104639a9",
   "metadata": {},
   "source": [
    "要實現從 JS 對象轉換為 JSON 字符串，使用 JSON.stringify() 方法："
   ]
  },
  {
   "cell_type": "code",
   "execution_count": null,
   "id": "b3784a8c",
   "metadata": {},
   "outputs": [],
   "source": [
    "var json = JSON.stringify({a: 'Hello', b: 'World'}); // 結果是 '{\"a\": \"Hello\", \"b\": \"World\"}'  一個 JSON 格式的字符串"
   ]
  },
  {
   "cell_type": "raw",
   "id": "f34a3b32",
   "metadata": {},
   "source": [
    "說句不嚴謹的話：JSON.parse() 就是字符串轉 js 對象， JSON.stringify()就是 js 對象轉字符串，它們前提是要 json 格式才有意義。"
   ]
  }
 ],
 "metadata": {
  "kernelspec": {
   "display_name": "Python 3",
   "language": "python",
   "name": "python3"
  },
  "language_info": {
   "codemirror_mode": {
    "name": "ipython",
    "version": 3
   },
   "file_extension": ".py",
   "mimetype": "text/x-python",
   "name": "python",
   "nbconvert_exporter": "python",
   "pygments_lexer": "ipython3",
   "version": "3.8.10"
  }
 },
 "nbformat": 4,
 "nbformat_minor": 5
}
