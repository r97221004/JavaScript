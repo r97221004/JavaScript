{
 "cells": [
  {
   "cell_type": "markdown",
   "id": "99f7664b",
   "metadata": {},
   "source": [
    "# JavaScript 嚴格模式(use strict)"
   ]
  },
  {
   "cell_type": "raw",
   "id": "ac373fa3",
   "metadata": {},
   "source": [
    "JavaScript 嚴格模式（strict mode）即在嚴格的條件下運行。"
   ]
  },
  {
   "cell_type": "markdown",
   "id": "4cc7b2ac",
   "metadata": {},
   "source": [
    "# 使用 \"use strict\" 指令"
   ]
  },
  {
   "cell_type": "raw",
   "id": "5fa2a8f4",
   "metadata": {},
   "source": [
    "\"use strict\" 指令在 JavaScript 1.8.5 (ECMAScript5) 中新增。\n",
    "它不是一條語句，但是是一個字面量表達式，在 JavaScript 舊版本中會被忽略。\n",
    "\"use strict\" 的目的是指定代碼在嚴格條件下執行。\n",
    "嚴格模式下你不能使用未聲明的變量。"
   ]
  },
  {
   "cell_type": "raw",
   "id": "37a9f715",
   "metadata": {},
   "source": [
    "支持嚴格模式的瀏覽器:\n",
    "Internet Explorer 10 +、Firefox 4+、 Chrome 13+、 Safari 5.1+、 Opera 12+。"
   ]
  },
  {
   "cell_type": "markdown",
   "id": "94daabd9",
   "metadata": {},
   "source": [
    "# 嚴格模式聲明"
   ]
  },
  {
   "cell_type": "raw",
   "id": "4acc2778",
   "metadata": {},
   "source": [
    "嚴格模式通過在腳本或函數的頭部添加 use strict; 表達式來聲明\n",
    "實例中我們可以在瀏覽器按下 F12 (或點擊\"工具>更多工具>開發者工具\") 開啟調試模式，查看報錯信息。\n",
    "也可以通過右擊鼠標，選擇 \"檢查\" 來查看。"
   ]
  },
  {
   "cell_type": "code",
   "execution_count": null,
   "id": "6b015e18",
   "metadata": {},
   "outputs": [],
   "source": [
    "<!DOCTYPE html>\n",
    "<html>\n",
    "\n",
    "<head>\n",
    "    <meta charset=\"utf-8\">\n",
    "    <title>菜鳥教程</title>\n",
    "</head>\n",
    "\n",
    "<body>\n",
    "\n",
    "    <h1>使用 \"use strict\":</h1>\n",
    "    <h3>不允許使用未定義的變量。</h3>\n",
    "    <p>瀏覽器按下 F12 開啟調試模式，查看報錯信息。</p>\n",
    "    <script>\n",
    "        \"use strict\";\n",
    "        x = 3.14;       // 報錯 (x 未定義)\n",
    "    </script>\n",
    "\n",
    "</body>\n",
    "\n",
    "</html>"
   ]
  },
  {
   "cell_type": "code",
   "execution_count": null,
   "id": "ceccf741",
   "metadata": {},
   "outputs": [],
   "source": [
    "<!DOCTYPE html>\n",
    "<html>\n",
    "\n",
    "<head>\n",
    "    <meta charset=\"utf-8\">\n",
    "    <title>菜鳥教程</title>\n",
    "</head>\n",
    "\n",
    "<body>\n",
    "\n",
    "    <h2>全局 \"use strict\" 聲明.</h2>\n",
    "    <p>瀏覽器按下 F12 開啟調試模式，查看報錯信息。</p>\n",
    "    <script>\n",
    "        \"use strict\";\n",
    "        myFunction();\n",
    "        function myFunction() {\n",
    "            y = 3.14;   // 報錯 (y 未定義)\n",
    "        }\n",
    "    </script>\n",
    "\n",
    "</body>\n",
    "\n",
    "</html>"
   ]
  },
  {
   "cell_type": "raw",
   "id": "47f21672",
   "metadata": {},
   "source": [
    "在函數內部聲明是局部作用域 (只在函數內使用嚴格模式):"
   ]
  },
  {
   "cell_type": "code",
   "execution_count": null,
   "id": "03d3021a",
   "metadata": {},
   "outputs": [],
   "source": [
    "<!DOCTYPE html>\n",
    "<html>\n",
    "\n",
    "<head>\n",
    "    <meta charset=\"utf-8\">\n",
    "    <title>菜鳥教程</title>\n",
    "</head>\n",
    "\n",
    "<body>\n",
    "\n",
    "    <p>在函數內使用 \"use strict\" 只在函數內報錯。\n",
    "    </p>\n",
    "    <p>瀏覽器按下 F12 開啟調試模式，查看報錯信息。</p>\n",
    "    <script>\n",
    "        x = 3.14;       // 不報錯 \n",
    "        myFunction();\n",
    "        function myFunction() {\n",
    "            \"use strict\";\n",
    "            y = 3.14;   // 報錯 (y 未定義)\n",
    "        }\n",
    "    </script>\n",
    "\n",
    "</body>\n",
    "\n",
    "</html>"
   ]
  },
  {
   "cell_type": "markdown",
   "id": "1d156b62",
   "metadata": {},
   "source": [
    "# 為什麽使用嚴格模式"
   ]
  },
  {
   "cell_type": "raw",
   "id": "5f096fd8",
   "metadata": {},
   "source": [
    "消除 Javascript 語法的一些不合理、不嚴謹之處，減少一些怪異行為;\n",
    "    - 消除代碼運行的一些不安全之處，保證代碼運行的安全；\n",
    "    - 提高編譯器效率，增加運行速度；\n",
    "    - 為未來新版本的 Javascript 做好鋪墊。"
   ]
  },
  {
   "cell_type": "raw",
   "id": "4f21bea0",
   "metadata": {},
   "source": [
    "\"嚴格模式\"體現了 Javascript 更合理、更安全、更嚴謹的發展方向，包括IE 10在內的主流瀏覽器，都已經支持它，許多大項目已經開始全面擁抱它。\n",
    "另一方面，同樣的代碼，在 \"嚴格模式\" 中，可能會有不一樣的運行結果；一些在 \"正常模式\" 下可以運行的語句，在 \"嚴格模式\" 下將不能運行。掌握這些內容，有助於更細致深入地理解 Javascript，讓你變成一個更好的程序員。"
   ]
  },
  {
   "cell_type": "markdown",
   "id": "e178290e",
   "metadata": {},
   "source": [
    "# 嚴格模式的限制"
   ]
  },
  {
   "cell_type": "raw",
   "id": "9e85c666",
   "metadata": {},
   "source": [
    "不允許使用未聲明的變量："
   ]
  },
  {
   "cell_type": "code",
   "execution_count": null,
   "id": "50ff68fe",
   "metadata": {},
   "outputs": [],
   "source": [
    "\"use strict\";\n",
    "x = 3.14;                // 報錯 (x 未定義)"
   ]
  },
  {
   "cell_type": "raw",
   "id": "45715c94",
   "metadata": {},
   "source": [
    "對象也是一個變量。"
   ]
  },
  {
   "cell_type": "code",
   "execution_count": null,
   "id": "4753416b",
   "metadata": {},
   "outputs": [],
   "source": [
    "\"use strict\";\n",
    "x = {p1:10, p2:20};      // 報錯 (x 未定義)"
   ]
  },
  {
   "cell_type": "raw",
   "id": "76155495",
   "metadata": {},
   "source": [
    "不允許刪除變量或對象。"
   ]
  },
  {
   "cell_type": "code",
   "execution_count": null,
   "id": "385acb47",
   "metadata": {},
   "outputs": [],
   "source": [
    "<!DOCTYPE html>\n",
    "<html>\n",
    "\n",
    "<head>\n",
    "    <meta charset=\"utf-8\">\n",
    "    <title>菜鳥教程</title>\n",
    "</head>\n",
    "\n",
    "<body>\n",
    "\n",
    "    <h1>使用 \"use strict\":</h1>\n",
    "    <h3>不允許刪除變量或對象。</h3>\n",
    "    <p>瀏覽器按下 F12 開啟調試模式，查看報錯信息。</p>\n",
    "    <script>\n",
    "        \"use strict\";\n",
    "        var x = 3.14;\n",
    "        delete x;    \n",
    "    </script>\n",
    "\n",
    "</body>\n",
    "\n",
    "</html>"
   ]
  },
  {
   "cell_type": "raw",
   "id": "59dfc70e",
   "metadata": {},
   "source": [
    "不允許刪除函數。"
   ]
  },
  {
   "cell_type": "code",
   "execution_count": null,
   "id": "85bf5831",
   "metadata": {},
   "outputs": [],
   "source": [
    "\"use strict\";\n",
    "function x(p1, p2) {};\n",
    "delete x;                // 報錯 "
   ]
  },
  {
   "cell_type": "raw",
   "id": "6e637df6",
   "metadata": {},
   "source": [
    "不允許變量重名:"
   ]
  },
  {
   "cell_type": "code",
   "execution_count": null,
   "id": "a6d57977",
   "metadata": {},
   "outputs": [],
   "source": [
    "\"use strict\";\n",
    "function x(p1, p1) {};   // 報錯"
   ]
  },
  {
   "cell_type": "raw",
   "id": "4ed6286d",
   "metadata": {},
   "source": [
    "不允許使用八進制:"
   ]
  },
  {
   "cell_type": "code",
   "execution_count": null,
   "id": "ada1803a",
   "metadata": {},
   "outputs": [],
   "source": [
    "\"use strict\";\n",
    "var x = 010;             // 報錯"
   ]
  },
  {
   "cell_type": "raw",
   "id": "8d3cf444",
   "metadata": {},
   "source": [
    "不允許使用轉義字符:"
   ]
  },
  {
   "cell_type": "code",
   "execution_count": null,
   "id": "cd30f5ca",
   "metadata": {},
   "outputs": [],
   "source": [
    "\"use strict\";\n",
    "var x = \\010;            // 報錯"
   ]
  },
  {
   "cell_type": "raw",
   "id": "9450656a",
   "metadata": {},
   "source": [
    "不允許對只讀屬性賦值:"
   ]
  },
  {
   "cell_type": "code",
   "execution_count": null,
   "id": "ce81c624",
   "metadata": {},
   "outputs": [],
   "source": [
    "<!DOCTYPE html>\n",
    "<html>\n",
    "\n",
    "<head>\n",
    "    <meta charset=\"utf-8\">\n",
    "    <title>菜鳥教程</title>\n",
    "</head>\n",
    "\n",
    "<body>\n",
    "\n",
    "    <h1>使用 \"use strict\":</h1>\n",
    "    <h3>不允許對只讀屬性賦值。</h3>\n",
    "    <p>瀏覽器按下 F12 開啟調試模式，查看報錯信息。</p>\n",
    "    <script>\n",
    "        \"use strict\";\n",
    "        var obj = {};\n",
    "        Object.defineProperty(obj, \"x\", { value: 0, writable: false });\n",
    "        obj.x = 3.14;            // 報錯\n",
    "    </script>\n",
    "\n",
    "</body>\n",
    "\n",
    "</html>"
   ]
  },
  {
   "cell_type": "raw",
   "id": "7e91eacb",
   "metadata": {},
   "source": [
    "不允許對一個使用 getter 方法讀取的屬性進行賦值"
   ]
  },
  {
   "cell_type": "code",
   "execution_count": null,
   "id": "c9285790",
   "metadata": {},
   "outputs": [],
   "source": [
    "\"use strict\";\n",
    "var obj = {get x() {return 0} };\n",
    "\n",
    "obj.x = 3.14;            // 報錯"
   ]
  },
  {
   "cell_type": "raw",
   "id": "07d76fe3",
   "metadata": {},
   "source": [
    "不允許刪除一個不允許刪除的屬性："
   ]
  },
  {
   "cell_type": "code",
   "execution_count": null,
   "id": "7d83909d",
   "metadata": {},
   "outputs": [],
   "source": [
    "\"use strict\";\n",
    "delete Object.prototype; // 報錯"
   ]
  },
  {
   "cell_type": "raw",
   "id": "4b520241",
   "metadata": {},
   "source": [
    "變量名不能使用 \"eval\" 字符串:"
   ]
  },
  {
   "cell_type": "code",
   "execution_count": null,
   "id": "907fa55e",
   "metadata": {},
   "outputs": [],
   "source": [
    "\"use strict\";\n",
    "var eval = 3.14;         // 報錯"
   ]
  },
  {
   "cell_type": "raw",
   "id": "3dff74d0",
   "metadata": {},
   "source": [
    "變量名不能使用 \"arguments\" 字符串:"
   ]
  },
  {
   "cell_type": "code",
   "execution_count": null,
   "id": "a3a20d0d",
   "metadata": {},
   "outputs": [],
   "source": [
    "\"use strict\";\n",
    "var arguments = 3.14;    // 報錯"
   ]
  },
  {
   "cell_type": "raw",
   "id": "817352e4",
   "metadata": {},
   "source": [
    "不允許使用以下這種語句:"
   ]
  },
  {
   "cell_type": "code",
   "execution_count": null,
   "id": "948bf740",
   "metadata": {},
   "outputs": [],
   "source": [
    "\"use strict\";\n",
    "with (Math){x = cos(2)}; // 報錯"
   ]
  },
  {
   "cell_type": "raw",
   "id": "ab4be05f",
   "metadata": {},
   "source": [
    "由於一些安全原因，在作用域 eval() 創建的變量不能被調用："
   ]
  },
  {
   "cell_type": "code",
   "execution_count": null,
   "id": "16e49330",
   "metadata": {},
   "outputs": [],
   "source": [
    "\"use strict\";\n",
    "eval (\"var x = 2\");\n",
    "alert (x);               // 報錯"
   ]
  },
  {
   "cell_type": "raw",
   "id": "7d7c63e7",
   "metadata": {},
   "source": [
    "禁止this關鍵字指向全局對象。"
   ]
  },
  {
   "cell_type": "code",
   "execution_count": null,
   "id": "dbc31cba",
   "metadata": {},
   "outputs": [],
   "source": [
    "function f(){\n",
    "    return !this;\n",
    "} \n",
    "// 返回false，因為\"this\"指向全局對象，\"!this\"就是false\n",
    "\n",
    "function f(){ \n",
    "    \"use strict\";\n",
    "    return !this;\n",
    "} \n",
    "// 返回true，因為嚴格模式下，this的值為undefined，所以\"!this\"為true。"
   ]
  },
  {
   "cell_type": "raw",
   "id": "ddc5cc94",
   "metadata": {},
   "source": [
    "因此，使用構造函數時，如果忘了加 new，this 不再指向全局對象，而是報錯。"
   ]
  },
  {
   "cell_type": "code",
   "execution_count": null,
   "id": "24b832d6",
   "metadata": {},
   "outputs": [],
   "source": [
    "function f(){\n",
    "    \"use strict\";\n",
    "    this.a = 1;\n",
    "};\n",
    "f();// 報錯，this 未定義"
   ]
  },
  {
   "cell_type": "markdown",
   "id": "6bec2593",
   "metadata": {},
   "source": [
    "# 保留關鍵字"
   ]
  },
  {
   "cell_type": "raw",
   "id": "c178db48",
   "metadata": {},
   "source": [
    "為了向將來 Javascript 的新版本過渡，嚴格模式新增了一些保留關鍵字：\n",
    "\n",
    "    implements\n",
    "    interface\n",
    "    let\n",
    "    package\n",
    "    private\n",
    "    protected\n",
    "    public\n",
    "    static\n",
    "    yield"
   ]
  },
  {
   "cell_type": "raw",
   "id": "68a8726e",
   "metadata": {},
   "source": [
    "\"use strict\";\n",
    "var public = 1500;      // 報錯"
   ]
  },
  {
   "cell_type": "raw",
   "id": "cfd0d5fd",
   "metadata": {},
   "source": [
    "\"use strict\" 指令只允許出現在腳本或函數的開頭。"
   ]
  },
  {
   "cell_type": "code",
   "execution_count": null,
   "id": "074c8a0c",
   "metadata": {},
   "outputs": [],
   "source": []
  }
 ],
 "metadata": {
  "kernelspec": {
   "display_name": "Python 3",
   "language": "python",
   "name": "python3"
  },
  "language_info": {
   "codemirror_mode": {
    "name": "ipython",
    "version": 3
   },
   "file_extension": ".py",
   "mimetype": "text/x-python",
   "name": "python",
   "nbconvert_exporter": "python",
   "pygments_lexer": "ipython3",
   "version": "3.8.10"
  }
 },
 "nbformat": 4,
 "nbformat_minor": 5
}
