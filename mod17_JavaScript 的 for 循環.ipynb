{
 "cells": [
  {
   "cell_type": "markdown",
   "id": "87bb92ce",
   "metadata": {},
   "source": [
    "# JavaScript 的 for 循環"
   ]
  },
  {
   "cell_type": "raw",
   "id": "fc34ce48",
   "metadata": {},
   "source": [
    "循環可以將代碼塊執行指定的次數。"
   ]
  },
  {
   "cell_type": "raw",
   "id": "b75076e4",
   "metadata": {},
   "source": [
    "如果您希望一遍又一遍地運行相同的代碼，並且每次的值都不同，那麽使用循環是很方便的。我們可以這樣輸出數組的值："
   ]
  },
  {
   "cell_type": "markdown",
   "id": "04dd6826",
   "metadata": {},
   "source": [
    "### 一般寫法："
   ]
  },
  {
   "cell_type": "code",
   "execution_count": null,
   "id": "fbcc595d",
   "metadata": {},
   "outputs": [],
   "source": [
    "document.write(cars[0] + \"<br>\"); \n",
    "document.write(cars[1] + \"<br>\"); \n",
    "document.write(cars[2] + \"<br>\"); \n",
    "document.write(cars[3] + \"<br>\"); \n",
    "document.write(cars[4] + \"<br>\"); \n",
    "document.write(cars[5] + \"<br>\");"
   ]
  },
  {
   "cell_type": "markdown",
   "id": "e69133d2",
   "metadata": {},
   "source": [
    "### 使用 for 循環"
   ]
  },
  {
   "cell_type": "code",
   "execution_count": null,
   "id": "778f6a41",
   "metadata": {},
   "outputs": [],
   "source": [
    "for (var i=0;i<cars.length;i++)\n",
    "{ \n",
    "    document.write(cars[i] + \"<br>\");\n",
    "}"
   ]
  },
  {
   "cell_type": "code",
   "execution_count": null,
   "id": "847f81b1",
   "metadata": {},
   "outputs": [],
   "source": [
    "<!DOCTYPE html>\n",
    "<html>\n",
    "\n",
    "<head>\n",
    "    <meta charset=\"utf-8\">\n",
    "    <title>菜鳥教程</title>\n",
    "</head>\n",
    "\n",
    "<body>\n",
    "\n",
    "    <script>\n",
    "        cars = [\"BMW\", \"Volvo\", \"Saab\", \"Ford\"];\n",
    "        for (var i = 0; i < cars.length; i++) {\n",
    "            document.write(cars[i] + \"<br>\");\n",
    "        }\n",
    "    </script>\n",
    "\n",
    "</body>\n",
    "\n",
    "</html>"
   ]
  },
  {
   "cell_type": "markdown",
   "id": "1eb1a423",
   "metadata": {},
   "source": [
    "# 不同類型的循環"
   ]
  },
  {
   "cell_type": "raw",
   "id": "8b04d59a",
   "metadata": {},
   "source": [
    "JavaScript 支持不同類型的循環："
   ]
  },
  {
   "cell_type": "raw",
   "id": "2c9b9bb7",
   "metadata": {},
   "source": [
    "for - 循環代碼塊一定的次數\n",
    "for/in - 循環遍歷對象的屬性\n",
    "while - 當指定的條件為 true 時循環指定的代碼塊\n",
    "do/while - 同樣當指定的條件為 true 時循環指定的代碼塊"
   ]
  },
  {
   "cell_type": "markdown",
   "id": "92eca637",
   "metadata": {},
   "source": [
    "# For 循環"
   ]
  },
  {
   "cell_type": "raw",
   "id": "3c4fc78f",
   "metadata": {},
   "source": [
    "for 循環是您在希望創建循環時常會用到的工具。下面是 for 循環的語法："
   ]
  },
  {
   "cell_type": "raw",
   "id": "933c16c5",
   "metadata": {},
   "source": [
    "for (語句 1; 語句 2; 語句 3)\n",
    "{\n",
    "    被執行的代碼塊\n",
    "}"
   ]
  },
  {
   "cell_type": "raw",
   "id": "731a9a39",
   "metadata": {},
   "source": [
    "語句 1: （代碼塊）開始前執行\n",
    "語句 2: 定義運行循環（代碼塊）的條件\n",
    "語句 3: 在循環（代碼塊）已被執行之後執行"
   ]
  },
  {
   "cell_type": "code",
   "execution_count": null,
   "id": "700912f1",
   "metadata": {},
   "outputs": [],
   "source": [
    "<!DOCTYPE html>\n",
    "<html>\n",
    "\n",
    "<head>\n",
    "    <meta charset=\"utf-8\">\n",
    "    <title>菜鳥教程</title>\n",
    "</head>\n",
    "\n",
    "<body>\n",
    "\n",
    "    <p>點擊按鈕循環代碼5次。</p>\n",
    "    <button onclick=\"myFunction()\">點擊這裏</button>\n",
    "    <p id=\"demo\"></p>\n",
    "    <script>\n",
    "        function myFunction() {\n",
    "            var x = \"\";\n",
    "            for (var i = 0; i < 5; i++) {\n",
    "                x = x + \"該數字為 \" + i + \"<br>\";\n",
    "            }\n",
    "            document.getElementById(\"demo\").innerHTML = x;\n",
    "        }\n",
    "    </script>\n",
    "\n",
    "</body>\n",
    "\n",
    "</html>"
   ]
  },
  {
   "cell_type": "raw",
   "id": "844444b0",
   "metadata": {},
   "source": [
    "從上面的例子中，您可以看到：\n",
    "\n",
    "Statement 1 在循環開始之前設置變量 (var i = 0)。\n",
    "Statement 2 定義循環運行的條件（i 必須小於 5）。\n",
    "Statement 3 在每次代碼塊已被執行後增加一個值 (i++)。"
   ]
  },
  {
   "cell_type": "markdown",
   "id": "91c67178",
   "metadata": {},
   "source": [
    "### 語句 1"
   ]
  },
  {
   "cell_type": "raw",
   "id": "f4809f8b",
   "metadata": {},
   "source": [
    "通常我們會使用語句 1 初始化循環中所用的變量 (var i = 0)。語句 1 是可選的，也就是說不使用語句 1 也可以。\n",
    "您可以在語句 1 中初始化任意（或者多個）值："
   ]
  },
  {
   "cell_type": "code",
   "execution_count": null,
   "id": "e5f78e00",
   "metadata": {},
   "outputs": [],
   "source": [
    "<!DOCTYPE html>\n",
    "<html>\n",
    "\n",
    "<head>\n",
    "    <meta charset=\"utf-8\">\n",
    "    <title>菜鳥教程</title>\n",
    "</head>\n",
    "\n",
    "<body>\n",
    "\n",
    "    <script>\n",
    "        cars = [\"BMW\", \"Volvo\", \"Saab\", \"Ford\"];\n",
    "        for (var i = 0, l = cars.length; i < l; i++) {\n",
    "            document.write(cars[i] + \"<br>\");\n",
    "        }\n",
    "    </script>\n",
    "\n",
    "</body>\n",
    "\n",
    "</html>"
   ]
  },
  {
   "cell_type": "raw",
   "id": "aa3513e1",
   "metadata": {},
   "source": [
    "同時您還可以省略語句 1（比如在循環開始前已經設置了值時）："
   ]
  },
  {
   "cell_type": "code",
   "execution_count": null,
   "id": "87a61034",
   "metadata": {},
   "outputs": [],
   "source": [
    "<!DOCTYPE html>\n",
    "<html>\n",
    "\n",
    "<head>\n",
    "    <meta charset=\"utf-8\">\n",
    "    <title>菜鳥教程</title>\n",
    "</head>\n",
    "\n",
    "<body>\n",
    "\n",
    "    <script>\n",
    "        cars = [\"BMW\", \"Volvo\", \"Saab\", \"Ford\"];\n",
    "        var i = 2, len = cars.length;\n",
    "        for (; i < len; i++) {\n",
    "            document.write(cars[i] + \"<br>\");\n",
    "        }\n",
    "    </script>\n",
    "\n",
    "</body>\n",
    "\n",
    "</html>"
   ]
  },
  {
   "cell_type": "markdown",
   "id": "013e2566",
   "metadata": {},
   "source": [
    "### 語句 2"
   ]
  },
  {
   "cell_type": "raw",
   "id": "2be42f5a",
   "metadata": {},
   "source": [
    "通常語句 2 用於評估初始變量的條件。語句 2 同樣是可選的。如果語句 2 返回 true，則循環再次開始，如果返回 false，則循環將結束。"
   ]
  },
  {
   "cell_type": "raw",
   "id": "21ae032c",
   "metadata": {},
   "source": [
    "如果省略了語句 2，那麽必須在循環內提供 break。否則循環就無法停下來。這樣有可能令瀏覽器崩潰。請在本教程後的章節閱讀有關 break 的內容。"
   ]
  },
  {
   "cell_type": "markdown",
   "id": "67030ed7",
   "metadata": {},
   "source": [
    "### 語句 3"
   ]
  },
  {
   "cell_type": "raw",
   "id": "f4877fb2",
   "metadata": {},
   "source": [
    "通常語句 3 會增加初始變量的值。語句 3 也是可選的。語句 3 有多種用法。增量可以是負數 (i--)，或者更大 (i=i+15)。\n",
    "語句 3 也可以省略（比如當循環內部有相應的代碼時）："
   ]
  },
  {
   "cell_type": "code",
   "execution_count": null,
   "id": "188b97a2",
   "metadata": {},
   "outputs": [],
   "source": [
    "<!DOCTYPE html>\n",
    "<html>\n",
    "\n",
    "<head>\n",
    "    <meta charset=\"utf-8\">\n",
    "    <title>菜鳥教程</title>\n",
    "</head>\n",
    "\n",
    "<body>\n",
    "\n",
    "    <script>\n",
    "        cars = [\"BMW\", \"Volvo\", \"Saab\", \"Ford\"];\n",
    "        var i = 0, len = cars.length;\n",
    "        for (; i < len;) {\n",
    "            document.write(cars[i] + \"<br>\");\n",
    "            i++;\n",
    "        }\n",
    "    </script>\n",
    "\n",
    "</body>\n",
    "\n",
    "</html>"
   ]
  },
  {
   "cell_type": "markdown",
   "id": "cb177a9e",
   "metadata": {},
   "source": [
    "# For/In 循環"
   ]
  },
  {
   "cell_type": "raw",
   "id": "58aa85a9",
   "metadata": {},
   "source": [
    "JavaScript for/in 語句循環遍歷對象的屬性："
   ]
  },
  {
   "cell_type": "markdown",
   "id": "7255d560",
   "metadata": {},
   "source": [
    "### For in over object "
   ]
  },
  {
   "cell_type": "raw",
   "id": "96a78341",
   "metadata": {},
   "source": [
    "The for in loop iterates over a person object\n",
    "Each iteration returns a key (x)\n",
    "The key is used to access the value of the key\n",
    "The value of the key is person[x]"
   ]
  },
  {
   "cell_type": "code",
   "execution_count": null,
   "id": "43ed1f81",
   "metadata": {},
   "outputs": [],
   "source": [
    "<!DOCTYPE html>\n",
    "<html>\n",
    "\n",
    "<head>\n",
    "    <meta charset=\"utf-8\">\n",
    "    <title>菜鳥教程</title>\n",
    "</head>\n",
    "\n",
    "<body>\n",
    "\n",
    "    <p>點擊下面的按鈕，循環遍歷對象 \"person\" 的屬性。</p>\n",
    "    <button onclick=\"myFunction()\">點擊這裏</button>\n",
    "    <p id=\"demo\"></p>\n",
    "    <script>\n",
    "        function myFunction() {\n",
    "            var x;\n",
    "            var txt = \"\";\n",
    "            var person = { fname: \"Bill\", lname: \"Gates\", age: 56 };\n",
    "            for (x in person) {\n",
    "                txt = txt + person[x];\n",
    "            }\n",
    "            document.getElementById(\"demo\").innerHTML = txt;\n",
    "        }\n",
    "    </script>\n",
    "\n",
    "</body>\n",
    "\n",
    "</html>"
   ]
  },
  {
   "cell_type": "markdown",
   "id": "89362725",
   "metadata": {},
   "source": [
    "### For in over arrays"
   ]
  },
  {
   "cell_type": "raw",
   "id": "25f1a176",
   "metadata": {},
   "source": [
    "The JavaScript for in statement can also loop over the properties of an Array:"
   ]
  },
  {
   "cell_type": "code",
   "execution_count": null,
   "id": "b8917780",
   "metadata": {},
   "outputs": [],
   "source": [
    "<!DOCTYPE html>\n",
    "<html>\n",
    "\n",
    "<body>\n",
    "\n",
    "    <h2>JavaScript For In</h2>\n",
    "    <p>The for in statement can loops over array values:</p>\n",
    "\n",
    "    <p id=\"demo\"></p>\n",
    "\n",
    "    <script>\n",
    "        const numbers = [45, 4, 9, 16, 25];\n",
    "\n",
    "        let txt = \"\";\n",
    "        for (let x in numbers) {\n",
    "            txt += numbers[x] + \"<br>\";\n",
    "        }\n",
    "\n",
    "        document.getElementById(\"demo\").innerHTML = txt;\n",
    "    </script>\n",
    "\n",
    "</body>\n",
    "\n",
    "</html>"
   ]
  },
  {
   "cell_type": "raw",
   "id": "a963c654",
   "metadata": {},
   "source": [
    "Do not use for in over an Array if the index order is important.\n",
    "The index order is implementation-dependent, and array values may not be accessed in the order you expect.\n",
    "\n",
    "It is better to use a for loop, a for of loop, or Array.forEach() when the order is important."
   ]
  },
  {
   "cell_type": "markdown",
   "id": "af53dbff",
   "metadata": {},
   "source": [
    "# For/of 循環"
   ]
  },
  {
   "cell_type": "raw",
   "id": "cb614240",
   "metadata": {},
   "source": [
    "The JavaScript for of statement loops through the values of an iterable object. It lets you loop over iterable data structures such as Arrays, Strings, Maps, NodeLists, and more:"
   ]
  },
  {
   "cell_type": "markdown",
   "id": "d18cf552",
   "metadata": {},
   "source": [
    "### 語法"
   ]
  },
  {
   "cell_type": "code",
   "execution_count": null,
   "id": "c54c2776",
   "metadata": {},
   "outputs": [],
   "source": [
    "for (variable of iterable) {\n",
    "  // code block to be executed\n",
    "}"
   ]
  },
  {
   "cell_type": "raw",
   "id": "a3d57a06",
   "metadata": {},
   "source": [
    "variable - For every iteration the value of the next property is assigned to the variable. \n",
    "           Variable can be declared with const, let, or var.\n",
    "\n",
    "iterable - An object that has iterable properties."
   ]
  },
  {
   "cell_type": "raw",
   "id": "66b8d3d3",
   "metadata": {},
   "source": [
    "Looping over an Array:"
   ]
  },
  {
   "cell_type": "code",
   "execution_count": null,
   "id": "e1666753",
   "metadata": {},
   "outputs": [],
   "source": [
    "<!DOCTYPE html>\n",
    "<html>\n",
    "\n",
    "<body>\n",
    "\n",
    "    <h2>JavaScript For Of Loop</h2>\n",
    "    <p>The for of statement loops through the values of any iterable object:</p>\n",
    "\n",
    "    <p id=\"demo\"></p>\n",
    "\n",
    "    <script>\n",
    "        const cars = [\"BMW\", \"Volvo\", \"Mini\"];\n",
    "\n",
    "        let text = \"\";\n",
    "        for (let x of cars) {\n",
    "            text += x + \"<br>\";\n",
    "        }\n",
    "\n",
    "        document.getElementById(\"demo\").innerHTML = text;\n",
    "    </script>\n",
    "\n",
    "</body>\n",
    "\n",
    "</html>"
   ]
  },
  {
   "cell_type": "raw",
   "id": "0e525c80",
   "metadata": {},
   "source": [
    "Looping over a String"
   ]
  },
  {
   "cell_type": "code",
   "execution_count": null,
   "id": "92d91043",
   "metadata": {},
   "outputs": [],
   "source": [
    "<!DOCTYPE html>\n",
    "<html>\n",
    "\n",
    "<body>\n",
    "\n",
    "    <h2>JavaScript For Of Loop</h2>\n",
    "\n",
    "    <p>The for of statement loops through the values of an iterable object.</p>\n",
    "\n",
    "    <p id=\"demo\"></p>\n",
    "\n",
    "    <script>\n",
    "        let language = \"JavaScript\";\n",
    "\n",
    "        let text = \"\";\n",
    "        for (let x of language) {\n",
    "            text += x + \"<br>\";\n",
    "        }\n",
    "\n",
    "        document.getElementById(\"demo\").innerHTML = text;\n",
    "    </script>\n",
    "\n",
    "</body>\n",
    "\n",
    "</html>"
   ]
  },
  {
   "cell_type": "raw",
   "id": "f1015e09",
   "metadata": {},
   "source": [
    "您將在有關 JavaScript 對象的章節學到更多有關 for / in 循環的知識。"
   ]
  }
 ],
 "metadata": {
  "kernelspec": {
   "display_name": "Python 3",
   "language": "python",
   "name": "python3"
  },
  "language_info": {
   "codemirror_mode": {
    "name": "ipython",
    "version": 3
   },
   "file_extension": ".py",
   "mimetype": "text/x-python",
   "name": "python",
   "nbconvert_exporter": "python",
   "pygments_lexer": "ipython3",
   "version": "3.8.10"
  }
 },
 "nbformat": 4,
 "nbformat_minor": 5
}
