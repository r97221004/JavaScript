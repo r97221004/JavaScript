{
 "cells": [
  {
   "cell_type": "markdown",
   "id": "2870b607",
   "metadata": {},
   "source": [
    "# JavaScript 簡介"
   ]
  },
  {
   "cell_type": "raw",
   "id": "c9845c67",
   "metadata": {},
   "source": [
    "JavaScript 是互聯網上最流行的腳本語言，這門語言可用於 HTML 和 web，更可廣泛用於服務器、PC、筆記本電腦、平板電腦和智能手機等設備。"
   ]
  },
  {
   "cell_type": "markdown",
   "id": "103ffd89",
   "metadata": {},
   "source": [
    "# JavaScript 是腳本語言"
   ]
  },
  {
   "cell_type": "raw",
   "id": "095d8bc0",
   "metadata": {},
   "source": [
    "JavaScript 是一種輕量級的編程語言。\n",
    "JavaScript 是可插入 HTML 頁面的編程代碼。\n",
    "JavaScript 插入 HTML 頁面後，可由所有的現代瀏覽器執行。\n",
    "JavaScript 很容易學習。"
   ]
  },
  {
   "cell_type": "markdown",
   "id": "1150a8ca",
   "metadata": {},
   "source": [
    "# 您將學到什麽"
   ]
  },
  {
   "cell_type": "raw",
   "id": "2c6d7853",
   "metadata": {},
   "source": [
    "下面是您將在本教程中學到的主要內容。"
   ]
  },
  {
   "cell_type": "markdown",
   "id": "4221f5a8",
   "metadata": {},
   "source": [
    "# JavaScript：直接寫入 HTML 輸出流"
   ]
  },
  {
   "cell_type": "code",
   "execution_count": null,
   "id": "779fe8bf",
   "metadata": {},
   "outputs": [],
   "source": [
    "<!DOCTYPE html>\n",
    "<html>\n",
    "\n",
    "<head>\n",
    "    <meta charset=\"utf-8\">\n",
    "    <title>菜鳥教程</title>\n",
    "</head>\n",
    "\n",
    "<body>\n",
    "\n",
    "    <p>\n",
    "        JavaScript 能夠直接寫入 HTML 輸出流中：\n",
    "    </p>\n",
    "    <script>\n",
    "        document.write(\"<h1>這是一個標題</h1>\");\n",
    "        document.write(\"<p>這是一個段落。</p>\");\n",
    "    </script>\n",
    "    <p>\n",
    "        您只能在 HTML 輸出流中使用 <strong>document.write</strong>。\n",
    "        如果您在文檔已加載後使用它（比如在函數中），會覆蓋整個文檔。\n",
    "    </p>\n",
    "\n",
    "</body>\n",
    "\n",
    "</html>"
   ]
  },
  {
   "cell_type": "markdown",
   "id": "1a176efd",
   "metadata": {},
   "source": [
    "# JavaScript：對事件的反應"
   ]
  },
  {
   "cell_type": "raw",
   "id": "dac21730",
   "metadata": {},
   "source": [
    "alert() 函數在 JavaScript 中並不常用，但它對於代碼測試非常方便。\n",
    "onclick 事件只是您即將在本教程中學到的眾多事件之一。"
   ]
  },
  {
   "cell_type": "code",
   "execution_count": null,
   "id": "77d3e565",
   "metadata": {},
   "outputs": [],
   "source": [
    "<!DOCTYPE html>\n",
    "<html>\n",
    "\n",
    "<head>\n",
    "    <meta charset=\"utf-8\">\n",
    "    <title>菜鳥教程</title>\n",
    "</head>\n",
    "\n",
    "<body>\n",
    "\n",
    "    <h1>我的第一個 JavaScript</h1>\n",
    "    <p>\n",
    "        JavaScript 能夠對事件作出反應。比如對按鈕的點擊：\n",
    "    </p>\n",
    "    <button type=\"button\" onclick=\"alert('歡迎!')\">點我!</button>\n",
    "\n",
    "</body>\n",
    "\n",
    "</html>"
   ]
  },
  {
   "cell_type": "markdown",
   "id": "69d83bb4",
   "metadata": {},
   "source": [
    "# JavaScript：改變 HTML 內容"
   ]
  },
  {
   "cell_type": "raw",
   "id": "0bc8ea79",
   "metadata": {},
   "source": [
    "使用 JavaScript 來處理 HTML 內容是非常強大的功能。"
   ]
  },
  {
   "cell_type": "raw",
   "id": "f00f05b6",
   "metadata": {},
   "source": [
    "您會經常看到 document.getElementById(\"some id\")。這個方法是 HTML DOM 中定義的。DOM (Document Object Model)（文檔對象模型）是用於訪問 HTML 元素的正式 W3C 標準。您將在本教程的多個章節中學到有關 HTML DOM 的知識。"
   ]
  },
  {
   "cell_type": "code",
   "execution_count": null,
   "id": "57770b9c",
   "metadata": {},
   "outputs": [],
   "source": [
    "<!DOCTYPE html>\n",
    "<html>\n",
    "\n",
    "<head>\n",
    "    <meta charset=\"utf-8\">\n",
    "    <title>菜鳥教程</title>\n",
    "</head>\n",
    "\n",
    "<body>\n",
    "\n",
    "    <h1>我的第一段 JavaScript</h1>\n",
    "    <p id=\"demo\">\n",
    "        JavaScript 能改變 HTML 元素的內容。\n",
    "    </p>\n",
    "    <script>\n",
    "        function myFunction() {\n",
    "            x = document.getElementById(\"demo\");  // 找到元素\n",
    "            x.innerHTML = \"Hello JavaScript!\";    // 改變內容\n",
    "        }\n",
    "    </script>\n",
    "    <button type=\"button\" onclick=\"myFunction()\">點擊這裏</button>\n",
    "\n",
    "</body>\n",
    "\n",
    "</html>"
   ]
  },
  {
   "cell_type": "markdown",
   "id": "7f0a6c3a",
   "metadata": {},
   "source": [
    "# JavaScript：改變 HTML 圖像"
   ]
  },
  {
   "cell_type": "raw",
   "id": "161c0a04",
   "metadata": {},
   "source": [
    "本例會動態地改變 HTML <image> 的來源（src）："
   ]
  },
  {
   "cell_type": "code",
   "execution_count": null,
   "id": "7b2d6754",
   "metadata": {},
   "outputs": [],
   "source": [
    "<!DOCTYPE html>\n",
    "<html>\n",
    "\n",
    "<head>\n",
    "    <meta charset=\"utf-8\">\n",
    "    <title>菜鳥教程</title>\n",
    "</head>\n",
    "\n",
    "<body>\n",
    "\n",
    "    <script>\n",
    "        function changeImage() {\n",
    "            element = document.getElementById('myimage')\n",
    "            if (element.src.match(\"bulbon\")) {\n",
    "                element.src = \"./images/pic_bulboff.gif\";\n",
    "            }\n",
    "            else {\n",
    "                element.src = \"./images/pic_bulbon.gif\";\n",
    "            }\n",
    "        }\n",
    "    </script>\n",
    "    <img id=\"myimage\" onclick=\"changeImage()\" src=\"./images/pic_bulboff.gif\" width=\"100\" height=\"180\">\n",
    "    <p>點擊燈泡就可以打開或關閉這盞燈</p>\n",
    "\n",
    "</body>\n",
    "\n",
    "</html>"
   ]
  },
  {
   "cell_type": "raw",
   "id": "000c7d65",
   "metadata": {},
   "source": [
    "以上實例中代碼 element.src.match(\"bulbon\") 的作用意思是：檢索 <img id=\"myimage\" onclick=\"changeImage()\" src=\"/images/pic_bulboff.gif\" width=\"100\" height=\"180\"> 裏面 src 屬性的值有沒有包含 bulbon 這個字符串，如果存在字符串 bulbon，圖片 src 更新為 bulboff.gif，若匹配不到 bulbon 字符串，src 則更新為 bulbon.gif。"
   ]
  },
  {
   "cell_type": "raw",
   "id": "521cf443",
   "metadata": {},
   "source": [
    "JavaScript 能夠改變任意 HTML 元素的大多數屬性，而不僅僅是圖片。"
   ]
  },
  {
   "cell_type": "markdown",
   "id": "e2e4fd96",
   "metadata": {},
   "source": [
    "# JavaScript：改變 HTML 樣式"
   ]
  },
  {
   "cell_type": "raw",
   "id": "fbd3939d",
   "metadata": {},
   "source": [
    "改變 HTML 元素的樣式，屬於改變 HTML 屬性的變種。"
   ]
  },
  {
   "cell_type": "code",
   "execution_count": null,
   "id": "9f4bef6e",
   "metadata": {},
   "outputs": [],
   "source": [
    "<!DOCTYPE html>\n",
    "<html>\n",
    "\n",
    "<head>\n",
    "    <meta charset=\"utf-8\">\n",
    "    <title>菜鳥教程</title>\n",
    "</head>\n",
    "\n",
    "<body>\n",
    "\n",
    "    <h1>我的第一段 JavaScript</h1>\n",
    "    <p id=\"demo\">\n",
    "        JavaScript 能改變 HTML 元素的樣式。\n",
    "    </p>\n",
    "    <script>\n",
    "        function myFunction() {\n",
    "            x = document.getElementById(\"demo\") // 找到元素\n",
    "            x.style.color = \"#ff0000\";          // 改變樣式\n",
    "        }\n",
    "    </script>\n",
    "    <button type=\"button\" onclick=\"myFunction()\">點擊這裏</button>\n",
    "\n",
    "</body>\n",
    "\n",
    "</html>"
   ]
  },
  {
   "cell_type": "markdown",
   "id": "0c9f85d3",
   "metadata": {},
   "source": [
    "# JavaScript：驗證輸入"
   ]
  },
  {
   "cell_type": "raw",
   "id": "2bc4ef2f",
   "metadata": {},
   "source": [
    "JavaScript 常用於驗證用戶的輸入。"
   ]
  },
  {
   "cell_type": "code",
   "execution_count": null,
   "id": "2821ef6d",
   "metadata": {},
   "outputs": [],
   "source": [
    "<!DOCTYPE html>\n",
    "<html>\n",
    "\n",
    "<head>\n",
    "    <meta charset=\"utf-8\">\n",
    "    <title>菜鳥教程</title>\n",
    "</head>\n",
    "\n",
    "<body>\n",
    "\n",
    "    <h1>我的第一段 JavaScript</h1>\n",
    "    <p>請輸入數字。如果輸入值不是數字，瀏覽器會彈出提示框。</p>\n",
    "    <input id=\"demo\" type=\"text\">\n",
    "    <script>\n",
    "        function myFunction() {\n",
    "            var x = document.getElementById(\"demo\").value;\n",
    "            if (x == \"\" || isNaN(x)) {\n",
    "                alert(\"不是數字\");\n",
    "            }\n",
    "        }\n",
    "    </script>\n",
    "    <button type=\"button\" onclick=\"myFunction()\">點擊這裏</button>\n",
    "\n",
    "</body>\n",
    "\n",
    "</html>"
   ]
  },
  {
   "cell_type": "raw",
   "id": "08a8e647",
   "metadata": {},
   "source": [
    "以上實例只是普通的驗證，如果要在生產環境中使用，需要嚴格判斷，如果輸入的空格，或者連續空格 isNaN 是判別不出來的。可以添加正則來判斷（後續章節會說明）:"
   ]
  },
  {
   "cell_type": "code",
   "execution_count": null,
   "id": "bf38664a",
   "metadata": {},
   "outputs": [],
   "source": [
    "<!DOCTYPE html>\n",
    "<html>\n",
    "\n",
    "<head>\n",
    "    <meta charset=\"utf-8\">\n",
    "    <title>菜鳥教程(runoob.com)</title>\n",
    "</head>\n",
    "\n",
    "<body>\n",
    "\n",
    "    <h1>我的第一段 JavaScript</h1>\n",
    "    <p>請輸入數字。如果輸入值不是數字，瀏覽器會彈出提示框。</p>\n",
    "    <input id=\"demo\" type=\"text\">\n",
    "    <script>\n",
    "        function myFunction() {\n",
    "            var x = document.getElementById(\"demo\").value;\n",
    "            if (isNaN(x) || x.replace(/(^\\s*)|(\\s*$)/g, \"\") == \"\") {\n",
    "                alert(\"不是數字\");\n",
    "            }\n",
    "        }\n",
    "    </script>\n",
    "    <button type=\"button\" onclick=\"myFunction()\">點擊這裏</button>\n",
    "\n",
    "</body>\n",
    "\n",
    "</html>"
   ]
  },
  {
   "cell_type": "markdown",
   "id": "647fd1bd",
   "metadata": {},
   "source": [
    "# 您知道嗎？"
   ]
  },
  {
   "cell_type": "raw",
   "id": "ae987c6f",
   "metadata": {},
   "source": [
    "JavaScript 與 Java 是兩種完全不同的語言，無論在概念上還是設計上。 Java（由 Sun 發明）是更覆雜的編程語言。 ECMA-262 是 JavaScript 標準的官方名稱。JavaScript 由 Brendan Eich 發明。它於 1995 年出現在 Netscape 中（該瀏覽器已停止更新），並於 1997 年被 ECMA（一個標準協會）采納。"
   ]
  },
  {
   "cell_type": "raw",
   "id": "9bc7c689",
   "metadata": {},
   "source": [
    "JavaScript 已經由 ECMA（歐洲電腦制造商協會）通過 ECMAScript 實現語言的標準化。\n",
    "\n",
    "年份\t  名稱\t         描述\n",
    "1997\tECMAScript 1\t第一個版本\n",
    "1998\tECMAScript 2\t版本變更\n",
    "1999\tECMAScript 3\t添加正則表達式\n",
    "                        添加 try/catch\n",
    "        ECMAScript 4\t沒有發布\n",
    "2009\tECMAScript 5\t添加 \"strict mode\"，嚴格模式\n",
    "                        添加 JSON 支持\n",
    "2011\tECMAScript 5.1\t版本變更\n",
    "2015\tECMAScript 6\t添加類和模塊\n",
    "2016\tECMAScript 7\t增加指數運算符 (**)\n",
    "                        增加 Array.prototype.includes"
   ]
  },
  {
   "cell_type": "raw",
   "id": "93200d2d",
   "metadata": {},
   "source": [
    "ECMAScript 6 也稱為 ECMAScript 2015。\n",
    "ECMAScript 7 也稱為 ECMAScript 2016。"
   ]
  }
 ],
 "metadata": {
  "kernelspec": {
   "display_name": "Python 3",
   "language": "python",
   "name": "python3"
  },
  "language_info": {
   "codemirror_mode": {
    "name": "ipython",
    "version": 3
   },
   "file_extension": ".py",
   "mimetype": "text/x-python",
   "name": "python",
   "nbconvert_exporter": "python",
   "pygments_lexer": "ipython3",
   "version": "3.8.10"
  }
 },
 "nbformat": 4,
 "nbformat_minor": 5
}
