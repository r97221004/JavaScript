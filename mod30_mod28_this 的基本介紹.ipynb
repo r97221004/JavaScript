{
 "cells": [
  {
   "cell_type": "markdown",
   "id": "2b13eacf",
   "metadata": {},
   "source": [
    "# JavaScript this 關鍵字"
   ]
  },
  {
   "cell_type": "raw",
   "id": "6938984e",
   "metadata": {},
   "source": [
    "面向對象語言中 this 表示當前對象的一個引用。\n",
    "但在 JavaScript 中 this 不是固定不變的，它會隨著執行環境的改變而改變。"
   ]
  },
  {
   "cell_type": "raw",
   "id": "3c2ecaaf",
   "metadata": {},
   "source": [
    "在方法中，this 表示該方法所屬的對象。\n",
    "如果單獨使用，this 表示全局對象。\n",
    "在函數中，this 表示全局對象。\n",
    "在函數中，在嚴格模式下，this 是未定義的(undefined)。\n",
    "在事件中，this 表示接收事件的元素。\n",
    "類似 call() 和 apply() 方法可以將 this 引用到任何對象。"
   ]
  },
  {
   "cell_type": "code",
   "execution_count": null,
   "id": "91c5ba3a",
   "metadata": {},
   "outputs": [],
   "source": [
    "<!DOCTYPE html>\n",
    "<html>\n",
    "\n",
    "<head>\n",
    "    <meta charset=\"utf-8\">\n",
    "    <title>菜鳥教程</title>\n",
    "</head>\n",
    "\n",
    "<body>\n",
    "\n",
    "    <h2>JavaScript <b>this</b> 關鍵字</h2>\n",
    "\n",
    "    <p>實例中，<b>this</b> 指向了 <b>person</b> 對象。</p>\n",
    "    <p>因為 person 對象是 fullName 方法的所有者。</p>\n",
    "\n",
    "    <p id=\"demo\"></p>\n",
    "\n",
    "    <script>\n",
    "        // 創建一個對象\n",
    "        var person = {\n",
    "            firstName: \"John\",\n",
    "            lastName: \"Doe\",\n",
    "            id: 5566,\n",
    "            fullName: function () {\n",
    "                return this.firstName + \" \" + this.lastName;\n",
    "            }\n",
    "        };\n",
    "\n",
    "        // 顯示對象的數據\n",
    "        document.getElementById(\"demo\").innerHTML = person.fullName();\n",
    "    </script>\n",
    "\n",
    "</body>\n",
    "\n",
    "</html>"
   ]
  },
  {
   "cell_type": "markdown",
   "id": "7b5b5085",
   "metadata": {},
   "source": [
    "# 方法中的 this"
   ]
  },
  {
   "cell_type": "raw",
   "id": "f065d36d",
   "metadata": {},
   "source": [
    "在對象方法中， this 指向調用它所在方法的對象。在上面一個實例中，this 表示 person 對象。\n",
    "fullName 方法所屬的對象就是 person。"
   ]
  },
  {
   "cell_type": "code",
   "execution_count": null,
   "id": "53ee118b",
   "metadata": {},
   "outputs": [],
   "source": [
    "fullName : function() {\n",
    "  return this.firstName + \" \" + this.lastName;\n",
    "}"
   ]
  },
  {
   "cell_type": "code",
   "execution_count": null,
   "id": "fb597c72",
   "metadata": {},
   "outputs": [],
   "source": [
    "# 單獨使用 this"
   ]
  },
  {
   "cell_type": "raw",
   "id": "5d1175c0",
   "metadata": {},
   "source": [
    "單獨使用 this，則它指向全局 (Global) 對象。在瀏覽器中，window 就是該全局對象為 [object Window]:"
   ]
  },
  {
   "cell_type": "code",
   "execution_count": null,
   "id": "1f327f37",
   "metadata": {},
   "outputs": [],
   "source": [
    "<!DOCTYPE html>\n",
    "<html>\n",
    "\n",
    "<head>\n",
    "    <meta charset=\"utf-8\">\n",
    "    <title>菜鳥教程</title>\n",
    "</head>\n",
    "\n",
    "<body>\n",
    "\n",
    "    <h2>JavaScript <b>this</b> 關鍵字</h2>\n",
    "\n",
    "    <p>實例中，<b>this</b> 指向了 window 對象:</p>\n",
    "\n",
    "    <p id=\"demo\"></p>\n",
    "\n",
    "    <script>\n",
    "        var x = this;\n",
    "        document.getElementById(\"demo\").innerHTML = x;\n",
    "    </script>\n",
    "\n",
    "</body>\n",
    "\n",
    "</html>"
   ]
  },
  {
   "cell_type": "raw",
   "id": "88d18aee",
   "metadata": {},
   "source": [
    "嚴格模式下，如果單獨使用，this 也是指向 全局(Global) 對象。"
   ]
  },
  {
   "cell_type": "code",
   "execution_count": null,
   "id": "58a16b1d",
   "metadata": {},
   "outputs": [],
   "source": [
    "<!DOCTYPE html>\n",
    "<html>\n",
    "\n",
    "<head>\n",
    "    <meta charset=\"utf-8\">\n",
    "    <title>菜鳥教程</title>\n",
    "</head>\n",
    "\n",
    "<body>\n",
    "\n",
    "    <h2>JavaScript <b>this</b> 關鍵字</h2>\n",
    "\n",
    "    <p>實例中，<b>this</b> 指向了 window 對象:</p>\n",
    "\n",
    "    <p id=\"demo\"></p>\n",
    "\n",
    "    <script>\n",
    "        \"use strict\";\n",
    "        var x = this;\n",
    "        document.getElementById(\"demo\").innerHTML = x;\n",
    "    </script>\n",
    "\n",
    "</body>\n",
    "\n",
    "</html>"
   ]
  },
  {
   "cell_type": "markdown",
   "id": "e80db26e",
   "metadata": {},
   "source": [
    "# 函數中使用 this（默認）"
   ]
  },
  {
   "cell_type": "raw",
   "id": "d560eb0a",
   "metadata": {},
   "source": [
    "在函數中，函數的所屬者默認綁定到 this 上。在瀏覽器中，window 就是該全局對象為 [object Window]:"
   ]
  },
  {
   "cell_type": "code",
   "execution_count": null,
   "id": "5ffebd58",
   "metadata": {},
   "outputs": [],
   "source": [
    "<!DOCTYPE html>\n",
    "<html>\n",
    "\n",
    "<head>\n",
    "    <meta charset=\"utf-8\">\n",
    "    <title>菜鳥教程</title>\n",
    "</head>\n",
    "\n",
    "<body>\n",
    "\n",
    "    <h2>JavaScript <b>this</b> 關鍵字</h2>\n",
    "\n",
    "    <p>實例中，<b>this</b> 表示 myFunction 函數的所有者：</p>\n",
    "\n",
    "    <p id=\"demo\"></p>\n",
    "\n",
    "    <script>\n",
    "        document.getElementById(\"demo\").innerHTML = myFunction();\n",
    "        function myFunction() {\n",
    "            return this;\n",
    "        }\n",
    "    </script>\n",
    "\n",
    "</body>\n",
    "\n",
    "</html>"
   ]
  },
  {
   "cell_type": "markdown",
   "id": "babe71fb",
   "metadata": {},
   "source": [
    "# 函數中使用 this（嚴格模式）"
   ]
  },
  {
   "cell_type": "raw",
   "id": "5eec448e",
   "metadata": {},
   "source": [
    "嚴格模式下函數是沒有綁定到 this 上，這時候 this 是 undefined。"
   ]
  },
  {
   "cell_type": "code",
   "execution_count": null,
   "id": "72bff885",
   "metadata": {},
   "outputs": [],
   "source": [
    "\"use strict\";\n",
    "function myFunction() {\n",
    "  return this;\n",
    "}"
   ]
  },
  {
   "cell_type": "markdown",
   "id": "c60afe4b",
   "metadata": {},
   "source": [
    "# 事件中的 this"
   ]
  },
  {
   "cell_type": "raw",
   "id": "8044c8f9",
   "metadata": {},
   "source": [
    "在 HTML 事件句柄中，this 指向了接收事件的 HTML 元素："
   ]
  },
  {
   "cell_type": "code",
   "execution_count": null,
   "id": "6d7a2248",
   "metadata": {},
   "outputs": [],
   "source": [
    "<!DOCTYPE html>\n",
    "<html>\n",
    "\n",
    "<head>\n",
    "    <meta charset=\"utf-8\">\n",
    "    <title>菜鳥教程</title>\n",
    "</head>\n",
    "\n",
    "<body>\n",
    "\n",
    "    <h2>JavaScript <b>this</b> 關鍵字</h2>\n",
    "\n",
    "    <button onclick=\"this.style.display='none'\">點我後我就消失了</button>\n",
    "\n",
    "</body>\n",
    "\n",
    "</html>"
   ]
  },
  {
   "cell_type": "markdown",
   "id": "b60fff38",
   "metadata": {},
   "source": [
    "# 對象方法中綁定"
   ]
  },
  {
   "cell_type": "raw",
   "id": "14ab9749",
   "metadata": {},
   "source": [
    "下面實例中，this 是 person 對象，person 對象是函數的所有者："
   ]
  },
  {
   "cell_type": "code",
   "execution_count": null,
   "id": "78cc22d9",
   "metadata": {},
   "outputs": [],
   "source": [
    "<!DOCTYPE html>\n",
    "<html>\n",
    "\n",
    "<head>\n",
    "    <meta charset=\"utf-8\">\n",
    "    <title>菜鳥教程</title>\n",
    "</head>\n",
    "\n",
    "<body>\n",
    "\n",
    "    <h2>JavaScript <b>this</b> 關鍵字</h2>\n",
    "\n",
    "    <p>在實例中，<b>this</b> 指向了 fullName 方法所屬的對象 person。</p>\n",
    "\n",
    "    <p id=\"demo\"></p>\n",
    "\n",
    "    <script>\n",
    "        // 創建一個對象\n",
    "        var person = {\n",
    "            firstName: \"John\",\n",
    "            lastName: \"Doe\",\n",
    "            id: 5566,\n",
    "            myFunction: function () {\n",
    "                return this;\n",
    "            }\n",
    "        };\n",
    "\n",
    "        // 顯示表單數據\n",
    "        document.getElementById(\"demo\").innerHTML = person.myFunction();\n",
    "    </script>\n",
    "\n",
    "</body>\n",
    "\n",
    "</html>"
   ]
  },
  {
   "cell_type": "code",
   "execution_count": null,
   "id": "27f4c853",
   "metadata": {},
   "outputs": [],
   "source": [
    "var person = {\n",
    "  firstName: \"John\",\n",
    "  lastName : \"Doe\",\n",
    "  id       : 5566,\n",
    "  fullName : function() {\n",
    "    return this.firstName + \" \" + this.lastName;\n",
    "  }\n",
    "};"
   ]
  },
  {
   "cell_type": "raw",
   "id": "326e0251",
   "metadata": {},
   "source": [
    "說明: this.firstName 表示 this (person) 對象的 firstName 屬性。"
   ]
  },
  {
   "cell_type": "markdown",
   "id": "93347484",
   "metadata": {},
   "source": [
    "# 顯式函數綁定"
   ]
  },
  {
   "cell_type": "raw",
   "id": "3dcb1a70",
   "metadata": {},
   "source": [
    "在 JavaScript 中函數也是對象，對象則有方法，apply 和 call 就是函數對象的方法。這兩個方法異常強大，他們允許切換函數執行的上下文環境（context），即 this 綁定的對象。\n",
    "\n",
    "在下面實例中，當我們使用 person2 作為參數來調用 person1.fullName 方法時, this 將指向 person2, 即便它是 person1 的方法："
   ]
  },
  {
   "cell_type": "code",
   "execution_count": null,
   "id": "7619c97d",
   "metadata": {},
   "outputs": [],
   "source": [
    "<!DOCTYPE html>\n",
    "<html>\n",
    "\n",
    "<head>\n",
    "    <meta charset=\"utf-8\">\n",
    "    <title>菜鳥教程</title>\n",
    "</head>\n",
    "\n",
    "<body>\n",
    "\n",
    "    <h2>JavaScript this 關鍵字</h2>\n",
    "    <p>實例中 <strong>this</strong> 指向了 person2，即便它是 person1 的方法:</p>\n",
    "\n",
    "    <p id=\"demo\"></p>\n",
    "\n",
    "    <script>\n",
    "        var person1 = {\n",
    "            fullName: function () {\n",
    "                return this.firstName + \" \" + this.lastName;\n",
    "            }\n",
    "        }\n",
    "        var person2 = {\n",
    "            firstName: \"John\",\n",
    "            lastName: \"Doe\",\n",
    "        }\n",
    "        var x = person1.fullName.call(person2);\n",
    "        document.getElementById(\"demo\").innerHTML = x; \n",
    "    </script>\n",
    "\n",
    "</body>\n",
    "\n",
    "</html>"
   ]
  }
 ],
 "metadata": {
  "kernelspec": {
   "display_name": "Python 3",
   "language": "python",
   "name": "python3"
  },
  "language_info": {
   "codemirror_mode": {
    "name": "ipython",
    "version": 3
   },
   "file_extension": ".py",
   "mimetype": "text/x-python",
   "name": "python",
   "nbconvert_exporter": "python",
   "pygments_lexer": "ipython3",
   "version": "3.8.10"
  }
 },
 "nbformat": 4,
 "nbformat_minor": 5
}
