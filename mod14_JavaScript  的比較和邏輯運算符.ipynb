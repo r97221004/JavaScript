{
 "cells": [
  {
   "cell_type": "markdown",
   "id": "cfc93d75",
   "metadata": {},
   "source": [
    "# JavaScript  的比較和邏輯運算符"
   ]
  },
  {
   "cell_type": "code",
   "execution_count": null,
   "id": "55659fa9",
   "metadata": {},
   "outputs": [],
   "source": [
    "比較和邏輯運算符用於測試 true 或者 false。"
   ]
  },
  {
   "cell_type": "markdown",
   "id": "ceeb0e86",
   "metadata": {},
   "source": [
    "# 比較運算符"
   ]
  },
  {
   "cell_type": "raw",
   "id": "b5d6305f",
   "metadata": {},
   "source": [
    "比較運算符在邏輯語句中使用，以測定變量或值是否相等。\n",
    "x = 5，下面的表格解釋了比較運算符："
   ]
  },
  {
   "cell_type": "markdown",
   "id": "658761fa",
   "metadata": {},
   "source": [
    "<img src='./images/5.png'>"
   ]
  },
  {
   "cell_type": "markdown",
   "id": "0386570d",
   "metadata": {},
   "source": [
    "# 如何使用"
   ]
  },
  {
   "cell_type": "raw",
   "id": "6f964ee9",
   "metadata": {},
   "source": [
    "可以在條件語句中使用比較運算符對值進行比較，然後根據結果來采取行動："
   ]
  },
  {
   "cell_type": "code",
   "execution_count": null,
   "id": "437a7e7c",
   "metadata": {},
   "outputs": [],
   "source": [
    "if (age<18) x = \"Too young\";"
   ]
  },
  {
   "cell_type": "raw",
   "id": "c19663a2",
   "metadata": {},
   "source": [
    "您將在本教程的下一節中學習更多有關條件語句的知識。"
   ]
  },
  {
   "cell_type": "markdown",
   "id": "1f07db3d",
   "metadata": {},
   "source": [
    "# 邏輯運算符"
   ]
  },
  {
   "cell_type": "raw",
   "id": "a484e622",
   "metadata": {},
   "source": [
    "邏輯運算符用於測定變量或值之間的邏輯。給定 x = 6 以及 y = 3，下表解釋了邏輯運算符："
   ]
  },
  {
   "cell_type": "markdown",
   "id": "132e230c",
   "metadata": {},
   "source": [
    "<img src='./images/6.png'>"
   ]
  },
  {
   "cell_type": "markdown",
   "id": "8e8208f1",
   "metadata": {},
   "source": [
    "# 條件運算符"
   ]
  },
  {
   "cell_type": "raw",
   "id": "324d55e6",
   "metadata": {},
   "source": [
    "JavaScript 還包含了基於某些條件對變量進行賦值的條件運算符。"
   ]
  },
  {
   "cell_type": "markdown",
   "id": "19fdf391",
   "metadata": {},
   "source": [
    "### 語法"
   ]
  },
  {
   "cell_type": "code",
   "execution_count": null,
   "id": "89c04363",
   "metadata": {},
   "outputs": [],
   "source": [
    "variablename = (condition)?value1:value2 "
   ]
  },
  {
   "cell_type": "code",
   "execution_count": null,
   "id": "783f45c1",
   "metadata": {},
   "outputs": [],
   "source": [
    "<!DOCTYPE html>\n",
    "<html>\n",
    "\n",
    "<head>\n",
    "    <meta charset=\"utf-8\">\n",
    "    <title>菜鳥教程</title>\n",
    "</head>\n",
    "\n",
    "<body>\n",
    "\n",
    "    <p>點擊按鈕檢測年齡。</p>\n",
    "    年齡:<input id=\"age\" value=\"18\" />\n",
    "    <p>是否達到投票年齡?</p>\n",
    "    <button onclick=\"myFunction()\">點擊按鈕</button>\n",
    "    <p id=\"demo\"></p>\n",
    "    <script>\n",
    "        function myFunction() {\n",
    "            var age, voteable;\n",
    "            age = document.getElementById(\"age\").value;\n",
    "            voteable = (age < 18) ? \"年齡太小\" : \"年齡已達到\";\n",
    "            document.getElementById(\"demo\").innerHTML = voteable;\n",
    "        }\n",
    "    </script>\n",
    "\n",
    "</body>\n",
    "\n",
    "</html>"
   ]
  }
 ],
 "metadata": {
  "kernelspec": {
   "display_name": "Python 3",
   "language": "python",
   "name": "python3"
  },
  "language_info": {
   "codemirror_mode": {
    "name": "ipython",
    "version": 3
   },
   "file_extension": ".py",
   "mimetype": "text/x-python",
   "name": "python",
   "nbconvert_exporter": "python",
   "pygments_lexer": "ipython3",
   "version": "3.8.10"
  }
 },
 "nbformat": 4,
 "nbformat_minor": 5
}
