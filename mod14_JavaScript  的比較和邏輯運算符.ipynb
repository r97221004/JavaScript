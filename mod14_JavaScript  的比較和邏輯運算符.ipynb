{
 "cells": [
  {
   "cell_type": "markdown",
   "id": "cfc93d75",
   "metadata": {},
   "source": [
    "# JavaScript  的比較和邏輯運算符"
   ]
  },
  {
   "cell_type": "code",
   "execution_count": null,
   "id": "55659fa9",
   "metadata": {},
   "outputs": [],
   "source": [
    "比較和邏輯運算符用於測試 true 或者 false。"
   ]
  },
  {
   "cell_type": "markdown",
   "id": "ceeb0e86",
   "metadata": {},
   "source": [
    "# 比較運算符"
   ]
  },
  {
   "cell_type": "raw",
   "id": "b5d6305f",
   "metadata": {},
   "source": [
    "比較運算符在邏輯語句中使用，以測定變量或值是否相等。\n",
    "x = 5，下面的表格解釋了比較運算符："
   ]
  },
  {
   "cell_type": "markdown",
   "id": "658761fa",
   "metadata": {},
   "source": [
    "<img src='./images/5.png'>"
   ]
  },
  {
   "cell_type": "markdown",
   "id": "0386570d",
   "metadata": {},
   "source": [
    "# 如何使用"
   ]
  },
  {
   "cell_type": "raw",
   "id": "6f964ee9",
   "metadata": {},
   "source": [
    "可以在條件語句中使用比較運算符對值進行比較，然後根據結果來采取行動："
   ]
  },
  {
   "cell_type": "code",
   "execution_count": null,
   "id": "437a7e7c",
   "metadata": {},
   "outputs": [],
   "source": [
    "if (age<18) x = \"Too young\";"
   ]
  },
  {
   "cell_type": "raw",
   "id": "c19663a2",
   "metadata": {},
   "source": [
    "您將在本教程的下一節中學習更多有關條件語句的知識。"
   ]
  },
  {
   "cell_type": "markdown",
   "id": "1f07db3d",
   "metadata": {},
   "source": [
    "# 邏輯運算符"
   ]
  },
  {
   "cell_type": "raw",
   "id": "a484e622",
   "metadata": {},
   "source": [
    "邏輯運算符用於測定變量或值之間的邏輯。給定 x = 6 以及 y = 3，下表解釋了邏輯運算符："
   ]
  },
  {
   "cell_type": "markdown",
   "id": "132e230c",
   "metadata": {},
   "source": [
    "<img src='./images/6.png'>"
   ]
  },
  {
   "cell_type": "markdown",
   "id": "8e8208f1",
   "metadata": {},
   "source": [
    "# 條件運算符"
   ]
  },
  {
   "cell_type": "raw",
   "id": "324d55e6",
   "metadata": {},
   "source": [
    "JavaScript 還包含了基於某些條件對變量進行賦值的條件運算符。"
   ]
  },
  {
   "cell_type": "markdown",
   "id": "19fdf391",
   "metadata": {},
   "source": [
    "### 語法"
   ]
  },
  {
   "cell_type": "code",
   "execution_count": null,
   "id": "89c04363",
   "metadata": {},
   "outputs": [],
   "source": [
    "variablename = (condition)?value1:value2 "
   ]
  },
  {
   "cell_type": "code",
   "execution_count": null,
   "id": "783f45c1",
   "metadata": {},
   "outputs": [],
   "source": [
    "<!DOCTYPE html>\n",
    "<html>\n",
    "\n",
    "<head>\n",
    "    <meta charset=\"utf-8\">\n",
    "    <title>菜鳥教程</title>\n",
    "</head>\n",
    "\n",
    "<body>\n",
    "\n",
    "    <p>點擊按鈕檢測年齡。</p>\n",
    "    年齡:<input id=\"age\" value=\"18\" />\n",
    "    <p>是否達到投票年齡?</p>\n",
    "    <button onclick=\"myFunction()\">點擊按鈕</button>\n",
    "    <p id=\"demo\"></p>\n",
    "    <script>\n",
    "        function myFunction() {\n",
    "            var age, voteable;\n",
    "            age = document.getElementById(\"age\").value;\n",
    "            voteable = (age < 18) ? \"年齡太小\" : \"年齡已達到\";\n",
    "            document.getElementById(\"demo\").innerHTML = voteable;\n",
    "        }\n",
    "    </script>\n",
    "\n",
    "</body>\n",
    "\n",
    "</html>"
   ]
  },
  {
   "cell_type": "markdown",
   "id": "b8837d5b",
   "metadata": {},
   "source": [
    "# Truthy"
   ]
  },
  {
   "cell_type": "raw",
   "id": "6e78486a",
   "metadata": {},
   "source": [
    "In JavaScript, a truthy value is a value that is considered true when encountered in a Boolean context. All values are truthy unless they are defined as falsy. That is, all values are truthy except false, 0, -0, 0n, \"\", null, undefined, and NaN.\n",
    "\n",
    "JavaScript uses type coercion in Boolean contexts.\n",
    "\n",
    "Examples of truthy values in JavaScript (which will be coerced to true in boolean contexts, and thus execute the if block):"
   ]
  },
  {
   "cell_type": "code",
   "execution_count": null,
   "id": "58490cbe",
   "metadata": {},
   "outputs": [],
   "source": [
    "if (true)\n",
    "if ({})\n",
    "if ([])\n",
    "if (42)\n",
    "if (\"0\")\n",
    "if (\"false\")\n",
    "if (new Date())\n",
    "if (-42)\n",
    "if (12n)\n",
    "if (3.14)\n",
    "if (-3.14)\n",
    "if (Infinity)\n",
    "if (-Infinity)"
   ]
  },
  {
   "cell_type": "markdown",
   "id": "bd86e56b",
   "metadata": {},
   "source": [
    "# The logical AND operator, &&"
   ]
  },
  {
   "cell_type": "raw",
   "id": "215bd3c3",
   "metadata": {},
   "source": [
    "If the first object is truthy, the logical AND operator returns the second operand:"
   ]
  },
  {
   "cell_type": "code",
   "execution_count": null,
   "id": "631a29e5",
   "metadata": {},
   "outputs": [],
   "source": [
    "true && \"dog\"\n",
    "// returns \"dog\"\n",
    "\n",
    "[] && \"dog\"\n",
    "// returns \"dog\""
   ]
  },
  {
   "cell_type": "markdown",
   "id": "c2417fa0",
   "metadata": {},
   "source": [
    "# Strict equality (===)"
   ]
  },
  {
   "cell_type": "raw",
   "id": "dca696c0",
   "metadata": {},
   "source": [
    "=== 與 !== 是 no type coersion，所以盡量使用 === 與 !== 而不適 == 與 !=。"
   ]
  },
  {
   "cell_type": "raw",
   "id": "b24d7578",
   "metadata": {},
   "source": [
    "The strict equality (===) operator checks whether its two operands are equal, returning a Boolean result. Unlike the equality operator, the strict equality operator always considers operands of different types to be different."
   ]
  },
  {
   "cell_type": "code",
   "execution_count": null,
   "id": "61783b26",
   "metadata": {},
   "outputs": [],
   "source": [
    "console.log(1 === 1);\n",
    "// expected output: true\n",
    "\n",
    "console.log('hello' === 'hello');\n",
    "// expected output: true\n",
    "\n",
    "console.log('1' ===  1);\n",
    "// expected output: false\n",
    "\n",
    "console.log(0 === false);\n",
    "// expected output: false"
   ]
  },
  {
   "cell_type": "markdown",
   "id": "7ca53be1",
   "metadata": {},
   "source": [
    "### Description"
   ]
  },
  {
   "cell_type": "raw",
   "id": "296a6813",
   "metadata": {},
   "source": [
    "The strict equality operators (=== and !==) provide the IsStrictlyEqual semantic.\n",
    "\n",
    "- If the operands are of different types, return false.\n",
    "- If both operands are objects, return true only if they refer to the same object.\n",
    "- If both operands are null or both operands are undefined, return true.\n",
    "- If either operand is NaN, return false.\n",
    "- Otherwise, compare the two operand's values:\n",
    "    Numbers must have the same numeric values. +0 and -0 are considered to be the same value.\n",
    "    Strings must have the same characters in the same order.\n",
    "    Booleans must be both true or both false.\n",
    "    \n",
    "The most notable difference between this operator and the equality (==) operator is that if the operands are of different types, the == operator attempts to convert them to the same type before comparing."
   ]
  },
  {
   "cell_type": "code",
   "execution_count": null,
   "id": "df45bb58",
   "metadata": {},
   "outputs": [],
   "source": [
    "\"hello\" === \"hello\"; // true\n",
    "\"hello\" === \"hola\"; // false\n",
    "\n",
    "3 === 3; // true\n",
    "3 === 4; // false\n",
    "\n",
    "true === true; // true\n",
    "true === false; // false\n",
    "\n",
    "null === null; // true"
   ]
  },
  {
   "cell_type": "code",
   "execution_count": null,
   "id": "af739754",
   "metadata": {},
   "outputs": [],
   "source": [
    "\"3\" === 3; // false\n",
    "true === 1; // false\n",
    "null === undefined; // false"
   ]
  },
  {
   "cell_type": "code",
   "execution_count": null,
   "id": "9e97d2d9",
   "metadata": {},
   "outputs": [],
   "source": [
    "const object1 = {\n",
    "  key: \"value\",\n",
    "};\n",
    "\n",
    "const object2 = {\n",
    "  key: \"value\",\n",
    "};\n",
    "\n",
    "console.log(object1 === object2); // false\n",
    "console.log(object1 === object1); // true"
   ]
  }
 ],
 "metadata": {
  "kernelspec": {
   "display_name": "Python 3",
   "language": "python",
   "name": "python3"
  },
  "language_info": {
   "codemirror_mode": {
    "name": "ipython",
    "version": 3
   },
   "file_extension": ".py",
   "mimetype": "text/x-python",
   "name": "python",
   "nbconvert_exporter": "python",
   "pygments_lexer": "ipython3",
   "version": "3.8.10"
  }
 },
 "nbformat": 4,
 "nbformat_minor": 5
}
