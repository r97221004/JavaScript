{
 "cells": [
  {
   "cell_type": "markdown",
   "id": "6e5e53f8",
   "metadata": {},
   "source": [
    "# JavaScript 運算符"
   ]
  },
  {
   "cell_type": "raw",
   "id": "ac8f1e98",
   "metadata": {},
   "source": [
    "運算符 = 用於賦值。\n",
    "運算符 + 用於加值。\n",
    "運算符 = 用於給 JavaScript 變量賦值。\n",
    "算術運算符 + 用於把值加起來。"
   ]
  },
  {
   "cell_type": "code",
   "execution_count": null,
   "id": "9bfe1e62",
   "metadata": {},
   "outputs": [],
   "source": [
    "<!DOCTYPE html>\n",
    "<html>\n",
    "\n",
    "<head>\n",
    "    <meta charset=\"utf-8\">\n",
    "    <title>菜鳥教程</title>\n",
    "</head>\n",
    "\n",
    "<body>\n",
    "\n",
    "    <p>點擊按鈕計算 x 的值.</p>\n",
    "    <button onclick=\"myFunction()\">點擊這裏</button>\n",
    "    <p id=\"demo\"></p>\n",
    "    <script>\n",
    "        function myFunction() {\n",
    "            y = 5;\n",
    "            z = 2;\n",
    "            x = y + z;\n",
    "            document.getElementById(\"demo\").innerHTML = x;\n",
    "        }\n",
    "    </script>\n",
    "\n",
    "</body>\n",
    "\n",
    "</html>"
   ]
  },
  {
   "cell_type": "markdown",
   "id": "1d190aff",
   "metadata": {},
   "source": [
    "# JavaScript 算術運算符"
   ]
  },
  {
   "cell_type": "raw",
   "id": "3c70b22e",
   "metadata": {},
   "source": [
    "與 / 或值之間的算術運算。y = 5，下面的表格解釋了這些算術運算符："
   ]
  },
  {
   "cell_type": "markdown",
   "id": "67febea6",
   "metadata": {},
   "source": [
    "<img src='./images/3.png'>"
   ]
  },
  {
   "cell_type": "code",
   "execution_count": null,
   "id": "e596e1f1",
   "metadata": {},
   "outputs": [],
   "source": [
    "<!DOCTYPE html>\n",
    "<html>\n",
    "\n",
    "<head>\n",
    "    <meta charset=\"utf-8\">\n",
    "    <title>菜鳥教程</title>\n",
    "</head>\n",
    "\n",
    "<body>\n",
    "\n",
    "    <p>設置 y=5, 計算出 x=++y, 並顯示結果。</p>\n",
    "    <button onclick=\"myFunction()\">點我</button>\n",
    "    <p id=\"demo\"></p>\n",
    "    <script>\n",
    "        function myFunction() {\n",
    "            var y = 5;\n",
    "            var x = ++y;\n",
    "            var demoP = document.getElementById(\"demo\")\n",
    "            demoP.innerHTML = \"x=\" + x + \", y=\" + y;\n",
    "        }\n",
    "    </script>\n",
    "    <p><strong>注意:</strong>兩個值 x 和 y 都受到影響。</p>\n",
    "\n",
    "</body>\n",
    "\n",
    "</html>"
   ]
  },
  {
   "cell_type": "markdown",
   "id": "034d8eb4",
   "metadata": {},
   "source": [
    "# JavaScript 賦值運算符"
   ]
  },
  {
   "cell_type": "raw",
   "id": "2e23c218",
   "metadata": {},
   "source": [
    "賦值運算符用於給 JavaScript 變量賦值。給定 x = 10 和 y = 5，下面的表格解釋了賦值運算符："
   ]
  },
  {
   "cell_type": "markdown",
   "id": "e49bb0f2",
   "metadata": {},
   "source": [
    "<img src='./images/4.png'>"
   ]
  },
  {
   "cell_type": "markdown",
   "id": "7bb40460",
   "metadata": {},
   "source": [
    "# 用於字符串的 + 運算符"
   ]
  },
  {
   "cell_type": "raw",
   "id": "57e66f52",
   "metadata": {},
   "source": [
    "+ 運算符用於把文本值或字符串變量加起來（連接起來）。如需把兩個或多個字符串變量連接起來，請使用 + 運算符。"
   ]
  },
  {
   "cell_type": "code",
   "execution_count": null,
   "id": "34b102c9",
   "metadata": {},
   "outputs": [],
   "source": [
    "<!DOCTYPE html>\n",
    "<html>\n",
    "\n",
    "<head>\n",
    "    <meta charset=\"utf-8\">\n",
    "    <title>菜鳥教程</title>\n",
    "</head>\n",
    "\n",
    "<body>\n",
    "\n",
    "    <p>點擊按鈕創建及增加字符串變量。</p>\n",
    "    <button onclick=\"myFunction()\">點擊這裏</button>\n",
    "    <p id=\"demo\"></p>\n",
    "    <script>\n",
    "        function myFunction() {\n",
    "            txt1 = \"What a very\";\n",
    "            txt2 = \"nice day\";\n",
    "            txt3 = txt1 + txt2;\n",
    "            document.getElementById(\"demo\").innerHTML = txt3;\n",
    "        }\n",
    "    </script>\n",
    "\n",
    "</body>\n",
    "\n",
    "</html>"
   ]
  },
  {
   "cell_type": "raw",
   "id": "8c88cb86",
   "metadata": {},
   "source": [
    "要想在兩個字符串之間增加空格，需要把空格插入一個字符串之中："
   ]
  },
  {
   "cell_type": "code",
   "execution_count": null,
   "id": "cf79334d",
   "metadata": {},
   "outputs": [],
   "source": [
    "txt1 = \"What a very \";\n",
    "txt2 = \"nice day\";\n",
    "txt3 = txt1 + txt2;"
   ]
  },
  {
   "cell_type": "raw",
   "id": "87c524eb",
   "metadata": {},
   "source": [
    "或者把空格插入表達式中："
   ]
  },
  {
   "cell_type": "code",
   "execution_count": null,
   "id": "e84d28aa",
   "metadata": {},
   "outputs": [],
   "source": [
    "txt1 = \"What a very\";\n",
    "txt2 = \"nice day\";\n",
    "txt3 = txt1 + \" \" + txt2;"
   ]
  },
  {
   "cell_type": "raw",
   "id": "be1366bd",
   "metadata": {},
   "source": [
    "在以上語句執行後，變量 txt3 包含的值是： What a very nice day"
   ]
  },
  {
   "cell_type": "markdown",
   "id": "8ad3af71",
   "metadata": {},
   "source": [
    "# 對字符串和數字進行加法運算"
   ]
  },
  {
   "cell_type": "raw",
   "id": "329887d2",
   "metadata": {},
   "source": [
    "兩個數字相加，返回數字相加的和，如果數字與字符串相加，返回字符串，如下實例："
   ]
  },
  {
   "cell_type": "code",
   "execution_count": null,
   "id": "43850323",
   "metadata": {},
   "outputs": [],
   "source": [
    "<!DOCTYPE html>\n",
    "<html>\n",
    "\n",
    "<head>\n",
    "    <meta charset=\"utf-8\">\n",
    "    <title>菜鳥教程</title>\n",
    "</head>\n",
    "\n",
    "<body>\n",
    "\n",
    "    <p>點擊按鈕創建及增加字符串變量。</p>\n",
    "    <button onclick=\"myFunction()\">點擊這裏</button>\n",
    "    <p id=\"demo\"></p>\n",
    "    <script>\n",
    "        function myFunction() {\n",
    "            var x = 5 + 5;\n",
    "            var y = \"5\" + 5;\n",
    "            var z = \"Hello\" + 5;\n",
    "            var demoP = document.getElementById(\"demo\");\n",
    "            demoP.innerHTML = x + \"<br>\" + y + \"<br>\" + z;\n",
    "        }\n",
    "    </script>\n",
    "\n",
    "</body>\n",
    "\n",
    "</html>"
   ]
  },
  {
   "cell_type": "raw",
   "id": "ba07661a",
   "metadata": {},
   "source": [
    "規則: 如果把數字與字符串相加，結果將成為字符串！"
   ]
  }
 ],
 "metadata": {
  "kernelspec": {
   "display_name": "Python 3",
   "language": "python",
   "name": "python3"
  },
  "language_info": {
   "codemirror_mode": {
    "name": "ipython",
    "version": 3
   },
   "file_extension": ".py",
   "mimetype": "text/x-python",
   "name": "python",
   "nbconvert_exporter": "python",
   "pygments_lexer": "ipython3",
   "version": "3.8.10"
  }
 },
 "nbformat": 4,
 "nbformat_minor": 5
}
