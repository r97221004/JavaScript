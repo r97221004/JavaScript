{
 "cells": [
  {
   "cell_type": "markdown",
   "id": "7a4316d2",
   "metadata": {},
   "source": [
    "# JavaScript 作用域"
   ]
  },
  {
   "cell_type": "raw",
   "id": "645ce1f0",
   "metadata": {},
   "source": [
    "作用域是可訪問變量的集合。"
   ]
  },
  {
   "cell_type": "raw",
   "id": "1e750797",
   "metadata": {},
   "source": [
    "在 JavaScript 中, 對象和函數同樣也是變量。在 JavaScript 中, 作用域為可訪問變量，對象，函數的集合。\n",
    "JavaScript 函數作用域: 作用域在函數內修改。"
   ]
  },
  {
   "cell_type": "markdown",
   "id": "5f11c230",
   "metadata": {},
   "source": [
    "# JavaScript 局部作用域"
   ]
  },
  {
   "cell_type": "raw",
   "id": "4cb8ccec",
   "metadata": {},
   "source": [
    "變量在函數內聲明，變量為局部變量，具有局部作用域。\n",
    "局部變量：只能在函數內部訪問。"
   ]
  },
  {
   "cell_type": "code",
   "execution_count": null,
   "id": "029ae8a8",
   "metadata": {},
   "outputs": [],
   "source": [
    "<!DOCTYPE html>\n",
    "<html>\n",
    "\n",
    "<head>\n",
    "    <meta charset=\"utf-8\">\n",
    "    <title>菜鳥教程</title>\n",
    "</head>\n",
    "\n",
    "<body>\n",
    "\n",
    "    <p>局部變量在聲明的函數外不可以訪問。</p>\n",
    "    <p id=\"demo\"></p>\n",
    "    <script>\n",
    "        myFunction();\n",
    "        document.getElementById(\"demo\").innerHTML = \"carName 的類型是：\" + typeof carName;\n",
    "        function myFunction() {\n",
    "            var carName = \"Volvo\";\n",
    "        }\n",
    "    </script>\n",
    "\n",
    "</body>\n",
    "\n",
    "</html>"
   ]
  },
  {
   "cell_type": "raw",
   "id": "f08efda0",
   "metadata": {},
   "source": [
    "因為局部變量只作用於函數內，所以不同的函數可以使用相同名稱的變量。局部變量在函數開始執行時創建，函數執行完後局部變量會自動銷毀。"
   ]
  },
  {
   "cell_type": "markdown",
   "id": "f9336c1d",
   "metadata": {},
   "source": [
    "# JavaScript 全局變量"
   ]
  },
  {
   "cell_type": "raw",
   "id": "4ce53534",
   "metadata": {},
   "source": [
    "變量在函數外定義，即為全局變量。全局變量有全局作用域: 網頁中所有腳本和函數均可使用。 "
   ]
  },
  {
   "cell_type": "code",
   "execution_count": null,
   "id": "bc79be91",
   "metadata": {},
   "outputs": [],
   "source": [
    "<!DOCTYPE html>\n",
    "<html>\n",
    "\n",
    "<head>\n",
    "    <meta charset=\"utf-8\">\n",
    "    <title>菜鳥教程</title>\n",
    "</head>\n",
    "\n",
    "<body>\n",
    "\n",
    "    <p>全局變量在任何腳本和函數內均可訪問。</p>\n",
    "    <p id=\"demo\"></p>\n",
    "    <script>\n",
    "        var carName = \"Volvo\";\n",
    "        myFunction();\n",
    "        function myFunction() {\n",
    "            document.getElementById(\"demo\").innerHTML =\n",
    "                \"我可以顯示 \" + carName;\n",
    "        }\n",
    "    </script>\n",
    "\n",
    "</body>\n",
    "\n",
    "</html>"
   ]
  },
  {
   "cell_type": "raw",
   "id": "cc2723e3",
   "metadata": {},
   "source": [
    "如果變量在函數內沒有聲明（沒有使用 var 關鍵字），該變量為全局變量。以下實例中 carName 在函數內，但是為全局變量。"
   ]
  },
  {
   "cell_type": "code",
   "execution_count": null,
   "id": "04eb662b",
   "metadata": {},
   "outputs": [],
   "source": [
    "<!DOCTYPE html>\n",
    "<html>\n",
    "\n",
    "<head>\n",
    "    <meta charset=\"utf-8\">\n",
    "    <title>菜鳥教程</title>\n",
    "</head>\n",
    "\n",
    "<body>\n",
    "\n",
    "    <p>\n",
    "        如果你的變量沒有聲明，它將自動成為全局變量：\n",
    "    </p>\n",
    "    <p id=\"demo\"></p>\n",
    "    <script>\n",
    "        myFunction();\n",
    "        document.getElementById(\"demo\").innerHTML =\n",
    "            \"我可以顯示 \" + carName;\n",
    "        function myFunction() {\n",
    "            carName = \"Volvo\";\n",
    "        }\n",
    "    </script>\n",
    "\n",
    "</body>\n",
    "\n",
    "</html>"
   ]
  },
  {
   "cell_type": "markdown",
   "id": "9f23bc49",
   "metadata": {},
   "source": [
    "# JavaScript 變量生命周期"
   ]
  },
  {
   "cell_type": "raw",
   "id": "33cc6b9b",
   "metadata": {},
   "source": [
    "JavaScript 變量生命周期在它聲明時初始化。局部變量在函數執行完畢後銷毀。全局變量在頁面關閉後銷毀。"
   ]
  },
  {
   "cell_type": "markdown",
   "id": "92767d93",
   "metadata": {},
   "source": [
    "# 函數參數"
   ]
  },
  {
   "cell_type": "raw",
   "id": "b9ddd379",
   "metadata": {},
   "source": [
    "函數參數只在函數內起作用，是局部變量。"
   ]
  },
  {
   "cell_type": "markdown",
   "id": "38ef2d1f",
   "metadata": {},
   "source": [
    "# HTML 中的全局變量"
   ]
  },
  {
   "cell_type": "raw",
   "id": "79c414d1",
   "metadata": {},
   "source": [
    "在 HTML 中, 全局變量是 window 對象，所以 window 對象可以調用函數內對局部變量。\n",
    "注意：所有數據全局變量都屬於 window 對象。"
   ]
  },
  {
   "cell_type": "code",
   "execution_count": null,
   "id": "062636b7",
   "metadata": {},
   "outputs": [],
   "source": [
    "<!DOCTYPE html>\n",
    "<html>\n",
    "\n",
    "<head>\n",
    "    <meta charset=\"utf-8\">\n",
    "    <title>菜鳥教程</title>\n",
    "</head>\n",
    "\n",
    "<body>\n",
    "\n",
    "    <p>\n",
    "        在 HTML 中, 所有全局變量都會成為 window 變量。\n",
    "    </p>\n",
    "    <p id=\"demo\"></p>\n",
    "    <script>\n",
    "        myFunction();\n",
    "        document.getElementById(\"demo\").innerHTML =\n",
    "            \"我可以顯示 \" + window.carName;\n",
    "        function myFunction() {\n",
    "            carName = \"Volvo\";\n",
    "        }\n",
    "    </script>\n",
    "\n",
    "</body>\n",
    "\n",
    "</html>"
   ]
  },
  {
   "cell_type": "raw",
   "id": "6a5a0224",
   "metadata": {},
   "source": [
    "你的全局變量，或者函數，可以覆蓋 window 對象的變量或者函數。\n",
    "局部變量，包括 window 對象可以覆蓋全局變量和函數。"
   ]
  }
 ],
 "metadata": {
  "kernelspec": {
   "display_name": "Python 3",
   "language": "python",
   "name": "python3"
  },
  "language_info": {
   "codemirror_mode": {
    "name": "ipython",
    "version": 3
   },
   "file_extension": ".py",
   "mimetype": "text/x-python",
   "name": "python",
   "nbconvert_exporter": "python",
   "pygments_lexer": "ipython3",
   "version": "3.8.10"
  }
 },
 "nbformat": 4,
 "nbformat_minor": 5
}
