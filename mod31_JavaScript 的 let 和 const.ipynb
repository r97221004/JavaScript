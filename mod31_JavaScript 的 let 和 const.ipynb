{
 "cells": [
  {
   "cell_type": "markdown",
   "id": "c5e3d3dd",
   "metadata": {},
   "source": [
    "# JavaScript let 和 const"
   ]
  },
  {
   "cell_type": "raw",
   "id": "8c7dc3b6",
   "metadata": {},
   "source": [
    "ECMAScript 2015(ECMAScript 6)\n",
    "ES2015(ES6) 新增加了兩個重要的 JavaScript 關鍵字: let 和 const。\n",
    "\n",
    "let 聲明的變量只在 let 命令所在的代碼塊內有效。\n",
    "const 聲明一個只讀的常量，一旦聲明，常量的值就不能改變。\n",
    "在 ES6 之前，JavaScript 只有兩種作用域： 全局變量 與 函數內的局部變量。"
   ]
  },
  {
   "cell_type": "markdown",
   "id": "c4bc0731",
   "metadata": {},
   "source": [
    "# 全局變量"
   ]
  },
  {
   "cell_type": "raw",
   "id": "cb9b7001",
   "metadata": {},
   "source": [
    "在函數外聲明的變量作用域是全局的："
   ]
  },
  {
   "cell_type": "code",
   "execution_count": null,
   "id": "c7ab23e8",
   "metadata": {},
   "outputs": [],
   "source": [
    "var carName = \"Volvo\";\n",
    " \n",
    "// 這裏可以使用 carName 變量\n",
    " \n",
    "function myFunction() {\n",
    "    // 這裏也可以使用 carName 變量\n",
    "}"
   ]
  },
  {
   "cell_type": "raw",
   "id": "cc6f6ac0",
   "metadata": {},
   "source": [
    "全局變量在 JavaScript 程序的任何地方都可以訪問。"
   ]
  },
  {
   "cell_type": "markdown",
   "id": "3d9a55fd",
   "metadata": {},
   "source": [
    "# 局部變量"
   ]
  },
  {
   "cell_type": "raw",
   "id": "86740472",
   "metadata": {},
   "source": [
    "在函數內聲明的變量作用域是局部的（函數內）："
   ]
  },
  {
   "cell_type": "code",
   "execution_count": null,
   "id": "e2828d98",
   "metadata": {},
   "outputs": [],
   "source": [
    "// 這裏不能使用 carName 變量\n",
    " \n",
    "function myFunction() {\n",
    "    var carName = \"Volvo\";\n",
    "    // 這裏可以使用 carName 變量\n",
    "}\n",
    " \n",
    "// 這裏不能使用 carName 變量"
   ]
  },
  {
   "cell_type": "raw",
   "id": "4dbfc51b",
   "metadata": {},
   "source": [
    "函數內使用 var 聲明的變量只能在函數內訪問，如果不使用 var 則是全局變量。"
   ]
  },
  {
   "cell_type": "markdown",
   "id": "dc2f52bf",
   "metadata": {},
   "source": [
    "# JavaScript 塊級作用域(Block Scope)"
   ]
  },
  {
   "cell_type": "raw",
   "id": "98b4031a",
   "metadata": {},
   "source": [
    "使用 var 關鍵字聲明的變量不具備塊級作用域的特性，它在 {} 外依然能被訪問到。"
   ]
  },
  {
   "cell_type": "code",
   "execution_count": null,
   "id": "5f091021",
   "metadata": {},
   "outputs": [],
   "source": [
    "{ \n",
    "    var x = 2; \n",
    "}\n",
    "// 這裏可以使用 x 變量"
   ]
  },
  {
   "cell_type": "raw",
   "id": "771f7ffe",
   "metadata": {},
   "source": [
    "在 ES6 之前，是沒有塊級作用域的概念的。\n",
    "ES6 可以使用 let 關鍵字來實現塊級作用域。\n",
    "let 聲明的變量只在 let 命令所在的代碼塊 {} 內有效，在 {} 之外不能訪問。"
   ]
  },
  {
   "cell_type": "code",
   "execution_count": null,
   "id": "16885b4f",
   "metadata": {},
   "outputs": [],
   "source": [
    "{ \n",
    "    let x = 2;\n",
    "}\n",
    "// 這裏不能使用 x 變量"
   ]
  },
  {
   "cell_type": "markdown",
   "id": "40395c66",
   "metadata": {},
   "source": [
    "# 重新定義變量"
   ]
  },
  {
   "cell_type": "raw",
   "id": "6ba78fce",
   "metadata": {},
   "source": [
    "使用 var 關鍵字重新聲明變量可能會帶來問題。在塊中重新聲明變量也會重新聲明塊外的變量："
   ]
  },
  {
   "cell_type": "code",
   "execution_count": null,
   "id": "1b94670c",
   "metadata": {},
   "outputs": [],
   "source": [
    "var x = 10;\n",
    "// 這裏輸出 x 為 10\n",
    "{ \n",
    "    var x = 2;\n",
    "    // 這裏輸出 x 為 2\n",
    "}\n",
    "// 這裏輸出 x 為 2"
   ]
  },
  {
   "cell_type": "raw",
   "id": "8af555ae",
   "metadata": {},
   "source": [
    "let 關鍵字就可以解決這個問題，因為它只在 let 命令所在的代碼塊 {} 內有效。"
   ]
  },
  {
   "cell_type": "code",
   "execution_count": null,
   "id": "1cb6fc50",
   "metadata": {},
   "outputs": [],
   "source": [
    "var x = 10;\n",
    "// 這裏輸出 x 為 10\n",
    "{ \n",
    "    let x = 2;\n",
    "    // 這裏輸出 x 為 2\n",
    "}\n",
    "// 這裏輸出 x 為 10"
   ]
  },
  {
   "cell_type": "markdown",
   "id": "4efb5262",
   "metadata": {},
   "source": [
    "# 循環作用域"
   ]
  },
  {
   "cell_type": "raw",
   "id": "0ed85874",
   "metadata": {},
   "source": [
    "使用 var 關鍵字："
   ]
  },
  {
   "cell_type": "code",
   "execution_count": null,
   "id": "188a966b",
   "metadata": {},
   "outputs": [],
   "source": [
    "var i = 5;\n",
    "for (var i = 0; i < 10; i++) {\n",
    "    // 一些代碼...\n",
    "}\n",
    "// 這裏輸出 i 為 10"
   ]
  },
  {
   "cell_type": "raw",
   "id": "26f54949",
   "metadata": {},
   "source": [
    "使用 let 關鍵字："
   ]
  },
  {
   "cell_type": "code",
   "execution_count": null,
   "id": "dfafcf5d",
   "metadata": {},
   "outputs": [],
   "source": [
    "let i = 5;\n",
    "for (let i = 0; i < 10; i++) {\n",
    "    // 一些代碼...\n",
    "}\n",
    "// 這裏輸出 i 為 5"
   ]
  },
  {
   "cell_type": "raw",
   "id": "281898b9",
   "metadata": {},
   "source": [
    "在第一個實例中，使用了 var 關鍵字，它聲明的變量是全局的，包括循環體內與循環體外。"
   ]
  },
  {
   "cell_type": "raw",
   "id": "7d2702b2",
   "metadata": {},
   "source": [
    "在第二個實例中，使用 let 關鍵字， 它聲明的變量作用域只在循環體內，循環體外的變量不受影響。"
   ]
  },
  {
   "cell_type": "markdown",
   "id": "49cbf122",
   "metadata": {},
   "source": [
    "# 局部變量"
   ]
  },
  {
   "cell_type": "raw",
   "id": "2317fc80",
   "metadata": {},
   "source": [
    "在函數體內使用 var 和 let 關鍵字聲明的變量有點類似。\n",
    "它們的作用域都是局部的:"
   ]
  },
  {
   "cell_type": "code",
   "execution_count": null,
   "id": "d6620c1b",
   "metadata": {},
   "outputs": [],
   "source": [
    "// 使用 var\n",
    "function myFunction() {\n",
    "    var carName = \"Volvo\";   // 局部作用域\n",
    "}"
   ]
  },
  {
   "cell_type": "code",
   "execution_count": null,
   "id": "e5c8dd43",
   "metadata": {},
   "outputs": [],
   "source": [
    "// 使用 let\n",
    "function myFunction() {\n",
    "    let carName = \"Volvo\";   //  局部作用域\n",
    "}"
   ]
  },
  {
   "cell_type": "markdown",
   "id": "1797ff6f",
   "metadata": {},
   "source": [
    "# 全局變量"
   ]
  },
  {
   "cell_type": "markdown",
   "id": "015a9f10",
   "metadata": {},
   "source": [
    "在函數體外或代碼塊外使用 var 和 let 關鍵字聲明的變量也有點類似。\n",
    "它們的作用域都是全局的:"
   ]
  },
  {
   "cell_type": "code",
   "execution_count": null,
   "id": "c7866287",
   "metadata": {},
   "outputs": [],
   "source": [
    "// 使用 var\n",
    "var x = 2;       // 全局作用域\n",
    "\n",
    "// 使用 let\n",
    "let x = 2;       // 全局作用域"
   ]
  },
  {
   "cell_type": "markdown",
   "id": "ca872abf",
   "metadata": {},
   "source": [
    "# HTML 代碼中使用全局變量"
   ]
  },
  {
   "cell_type": "raw",
   "id": "807a9e13",
   "metadata": {},
   "source": [
    "在 JavaScript 中， 全局作用域是針對 JavaScript 環境。在 HTML 中，全局作用域是針對 window 對象。\n",
    "使用 var 關鍵字聲明的全局作用域變量屬於 window 對象:"
   ]
  },
  {
   "cell_type": "code",
   "execution_count": null,
   "id": "aa3e25a8",
   "metadata": {},
   "outputs": [],
   "source": [
    "<!DOCTYPE html>\n",
    "<html>\n",
    "\n",
    "<head>\n",
    "    <meta charset=\"utf-8\">\n",
    "    <title>菜鳥教程</title>\n",
    "</head>\n",
    "\n",
    "<body>\n",
    "\n",
    "    <h2>JavaScript 全局變量</h2>\n",
    "\n",
    "    <p>使用 var 關鍵字聲明的全局作用域變量屬於 window 對象。</p>\n",
    "\n",
    "    <p id=\"demo\"></p>\n",
    "\n",
    "    <script>\n",
    "        var carName = \"Volvo\";\n",
    "\n",
    "        // 可以使用 window.carName 訪問變量\n",
    "        document.getElementById(\"demo\").innerHTML = \"I can display \" + window.carName;\n",
    "    </script>\n",
    "\n",
    "</body>\n",
    "\n",
    "</html>"
   ]
  },
  {
   "cell_type": "raw",
   "id": "09f03876",
   "metadata": {},
   "source": [
    "使用 let 關鍵字聲明的全局作用域變量不屬於 window 對象:"
   ]
  },
  {
   "cell_type": "code",
   "execution_count": null,
   "id": "04f8488a",
   "metadata": {},
   "outputs": [],
   "source": [
    "<!DOCTYPE html>\n",
    "<html>\n",
    "\n",
    "<head>\n",
    "    <meta charset=\"utf-8\">\n",
    "    <title>菜鳥教程</title>\n",
    "</head>\n",
    "\n",
    "<body>\n",
    "\n",
    "    <h2>JavaScript 全局變量</h2>\n",
    "\n",
    "    <p>使用 let 關鍵字聲明的全局作用域變量不屬於 window 對象。</p>\n",
    "\n",
    "    <p id=\"demo\"></p>\n",
    "\n",
    "    <script>\n",
    "        let carName = \"Volvo\";\n",
    "\n",
    "        // 不能使用 window.carName 訪問變量\n",
    "        document.getElementById(\"demo\").innerHTML = \"I can not display \" + window.carName;\n",
    "    </script>\n",
    "\n",
    "</body>\n",
    "\n",
    "</html>"
   ]
  },
  {
   "cell_type": "markdown",
   "id": "f51b3ab0",
   "metadata": {},
   "source": [
    "# 重置變量"
   ]
  },
  {
   "cell_type": "raw",
   "id": "cdb8933e",
   "metadata": {},
   "source": [
    "使用 var 關鍵字聲明的變量在任何地方都可以修改："
   ]
  },
  {
   "cell_type": "code",
   "execution_count": null,
   "id": "f62190d1",
   "metadata": {},
   "outputs": [],
   "source": [
    "var x = 2;\n",
    " \n",
    "// x 為 2\n",
    " \n",
    "var x = 3;\n",
    " \n",
    "// 現在 x 為 3"
   ]
  },
  {
   "cell_type": "raw",
   "id": "7b9c2c38",
   "metadata": {},
   "source": [
    "在相同的作用域或塊級作用域中，不能使用 let 關鍵字來重置 var 關鍵字聲明的變量:"
   ]
  },
  {
   "cell_type": "code",
   "execution_count": null,
   "id": "2863f3e9",
   "metadata": {},
   "outputs": [],
   "source": [
    "var x = 2;       // 合法\n",
    "let x = 3;       // 不合法\n",
    "\n",
    "{\n",
    "    var x = 4;   // 合法\n",
    "    let x = 5   // 不合法\n",
    "}"
   ]
  },
  {
   "cell_type": "raw",
   "id": "317fb261",
   "metadata": {},
   "source": [
    "在相同的作用域或塊級作用域中，不能使用 let 關鍵字來重置 let 關鍵字聲明的變量:"
   ]
  },
  {
   "cell_type": "code",
   "execution_count": null,
   "id": "f8701322",
   "metadata": {},
   "outputs": [],
   "source": [
    "let x = 2;       // 合法\n",
    "let x = 3;       // 不合法\n",
    "\n",
    "{\n",
    "    let x = 4;   // 合法\n",
    "    let x = 5;   // 不合法\n",
    "}"
   ]
  },
  {
   "cell_type": "raw",
   "id": "98507eaf",
   "metadata": {},
   "source": [
    "在相同的作用域或塊級作用域中，不能使用 var 關鍵字來重置 let 關鍵字聲明的變量:"
   ]
  },
  {
   "cell_type": "code",
   "execution_count": null,
   "id": "5001fd0f",
   "metadata": {},
   "outputs": [],
   "source": [
    "let x = 2;       // 合法\n",
    "var x = 3;       // 不合法\n",
    "\n",
    "{\n",
    "    let x = 4;   // 合法\n",
    "    var x = 5;   // 不合法\n",
    "}"
   ]
  },
  {
   "cell_type": "raw",
   "id": "f59b0f89",
   "metadata": {},
   "source": [
    "let 關鍵字在不同作用域，或不同塊級作用域中是可以重新聲明賦值的:"
   ]
  },
  {
   "cell_type": "code",
   "execution_count": null,
   "id": "fba3fe2b",
   "metadata": {},
   "outputs": [],
   "source": [
    "let x = 2;       // 合法\n",
    "\n",
    "{\n",
    "    let x = 3;   // 合法\n",
    "}\n",
    "\n",
    "{\n",
    "    let x = 4;   // 合法\n",
    "}"
   ]
  },
  {
   "cell_type": "markdown",
   "id": "334b7cee",
   "metadata": {},
   "source": [
    "# 變量提升"
   ]
  },
  {
   "cell_type": "raw",
   "id": "b481f6ae",
   "metadata": {},
   "source": [
    "JavaScript 中，var 關鍵字定義的變量可以在使用後聲明，也就是變量可以先使用再聲明（JavaScript 變量提升）。"
   ]
  },
  {
   "cell_type": "code",
   "execution_count": null,
   "id": "fd165fa1",
   "metadata": {},
   "outputs": [],
   "source": [
    "<!DOCTYPE html>\n",
    "<html>\n",
    "\n",
    "<head>\n",
    "    <meta charset=\"utf-8\">\n",
    "    <title>菜鳥教程</title>\n",
    "</head>\n",
    "\n",
    "<body>\n",
    "\n",
    "    <h2>JavaScript 變量提升</h2>\n",
    "\n",
    "    <p>var 關鍵字定義的變量可以在使用後聲明，也就是變量可以先使用再聲明:</p>\n",
    "\n",
    "    <p id=\"demo\"></p>\n",
    "\n",
    "    <script>\n",
    "        carName = \"Volvo\";\n",
    "        document.getElementById(\"demo\").innerHTML = carName;\n",
    "        var carName;\n",
    "    </script>\n",
    "\n",
    "</body>\n",
    "\n",
    "</html>"
   ]
  },
  {
   "cell_type": "raw",
   "id": "19951606",
   "metadata": {},
   "source": [
    "let 關鍵字定義的變量則不可以在使用後聲明，也就是變量需要先聲明再使用。"
   ]
  },
  {
   "cell_type": "code",
   "execution_count": null,
   "id": "4a85f685",
   "metadata": {},
   "outputs": [],
   "source": [
    "// 在這裏不可以使用 carName 變量\n",
    "\n",
    "let carName;"
   ]
  },
  {
   "cell_type": "markdown",
   "id": "454158f7",
   "metadata": {},
   "source": [
    "# const 關鍵字"
   ]
  },
  {
   "cell_type": "raw",
   "id": "4d5673f1",
   "metadata": {},
   "source": [
    "const 用於聲明一個或多個常量，聲明時必須進行初始化，且初始化後值不可再修改："
   ]
  },
  {
   "cell_type": "code",
   "execution_count": null,
   "id": "7a182057",
   "metadata": {},
   "outputs": [],
   "source": [
    "const PI = 3.141592653589793;\n",
    "PI = 3.14;      // 報錯\n",
    "PI = PI + 10;   // 報錯"
   ]
  },
  {
   "cell_type": "raw",
   "id": "dee71f14",
   "metadata": {},
   "source": [
    "const 定義常量與使用 let 定義的變量相似：\n",
    "\n",
    "- 二者都是塊級作用域\n",
    "- 都不能和它所在作用域內的其他變量或函數擁有相同的名稱\n",
    "\n",
    "兩者還有以下兩點區別：\n",
    "\n",
    "- const 聲明的常量必須初始化，而 let 聲明的變量不用\n",
    "- const 定義常量的值不能通過再賦值修改，也不能再次聲明。而 let 定義的變量值可以修改。"
   ]
  },
  {
   "cell_type": "code",
   "execution_count": null,
   "id": "d3b73094",
   "metadata": {},
   "outputs": [],
   "source": [
    "var x = 10;\n",
    "// 這裏輸出 x 為 10\n",
    "{ \n",
    "    const x = 2;\n",
    "    // 這裏輸出 x 為 2\n",
    "}\n",
    "// 這裏輸出 x 為 10"
   ]
  },
  {
   "cell_type": "raw",
   "id": "28ad98b7",
   "metadata": {},
   "source": [
    "const 聲明的常量必須初始化："
   ]
  },
  {
   "cell_type": "code",
   "execution_count": null,
   "id": "2f9e579e",
   "metadata": {},
   "outputs": [],
   "source": [
    "// 錯誤寫法\n",
    "const PI;\n",
    "PI = 3.14159265359;\n",
    "\n",
    "// 正確寫法\n",
    "const PI = 3.14159265359;"
   ]
  },
  {
   "cell_type": "markdown",
   "id": "2f0b5987",
   "metadata": {},
   "source": [
    "### 並非真正的常量"
   ]
  },
  {
   "cell_type": "raw",
   "id": "36010162",
   "metadata": {},
   "source": [
    "const 的本質: const 定義的變量並非常量，並非不可變，它定義了一個常量引用一個值。使用 const 定義的對象或者數組，其實是可變的。下面的代碼並不會報錯："
   ]
  },
  {
   "cell_type": "code",
   "execution_count": null,
   "id": "075fe9a5",
   "metadata": {},
   "outputs": [],
   "source": [
    "// 創建常量對象\n",
    "const car = {type:\"Fiat\", model:\"500\", color:\"white\"};\n",
    " \n",
    "// 修改屬性:\n",
    "car.color = \"red\";\n",
    " \n",
    "// 添加屬性\n",
    "car.owner = \"Johnson\";"
   ]
  },
  {
   "cell_type": "raw",
   "id": "107d87c9",
   "metadata": {},
   "source": [
    "但是我們不能對常量對象重新賦值："
   ]
  },
  {
   "cell_type": "code",
   "execution_count": null,
   "id": "75d5c43a",
   "metadata": {},
   "outputs": [],
   "source": [
    "const car = {type:\"Fiat\", model:\"500\", color:\"white\"};\n",
    "car = {type:\"Volvo\", model:\"EX60\", color:\"red\"};    // 錯誤"
   ]
  },
  {
   "cell_type": "raw",
   "id": "0c491d13",
   "metadata": {},
   "source": [
    "以下實例修改常量數組："
   ]
  },
  {
   "cell_type": "code",
   "execution_count": null,
   "id": "d7b65bbe",
   "metadata": {},
   "outputs": [],
   "source": [
    "// 創建常量數組\n",
    "const cars = [\"Saab\", \"Volvo\", \"BMW\"];\n",
    " \n",
    "// 修改元素\n",
    "cars[0] = \"Toyota\";\n",
    " \n",
    "// 添加元素\n",
    "cars.push(\"Audi\");"
   ]
  },
  {
   "cell_type": "raw",
   "id": "92b66260",
   "metadata": {},
   "source": [
    "但是我們不能對常量數組重新賦值："
   ]
  },
  {
   "cell_type": "code",
   "execution_count": null,
   "id": "0ed1f777",
   "metadata": {},
   "outputs": [],
   "source": [
    "const cars = [\"Saab\", \"Volvo\", \"BMW\"];\n",
    "cars = [\"Toyota\", \"Volvo\", \"Audi\"];    // 錯誤"
   ]
  },
  {
   "cell_type": "markdown",
   "id": "a32d876c",
   "metadata": {},
   "source": [
    "### 範例"
   ]
  },
  {
   "cell_type": "raw",
   "id": "d2f43c94",
   "metadata": {},
   "source": [
    "ES6 明確規定，代碼塊內如果存在 let 或者 const，代碼塊會對這些命令聲明的變量從塊的開始就形成一個封閉作用域。代碼塊內，在聲明變量 PI 之前使用它會報錯。"
   ]
  },
  {
   "cell_type": "code",
   "execution_count": null,
   "id": "53cd5585",
   "metadata": {},
   "outputs": [],
   "source": [
    "var PI = \"a\";\n",
    "if (true) {\n",
    "    console.log(PI);  // Cannot access 'PI' before initialization\n",
    "    const PI = \"3.1415926\";\n",
    "   }"
   ]
  },
  {
   "cell_type": "raw",
   "id": "c6e44aa1",
   "metadata": {},
   "source": [
    "const 如何做到變量在聲明初始化之後不允許改變的？其實 const 其實保證的不是變量的值不變，而是保證變量指向的內存地址所保存的數據不允許改動。此時，你可能已經想到，簡單類型和覆合類型保存值的方式是不同的。是的，對於簡單類型（數值 number、字符串 string 、布爾值 boolean）,值就保存在變量指向的那個內存地址，因此 const 聲明的簡單類型變量等同於常量。而覆雜類型（對象 object，數組 array，函數 function），變量指向的內存地址其實是保存了一個指向實際數據的指針，所以 const 只能保證指針是固定的，至於指針指向的數據結構變不變就無法控制了，所以使用 const 聲明覆雜類型對象時要慎重。"
   ]
  },
  {
   "cell_type": "markdown",
   "id": "1f67372a",
   "metadata": {},
   "source": [
    "# 重置變量"
   ]
  },
  {
   "cell_type": "raw",
   "id": "ca2b335f",
   "metadata": {},
   "source": [
    "使用 var 關鍵字聲明的變量在任何地方都可以修改："
   ]
  },
  {
   "cell_type": "code",
   "execution_count": null,
   "id": "9d0e2445",
   "metadata": {},
   "outputs": [],
   "source": [
    "var x = 2;    //  合法\n",
    "var x = 3;    //  合法\n",
    "x = 4;        //  合法"
   ]
  },
  {
   "cell_type": "raw",
   "id": "fdaa3d23",
   "metadata": {},
   "source": [
    "在相同的作用域或塊級作用域中，不能使用 const 關鍵字來重置 var 和 let 關鍵字聲明的變量:"
   ]
  },
  {
   "cell_type": "code",
   "execution_count": null,
   "id": "68812959",
   "metadata": {},
   "outputs": [],
   "source": [
    "var x = 2;         // 合法\n",
    "const x = 2;       // 不合法\n",
    "{\n",
    "    let x = 2;     // 合法\n",
    "    const x = 2;   // 不合法\n",
    "}"
   ]
  },
  {
   "cell_type": "raw",
   "id": "52f7d6d8",
   "metadata": {},
   "source": [
    "在相同的作用域或塊級作用域中，不能使用 const 關鍵字來重置 const 關鍵字聲明的變量:"
   ]
  },
  {
   "cell_type": "code",
   "execution_count": null,
   "id": "9b833389",
   "metadata": {},
   "outputs": [],
   "source": [
    "const x = 2;       // 合法\n",
    "const x = 3;       // 不合法\n",
    "x = 3;             // 不合法\n",
    "var x = 3;         // 不合法\n",
    "let x = 3;         // 不合法\n",
    "\n",
    "{\n",
    "    const x = 2;   // 合法\n",
    "    const x = 3;   // 不合法\n",
    "    x = 3;         // 不合法\n",
    "    var x = 3;     // 不合法\n",
    "    let x = 3;     // 不合法\n",
    "}"
   ]
  },
  {
   "cell_type": "raw",
   "id": "88ca0ce5",
   "metadata": {},
   "source": [
    "const 關鍵字在不同作用域，或不同塊級作用域中是可以重新聲明賦值的:"
   ]
  },
  {
   "cell_type": "code",
   "execution_count": null,
   "id": "e92abc7c",
   "metadata": {},
   "outputs": [],
   "source": [
    "const x = 2;       // 合法\n",
    "\n",
    "{\n",
    "    const x = 3;   // 合法\n",
    "}\n",
    "\n",
    "{\n",
    "    const x = 4;   // 合法\n",
    "}"
   ]
  },
  {
   "cell_type": "markdown",
   "id": "d7861285",
   "metadata": {},
   "source": [
    "# 變量提升"
   ]
  },
  {
   "cell_type": "raw",
   "id": "33a06162",
   "metadata": {},
   "source": [
    "JavaScript var 關鍵字定義的變量可以在使用後聲明，也就是變量可以先使用再聲明（JavaScript 變量提升）。"
   ]
  },
  {
   "cell_type": "code",
   "execution_count": null,
   "id": "355316bc",
   "metadata": {},
   "outputs": [],
   "source": [
    "carName = \"Volvo\";    // 這裏可以使用 carName 變量\n",
    "var carName;"
   ]
  },
  {
   "cell_type": "raw",
   "id": "1a6247df",
   "metadata": {},
   "source": [
    "const 關鍵字定義的變量則不可以在使用後聲明，也就是變量需要先聲明再使用。"
   ]
  },
  {
   "cell_type": "code",
   "execution_count": null,
   "id": "facfaf35",
   "metadata": {},
   "outputs": [],
   "source": [
    "carName = \"Volvo\";    // 在這裏不可以使用 carName 變量\n",
    "const carName = \"Volvo\";"
   ]
  },
  {
   "cell_type": "markdown",
   "id": "9f5ada8c",
   "metadata": {},
   "source": [
    "### 範例"
   ]
  },
  {
   "cell_type": "code",
   "execution_count": null,
   "id": "8e6e04aa",
   "metadata": {},
   "outputs": [],
   "source": [
    "console.log(a);  //ReferenceError: a is not defined\n",
    "let a = \"apple\";\n",
    " \n",
    "console.log(b);  //undefined\n",
    "var b = \"banana\";"
   ]
  },
  {
   "cell_type": "raw",
   "id": "7805c8b0",
   "metadata": {},
   "source": [
    "變量 b 用 var 聲明存在變量提升，所以當腳本開始運行的時候，b 已經存在了，但是還沒有賦值，所以會輸出 undefined。\n",
    "變量 a 用 let 聲明不存在變量提升，在聲明變量 a 之前，a 不存在，所以會報錯。"
   ]
  },
  {
   "cell_type": "markdown",
   "id": "6ea79faa",
   "metadata": {},
   "source": [
    "# 筆記"
   ]
  },
  {
   "cell_type": "raw",
   "id": "6b2a0b49",
   "metadata": {},
   "source": [
    "使用 var 關鍵字聲明的全局作用域變量屬於 window 對象。\n",
    "使用 let 關鍵字聲明的全局作用域變量不屬於 window 對象。\n",
    "使用 var 關鍵字聲明的變量在任何地方都可以修改。\n",
    "在相同的作用域或塊級作用域中，不能使用 let 關鍵字來重置 var 關鍵字聲明的變量。\n",
    "在相同的作用域或塊級作用域中，不能使用 let 關鍵字來重置 let 關鍵字聲明的變量。\n",
    "let 關鍵字在不同作用域，或不用塊級作用域中是可以重新聲明賦值的。\n",
    "在相同的作用域或塊級作用域中，不能使用 const 關鍵字來重置 var 和 let 關鍵字聲明的變量。\n",
    "在相同的作用域或塊級作用域中，不能使用 const 關鍵字來重置 const 關鍵字聲明的變量\n",
    "const 關鍵字在不同作用域，或不同塊級作用域中是可以重新聲明賦值的:\n",
    "var 關鍵字定義的變量可以先使用後聲明。\n",
    "let 關鍵字定義的變量需要先聲明再使用。\n",
    "const 關鍵字定義的常量，聲明時必須進行初始化，且初始化後不可再修改。"
   ]
  },
  {
   "cell_type": "raw",
   "id": "b959e6cd",
   "metadata": {},
   "source": [
    "文中說到 const 定義的變量並非不可改變，比如使用 const 聲明對象，可以改變對象值。\n",
    "那麽什麽情況能徹底“鎖死”變量呢？\n",
    "可以使用Object.freeze()方法來 凍結變量 ，如："
   ]
  },
  {
   "cell_type": "code",
   "execution_count": null,
   "id": "ff322842",
   "metadata": {},
   "outputs": [],
   "source": [
    "const obj = {\n",
    "  name:\"1024kb\"\n",
    "}\n",
    "Object.freeze(obj) // 此時對象 obj 被凍結，返回被凍結的對象"
   ]
  },
  {
   "cell_type": "raw",
   "id": "86dff1ee",
   "metadata": {},
   "source": [
    "需要注意的是，被凍結後的對象不僅僅是不能修改值，同時也\n",
    "\n",
    "- 不能向這個對象添加新的屬性\n",
    "- 不能修改其已有屬性的值\n",
    "- 不能刪除已有屬性\n",
    "- 不能修改該對象已有屬性的可枚舉性、可配置性、可寫性\n",
    "\n",
    "建議判斷清除情況再進行使用"
   ]
  },
  {
   "cell_type": "markdown",
   "id": "4bcaf36a",
   "metadata": {},
   "source": [
    "### for 循環計數器很適合用 let"
   ]
  },
  {
   "cell_type": "code",
   "execution_count": null,
   "id": "ad89e716",
   "metadata": {},
   "outputs": [],
   "source": [
    "for (var i = 0; i < 10; i++) {\n",
    "  setTimeout(function(){\n",
    "    console.log(i);\n",
    "  })\n",
    "} // 輸出十個 10\n",
    "\n",
    "for (let j = 0; j < 10; j++) {\n",
    "  setTimeout(function(){\n",
    "    console.log(j);\n",
    "  })\n",
    "} // 輸出 0123456789"
   ]
  },
  {
   "cell_type": "raw",
   "id": "54075ef9",
   "metadata": {},
   "source": [
    "變量 i 是用 var 聲明的，在全局範圍內有效，所以全局中只有一個變量 i, 每次循環時，setTimeout 定時器裏面的 i 指的是全局變量 i ，而循環裏的十個 setTimeout 是在循環結束後才執行，所以此時的 i 都是 10。\n",
    "\n",
    "變量 j 是用 let 聲明的，當前的 j 只在本輪循環中有效，每次循環的 j 其實都是一個新的變量，所以 setTimeout 定時器裏面的 j 其實是不同的變量，即最後輸出 0123456789。（若每次循環的變量 j 都是重新聲明的，如何知道前一個循環的值？這是因為 JavaScript 引擎內部會記住前一個循環的值）"
   ]
  },
  {
   "cell_type": "code",
   "execution_count": null,
   "id": "7160fc17",
   "metadata": {},
   "outputs": [],
   "source": []
  },
  {
   "cell_type": "code",
   "execution_count": null,
   "id": "c9efc270",
   "metadata": {},
   "outputs": [],
   "source": []
  },
  {
   "cell_type": "code",
   "execution_count": null,
   "id": "43c6f6bf",
   "metadata": {},
   "outputs": [],
   "source": []
  },
  {
   "cell_type": "code",
   "execution_count": null,
   "id": "9c85489c",
   "metadata": {},
   "outputs": [],
   "source": []
  }
 ],
 "metadata": {
  "kernelspec": {
   "display_name": "Python 3",
   "language": "python",
   "name": "python3"
  },
  "language_info": {
   "codemirror_mode": {
    "name": "ipython",
    "version": 3
   },
   "file_extension": ".py",
   "mimetype": "text/x-python",
   "name": "python",
   "nbconvert_exporter": "python",
   "pygments_lexer": "ipython3",
   "version": "3.8.10"
  }
 },
 "nbformat": 4,
 "nbformat_minor": 5
}
