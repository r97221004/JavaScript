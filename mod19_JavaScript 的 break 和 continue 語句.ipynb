{
 "cells": [
  {
   "cell_type": "markdown",
   "id": "78186081",
   "metadata": {},
   "source": [
    "# JavaScript break 和 continue 語句"
   ]
  },
  {
   "cell_type": "raw",
   "id": "067cfd01",
   "metadata": {},
   "source": [
    "break 語句用於跳出循環。\n",
    "continue 用於跳過循環中的一個叠代。"
   ]
  },
  {
   "cell_type": "markdown",
   "id": "64bc9833",
   "metadata": {},
   "source": [
    "### break 語句"
   ]
  },
  {
   "cell_type": "raw",
   "id": "4ebf636a",
   "metadata": {},
   "source": [
    "我們已經在本教程之前的章節中見到過 break 語句。它用於跳出 switch() 語句。break 語句可用於跳出循環。\n",
    "break 語句跳出循環後，會繼續執行該循環之後的代碼（如果有的話)："
   ]
  },
  {
   "cell_type": "code",
   "execution_count": null,
   "id": "dcb8b5a0",
   "metadata": {},
   "outputs": [],
   "source": [
    "<!DOCTYPE html>\n",
    "<html>\n",
    "\n",
    "<head>\n",
    "    <meta charset=\"utf-8\">\n",
    "    <title>菜鳥教程</title>\n",
    "</head>\n",
    "\n",
    "<body>\n",
    "\n",
    "    <p>點擊按鈕，測試帶有 break 語句的循環。</p>\n",
    "    <button onclick=\"myFunction()\">點擊這裏</button>\n",
    "    <p id=\"demo\"></p>\n",
    "    <script>\n",
    "        function myFunction() {\n",
    "            var x = \"\", i = 0;\n",
    "            for (i = 0; i < 10; i++) {\n",
    "                if (i == 3) {\n",
    "                    break;\n",
    "                }\n",
    "                x = x + \"該數字為 \" + i + \"<br>\";\n",
    "            }\n",
    "            document.getElementById(\"demo\").innerHTML = x;\n",
    "        }\n",
    "    </script>\n",
    "\n",
    "</body>\n",
    "\n",
    "</html>"
   ]
  },
  {
   "cell_type": "raw",
   "id": "a90d8b3d",
   "metadata": {},
   "source": [
    "由於這個 if 語句只有一行代碼，所以可以省略花括號："
   ]
  },
  {
   "cell_type": "code",
   "execution_count": null,
   "id": "e5fc7578",
   "metadata": {},
   "outputs": [],
   "source": [
    "for (i=0;i<10;i++)\n",
    "{\n",
    "    if (i == 3) break;\n",
    "    x = x + \"The number is \" + i + \"<br>\";\n",
    "}"
   ]
  },
  {
   "cell_type": "markdown",
   "id": "a1adb4c5",
   "metadata": {},
   "source": [
    "### continue 語句"
   ]
  },
  {
   "cell_type": "raw",
   "id": "d3db4c6a",
   "metadata": {},
   "source": [
    "continue 語句中斷當前的循環中的叠代，然後繼續循環下一個叠代。 以下例子在值為 3 時，直接跳過："
   ]
  },
  {
   "cell_type": "raw",
   "id": "f847611f",
   "metadata": {},
   "source": [
    "使用 for:"
   ]
  },
  {
   "cell_type": "code",
   "execution_count": null,
   "id": "c06ecbf4",
   "metadata": {},
   "outputs": [],
   "source": [
    "<!DOCTYPE html>\n",
    "<html>\n",
    "\n",
    "<head>\n",
    "    <meta charset=\"utf-8\">\n",
    "    <title>菜鳥教程</title>\n",
    "</head>\n",
    "\n",
    "<body>\n",
    "\n",
    "    <p>點擊下面的按鈕來執行循環，該循環會跳過 i = 3 的數字。</p>\n",
    "    <button onclick=\"myFunction()\">點擊這裏</button>\n",
    "    <p id=\"demo\"></p>\n",
    "    <script>\n",
    "        function myFunction() {\n",
    "            var x = \"\", i = 0;\n",
    "            for (i = 0; i < 10; i++) {\n",
    "                if (i == 3) {\n",
    "                    continue;\n",
    "                }\n",
    "                x = x + \"該數字為 \" + i + \"<br>\";\n",
    "            }\n",
    "            document.getElementById(\"demo\").innerHTML = x;\n",
    "        }\n",
    "    </script>\n",
    "\n",
    "</body>\n",
    "\n",
    "</html>"
   ]
  },
  {
   "cell_type": "raw",
   "id": "06daf258",
   "metadata": {},
   "source": [
    "使用 while:"
   ]
  },
  {
   "cell_type": "code",
   "execution_count": null,
   "id": "217f990f",
   "metadata": {},
   "outputs": [],
   "source": [
    "<!DOCTYPE html>\n",
    "<html>\n",
    "\n",
    "<head>\n",
    "    <meta charset=\"utf-8\">\n",
    "    <title>菜鳥教程</title>\n",
    "</head>\n",
    "\n",
    "<body>\n",
    "    <p id=\"demo\">點擊下面的按鈕來執行循環，該循環會跳過 i=3 的數字。</p>\n",
    "    <button onclick=\"myFunction()\">點擊這裏</button>\n",
    "\n",
    "    <script>\n",
    "        function myFunction() {\n",
    "            var x = \"\", i = 0;\n",
    "            while (i < 10) {\n",
    "                if (i == 3) {\n",
    "                    i++;    //加入i++不會進入死循環\n",
    "                    continue;\n",
    "                }\n",
    "                x = x + \"該數字為 \" + i + \"<br>\";\n",
    "                i++;\n",
    "\n",
    "            }\n",
    "            document.getElementById(\"demo\").innerHTML = x;\n",
    "        }\n",
    "    </script>\n",
    "</body>\n",
    "\n",
    "</html>"
   ]
  },
  {
   "cell_type": "markdown",
   "id": "e3124f93",
   "metadata": {},
   "source": [
    "# JavaScript 標簽"
   ]
  },
  {
   "cell_type": "raw",
   "id": "cdf65a13",
   "metadata": {},
   "source": [
    "正如您在 switch 語句那一章中看到的，可以對 JavaScript 語句進行標記。如需標記 JavaScript 語句，請在語句之前加上冒號："
   ]
  },
  {
   "cell_type": "raw",
   "id": "511497c6",
   "metadata": {},
   "source": [
    "label:\n",
    "statements"
   ]
  },
  {
   "cell_type": "raw",
   "id": "c1265573",
   "metadata": {},
   "source": [
    "break 和 continue 語句僅僅是能夠跳出代碼塊的語句。\n",
    "語法:"
   ]
  },
  {
   "cell_type": "raw",
   "id": "618b05f0",
   "metadata": {},
   "source": [
    "break labelname; \n",
    "continue labelname;"
   ]
  },
  {
   "cell_type": "raw",
   "id": "2ac41dcb",
   "metadata": {},
   "source": [
    "關於 JavaScript 標簽與 break 和 continue 一起使用的理解。break 的作用是跳出代碼塊, 所以 break 可以使用於循環和 switch 等。continue 的作用是進入下一個叠代, 所以 continue 只能用於循環的代碼塊。\n",
    "\n",
    "代碼塊: 基本上是｛｝大括號之間\n",
    "\n",
    "然後：\n",
    "\n",
    "1. 默認標簽的情況（除了默認標簽情況，其他時候必須要有名標簽，否則會有驚喜）\n",
    "2. 當 break 和 continue 同時用於循環時，沒有加標簽，此時默認標簽為當前\"循環\"的代碼塊。\n",
    "3. 當 break 用於 switch 時，默認標簽為當前的 switch 代碼塊:\n",
    "\n",
    "有名標簽的情況"
   ]
  },
  {
   "cell_type": "raw",
   "id": "eb8862c6",
   "metadata": {},
   "source": [
    "cars = [\"BMW\",\"Volvo\",\"Saab\",\"Ford\"];\n",
    "list:\n",
    "{\n",
    "    document.write(cars[0] + \"\");\n",
    "    document.write(cars[1] + \"\");\n",
    "    document.write(cars[2] + \"\");\n",
    "    break list;\n",
    "    document.write(cars[3] + \"\");\n",
    "    document.write(cars[4] + \"\");\n",
    "    document.write(cars[5] + \"\");\n",
    "}"
   ]
  },
  {
   "cell_type": "raw",
   "id": "d77e82b4",
   "metadata": {},
   "source": [
    "上述 break list; 會跳出 list 的代碼塊。如果將 break 換成 continue 會有驚喜，違反了明確中的第二點，因為 list 只是個普通代碼塊，而不是循環。除非 list 寫成如下形式 list:"
   ]
  },
  {
   "cell_type": "code",
   "execution_count": null,
   "id": "20b3e3b0",
   "metadata": {},
   "outputs": [],
   "source": [
    "for(var i=0; i<10; ++i)\n",
    "{\n",
    "    continue list;\n",
    "}"
   ]
  },
  {
   "cell_type": "raw",
   "id": "9c6655ba",
   "metadata": {},
   "source": [
    "有了標簽，可以使用 break 和 continue 在多層循環的時候控制外層循環。\n",
    "例如下面："
   ]
  },
  {
   "cell_type": "raw",
   "id": "713bfbfe",
   "metadata": {},
   "source": [
    "outerloop:\n",
    "for (var i = 0; i < 10; i++)\n",
    "{\n",
    "    innerloop:\n",
    "    for (var j = 0; j < 10; j++)\n",
    "    {\n",
    "        if (j > 3)\n",
    "        {\n",
    "            break;\n",
    "        }\n",
    "        if (i == 2)\n",
    "        {\n",
    "            break innerloop;\n",
    "        }\n",
    "        if (i == 4)\n",
    "        {\n",
    "            break outerloop;\n",
    "        }\n",
    "        document.write(\"i=\" + i + \" j=\" + j + \"\");\n",
    "    }\n",
    "}"
   ]
  },
  {
   "cell_type": "code",
   "execution_count": null,
   "id": "4101ac3f",
   "metadata": {},
   "outputs": [],
   "source": []
  }
 ],
 "metadata": {
  "kernelspec": {
   "display_name": "Python 3",
   "language": "python",
   "name": "python3"
  },
  "language_info": {
   "codemirror_mode": {
    "name": "ipython",
    "version": 3
   },
   "file_extension": ".py",
   "mimetype": "text/x-python",
   "name": "python",
   "nbconvert_exporter": "python",
   "pygments_lexer": "ipython3",
   "version": "3.8.10"
  }
 },
 "nbformat": 4,
 "nbformat_minor": 5
}
