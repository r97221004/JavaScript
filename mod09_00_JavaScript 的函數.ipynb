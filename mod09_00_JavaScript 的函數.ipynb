{
 "cells": [
  {
   "cell_type": "markdown",
   "id": "c80eb5d2",
   "metadata": {},
   "source": [
    "# JavaScript 函數\n"
   ]
  },
  {
   "cell_type": "raw",
   "id": "3b6ab485",
   "metadata": {},
   "source": [
    "函數是由事件驅動的或者當它被調使用時執行的可重複使用的代碼塊。"
   ]
  },
  {
   "cell_type": "code",
   "execution_count": null,
   "id": "e73ba47c",
   "metadata": {},
   "outputs": [],
   "source": [
    "<!DOCTYPE html>\n",
    "<html>\n",
    "\n",
    "<head>\n",
    "    <meta charset=\"utf-8\">\n",
    "    <title>測試實例</title>\n",
    "    <script>\n",
    "        function myFunction() {\n",
    "            alert(\"Hello World!\");\n",
    "        }\n",
    "    </script>\n",
    "</head>\n",
    "\n",
    "<body>\n",
    "    <button onclick=\"myFunction()\">點我</button>\n",
    "</body>\n",
    "\n",
    "</html>"
   ]
  },
  {
   "cell_type": "markdown",
   "id": "b4de1cac",
   "metadata": {},
   "source": [
    "# JavaScript 函數語言法"
   ]
  },
  {
   "cell_type": "raw",
   "id": "657f15ab",
   "metadata": {},
   "source": [
    "函數就是包裹在大括號中的代碼塊，前面使用了關鍵詞功能："
   ]
  },
  {
   "cell_type": "code",
   "execution_count": null,
   "id": "87afaac3",
   "metadata": {},
   "outputs": [],
   "source": [
    "function functionname ()\n",
    "{\n",
    "    // 執行代碼\n",
    "}"
   ]
  },
  {
   "cell_type": "raw",
   "id": "d9201377",
   "metadata": {},
   "source": [
    "當調用該函數時，會執行函數內的代碼。可以在某個事件發生時直接調用函數數（比如當用戶點擊按鈕時），並可由 JavaScript 在任何位置進行調用。"
   ]
  },
  {
   "cell_type": "raw",
   "id": "680262f1",
   "metadata": {},
   "source": [
    "JavaScript 對大寫敏感。關鍵字函數必須是小寫的，並且必須以與函數名稱相同的大小寫來調用函數。"
   ]
  },
  {
   "cell_type": "markdown",
   "id": "87640e1e",
   "metadata": {},
   "source": [
    "# 調用帶參數的函數"
   ]
  },
  {
   "cell_type": "raw",
   "id": "33060275",
   "metadata": {},
   "source": [
    "在調用函數時，您可以向其傳遞價值，這些價值被稱為參數。這些參數可以在函數中使用。您可以發送任何意向的參數，並由逗號 , 分隔：\n",
    "我的函數（參數 1，參數2 ）"
   ]
  },
  {
   "cell_type": "raw",
   "id": "695b9a1c",
   "metadata": {},
   "source": [
    "當您聲明函數時，請把參數作為變量來聲明："
   ]
  },
  {
   "cell_type": "code",
   "execution_count": null,
   "id": "126c22b3",
   "metadata": {},
   "outputs": [],
   "source": [
    "function myFunction( var1 , var2 )\n",
    "{\n",
    " 代碼\n",
    "}"
   ]
  },
  {
   "cell_type": "raw",
   "id": "d323458b",
   "metadata": {},
   "source": [
    "變量和參數必須以一定的順序出現。第一個變量就是第一個被傳遞的參數給定的值，以此類推。"
   ]
  },
  {
   "cell_type": "code",
   "execution_count": null,
   "id": "7b859eca",
   "metadata": {},
   "outputs": [],
   "source": [
    "<!DOCTYPE html>\n",
    "<html>\n",
    "\n",
    "<head>\n",
    "    <meta charset=\"utf-8\">\n",
    "    <title>菜鳥教程</title>\n",
    "</head>\n",
    "\n",
    "<body>\n",
    "\n",
    "    <p>點擊這個按鈕，來調用帶參數的函數。</p>\n",
    "    <button onclick=\"myFunction('Harry Potter','Wizard')\">點擊這裏</button>\n",
    "    <script>\n",
    "        function myFunction(name, job) {\n",
    "            alert(\"Welcome \" + name + \", the \" + job);\n",
    "        }\n",
    "    </script>\n",
    "\n",
    "</body>\n",
    "\n",
    "</html>"
   ]
  },
  {
   "cell_type": "raw",
   "id": "7c6805ae",
   "metadata": {},
   "source": [
    "上面的函數在按鍵被點擊時會提示“歡迎哈利波特，巫師”。函數很靈活，你可以使用不同的參數來調使用函數，這樣就會給出不同的消息："
   ]
  },
  {
   "cell_type": "code",
   "execution_count": null,
   "id": "675df54c",
   "metadata": {},
   "outputs": [],
   "source": [
    "<!DOCTYPE html>\n",
    "<html>\n",
    "\n",
    "<head>\n",
    "    <meta charset=\"utf-8\">\n",
    "    <title>菜鳥教程</title>\n",
    "</head>\n",
    "\n",
    "<body>\n",
    "\n",
    "    <p>請點擊其中的一個按鈕，來調用帶參數的函數。</p>\n",
    "    <button onclick=\"myFunction('Harry Potter','Wizard')\">點擊這裏</button>\n",
    "    <button onclick=\"myFunction('Bob','Builder')\">點擊這裏</button>\n",
    "    <script>\n",
    "        function myFunction(name, job) {\n",
    "            alert(\"Welcome \" + name + \", the \" + job);\n",
    "        }\n",
    "    </script>\n",
    "\n",
    "</body>\n",
    "\n",
    "</html>"
   ]
  },
  {
   "cell_type": "raw",
   "id": "c33d3248",
   "metadata": {},
   "source": [
    "根據您點擊的不同按鈕，上面的例子會提示 “歡迎哈利波特，巫師” 或 “歡迎鮑勃，建造者”。"
   ]
  },
  {
   "cell_type": "markdown",
   "id": "ab801adb",
   "metadata": {},
   "source": [
    "# 帶回值的函數"
   ]
  },
  {
   "cell_type": "raw",
   "id": "41fec4b4",
   "metadata": {},
   "source": [
    "有時我們會希望一定值返回調整使用它的地方。通過使用 return 語句就可以實現。在使用 return 語句時，函數會停止執行，並返回指定的值。"
   ]
  },
  {
   "cell_type": "code",
   "execution_count": null,
   "id": "0df47760",
   "metadata": {},
   "outputs": [],
   "source": [
    "function myFunction()\n",
    "{\n",
    "    var x = 5;\n",
    "    return  x;\n",
    "}"
   ]
  },
  {
   "cell_type": "raw",
   "id": "9e613d70",
   "metadata": {},
   "source": [
    "上面的號碼會返回值 5。注意整個 JavaScript 並不會停止執行，只是函數。JavaScript 將繼續執行代碼，從調用函數的地方。"
   ]
  },
  {
   "cell_type": "raw",
   "id": "36179272",
   "metadata": {},
   "source": [
    "任數調使用將被返回值取代："
   ]
  },
  {
   "cell_type": "raw",
   "id": "38d873fa",
   "metadata": {},
   "source": [
    "var myVar = myFunction();"
   ]
  },
  {
   "cell_type": "raw",
   "id": "bed2a61b",
   "metadata": {},
   "source": [
    "myVar 變量的值是 5，也就是函數 \"myFunction()\" 所以返回的值。即使不把它保存為變化量，您也可以使用返回值："
   ]
  },
  {
   "cell_type": "raw",
   "id": "1d2cd3a7",
   "metadata": {},
   "source": [
    "document.getElementById(\"demo\").innerHTML = myFunction();"
   ]
  },
  {
   "cell_type": "raw",
   "id": "c41c8bc8",
   "metadata": {},
   "source": [
    "\"demo\" 元素的 innerHTML 將成為 5，也就是函數 \"myFunction()\" 所以返回的值。\n",
    "您可以使返回值基於傳送到函數中的參數："
   ]
  },
  {
   "cell_type": "code",
   "execution_count": null,
   "id": "c14f6750",
   "metadata": {},
   "outputs": [],
   "source": [
    "<!DOCTYPE html>\n",
    "<html>\n",
    "\n",
    "<head>\n",
    "    <meta charset=\"utf-8\">\n",
    "    <title>菜鳥教程</title>\n",
    "</head>\n",
    "\n",
    "<body>\n",
    "\n",
    "    <p>本例調用的函數會執行一個計算，然後返回結果：</p>\n",
    "    <p id=\"demo\"></p>\n",
    "    <script>\n",
    "        function myFunction(a, b) {\n",
    "            return a * b;\n",
    "        }\n",
    "        document.getElementById(\"demo\").innerHTML = myFunction(4, 3);\n",
    "    </script>\n",
    "\n",
    "</body>\n",
    "\n",
    "</html>"
   ]
  },
  {
   "cell_type": "raw",
   "id": "3c2e5658",
   "metadata": {},
   "source": [
    "在您只希望退出任數時，也可以使用 return 造句。返回值是可選的："
   ]
  },
  {
   "cell_type": "raw",
   "id": "f6066282",
   "metadata": {},
   "source": [
    "function myFunction ( a , b ) {\n",
    "    if ( a > b ) {\n",
    "        return;\n",
    "    } \n",
    "    x = a + b ;\n",
    "    \n",
    "    } "
   ]
  },
  {
   "cell_type": "raw",
   "id": "79db1caa",
   "metadata": {},
   "source": [
    "如果 a 大於 b，則上面的代碼將退出任數，而不會計 a 和 b 的總和。"
   ]
  },
  {
   "cell_type": "markdown",
   "id": "3fd51ec4",
   "metadata": {},
   "source": [
    "# 函數內部 JavaScript 變量"
   ]
  },
  {
   "cell_type": "raw",
   "id": "3da42588",
   "metadata": {},
   "source": [
    "在 JavaScript 函數內部聲明的變量（使用 var）是局變量，所以只能在函數內部訪問它。（該變量的作用域是局部的）。您可以在不同的函數中使用名稱相同的局改變量，因為只有聲明過該變量的函數才能識別該變量。只要函數運行完成，本地改變量就會被剔除。"
   ]
  },
  {
   "cell_type": "markdown",
   "id": "1a1f19b4",
   "metadata": {},
   "source": [
    "# 全局 JavaScript 變量"
   ]
  },
  {
   "cell_type": "raw",
   "id": "492cbaa9",
   "metadata": {},
   "source": [
    "在函數外聲明的變化是全局變化，網頁上的所有腳本和函數都可以訪問它。"
   ]
  },
  {
   "cell_type": "markdown",
   "id": "48ef5de5",
   "metadata": {},
   "source": [
    "# JavaScript 變化的生命週期"
   ]
  },
  {
   "cell_type": "raw",
   "id": "dbb6118e",
   "metadata": {},
   "source": [
    "JavaScript 變化的生命期從它們被聲明的時間開始。局變量會在函數運行以後被刪除。全局變量會在頁面關閉後被刪除。"
   ]
  },
  {
   "cell_type": "markdown",
   "id": "9de9e2c5",
   "metadata": {},
   "source": [
    "# 向未聲明的 JavaScript 變量分配值"
   ]
  },
  {
   "cell_type": "raw",
   "id": "c025ed5a",
   "metadata": {},
   "source": [
    "如果您把值賦予尚未聲明的變化量，該變化量將被自動作用為 window 的一個屬性。\n",
    "這條語句："
   ]
  },
  {
   "cell_type": "code",
   "execution_count": null,
   "id": "f916b070",
   "metadata": {},
   "outputs": [],
   "source": [
    "carname = \"Volvo\";"
   ]
  },
  {
   "cell_type": "raw",
   "id": "8d6f9750",
   "metadata": {},
   "source": [
    "將聲明 window 的一個屬性 carname。非嚴格模型下給未聲明變化賦值創造的全局變量，是全局對象的可配置屬性，可以刪除。"
   ]
  },
  {
   "cell_type": "code",
   "execution_count": null,
   "id": "5ad9e971",
   "metadata": {},
   "outputs": [],
   "source": [
    "var var1 = 1; // 不可配置全局屬性\n",
    "var2 = 2; // 沒有使用 var 聲明，可配置全局屬性\n",
    "\n",
    "console.log(this.var1); // 1\n",
    "console.log(window.var1); // 1\n",
    "console.log(window.var2); // 2\n",
    "\n",
    "delete var1; // false 無法刪除\n",
    "console.log(var1); //1\n",
    "\n",
    "delete var2; \n",
    "console.log(delete var2); // true\n",
    "console.log(var2); // 已經刪除 報錯變量未定義"
   ]
  },
  {
   "cell_type": "markdown",
   "id": "166daa82",
   "metadata": {},
   "source": [
    "# 函數參數的擴展\n",
    "### 默認參數"
   ]
  },
  {
   "cell_type": "raw",
   "id": "46f837ec",
   "metadata": {},
   "source": [
    "基本用法:"
   ]
  },
  {
   "cell_type": "code",
   "execution_count": null,
   "id": "c62db5ea",
   "metadata": {},
   "outputs": [],
   "source": [
    "function fn(name, age=17){\n",
    " console.log(name + \",\" + age);\n",
    "}\n",
    "fn(\"Amy\", 18);  // Amy,18\n",
    "fn(\"Amy\", \"\");  // Amy,\n",
    "fn(\"Amy\");     // Amy,17"
   ]
  },
  {
   "cell_type": "raw",
   "id": "eb283126",
   "metadata": {},
   "source": [
    "注意：使用函數默認參數時，不允許有同名參數。"
   ]
  },
  {
   "cell_type": "code",
   "execution_count": null,
   "id": "7d6855eb",
   "metadata": {},
   "outputs": [],
   "source": [
    "// 不報錯\n",
    "function fn(name, name){\n",
    " console.log(name);\n",
    "}\n",
    " "
   ]
  },
  {
   "cell_type": "code",
   "execution_count": null,
   "id": "4e11ff44",
   "metadata": {},
   "outputs": [],
   "source": [
    "// 報錯\n",
    "//SyntaxError: Duplicate parameter name not allowed in this context\n",
    "function fn(name, name, age = 17){\n",
    " console.log(name + \",\" + age);\n",
    "}"
   ]
  },
  {
   "cell_type": "raw",
   "id": "0e6e7517",
   "metadata": {},
   "source": [
    "只有在未傳遞參數，或者參數為 undefined 時，才會使用默認參數，null 值被認為是有效的值傳遞。"
   ]
  },
  {
   "cell_type": "code",
   "execution_count": null,
   "id": "3d63c3ab",
   "metadata": {},
   "outputs": [],
   "source": [
    "function fn(name, age = 17){\n",
    "    console.log(name + \",\" + age);\n",
    "}\n",
    "fn(\"Amy\", null); // Amy,null"
   ]
  },
  {
   "cell_type": "raw",
   "id": "e6d9d764",
   "metadata": {},
   "source": [
    "函數參數默認值存在暫時性死區，在函數參數默認值表達式中，還未初始化賦值的參數值無法作為其他參數的默認值。"
   ]
  },
  {
   "cell_type": "code",
   "execution_count": null,
   "id": "45642830",
   "metadata": {},
   "outputs": [],
   "source": [
    "function f(x, y = x){\n",
    "    console.log(x, y);\n",
    "}\n",
    "f(1);  // 1 1\n",
    " \n",
    "function f(x = y){\n",
    "    console.log(x);\n",
    "}\n",
    "f();  // ReferenceError: y is not defined"
   ]
  },
  {
   "cell_type": "markdown",
   "id": "6b2c1944",
   "metadata": {},
   "source": [
    "### 不定參數"
   ]
  },
  {
   "cell_type": "raw",
   "id": "424a92b4",
   "metadata": {},
   "source": [
    "不定參數用來表示不確定參數個數，形如，...變量名，由...加上一個具名參數標識符組成。具名參數只能放在參數組的最後，並且有且只有一個不定參數。基本用法:"
   ]
  },
  {
   "cell_type": "code",
   "execution_count": null,
   "id": "31c8eb7f",
   "metadata": {},
   "outputs": [],
   "source": [
    "function f(...values){\n",
    "    console.log(values.length);\n",
    "}\n",
    "f(1, 2);      //2\n",
    "f(1, 2, 3, 4);  //4"
   ]
  },
  {
   "cell_type": "markdown",
   "id": "a4866b25",
   "metadata": {},
   "source": [
    "# 箭頭函數"
   ]
  },
  {
   "cell_type": "raw",
   "id": "face901b",
   "metadata": {},
   "source": [
    "箭頭函數提供了一種更加簡潔的函數書寫方式。基本語法是："
   ]
  },
  {
   "cell_type": "raw",
   "id": "f3ff525b",
   "metadata": {},
   "source": [
    "參數 => 函數體"
   ]
  },
  {
   "cell_type": "markdown",
   "id": "47566224",
   "metadata": {},
   "source": [
    "### 基本用法"
   ]
  },
  {
   "cell_type": "code",
   "execution_count": null,
   "id": "6ff7b60b",
   "metadata": {},
   "outputs": [],
   "source": [
    "var f = v => v;"
   ]
  },
  {
   "cell_type": "raw",
   "id": "e550b90e",
   "metadata": {},
   "source": [
    "等同於"
   ]
  },
  {
   "cell_type": "code",
   "execution_count": null,
   "id": "95351edf",
   "metadata": {},
   "outputs": [],
   "source": [
    "var f = function(a){\n",
    " return a;\n",
    "}\n",
    "\n",
    "f(1);  //1"
   ]
  },
  {
   "cell_type": "raw",
   "id": "cc22038e",
   "metadata": {},
   "source": [
    "當箭頭函數沒有參數或者有多個參數，要用 () 括起來。"
   ]
  },
  {
   "cell_type": "code",
   "execution_count": null,
   "id": "a07c715b",
   "metadata": {},
   "outputs": [],
   "source": [
    "var f = (a, b) => a + b;\n",
    "f(6, 2);  //8"
   ]
  },
  {
   "cell_type": "raw",
   "id": "d08acbb9",
   "metadata": {},
   "source": [
    "當箭頭函數函數體有多行語句，用 {} 包裹起來，表示代碼塊，當只有一行語句，並且需要返回結果時，可以省略 {} , 結果會自動返回。"
   ]
  },
  {
   "cell_type": "code",
   "execution_count": null,
   "id": "b0e6c856",
   "metadata": {},
   "outputs": [],
   "source": [
    "var f = (a,b) => {\n",
    " let result = a + b;\n",
    " return result;\n",
    "}\n",
    "\n",
    "f(6,2);  // 8"
   ]
  },
  {
   "cell_type": "raw",
   "id": "3b716599",
   "metadata": {},
   "source": [
    "當箭頭函數要返回對象的時候，為了區分於代碼塊，要用 () 將對象包裹起來。"
   ]
  },
  {
   "cell_type": "code",
   "execution_count": null,
   "id": "aa11d59a",
   "metadata": {},
   "outputs": [],
   "source": [
    "// 報錯\n",
    "var f = (id, name) => {id: id, name: name};\n",
    "f(6, 2);  // SyntaxError: Unexpected token :\n",
    " \n",
    "// 不報錯\n",
    "var f = (id, name) => ({id: id, name: name});\n",
    "f(6, 2);  // {id: 6, name: 2}"
   ]
  },
  {
   "cell_type": "raw",
   "id": "d06238d9",
   "metadata": {},
   "source": [
    "注意點：沒有 this、super、arguments 和 new.target 綁定。"
   ]
  },
  {
   "cell_type": "code",
   "execution_count": null,
   "id": "a61f33b9",
   "metadata": {},
   "outputs": [],
   "source": [
    "var func = () => {\n",
    "  // 箭頭函數裏面沒有 this 對象，\n",
    "  // 此時的 this 是外層的 this 對象，即 Window \n",
    "  console.log(this)\n",
    "}\n",
    "\n",
    "func(55)  // Window \n",
    " \n",
    "var func = () => {    \n",
    "  console.log(arguments)\n",
    "}\n",
    "\n",
    "func(55);  // ReferenceError: arguments is not defined"
   ]
  },
  {
   "cell_type": "raw",
   "id": "38e19488",
   "metadata": {},
   "source": [
    "箭頭函數體中的 this 對象，是定義函數時的對象，而不是使用函數時的對象。"
   ]
  },
  {
   "cell_type": "code",
   "execution_count": null,
   "id": "a176fce4",
   "metadata": {},
   "outputs": [],
   "source": [
    "function fn(){\n",
    "  setTimeout(()=>{\n",
    "    // 定義時，this 綁定的是 fn 中的 this 對象\n",
    "    console.log(this.a);\n",
    "  }, 0)\n",
    "}\n",
    "\n",
    "var a = 20;\n",
    "// fn 的 this 對象為 {a: 18}\n",
    "fn.call({a: 18});  // 18"
   ]
  },
  {
   "cell_type": "raw",
   "id": "f99a1abb",
   "metadata": {},
   "source": [
    "不可以作為構造函數，也就是不能使用 new 命令，否則會報錯。"
   ]
  },
  {
   "cell_type": "markdown",
   "id": "d00d1d28",
   "metadata": {},
   "source": [
    "###  適合使用的場景"
   ]
  },
  {
   "cell_type": "raw",
   "id": "15b9d381",
   "metadata": {},
   "source": [
    "ES6 之前，JavaScript 的 this 對象一直很令人頭大，回調函數，經常看到 var self = this 這樣的代碼，為了將外部 this 傳遞到回調函數中，那麽有了箭頭函數，就不需要這樣做了，直接使用 this 就行。"
   ]
  },
  {
   "cell_type": "code",
   "execution_count": null,
   "id": "dfdb317a",
   "metadata": {},
   "outputs": [],
   "source": [
    "// 回調函数\n",
    "var Person = {\n",
    "    'age': 18,\n",
    "    'sayHello': function () {\n",
    "      setTimeout(function () {\n",
    "        console.log(this.age);\n",
    "      });\n",
    "    }\n",
    "};\n",
    "\n",
    "var age = 20;\n",
    "Person.sayHello();  // 20\n",
    " \n",
    "var Person1 = {\n",
    "    'age': 18,\n",
    "    'sayHello': function () {\n",
    "      setTimeout(()=>{\n",
    "        console.log(this.age);\n",
    "      });\n",
    "    }\n",
    "};\n",
    "\n",
    "var age = 20;\n",
    "Person1.sayHello();  // 18"
   ]
  },
  {
   "cell_type": "raw",
   "id": "176fbe1d",
   "metadata": {},
   "source": [
    "所以，當我們需要維護一個 this 上下文的時候，就可以使用箭頭函數。"
   ]
  },
  {
   "cell_type": "markdown",
   "id": "19557bb9",
   "metadata": {},
   "source": [
    "### 不適合使用的場景"
   ]
  },
  {
   "cell_type": "raw",
   "id": "72812a90",
   "metadata": {},
   "source": [
    "定義函數的方法，且該方法中包含 this"
   ]
  },
  {
   "cell_type": "code",
   "execution_count": null,
   "id": "4b30b6b0",
   "metadata": {},
   "outputs": [],
   "source": [
    "var Person = {\n",
    "    'age': 18,\n",
    "    'sayHello': ()=>{\n",
    "        console.log(this.age);\n",
    "      }\n",
    "};\n",
    "\n",
    "var age = 20;\n",
    "Person.sayHello();  // 20\n",
    "// 此時 this 指向的是全局對象\n",
    " \n",
    "var Person1 = {\n",
    "    'age': 18,\n",
    "    'sayHello': function () {\n",
    "        console.log(this.age);\n",
    "    }\n",
    "};\n",
    "\n",
    "var age = 20;\n",
    "Person1.sayHello();   // 18\n",
    "// 此時的 this 指向 Person1 對象"
   ]
  },
  {
   "cell_type": "raw",
   "id": "a9ae4386",
   "metadata": {},
   "source": [
    "需要動態 this 的時候"
   ]
  },
  {
   "cell_type": "code",
   "execution_count": null,
   "id": "24ac79f4",
   "metadata": {},
   "outputs": [],
   "source": [
    "var button = document.getElementById('userClick');\n",
    "button.addEventListener('click', () => {\n",
    "     this.classList.toggle('on');\n",
    "});"
   ]
  },
  {
   "cell_type": "raw",
   "id": "80f1f21e",
   "metadata": {},
   "source": [
    "button 的監聽函數是箭頭函數，所以監聽函數裏面的 this 指向的是定義的時候外層的 this 對象，即 Window，導致無法操作到被點擊的按鈕對象。"
   ]
  },
  {
   "cell_type": "markdown",
   "id": "46156c05",
   "metadata": {},
   "source": [
    "# 範例: Window setTimeout()"
   ]
  },
  {
   "cell_type": "raw",
   "id": "b9ce38f4",
   "metadata": {},
   "source": [
    "The setTimeout() method calls a function after a number of milliseconds.\n",
    "1 second = 1000 milliseconds."
   ]
  },
  {
   "cell_type": "raw",
   "id": "ca72486b",
   "metadata": {},
   "source": [
    "Notes\n",
    "\n",
    "The setTimeout() is executed only once. If you need repeated executions, use setInterval() instead. Use the clearTimeout() method to prevent the function from starting. To clear a timeout, use the id returned from setTimeout():\n",
    "myTimeout = setTimeout(function, milliseconds); Then you can to stop the execution by calling clearTimeout():\n",
    "clearTimeout(myTimeout);"
   ]
  },
  {
   "cell_type": "markdown",
   "id": "ff53a7fe",
   "metadata": {},
   "source": [
    "<img src='./images/16.png'>"
   ]
  },
  {
   "cell_type": "raw",
   "id": "8523d0b6",
   "metadata": {},
   "source": [
    "Wait 5 seconds for the greeting:"
   ]
  },
  {
   "cell_type": "code",
   "execution_count": null,
   "id": "4b65d2ec",
   "metadata": {},
   "outputs": [],
   "source": [
    "<!DOCTYPE html>\n",
    "<html>\n",
    "\n",
    "<body>\n",
    "\n",
    "    <h1>The Window Object</h1>\n",
    "    <h2>The setTimeout() Method</h2>\n",
    "\n",
    "    <p>Wait 5 seconds for the greeting:</p>\n",
    "\n",
    "    <h2 id=\"demo\"></h2>\n",
    "\n",
    "    <script>\n",
    "        const myTimeout = setTimeout(myGreeting, 5000);\n",
    "\n",
    "        function myGreeting() {\n",
    "            document.getElementById(\"demo\").innerHTML = \"Happy Birthday!\"\n",
    "        }\n",
    "    </script>\n",
    "\n",
    "</body>\n",
    "\n",
    "</html>"
   ]
  },
  {
   "cell_type": "markdown",
   "id": "0ca76d67",
   "metadata": {},
   "source": [
    "---"
   ]
  },
  {
   "cell_type": "raw",
   "id": "0d562079",
   "metadata": {},
   "source": [
    "Use clearTimeout(myTimeout) to prevent myGreeting from running:"
   ]
  },
  {
   "cell_type": "code",
   "execution_count": null,
   "id": "9876c18c",
   "metadata": {},
   "outputs": [],
   "source": [
    "<!DOCTYPE html>\n",
    "<html>\n",
    "\n",
    "<body>\n",
    "\n",
    "    <h1>The Window Object</h1>\n",
    "    <h2>The setTimeout() and clearTimeout() Methods</h2>\n",
    "\n",
    "    <p>Click \"Stop\" to prevent myGreeting() to execute. (You have 5 seconds)</p>\n",
    "\n",
    "    <button onclick=\"myStopFunction()\">Stop!</button>\n",
    "\n",
    "    <h2 id=\"demo\"></h2>\n",
    "\n",
    "    <script>\n",
    "        const myTimeout = setTimeout(myGreeting, 5000);\n",
    "\n",
    "        function myGreeting() {\n",
    "            document.getElementById(\"demo\").innerHTML = \"Happy Birthday!\"\n",
    "        }\n",
    "\n",
    "        function myStopFunction() {\n",
    "            clearTimeout(myTimeout);\n",
    "        }\n",
    "    </script>\n",
    "\n",
    "</body>\n",
    "\n",
    "</html>"
   ]
  },
  {
   "cell_type": "markdown",
   "id": "25b35348",
   "metadata": {},
   "source": [
    "---"
   ]
  },
  {
   "cell_type": "raw",
   "id": "e51f5d34",
   "metadata": {},
   "source": [
    "Display an alert box after 3 seconds (3000 milliseconds):"
   ]
  },
  {
   "cell_type": "code",
   "execution_count": null,
   "id": "c65389fa",
   "metadata": {},
   "outputs": [],
   "source": [
    "<!DOCTYPE html>\n",
    "<html>\n",
    "\n",
    "<body>\n",
    "\n",
    "    <h1>The Window Object</h1>\n",
    "    <h2>The setTimeout() Method</h2>\n",
    "\n",
    "    <p>Click the button. Wait 3 seconds for alert \"Hello\".</p>\n",
    "\n",
    "    <button onclick=\"myFunction()\">Try it</button>\n",
    "\n",
    "    <script>\n",
    "        let timeout;\n",
    "\n",
    "        function myFunction() {\n",
    "            timeout = setTimeout(alertFunc, 3000);\n",
    "        }\n",
    "\n",
    "        function alertFunc() {\n",
    "            alert(\"Hello!\");\n",
    "        }\n",
    "    </script>\n",
    "\n",
    "</body>"
   ]
  },
  {
   "cell_type": "markdown",
   "id": "f0745c24",
   "metadata": {},
   "source": [
    "---"
   ]
  },
  {
   "cell_type": "raw",
   "id": "2dc7c09d",
   "metadata": {},
   "source": [
    "Display a timed text:"
   ]
  },
  {
   "cell_type": "code",
   "execution_count": null,
   "id": "94213b00",
   "metadata": {},
   "outputs": [],
   "source": [
    "<!DOCTYPE html>\n",
    "<html>\n",
    "\n",
    "<body>\n",
    "\n",
    "    <h1>The Window Object</h1>\n",
    "    <h2>The setTimeout() Method</h2>\n",
    "\n",
    "    <p>The input field will tell you when two, four, and six seconds have passed.</p>\n",
    "\n",
    "    <input type=\"text\" id=\"txt\">\n",
    "\n",
    "    <script>\n",
    "        let x = document.getElementById(\"txt\");\n",
    "        setTimeout(function () { x.value = \"2 seconds\" }, 2000);\n",
    "        setTimeout(function () { x.value = \"4 seconds\" }, 4000);\n",
    "        setTimeout(function () { x.value = \"6 seconds\" }, 6000);\n",
    "    </script>\n",
    "\n",
    "</body>\n",
    "\n",
    "</html>\n"
   ]
  },
  {
   "cell_type": "code",
   "execution_count": null,
   "id": "3238b84d",
   "metadata": {},
   "outputs": [],
   "source": []
  }
 ],
 "metadata": {
  "kernelspec": {
   "display_name": "Python 3",
   "language": "python",
   "name": "python3"
  },
  "language_info": {
   "codemirror_mode": {
    "name": "ipython",
    "version": 3
   },
   "file_extension": ".py",
   "mimetype": "text/x-python",
   "name": "python",
   "nbconvert_exporter": "python",
   "pygments_lexer": "ipython3",
   "version": "3.8.10"
  }
 },
 "nbformat": 4,
 "nbformat_minor": 5
}
