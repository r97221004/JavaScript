{
 "cells": [
  {
   "cell_type": "markdown",
   "id": "296558b0",
   "metadata": {},
   "source": [
    "# typeof 操作符"
   ]
  },
  {
   "cell_type": "raw",
   "id": "f8e68ea2",
   "metadata": {},
   "source": [
    "你可以使用 typeof 操作符來檢測變量的數據類型。"
   ]
  },
  {
   "cell_type": "code",
   "execution_count": null,
   "id": "7e9b6a6a",
   "metadata": {},
   "outputs": [],
   "source": [
    "<!DOCTYPE html>\n",
    "<html>\n",
    "\n",
    "<head>\n",
    "    <meta charset=\"utf-8\">\n",
    "    <title>菜鳥教程</title>\n",
    "</head>\n",
    "\n",
    "<body>\n",
    "\n",
    "    <p> typeof 操作符返回變量或表達式的類型。</p>\n",
    "    <p id=\"demo\"></p>\n",
    "    <script>\n",
    "        document.getElementById(\"demo\").innerHTML =\n",
    "            typeof \"john\" + \"<br>\" +\n",
    "            typeof 3.14 + \"<br>\" +\n",
    "            typeof false + \"<br>\" +\n",
    "            typeof [1, 2, 3, 4] + \"<br>\" +\n",
    "            typeof { name: 'john', age: 34 };\n",
    "    </script>\n",
    "\n",
    "</body>\n",
    "\n",
    "</html>"
   ]
  },
  {
   "cell_type": "raw",
   "id": "312807b7",
   "metadata": {},
   "source": [
    "在 JavaScript 中，數組是一種特殊的對象類型。 因此 typeof [1,2,3,4] 返回 object。 "
   ]
  },
  {
   "cell_type": "markdown",
   "id": "fb78a86b",
   "metadata": {},
   "source": [
    "# null"
   ]
  },
  {
   "cell_type": "raw",
   "id": "f5c10e78",
   "metadata": {},
   "source": [
    "在 JavaScript 中 null 表示 \"什麽都沒有\"。null 是一個只有一個值的特殊類型。表示一個空對象引用。"
   ]
  },
  {
   "cell_type": "raw",
   "id": "339a8486",
   "metadata": {},
   "source": [
    "用 typeof 檢測 null 返回是object。你可以設置為 null 來清空對象，值為 null(空)， 但類型為對象。"
   ]
  },
  {
   "cell_type": "code",
   "execution_count": null,
   "id": "ae23bc23",
   "metadata": {},
   "outputs": [],
   "source": [
    "<!DOCTYPE html>\n",
    "<html>\n",
    "\n",
    "<head>\n",
    "    <meta charset=\"utf-8\">\n",
    "    <title>菜鳥教程</title>\n",
    "</head>\n",
    "\n",
    "<body>\n",
    "\n",
    "    <p>對象可以通過設置為 <b>null</b> 來清空。</p>\n",
    "    <p id=\"demo\"></p>\n",
    "    <script>\n",
    "        var person = { firstName: \"John\", lastName: \"Doe\", age: 50, eyeColor: \"blue\" };\n",
    "        var person = null;\n",
    "        document.getElementById(\"demo\").innerHTML = typeof person;\n",
    "    </script>\n",
    "\n",
    "</body>\n",
    "\n",
    "</html>"
   ]
  },
  {
   "cell_type": "raw",
   "id": "668305d4",
   "metadata": {},
   "source": [
    "你可以設置為 undefined 來清空對象，值為 undefined， 類型為 undefined。"
   ]
  },
  {
   "cell_type": "code",
   "execution_count": null,
   "id": "6bccdaaa",
   "metadata": {},
   "outputs": [],
   "source": [
    "<!DOCTYPE html>\n",
    "<html>\n",
    "\n",
    "<head>\n",
    "    <meta charset=\"utf-8\">\n",
    "    <title>菜鳥教程</title>\n",
    "</head>\n",
    "\n",
    "<body>\n",
    "\n",
    "    <p>對象可以設置為 <b>undefined</b> 來清空。</p>\n",
    "    <p id=\"demo\"></p>\n",
    "    <script>\n",
    "        var person = { firstName: \"John\", lastName: \"Doe\", age: 50, eyeColor: \"blue\" };\n",
    "        var person = undefined;\n",
    "        document.getElementById(\"demo\").innerHTML = typeof person;\n",
    "    </script>\n",
    "\n",
    "</body>\n",
    "\n",
    "</html>"
   ]
  },
  {
   "cell_type": "markdown",
   "id": "e79adba4",
   "metadata": {},
   "source": [
    "# undefined"
   ]
  },
  {
   "cell_type": "raw",
   "id": "370d0761",
   "metadata": {},
   "source": [
    "在 JavaScript 中, undefined 是一個沒有設置值的變量。typeof 一個沒有值的變量會返回 undefined。"
   ]
  },
  {
   "cell_type": "code",
   "execution_count": null,
   "id": "373c0bb4",
   "metadata": {},
   "outputs": [],
   "source": [
    "<!DOCTYPE html>\n",
    "<html>\n",
    "\n",
    "<head>\n",
    "    <meta charset=\"utf-8\">\n",
    "    <title>菜鳥教程</title>\n",
    "</head>\n",
    "\n",
    "<body>\n",
    "\n",
    "    <p>變量的值如果不存在則該變量值為 <b>undefined</b>。</p>\n",
    "    <p id=\"demo\"></p>\n",
    "    <script>\n",
    "        var person;\n",
    "        document.getElementById(\"demo\").innerHTML =\n",
    "            person + \"<br>\" + typeof person;\n",
    "    </script>\n",
    "\n",
    "</body>\n",
    "\n",
    "</html>"
   ]
  },
  {
   "cell_type": "raw",
   "id": "579bf8a3",
   "metadata": {},
   "source": [
    "任何變量都可以通過設置值為 undefined 來清空。 類型為 undefined。"
   ]
  },
  {
   "cell_type": "code",
   "execution_count": null,
   "id": "0c5118e0",
   "metadata": {},
   "outputs": [],
   "source": [
    "<!DOCTYPE html>\n",
    "<html>\n",
    "\n",
    "<head>\n",
    "    <meta charset=\"utf-8\">\n",
    "    <title>菜鳥教程</title>\n",
    "</head>\n",
    "\n",
    "<body>\n",
    "\n",
    "    <p>變量可以通過設置 <b>undefined</b> 來清空。</p>\n",
    "    <p id=\"demo\"></p>\n",
    "    <script>\n",
    "        var person = { firstName: \"John\", lastName: \"Doe\", age: 50, eyeColor: \"blue\" };\n",
    "        var person = undefined;\n",
    "        document.getElementById(\"demo\").innerHTML =\n",
    "            person + \"<br>\" + typeof person;\n",
    "    </script>\n",
    "\n",
    "</body>\n",
    "\n",
    "</html>"
   ]
  },
  {
   "cell_type": "markdown",
   "id": "7fa9ff11",
   "metadata": {},
   "source": [
    "# undefined 和 null 的區別"
   ]
  },
  {
   "cell_type": "code",
   "execution_count": null,
   "id": "5ce3e880",
   "metadata": {},
   "outputs": [],
   "source": [
    "<!DOCTYPE html>\n",
    "<html>\n",
    "\n",
    "<head>\n",
    "    <meta charset=\"utf-8\">\n",
    "    <title>菜鸟教程</title>\n",
    "</head>\n",
    "\n",
    "<body>\n",
    "\n",
    "    <p id=\"demo\"></p>\n",
    "    <script>\n",
    "        document.getElementById(\"demo\").innerHTML =\n",
    "            typeof undefined + \"<br>\" +\n",
    "            typeof null + \"<br>\" +\n",
    "            (null === undefined) + \"<br>\" +\n",
    "            (null == undefined);\n",
    "    </script>\n",
    "\n",
    "</body>\n",
    "\n",
    "</html>"
   ]
  },
  {
   "cell_type": "markdown",
   "id": "29179905",
   "metadata": {},
   "source": [
    "# 筆記"
   ]
  },
  {
   "cell_type": "markdown",
   "id": "21a263dd",
   "metadata": {},
   "source": [
    "### 定義"
   ]
  },
  {
   "cell_type": "raw",
   "id": "97e618ce",
   "metadata": {},
   "source": [
    "undefined：是所有沒有賦值變量的默認值，自動賦值。\n",
    "null：主動釋放一個變量引用的對象，表示一個變量不再指向任何對象地址。"
   ]
  },
  {
   "cell_type": "markdown",
   "id": "9c33331a",
   "metadata": {},
   "source": [
    "### 何時使用 null"
   ]
  },
  {
   "cell_type": "raw",
   "id": "e901cbc2",
   "metadata": {},
   "source": [
    "當使用完一個比較大的對象時，需要對其進行釋放內存時，設置為 null。"
   ]
  },
  {
   "cell_type": "markdown",
   "id": "c9dd0836",
   "metadata": {},
   "source": [
    "### null 與 undefined 的異同點是什麽呢"
   ]
  },
  {
   "cell_type": "raw",
   "id": "58470fd0",
   "metadata": {},
   "source": [
    "共同點：都是原始類型，保存在棧中變量本地。\n",
    "不同點：\n",
    "\n",
    "（1）undefined——表示變量聲明過但並未賦過值。\n",
    "     它是所有未賦值變量默認值，例如："
   ]
  },
  {
   "cell_type": "code",
   "execution_count": null,
   "id": "8bc395b9",
   "metadata": {},
   "outputs": [],
   "source": [
    "var a;    // a 自動被賦值為 undefined"
   ]
  },
  {
   "cell_type": "code",
   "execution_count": null,
   "id": "cb640f6f",
   "metadata": {},
   "outputs": [],
   "source": [
    "（2）null——表示一個變量將來可能指向一個對象。\n",
    "     一般用於主動釋放指向對象的引用，例如："
   ]
  },
  {
   "cell_type": "code",
   "execution_count": null,
   "id": "888d45fb",
   "metadata": {},
   "outputs": [],
   "source": [
    "var emps = ['ss','nn'];"
   ]
  },
  {
   "cell_type": "code",
   "execution_count": null,
   "id": "36269350",
   "metadata": {},
   "outputs": [],
   "source": [
    "emps = null;     // 釋放指向數組的引用"
   ]
  },
  {
   "cell_type": "markdown",
   "id": "11e0e319",
   "metadata": {},
   "source": [
    "### 延伸 — 垃圾回收站"
   ]
  },
  {
   "cell_type": "raw",
   "id": "4c6cb8f4",
   "metadata": {},
   "source": [
    "它是專門釋放對象內存的一個程序。\n",
    "（1）在底層，後台伴隨當前程序同時運行；引擎會定時自動調用垃圾回收期；\n",
    "（2）總有一個對象不再被任何變量引用時，才釋放。"
   ]
  }
 ],
 "metadata": {
  "kernelspec": {
   "display_name": "Python 3",
   "language": "python",
   "name": "python3"
  },
  "language_info": {
   "codemirror_mode": {
    "name": "ipython",
    "version": 3
   },
   "file_extension": ".py",
   "mimetype": "text/x-python",
   "name": "python",
   "nbconvert_exporter": "python",
   "pygments_lexer": "ipython3",
   "version": "3.8.10"
  }
 },
 "nbformat": 4,
 "nbformat_minor": 5
}
